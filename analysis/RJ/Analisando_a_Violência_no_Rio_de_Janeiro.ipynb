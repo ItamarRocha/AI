{
 "cells": [
  {
   "cell_type": "markdown",
   "metadata": {
    "colab_type": "text",
    "id": "-eFQZydM9O9J"
   },
   "source": [
    "<img alt=\"Colaboratory logo\" width=\"15%\" src=\"https://raw.githubusercontent.com/carlosfab/escola-data-science/master/img/novo_logo_bg_claro.png\">\n",
    "\n",
    "#### **Data Science na Prática 2.0**\n",
    "*by [sigmoidal.ai](https://sigmoidal.ai)*\n",
    "\n",
    "---\n",
    "\n",
    "**Instruções para o Projeto**\n",
    "\n",
    "* Você deve importar o pandas e importar a base de dados da Polícia Militar do Rio de Janeiro sobre a violência\n",
    "  * O arquivo `csv` se encontra no endereço abaixo:\n",
    "    * https://raw.githubusercontent.com/carlosfab/dsnp2/master/datasets/violencia_rio.csv\n",
    "  * Este arquivo `csv` foi pré-processado minimamente por mim, para focar nos pontos aprendidos neste Módulo\n",
    "  * Este é o site oficial, do Governo do Estado do Rio de Janeiro:\n",
    "    * http://www.ispdados.rj.gov.br/estatistica.html\n",
    "  * Um *dashboard* interativo e visual pode ser encontrado no site abaixo:\n",
    "    * http://www.ispvisualizacao.rj.gov.br/index.html\n",
    "  * Você está livre para apagar, alterar e acrescentar o que quiser!\n",
    "  * Se você sentiu dificuldade, não se preocupe! Disponibilizei a minha própria solução para servir de guia, porém tente fazer a sua por você mesmo inicialmente.\n",
    "    * Se sentir perdido é normal, mas acredite: O seu cérebro vai começar a adquirir uma capacidade nova de pensar em hipóteses e questionar dados.\n",
    "  \n",
    "  \n",
    "---\n",
    "  "
   ]
  },
  {
   "cell_type": "markdown",
   "metadata": {
    "colab_type": "text",
    "id": "kLI0gJtzDGuQ"
   },
   "source": [
    "# Analisando a Violência no Rio de Janeiro\n",
    "\n",
    "Escreva uma breve introdução contextualizando o problema e o que você vai fazer..."
   ]
  },
  {
   "cell_type": "markdown",
   "metadata": {
    "colab_type": "text",
    "id": "0zxQHhIUDF_2"
   },
   "source": [
    "## Obtenção dos Dados\n",
    "\n",
    "\n",
    "Descreva a fonte dos seus dados e um breve resumo sobre o que se pode esperar desse *dataset*"
   ]
  },
  {
   "cell_type": "markdown",
   "metadata": {
    "colab_type": "text",
    "id": "7vh4at0l90nr"
   },
   "source": [
    "### Importando os dados\n",
    "\n",
    "Importe os dados, usando `df = pd.read_csv(\"endereço_do_csv\")`"
   ]
  },
  {
   "cell_type": "code",
   "execution_count": 22,
   "metadata": {},
   "outputs": [],
   "source": [
    "import pandas as pd\n",
    "import numpy as np\n",
    "import missingno as msno;"
   ]
  },
  {
   "cell_type": "code",
   "execution_count": 3,
   "metadata": {
    "colab": {},
    "colab_type": "code",
    "id": "CYLNme_OCX_R"
   },
   "outputs": [],
   "source": [
    "df = pd.read_csv(\"https://raw.githubusercontent.com/carlosfab/dsnp2/master/datasets/violencia_rio.csv\")"
   ]
  },
  {
   "cell_type": "code",
   "execution_count": 4,
   "metadata": {},
   "outputs": [
    {
     "data": {
      "text/plain": [
       "(344, 56)"
      ]
     },
     "execution_count": 4,
     "metadata": {},
     "output_type": "execute_result"
    }
   ],
   "source": [
    "df.shape"
   ]
  },
  {
   "cell_type": "markdown",
   "metadata": {},
   "source": [
    "* O dataset tem 344 instâncias, cada uma contendo 56 colunas"
   ]
  },
  {
   "cell_type": "code",
   "execution_count": 6,
   "metadata": {},
   "outputs": [
    {
     "data": {
      "text/html": [
       "<div>\n",
       "<style scoped>\n",
       "    .dataframe tbody tr th:only-of-type {\n",
       "        vertical-align: middle;\n",
       "    }\n",
       "\n",
       "    .dataframe tbody tr th {\n",
       "        vertical-align: top;\n",
       "    }\n",
       "\n",
       "    .dataframe thead th {\n",
       "        text-align: right;\n",
       "    }\n",
       "</style>\n",
       "<table border=\"1\" class=\"dataframe\">\n",
       "  <thead>\n",
       "    <tr style=\"text-align: right;\">\n",
       "      <th></th>\n",
       "      <th>vano</th>\n",
       "      <th>mes</th>\n",
       "      <th>hom_doloso</th>\n",
       "      <th>lesao_corp_morte</th>\n",
       "      <th>latrocinio</th>\n",
       "      <th>hom_por_interv_policial</th>\n",
       "      <th>tentat_hom</th>\n",
       "      <th>lesao_corp_dolosa</th>\n",
       "      <th>estupro</th>\n",
       "      <th>hom_culposo</th>\n",
       "      <th>...</th>\n",
       "      <th>pessoas_desaparecidas</th>\n",
       "      <th>encontro_cadaver</th>\n",
       "      <th>encontro_ossada</th>\n",
       "      <th>pol_militares_mortos_serv</th>\n",
       "      <th>pol_civis_mortos_serv</th>\n",
       "      <th>indicador_letalidade</th>\n",
       "      <th>indicador_roubo_rua</th>\n",
       "      <th>indicador_roubo_veic</th>\n",
       "      <th>registro_ocorrencias</th>\n",
       "      <th>fase</th>\n",
       "    </tr>\n",
       "  </thead>\n",
       "  <tbody>\n",
       "    <tr>\n",
       "      <th>339</th>\n",
       "      <td>2019</td>\n",
       "      <td>4</td>\n",
       "      <td>360</td>\n",
       "      <td>1.0</td>\n",
       "      <td>11</td>\n",
       "      <td>124.0</td>\n",
       "      <td>466</td>\n",
       "      <td>5573</td>\n",
       "      <td>483.0</td>\n",
       "      <td>172.0</td>\n",
       "      <td>...</td>\n",
       "      <td>408.0</td>\n",
       "      <td>22</td>\n",
       "      <td>3.0</td>\n",
       "      <td>1.0</td>\n",
       "      <td>0.0</td>\n",
       "      <td>496</td>\n",
       "      <td>11040</td>\n",
       "      <td>3755</td>\n",
       "      <td>67797.0</td>\n",
       "      <td>3</td>\n",
       "    </tr>\n",
       "    <tr>\n",
       "      <th>340</th>\n",
       "      <td>2019</td>\n",
       "      <td>5</td>\n",
       "      <td>345</td>\n",
       "      <td>2.0</td>\n",
       "      <td>15</td>\n",
       "      <td>172.0</td>\n",
       "      <td>478</td>\n",
       "      <td>4958</td>\n",
       "      <td>465.0</td>\n",
       "      <td>145.0</td>\n",
       "      <td>...</td>\n",
       "      <td>390.0</td>\n",
       "      <td>20</td>\n",
       "      <td>1.0</td>\n",
       "      <td>0.0</td>\n",
       "      <td>0.0</td>\n",
       "      <td>534</td>\n",
       "      <td>11384</td>\n",
       "      <td>3649</td>\n",
       "      <td>68336.0</td>\n",
       "      <td>3</td>\n",
       "    </tr>\n",
       "    <tr>\n",
       "      <th>341</th>\n",
       "      <td>2019</td>\n",
       "      <td>6</td>\n",
       "      <td>332</td>\n",
       "      <td>3.0</td>\n",
       "      <td>8</td>\n",
       "      <td>153.0</td>\n",
       "      <td>436</td>\n",
       "      <td>4769</td>\n",
       "      <td>414.0</td>\n",
       "      <td>152.0</td>\n",
       "      <td>...</td>\n",
       "      <td>403.0</td>\n",
       "      <td>20</td>\n",
       "      <td>1.0</td>\n",
       "      <td>3.0</td>\n",
       "      <td>0.0</td>\n",
       "      <td>496</td>\n",
       "      <td>9551</td>\n",
       "      <td>3115</td>\n",
       "      <td>61202.0</td>\n",
       "      <td>3</td>\n",
       "    </tr>\n",
       "    <tr>\n",
       "      <th>342</th>\n",
       "      <td>2019</td>\n",
       "      <td>7</td>\n",
       "      <td>309</td>\n",
       "      <td>5.0</td>\n",
       "      <td>10</td>\n",
       "      <td>194.0</td>\n",
       "      <td>399</td>\n",
       "      <td>4740</td>\n",
       "      <td>402.0</td>\n",
       "      <td>140.0</td>\n",
       "      <td>...</td>\n",
       "      <td>400.0</td>\n",
       "      <td>32</td>\n",
       "      <td>7.0</td>\n",
       "      <td>0.0</td>\n",
       "      <td>0.0</td>\n",
       "      <td>518</td>\n",
       "      <td>10071</td>\n",
       "      <td>3198</td>\n",
       "      <td>65817.0</td>\n",
       "      <td>2</td>\n",
       "    </tr>\n",
       "    <tr>\n",
       "      <th>343</th>\n",
       "      <td>2019</td>\n",
       "      <td>8</td>\n",
       "      <td>318</td>\n",
       "      <td>1.0</td>\n",
       "      <td>6</td>\n",
       "      <td>170.0</td>\n",
       "      <td>457</td>\n",
       "      <td>4760</td>\n",
       "      <td>460.0</td>\n",
       "      <td>156.0</td>\n",
       "      <td>...</td>\n",
       "      <td>367.0</td>\n",
       "      <td>27</td>\n",
       "      <td>8.0</td>\n",
       "      <td>2.0</td>\n",
       "      <td>0.0</td>\n",
       "      <td>495</td>\n",
       "      <td>9912</td>\n",
       "      <td>3181</td>\n",
       "      <td>65285.0</td>\n",
       "      <td>2</td>\n",
       "    </tr>\n",
       "  </tbody>\n",
       "</table>\n",
       "<p>5 rows × 56 columns</p>\n",
       "</div>"
      ],
      "text/plain": [
       "     vano  mes  hom_doloso  lesao_corp_morte  latrocinio  \\\n",
       "339  2019    4         360               1.0          11   \n",
       "340  2019    5         345               2.0          15   \n",
       "341  2019    6         332               3.0           8   \n",
       "342  2019    7         309               5.0          10   \n",
       "343  2019    8         318               1.0           6   \n",
       "\n",
       "     hom_por_interv_policial  tentat_hom  lesao_corp_dolosa  estupro  \\\n",
       "339                    124.0         466               5573    483.0   \n",
       "340                    172.0         478               4958    465.0   \n",
       "341                    153.0         436               4769    414.0   \n",
       "342                    194.0         399               4740    402.0   \n",
       "343                    170.0         457               4760    460.0   \n",
       "\n",
       "     hom_culposo  ...  pessoas_desaparecidas  encontro_cadaver  \\\n",
       "339        172.0  ...                  408.0                22   \n",
       "340        145.0  ...                  390.0                20   \n",
       "341        152.0  ...                  403.0                20   \n",
       "342        140.0  ...                  400.0                32   \n",
       "343        156.0  ...                  367.0                27   \n",
       "\n",
       "     encontro_ossada  pol_militares_mortos_serv  pol_civis_mortos_serv  \\\n",
       "339              3.0                        1.0                    0.0   \n",
       "340              1.0                        0.0                    0.0   \n",
       "341              1.0                        3.0                    0.0   \n",
       "342              7.0                        0.0                    0.0   \n",
       "343              8.0                        2.0                    0.0   \n",
       "\n",
       "     indicador_letalidade  indicador_roubo_rua  indicador_roubo_veic  \\\n",
       "339                   496                11040                  3755   \n",
       "340                   534                11384                  3649   \n",
       "341                   496                 9551                  3115   \n",
       "342                   518                10071                  3198   \n",
       "343                   495                 9912                  3181   \n",
       "\n",
       "     registro_ocorrencias  fase  \n",
       "339               67797.0     3  \n",
       "340               68336.0     3  \n",
       "341               61202.0     3  \n",
       "342               65817.0     2  \n",
       "343               65285.0     2  \n",
       "\n",
       "[5 rows x 56 columns]"
      ]
     },
     "execution_count": 6,
     "metadata": {},
     "output_type": "execute_result"
    }
   ],
   "source": [
    "df.tail()"
   ]
  },
  {
   "cell_type": "markdown",
   "metadata": {},
   "source": [
    "* Cada linha contém as ocorrências de um mês."
   ]
  },
  {
   "cell_type": "code",
   "execution_count": 7,
   "metadata": {},
   "outputs": [
    {
     "data": {
      "text/plain": [
       "Index(['vano', 'mes', 'hom_doloso', 'lesao_corp_morte', 'latrocinio',\n",
       "       'hom_por_interv_policial', 'tentat_hom', 'lesao_corp_dolosa', 'estupro',\n",
       "       'hom_culposo', 'lesao_corp_culposa', 'roubo_comercio',\n",
       "       'roubo_residencia', 'roubo_veiculo', 'roubo_carga', 'roubo_transeunte',\n",
       "       'roubo_em_coletivo', 'roubo_banco', 'roubo_cx_eletronico',\n",
       "       'roubo_celular', 'roubo_conducao_saque', 'roubo_apos_saque',\n",
       "       'roubo_bicicleta', 'outros_roubos', 'total_roubos', 'furto_veiculos',\n",
       "       'furto_transeunte', 'furto_coletivo', 'furto_celular',\n",
       "       'furto_bicicleta', 'outros_furtos', 'total_furtos', 'sequestro',\n",
       "       'extorsao', 'sequestro_relampago', 'estelionato', 'apreensao_drogas',\n",
       "       'posse_drogas', 'trafico_drogas', 'apreensao_drogas_sem_autor',\n",
       "       'recuperacao_veiculos', 'apf', 'aaapai', 'cmp', 'cmba', 'ameaca',\n",
       "       'pessoas_desaparecidas', 'encontro_cadaver', 'encontro_ossada',\n",
       "       'pol_militares_mortos_serv', 'pol_civis_mortos_serv',\n",
       "       'indicador_letalidade', 'indicador_roubo_rua', 'indicador_roubo_veic',\n",
       "       'registro_ocorrencias', 'fase'],\n",
       "      dtype='object')"
      ]
     },
     "execution_count": 7,
     "metadata": {},
     "output_type": "execute_result"
    }
   ],
   "source": [
    "df.columns"
   ]
  },
  {
   "cell_type": "markdown",
   "metadata": {},
   "source": [
    "* Podemos ver acima as ocorrências mencionadas"
   ]
  },
  {
   "cell_type": "code",
   "execution_count": 8,
   "metadata": {},
   "outputs": [
    {
     "data": {
      "text/plain": [
       "vano                            int64\n",
       "mes                             int64\n",
       "hom_doloso                      int64\n",
       "lesao_corp_morte              float64\n",
       "latrocinio                      int64\n",
       "hom_por_interv_policial       float64\n",
       "tentat_hom                      int64\n",
       "lesao_corp_dolosa               int64\n",
       "estupro                       float64\n",
       "hom_culposo                   float64\n",
       "lesao_corp_culposa            float64\n",
       "roubo_comercio                  int64\n",
       "roubo_residencia                int64\n",
       "roubo_veiculo                   int64\n",
       "roubo_carga                     int64\n",
       "roubo_transeunte                int64\n",
       "roubo_em_coletivo               int64\n",
       "roubo_banco                     int64\n",
       "roubo_cx_eletronico           float64\n",
       "roubo_celular                 float64\n",
       "roubo_conducao_saque          float64\n",
       "roubo_apos_saque              float64\n",
       "roubo_bicicleta               float64\n",
       "outros_roubos                   int64\n",
       "total_roubos                    int64\n",
       "furto_veiculos                  int64\n",
       "furto_transeunte                int64\n",
       "furto_coletivo                float64\n",
       "furto_celular                 float64\n",
       "furto_bicicleta               float64\n",
       "outros_furtos                   int64\n",
       "total_furtos                    int64\n",
       "sequestro                     float64\n",
       "extorsao                      float64\n",
       "sequestro_relampago           float64\n",
       "estelionato                   float64\n",
       "apreensao_drogas                int64\n",
       "posse_drogas                  float64\n",
       "trafico_drogas                float64\n",
       "apreensao_drogas_sem_autor    float64\n",
       "recuperacao_veiculos            int64\n",
       "apf                           float64\n",
       "aaapai                        float64\n",
       "cmp                           float64\n",
       "cmba                          float64\n",
       "ameaca                        float64\n",
       "pessoas_desaparecidas         float64\n",
       "encontro_cadaver                int64\n",
       "encontro_ossada               float64\n",
       "pol_militares_mortos_serv     float64\n",
       "pol_civis_mortos_serv         float64\n",
       "indicador_letalidade            int64\n",
       "indicador_roubo_rua             int64\n",
       "indicador_roubo_veic            int64\n",
       "registro_ocorrencias          float64\n",
       "fase                            int64\n",
       "dtype: object"
      ]
     },
     "execution_count": 8,
     "metadata": {},
     "output_type": "execute_result"
    }
   ],
   "source": [
    "df.dtypes"
   ]
  },
  {
   "cell_type": "markdown",
   "metadata": {},
   "source": [
    "* Todas as variáveis de nosso dataset são floats ou inteiros"
   ]
  },
  {
   "cell_type": "code",
   "execution_count": 14,
   "metadata": {},
   "outputs": [
    {
     "data": {
      "text/plain": [
       "roubo_bicicleta               80.232558\n",
       "furto_bicicleta               80.232558\n",
       "apreensao_drogas_sem_autor    52.325581\n",
       "posse_drogas                  52.325581\n",
       "apf                           52.325581\n",
       "aaapai                        52.325581\n",
       "cmp                           52.325581\n",
       "trafico_drogas                52.325581\n",
       "cmba                          52.325581\n",
       "sequestro_relampago           41.860465\n",
       "furto_coletivo                41.860465\n",
       "extorsao                      41.860465\n",
       "furto_celular                 41.860465\n",
       "roubo_apos_saque              41.860465\n",
       "roubo_conducao_saque          41.860465\n",
       "roubo_cx_eletronico           41.860465\n",
       "estupro                       41.860465\n",
       "estelionato                   41.860465\n",
       "pol_civis_mortos_serv         41.860465\n",
       "pol_militares_mortos_serv     41.860465\n",
       "pessoas_desaparecidas         38.372093\n",
       "encontro_ossada               38.372093\n",
       "roubo_celular                 31.395349\n",
       "lesao_corp_culposa            27.906977\n",
       "ameaca                        27.906977\n",
       "sequestro                     27.906977\n",
       "lesao_corp_morte              27.906977\n",
       "registro_ocorrencias          27.906977\n",
       "hom_por_interv_policial       24.418605\n",
       "hom_culposo                   24.418605\n",
       "tentat_hom                     0.000000\n",
       "roubo_comercio                 0.000000\n",
       "roubo_residencia               0.000000\n",
       "latrocinio                     0.000000\n",
       "lesao_corp_dolosa              0.000000\n",
       "hom_doloso                     0.000000\n",
       "roubo_transeunte               0.000000\n",
       "mes                            0.000000\n",
       "roubo_veiculo                  0.000000\n",
       "roubo_carga                    0.000000\n",
       "fase                           0.000000\n",
       "roubo_em_coletivo              0.000000\n",
       "roubo_banco                    0.000000\n",
       "outros_roubos                  0.000000\n",
       "total_roubos                   0.000000\n",
       "furto_veiculos                 0.000000\n",
       "furto_transeunte               0.000000\n",
       "outros_furtos                  0.000000\n",
       "total_furtos                   0.000000\n",
       "apreensao_drogas               0.000000\n",
       "recuperacao_veiculos           0.000000\n",
       "encontro_cadaver               0.000000\n",
       "indicador_letalidade           0.000000\n",
       "indicador_roubo_rua            0.000000\n",
       "indicador_roubo_veic           0.000000\n",
       "vano                           0.000000\n",
       "dtype: float64"
      ]
     },
     "execution_count": 14,
     "metadata": {},
     "output_type": "execute_result"
    }
   ],
   "source": [
    "(df.isnull().sum()/df.shape[0] * 100).sort_values(ascending = False) "
   ]
  },
  {
   "cell_type": "markdown",
   "metadata": {},
   "source": [
    "Podemos ver que temos mais da metade das colunas com mais de 20% de dados faltantes e algumas chegando até a 80%. Podemos representar os dados faltantes graficamente a seguir :"
   ]
  },
  {
   "cell_type": "code",
   "execution_count": 23,
   "metadata": {},
   "outputs": [
    {
     "data": {
      "text/plain": [
       "<matplotlib.axes._subplots.AxesSubplot at 0x7efb9def4150>"
      ]
     },
     "execution_count": 23,
     "metadata": {},
     "output_type": "execute_result"
    },
    {
     "data": {
      "image/png": "[encoded data removed]",
      "text/plain": [
       "<Figure size 1728x720 with 2 Axes>"
      ]
     },
     "metadata": {
      "needs_background": "light"
     },
     "output_type": "display_data"
    }
   ],
   "source": [
    "msno.bar(df)"
   ]
  },
  {
   "cell_type": "markdown",
   "metadata": {
    "colab_type": "text",
    "id": "qb5By2nIMS6m"
   },
   "source": [
    "## Análise Inicial dos Dados\n",
    "\n",
    "Breve contextualização...\n",
    "\n",
    "Descreva e execute as seguintes etapas:\n",
    "\n",
    "* Qual o tamanho do seu DataFrame (`shape`)\n",
    "* Extrair e imprimir os nomes das colunas (`columns`)\n",
    "* Quais os tipos das variáveis (`dtypes`)\n",
    "* Visualizar as 5 primeiras linhas (`head`)\n",
    "* Identifique a porcentagem de valores ausentes das colunas\n"
   ]
  },
  {
   "cell_type": "markdown",
   "metadata": {
    "colab_type": "text",
    "id": "G6dnsNYm-41g"
   },
   "source": [
    "## Informações Estatísticas da Violência no Rio de Janeiro\n",
    "\n",
    "Breve contextualização...\n",
    "\n",
    "Descreva e execute as seguintes etapas:\n",
    "\n",
    "* Imprima o resumo estatístico do seu DataFrame (`describe`)\n",
    "* Encontre as médias das seguintes variáveis (colunas):\n",
    "  * `roubo_veiculo`\n",
    "  * `furto_veiculos`\n",
    "  * `recuperacao_veiculos`\n",
    "* Calcule qual a porcentagem de carros recuperados em relação aos carros roubados + carros furtados:\n",
    "  * $\\frac{\\text{recuperacao_veiculos}}{\\text{roubo_veiculo} + \\text{furto_veiculos}}$\n",
    "* Encontre os valores máximos (`max`) e mínimos (`min`) da coluna `hom_doloso`\n"
   ]
  },
  {
   "cell_type": "markdown",
   "metadata": {
    "colab_type": "text",
    "id": "7WK0NBQZASKC"
   },
   "source": [
    "## Visualização de Dados\n",
    "\n",
    "Breve contextualização...\n",
    "\n",
    "Plote e comente os seguintes gráficos:\n",
    "\n",
    "* Histograma de `hom_doloso`\n",
    "* Gráfico de linhas para a variável `roubo_em_coletivo`\n"
   ]
  },
  {
   "cell_type": "markdown",
   "metadata": {
    "colab_type": "text",
    "id": "LCsiXvM3BcsO"
   },
   "source": [
    "## Conclusão\n",
    "\n",
    "Escreva suas conclusões e análises sobre os indicadores de violência do Rio de Janeiro..."
   ]
  },
  {
   "cell_type": "code",
   "execution_count": null,
   "metadata": {
    "colab": {},
    "colab_type": "code",
    "id": "UDQA502_hAwI"
   },
   "outputs": [],
   "source": []
  }
 ],
 "metadata": {
  "colab": {
   "collapsed_sections": [],
   "name": "Analisando a Violência no Rio de Janeiro.ipynb",
   "provenance": []
  },
  "kernelspec": {
   "display_name": "Python 3",
   "language": "python",
   "name": "python3"
  },
  "language_info": {
   "codemirror_mode": {
    "name": "ipython",
    "version": 3
   },
   "file_extension": ".py",
   "mimetype": "text/x-python",
   "name": "python",
   "nbconvert_exporter": "python",
   "pygments_lexer": "ipython3",
   "version": "3.7.5"
  }
 },
 "nbformat": 4,
 "nbformat_minor": 1
}
