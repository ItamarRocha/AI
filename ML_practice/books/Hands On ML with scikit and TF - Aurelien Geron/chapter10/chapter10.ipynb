{
 "cells": [
  {
   "cell_type": "code",
   "execution_count": 1,
   "metadata": {},
   "outputs": [],
   "source": [
    "import numpy as np\n",
    "from sklearn.datasets import load_iris\n",
    "from sklearn.linear_model import Perceptron"
   ]
  },
  {
   "cell_type": "code",
   "execution_count": 2,
   "metadata": {},
   "outputs": [
    {
     "data": {
      "text/plain": [
       "{'data': array([[5.1, 3.5, 1.4, 0.2],\n",
       "        [4.9, 3. , 1.4, 0.2],\n",
       "        [4.7, 3.2, 1.3, 0.2],\n",
       "        [4.6, 3.1, 1.5, 0.2],\n",
       "        [5. , 3.6, 1.4, 0.2],\n",
       "        [5.4, 3.9, 1.7, 0.4],\n",
       "        [4.6, 3.4, 1.4, 0.3],\n",
       "        [5. , 3.4, 1.5, 0.2],\n",
       "        [4.4, 2.9, 1.4, 0.2],\n",
       "        [4.9, 3.1, 1.5, 0.1],\n",
       "        [5.4, 3.7, 1.5, 0.2],\n",
       "        [4.8, 3.4, 1.6, 0.2],\n",
       "        [4.8, 3. , 1.4, 0.1],\n",
       "        [4.3, 3. , 1.1, 0.1],\n",
       "        [5.8, 4. , 1.2, 0.2],\n",
       "        [5.7, 4.4, 1.5, 0.4],\n",
       "        [5.4, 3.9, 1.3, 0.4],\n",
       "        [5.1, 3.5, 1.4, 0.3],\n",
       "        [5.7, 3.8, 1.7, 0.3],\n",
       "        [5.1, 3.8, 1.5, 0.3],\n",
       "        [5.4, 3.4, 1.7, 0.2],\n",
       "        [5.1, 3.7, 1.5, 0.4],\n",
       "        [4.6, 3.6, 1. , 0.2],\n",
       "        [5.1, 3.3, 1.7, 0.5],\n",
       "        [4.8, 3.4, 1.9, 0.2],\n",
       "        [5. , 3. , 1.6, 0.2],\n",
       "        [5. , 3.4, 1.6, 0.4],\n",
       "        [5.2, 3.5, 1.5, 0.2],\n",
       "        [5.2, 3.4, 1.4, 0.2],\n",
       "        [4.7, 3.2, 1.6, 0.2],\n",
       "        [4.8, 3.1, 1.6, 0.2],\n",
       "        [5.4, 3.4, 1.5, 0.4],\n",
       "        [5.2, 4.1, 1.5, 0.1],\n",
       "        [5.5, 4.2, 1.4, 0.2],\n",
       "        [4.9, 3.1, 1.5, 0.2],\n",
       "        [5. , 3.2, 1.2, 0.2],\n",
       "        [5.5, 3.5, 1.3, 0.2],\n",
       "        [4.9, 3.6, 1.4, 0.1],\n",
       "        [4.4, 3. , 1.3, 0.2],\n",
       "        [5.1, 3.4, 1.5, 0.2],\n",
       "        [5. , 3.5, 1.3, 0.3],\n",
       "        [4.5, 2.3, 1.3, 0.3],\n",
       "        [4.4, 3.2, 1.3, 0.2],\n",
       "        [5. , 3.5, 1.6, 0.6],\n",
       "        [5.1, 3.8, 1.9, 0.4],\n",
       "        [4.8, 3. , 1.4, 0.3],\n",
       "        [5.1, 3.8, 1.6, 0.2],\n",
       "        [4.6, 3.2, 1.4, 0.2],\n",
       "        [5.3, 3.7, 1.5, 0.2],\n",
       "        [5. , 3.3, 1.4, 0.2],\n",
       "        [7. , 3.2, 4.7, 1.4],\n",
       "        [6.4, 3.2, 4.5, 1.5],\n",
       "        [6.9, 3.1, 4.9, 1.5],\n",
       "        [5.5, 2.3, 4. , 1.3],\n",
       "        [6.5, 2.8, 4.6, 1.5],\n",
       "        [5.7, 2.8, 4.5, 1.3],\n",
       "        [6.3, 3.3, 4.7, 1.6],\n",
       "        [4.9, 2.4, 3.3, 1. ],\n",
       "        [6.6, 2.9, 4.6, 1.3],\n",
       "        [5.2, 2.7, 3.9, 1.4],\n",
       "        [5. , 2. , 3.5, 1. ],\n",
       "        [5.9, 3. , 4.2, 1.5],\n",
       "        [6. , 2.2, 4. , 1. ],\n",
       "        [6.1, 2.9, 4.7, 1.4],\n",
       "        [5.6, 2.9, 3.6, 1.3],\n",
       "        [6.7, 3.1, 4.4, 1.4],\n",
       "        [5.6, 3. , 4.5, 1.5],\n",
       "        [5.8, 2.7, 4.1, 1. ],\n",
       "        [6.2, 2.2, 4.5, 1.5],\n",
       "        [5.6, 2.5, 3.9, 1.1],\n",
       "        [5.9, 3.2, 4.8, 1.8],\n",
       "        [6.1, 2.8, 4. , 1.3],\n",
       "        [6.3, 2.5, 4.9, 1.5],\n",
       "        [6.1, 2.8, 4.7, 1.2],\n",
       "        [6.4, 2.9, 4.3, 1.3],\n",
       "        [6.6, 3. , 4.4, 1.4],\n",
       "        [6.8, 2.8, 4.8, 1.4],\n",
       "        [6.7, 3. , 5. , 1.7],\n",
       "        [6. , 2.9, 4.5, 1.5],\n",
       "        [5.7, 2.6, 3.5, 1. ],\n",
       "        [5.5, 2.4, 3.8, 1.1],\n",
       "        [5.5, 2.4, 3.7, 1. ],\n",
       "        [5.8, 2.7, 3.9, 1.2],\n",
       "        [6. , 2.7, 5.1, 1.6],\n",
       "        [5.4, 3. , 4.5, 1.5],\n",
       "        [6. , 3.4, 4.5, 1.6],\n",
       "        [6.7, 3.1, 4.7, 1.5],\n",
       "        [6.3, 2.3, 4.4, 1.3],\n",
       "        [5.6, 3. , 4.1, 1.3],\n",
       "        [5.5, 2.5, 4. , 1.3],\n",
       "        [5.5, 2.6, 4.4, 1.2],\n",
       "        [6.1, 3. , 4.6, 1.4],\n",
       "        [5.8, 2.6, 4. , 1.2],\n",
       "        [5. , 2.3, 3.3, 1. ],\n",
       "        [5.6, 2.7, 4.2, 1.3],\n",
       "        [5.7, 3. , 4.2, 1.2],\n",
       "        [5.7, 2.9, 4.2, 1.3],\n",
       "        [6.2, 2.9, 4.3, 1.3],\n",
       "        [5.1, 2.5, 3. , 1.1],\n",
       "        [5.7, 2.8, 4.1, 1.3],\n",
       "        [6.3, 3.3, 6. , 2.5],\n",
       "        [5.8, 2.7, 5.1, 1.9],\n",
       "        [7.1, 3. , 5.9, 2.1],\n",
       "        [6.3, 2.9, 5.6, 1.8],\n",
       "        [6.5, 3. , 5.8, 2.2],\n",
       "        [7.6, 3. , 6.6, 2.1],\n",
       "        [4.9, 2.5, 4.5, 1.7],\n",
       "        [7.3, 2.9, 6.3, 1.8],\n",
       "        [6.7, 2.5, 5.8, 1.8],\n",
       "        [7.2, 3.6, 6.1, 2.5],\n",
       "        [6.5, 3.2, 5.1, 2. ],\n",
       "        [6.4, 2.7, 5.3, 1.9],\n",
       "        [6.8, 3. , 5.5, 2.1],\n",
       "        [5.7, 2.5, 5. , 2. ],\n",
       "        [5.8, 2.8, 5.1, 2.4],\n",
       "        [6.4, 3.2, 5.3, 2.3],\n",
       "        [6.5, 3. , 5.5, 1.8],\n",
       "        [7.7, 3.8, 6.7, 2.2],\n",
       "        [7.7, 2.6, 6.9, 2.3],\n",
       "        [6. , 2.2, 5. , 1.5],\n",
       "        [6.9, 3.2, 5.7, 2.3],\n",
       "        [5.6, 2.8, 4.9, 2. ],\n",
       "        [7.7, 2.8, 6.7, 2. ],\n",
       "        [6.3, 2.7, 4.9, 1.8],\n",
       "        [6.7, 3.3, 5.7, 2.1],\n",
       "        [7.2, 3.2, 6. , 1.8],\n",
       "        [6.2, 2.8, 4.8, 1.8],\n",
       "        [6.1, 3. , 4.9, 1.8],\n",
       "        [6.4, 2.8, 5.6, 2.1],\n",
       "        [7.2, 3. , 5.8, 1.6],\n",
       "        [7.4, 2.8, 6.1, 1.9],\n",
       "        [7.9, 3.8, 6.4, 2. ],\n",
       "        [6.4, 2.8, 5.6, 2.2],\n",
       "        [6.3, 2.8, 5.1, 1.5],\n",
       "        [6.1, 2.6, 5.6, 1.4],\n",
       "        [7.7, 3. , 6.1, 2.3],\n",
       "        [6.3, 3.4, 5.6, 2.4],\n",
       "        [6.4, 3.1, 5.5, 1.8],\n",
       "        [6. , 3. , 4.8, 1.8],\n",
       "        [6.9, 3.1, 5.4, 2.1],\n",
       "        [6.7, 3.1, 5.6, 2.4],\n",
       "        [6.9, 3.1, 5.1, 2.3],\n",
       "        [5.8, 2.7, 5.1, 1.9],\n",
       "        [6.8, 3.2, 5.9, 2.3],\n",
       "        [6.7, 3.3, 5.7, 2.5],\n",
       "        [6.7, 3. , 5.2, 2.3],\n",
       "        [6.3, 2.5, 5. , 1.9],\n",
       "        [6.5, 3. , 5.2, 2. ],\n",
       "        [6.2, 3.4, 5.4, 2.3],\n",
       "        [5.9, 3. , 5.1, 1.8]]),\n",
       " 'target': array([0, 0, 0, 0, 0, 0, 0, 0, 0, 0, 0, 0, 0, 0, 0, 0, 0, 0, 0, 0, 0, 0,\n",
       "        0, 0, 0, 0, 0, 0, 0, 0, 0, 0, 0, 0, 0, 0, 0, 0, 0, 0, 0, 0, 0, 0,\n",
       "        0, 0, 0, 0, 0, 0, 1, 1, 1, 1, 1, 1, 1, 1, 1, 1, 1, 1, 1, 1, 1, 1,\n",
       "        1, 1, 1, 1, 1, 1, 1, 1, 1, 1, 1, 1, 1, 1, 1, 1, 1, 1, 1, 1, 1, 1,\n",
       "        1, 1, 1, 1, 1, 1, 1, 1, 1, 1, 1, 1, 2, 2, 2, 2, 2, 2, 2, 2, 2, 2,\n",
       "        2, 2, 2, 2, 2, 2, 2, 2, 2, 2, 2, 2, 2, 2, 2, 2, 2, 2, 2, 2, 2, 2,\n",
       "        2, 2, 2, 2, 2, 2, 2, 2, 2, 2, 2, 2, 2, 2, 2, 2, 2, 2]),\n",
       " 'target_names': array(['setosa', 'versicolor', 'virginica'], dtype='<U10'),\n",
       " 'DESCR': '.. _iris_dataset:\\n\\nIris plants dataset\\n--------------------\\n\\n**Data Set Characteristics:**\\n\\n    :Number of Instances: 150 (50 in each of three classes)\\n    :Number of Attributes: 4 numeric, predictive attributes and the class\\n    :Attribute Information:\\n        - sepal length in cm\\n        - sepal width in cm\\n        - petal length in cm\\n        - petal width in cm\\n        - class:\\n                - Iris-Setosa\\n                - Iris-Versicolour\\n                - Iris-Virginica\\n                \\n    :Summary Statistics:\\n\\n    ============== ==== ==== ======= ===== ====================\\n                    Min  Max   Mean    SD   Class Correlation\\n    ============== ==== ==== ======= ===== ====================\\n    sepal length:   4.3  7.9   5.84   0.83    0.7826\\n    sepal width:    2.0  4.4   3.05   0.43   -0.4194\\n    petal length:   1.0  6.9   3.76   1.76    0.9490  (high!)\\n    petal width:    0.1  2.5   1.20   0.76    0.9565  (high!)\\n    ============== ==== ==== ======= ===== ====================\\n\\n    :Missing Attribute Values: None\\n    :Class Distribution: 33.3% for each of 3 classes.\\n    :Creator: R.A. Fisher\\n    :Donor: Michael Marshall (MARSHALL%PLU@io.arc.nasa.gov)\\n    :Date: July, 1988\\n\\nThe famous Iris database, first used by Sir R.A. Fisher. The dataset is taken\\nfrom Fisher\\'s paper. Note that it\\'s the same as in R, but not as in the UCI\\nMachine Learning Repository, which has two wrong data points.\\n\\nThis is perhaps the best known database to be found in the\\npattern recognition literature.  Fisher\\'s paper is a classic in the field and\\nis referenced frequently to this day.  (See Duda & Hart, for example.)  The\\ndata set contains 3 classes of 50 instances each, where each class refers to a\\ntype of iris plant.  One class is linearly separable from the other 2; the\\nlatter are NOT linearly separable from each other.\\n\\n.. topic:: References\\n\\n   - Fisher, R.A. \"The use of multiple measurements in taxonomic problems\"\\n     Annual Eugenics, 7, Part II, 179-188 (1936); also in \"Contributions to\\n     Mathematical Statistics\" (John Wiley, NY, 1950).\\n   - Duda, R.O., & Hart, P.E. (1973) Pattern Classification and Scene Analysis.\\n     (Q327.D83) John Wiley & Sons.  ISBN 0-471-22361-1.  See page 218.\\n   - Dasarathy, B.V. (1980) \"Nosing Around the Neighborhood: A New System\\n     Structure and Classification Rule for Recognition in Partially Exposed\\n     Environments\".  IEEE Transactions on Pattern Analysis and Machine\\n     Intelligence, Vol. PAMI-2, No. 1, 67-71.\\n   - Gates, G.W. (1972) \"The Reduced Nearest Neighbor Rule\".  IEEE Transactions\\n     on Information Theory, May 1972, 431-433.\\n   - See also: 1988 MLC Proceedings, 54-64.  Cheeseman et al\"s AUTOCLASS II\\n     conceptual clustering system finds 3 classes in the data.\\n   - Many, many more ...',\n",
       " 'feature_names': ['sepal length (cm)',\n",
       "  'sepal width (cm)',\n",
       "  'petal length (cm)',\n",
       "  'petal width (cm)'],\n",
       " 'filename': '/home/itamar/anaconda3/lib/python3.7/site-packages/sklearn/datasets/data/iris.csv'}"
      ]
     },
     "execution_count": 2,
     "metadata": {},
     "output_type": "execute_result"
    }
   ],
   "source": [
    "iris = load_iris()\n",
    "iris"
   ]
  },
  {
   "cell_type": "code",
   "execution_count": 3,
   "metadata": {},
   "outputs": [
    {
     "data": {
      "text/plain": [
       "array([[1.4, 0.2],\n",
       "       [1.4, 0.2],\n",
       "       [1.3, 0.2],\n",
       "       [1.5, 0.2],\n",
       "       [1.4, 0.2],\n",
       "       [1.7, 0.4],\n",
       "       [1.4, 0.3],\n",
       "       [1.5, 0.2],\n",
       "       [1.4, 0.2],\n",
       "       [1.5, 0.1],\n",
       "       [1.5, 0.2],\n",
       "       [1.6, 0.2],\n",
       "       [1.4, 0.1],\n",
       "       [1.1, 0.1],\n",
       "       [1.2, 0.2],\n",
       "       [1.5, 0.4],\n",
       "       [1.3, 0.4],\n",
       "       [1.4, 0.3],\n",
       "       [1.7, 0.3],\n",
       "       [1.5, 0.3],\n",
       "       [1.7, 0.2],\n",
       "       [1.5, 0.4],\n",
       "       [1. , 0.2],\n",
       "       [1.7, 0.5],\n",
       "       [1.9, 0.2],\n",
       "       [1.6, 0.2],\n",
       "       [1.6, 0.4],\n",
       "       [1.5, 0.2],\n",
       "       [1.4, 0.2],\n",
       "       [1.6, 0.2],\n",
       "       [1.6, 0.2],\n",
       "       [1.5, 0.4],\n",
       "       [1.5, 0.1],\n",
       "       [1.4, 0.2],\n",
       "       [1.5, 0.2],\n",
       "       [1.2, 0.2],\n",
       "       [1.3, 0.2],\n",
       "       [1.4, 0.1],\n",
       "       [1.3, 0.2],\n",
       "       [1.5, 0.2],\n",
       "       [1.3, 0.3],\n",
       "       [1.3, 0.3],\n",
       "       [1.3, 0.2],\n",
       "       [1.6, 0.6],\n",
       "       [1.9, 0.4],\n",
       "       [1.4, 0.3],\n",
       "       [1.6, 0.2],\n",
       "       [1.4, 0.2],\n",
       "       [1.5, 0.2],\n",
       "       [1.4, 0.2],\n",
       "       [4.7, 1.4],\n",
       "       [4.5, 1.5],\n",
       "       [4.9, 1.5],\n",
       "       [4. , 1.3],\n",
       "       [4.6, 1.5],\n",
       "       [4.5, 1.3],\n",
       "       [4.7, 1.6],\n",
       "       [3.3, 1. ],\n",
       "       [4.6, 1.3],\n",
       "       [3.9, 1.4],\n",
       "       [3.5, 1. ],\n",
       "       [4.2, 1.5],\n",
       "       [4. , 1. ],\n",
       "       [4.7, 1.4],\n",
       "       [3.6, 1.3],\n",
       "       [4.4, 1.4],\n",
       "       [4.5, 1.5],\n",
       "       [4.1, 1. ],\n",
       "       [4.5, 1.5],\n",
       "       [3.9, 1.1],\n",
       "       [4.8, 1.8],\n",
       "       [4. , 1.3],\n",
       "       [4.9, 1.5],\n",
       "       [4.7, 1.2],\n",
       "       [4.3, 1.3],\n",
       "       [4.4, 1.4],\n",
       "       [4.8, 1.4],\n",
       "       [5. , 1.7],\n",
       "       [4.5, 1.5],\n",
       "       [3.5, 1. ],\n",
       "       [3.8, 1.1],\n",
       "       [3.7, 1. ],\n",
       "       [3.9, 1.2],\n",
       "       [5.1, 1.6],\n",
       "       [4.5, 1.5],\n",
       "       [4.5, 1.6],\n",
       "       [4.7, 1.5],\n",
       "       [4.4, 1.3],\n",
       "       [4.1, 1.3],\n",
       "       [4. , 1.3],\n",
       "       [4.4, 1.2],\n",
       "       [4.6, 1.4],\n",
       "       [4. , 1.2],\n",
       "       [3.3, 1. ],\n",
       "       [4.2, 1.3],\n",
       "       [4.2, 1.2],\n",
       "       [4.2, 1.3],\n",
       "       [4.3, 1.3],\n",
       "       [3. , 1.1],\n",
       "       [4.1, 1.3],\n",
       "       [6. , 2.5],\n",
       "       [5.1, 1.9],\n",
       "       [5.9, 2.1],\n",
       "       [5.6, 1.8],\n",
       "       [5.8, 2.2],\n",
       "       [6.6, 2.1],\n",
       "       [4.5, 1.7],\n",
       "       [6.3, 1.8],\n",
       "       [5.8, 1.8],\n",
       "       [6.1, 2.5],\n",
       "       [5.1, 2. ],\n",
       "       [5.3, 1.9],\n",
       "       [5.5, 2.1],\n",
       "       [5. , 2. ],\n",
       "       [5.1, 2.4],\n",
       "       [5.3, 2.3],\n",
       "       [5.5, 1.8],\n",
       "       [6.7, 2.2],\n",
       "       [6.9, 2.3],\n",
       "       [5. , 1.5],\n",
       "       [5.7, 2.3],\n",
       "       [4.9, 2. ],\n",
       "       [6.7, 2. ],\n",
       "       [4.9, 1.8],\n",
       "       [5.7, 2.1],\n",
       "       [6. , 1.8],\n",
       "       [4.8, 1.8],\n",
       "       [4.9, 1.8],\n",
       "       [5.6, 2.1],\n",
       "       [5.8, 1.6],\n",
       "       [6.1, 1.9],\n",
       "       [6.4, 2. ],\n",
       "       [5.6, 2.2],\n",
       "       [5.1, 1.5],\n",
       "       [5.6, 1.4],\n",
       "       [6.1, 2.3],\n",
       "       [5.6, 2.4],\n",
       "       [5.5, 1.8],\n",
       "       [4.8, 1.8],\n",
       "       [5.4, 2.1],\n",
       "       [5.6, 2.4],\n",
       "       [5.1, 2.3],\n",
       "       [5.1, 1.9],\n",
       "       [5.9, 2.3],\n",
       "       [5.7, 2.5],\n",
       "       [5.2, 2.3],\n",
       "       [5. , 1.9],\n",
       "       [5.2, 2. ],\n",
       "       [5.4, 2.3],\n",
       "       [5.1, 1.8]])"
      ]
     },
     "execution_count": 3,
     "metadata": {},
     "output_type": "execute_result"
    }
   ],
   "source": [
    "X = iris.data[:, (2,3)]  #petal length and width\n",
    "X"
   ]
  },
  {
   "cell_type": "code",
   "execution_count": 4,
   "metadata": {},
   "outputs": [
    {
     "data": {
      "text/plain": [
       "array([1, 1, 1, 1, 1, 1, 1, 1, 1, 1, 1, 1, 1, 1, 1, 1, 1, 1, 1, 1, 1, 1,\n",
       "       1, 1, 1, 1, 1, 1, 1, 1, 1, 1, 1, 1, 1, 1, 1, 1, 1, 1, 1, 1, 1, 1,\n",
       "       1, 1, 1, 1, 1, 1, 0, 0, 0, 0, 0, 0, 0, 0, 0, 0, 0, 0, 0, 0, 0, 0,\n",
       "       0, 0, 0, 0, 0, 0, 0, 0, 0, 0, 0, 0, 0, 0, 0, 0, 0, 0, 0, 0, 0, 0,\n",
       "       0, 0, 0, 0, 0, 0, 0, 0, 0, 0, 0, 0, 0, 0, 0, 0, 0, 0, 0, 0, 0, 0,\n",
       "       0, 0, 0, 0, 0, 0, 0, 0, 0, 0, 0, 0, 0, 0, 0, 0, 0, 0, 0, 0, 0, 0,\n",
       "       0, 0, 0, 0, 0, 0, 0, 0, 0, 0, 0, 0, 0, 0, 0, 0, 0, 0])"
      ]
     },
     "execution_count": 4,
     "metadata": {},
     "output_type": "execute_result"
    }
   ],
   "source": [
    "y = (iris.target == 0).astype(np.int) # setosa or not\n",
    "y"
   ]
  },
  {
   "cell_type": "code",
   "execution_count": 5,
   "metadata": {},
   "outputs": [
    {
     "data": {
      "text/plain": [
       "Perceptron(alpha=0.0001, class_weight=None, early_stopping=False, eta0=1.0,\n",
       "           fit_intercept=True, max_iter=1000, n_iter_no_change=5, n_jobs=None,\n",
       "           penalty=None, random_state=0, shuffle=True, tol=0.001,\n",
       "           validation_fraction=0.1, verbose=0, warm_start=False)"
      ]
     },
     "execution_count": 5,
     "metadata": {},
     "output_type": "execute_result"
    }
   ],
   "source": [
    "per_clf = Perceptron()\n",
    "per_clf.fit(X, y)"
   ]
  },
  {
   "cell_type": "code",
   "execution_count": 6,
   "metadata": {},
   "outputs": [
    {
     "data": {
      "text/plain": [
       "array([0])"
      ]
     },
     "execution_count": 6,
     "metadata": {},
     "output_type": "execute_result"
    }
   ],
   "source": [
    "y_pred = per_clf.predict([[2, 0.5]])\n",
    "y_pred"
   ]
  },
  {
   "cell_type": "markdown",
   "metadata": {},
   "source": [
    "## MLP with Keras"
   ]
  },
  {
   "cell_type": "code",
   "execution_count": 7,
   "metadata": {},
   "outputs": [],
   "source": [
    "from tensorflow import keras\n",
    "import tensorflow as tf"
   ]
  },
  {
   "cell_type": "code",
   "execution_count": 8,
   "metadata": {},
   "outputs": [],
   "source": [
    "fashion_mnist = keras.datasets.fashion_mnist"
   ]
  },
  {
   "cell_type": "code",
   "execution_count": 9,
   "metadata": {},
   "outputs": [],
   "source": [
    "(X_train_full, y_train_full), (X_test, y_test) = fashion_mnist.load_data()"
   ]
  },
  {
   "cell_type": "code",
   "execution_count": 10,
   "metadata": {},
   "outputs": [
    {
     "data": {
      "text/plain": [
       "(60000, 28, 28)"
      ]
     },
     "execution_count": 10,
     "metadata": {},
     "output_type": "execute_result"
    }
   ],
   "source": [
    "X_train_full.shape"
   ]
  },
  {
   "cell_type": "code",
   "execution_count": 11,
   "metadata": {},
   "outputs": [],
   "source": [
    "class_names = [\"T-shirt/top\", \"Trouser\", \"Pullover\", \"Dress\", \"Coat\",\n",
    "\"Sandal\", \"Shirt\", \"Sneaker\", \"Bag\", \"Ankle boot\"]"
   ]
  },
  {
   "cell_type": "code",
   "execution_count": 12,
   "metadata": {},
   "outputs": [],
   "source": [
    "import matplotlib.pyplot as plt"
   ]
  },
  {
   "cell_type": "code",
   "execution_count": 13,
   "metadata": {},
   "outputs": [
    {
     "data": {
      "image/png": "[encoded data removed]",
      "text/plain": [
       "<Figure size 432x432 with 25 Axes>"
      ]
     },
     "metadata": {},
     "output_type": "display_data"
    }
   ],
   "source": [
    "plt.figure(figsize=(6,6))\n",
    "\n",
    "for i in range(25):\n",
    "    plt.subplot(5, 5, i+1)\n",
    "    plt.xticks([])\n",
    "    plt.yticks([])\n",
    "    plt.grid(False)\n",
    "    plt.imshow(X_train_full[i], cmap=plt.cm.binary)\n",
    "    plt.xlabel(class_names[y_train_full[i]])\n",
    "plt.tight_layout()"
   ]
  },
  {
   "cell_type": "code",
   "execution_count": 14,
   "metadata": {},
   "outputs": [],
   "source": [
    "X_valid, X_train = X_train_full[:5000] / 255.0, X_train_full[5000:]/255.0\n",
    "y_valid, y_train = y_train_full[:5000], y_train_full[5000:]"
   ]
  },
  {
   "cell_type": "code",
   "execution_count": 15,
   "metadata": {},
   "outputs": [],
   "source": [
    "model = keras.models.Sequential([\n",
    "    keras.layers.Flatten(input_shape=[28, 28]),\n",
    "    keras.layers.Dense(300, activation=\"relu\"),\n",
    "    keras.layers.Dense(100, activation=\"relu\"),\n",
    "    keras.layers.Dense(10, activation=\"softmax\")\n",
    "])"
   ]
  },
  {
   "cell_type": "code",
   "execution_count": 16,
   "metadata": {},
   "outputs": [
    {
     "name": "stdout",
     "output_type": "stream",
     "text": [
      "Model: \"sequential\"\n",
      "_________________________________________________________________\n",
      "Layer (type)                 Output Shape              Param #   \n",
      "=================================================================\n",
      "flatten (Flatten)            (None, 784)               0         \n",
      "_________________________________________________________________\n",
      "dense (Dense)                (None, 300)               235500    \n",
      "_________________________________________________________________\n",
      "dense_1 (Dense)              (None, 100)               30100     \n",
      "_________________________________________________________________\n",
      "dense_2 (Dense)              (None, 10)                1010      \n",
      "=================================================================\n",
      "Total params: 266,610\n",
      "Trainable params: 266,610\n",
      "Non-trainable params: 0\n",
      "_________________________________________________________________\n"
     ]
    }
   ],
   "source": [
    "model.summary()"
   ]
  },
  {
   "cell_type": "code",
   "execution_count": 17,
   "metadata": {
    "scrolled": false
   },
   "outputs": [
    {
     "data": {
      "image/png": "[encoded data removed]",
      "text/plain": [
       "<IPython.core.display.Image object>"
      ]
     },
     "execution_count": 17,
     "metadata": {},
     "output_type": "execute_result"
    }
   ],
   "source": [
    "tf.keras.utils.plot_model(model, to_file='model.png')"
   ]
  },
  {
   "cell_type": "code",
   "execution_count": 18,
   "metadata": {},
   "outputs": [
    {
     "data": {
      "text/plain": [
       "[<tensorflow.python.keras.layers.core.Flatten at 0x7efb253ce250>,\n",
       " <tensorflow.python.keras.layers.core.Dense at 0x7efb254341d0>,\n",
       " <tensorflow.python.keras.layers.core.Dense at 0x7efb26a9c110>,\n",
       " <tensorflow.python.keras.layers.core.Dense at 0x7efb253cea10>]"
      ]
     },
     "execution_count": 18,
     "metadata": {},
     "output_type": "execute_result"
    }
   ],
   "source": [
    "model.layers"
   ]
  },
  {
   "cell_type": "code",
   "execution_count": 19,
   "metadata": {},
   "outputs": [],
   "source": [
    "hidden1 = model.layers[1]"
   ]
  },
  {
   "cell_type": "code",
   "execution_count": 20,
   "metadata": {},
   "outputs": [
    {
     "data": {
      "text/plain": [
       "'dense'"
      ]
     },
     "execution_count": 20,
     "metadata": {},
     "output_type": "execute_result"
    }
   ],
   "source": [
    "hidden1.name"
   ]
  },
  {
   "cell_type": "code",
   "execution_count": 21,
   "metadata": {},
   "outputs": [
    {
     "data": {
      "text/plain": [
       "<tensorflow.python.keras.layers.core.Dense at 0x7efb26a9c110>"
      ]
     },
     "execution_count": 21,
     "metadata": {},
     "output_type": "execute_result"
    }
   ],
   "source": [
    "model.get_layer(\"dense_1\")"
   ]
  },
  {
   "cell_type": "code",
   "execution_count": 22,
   "metadata": {},
   "outputs": [],
   "source": [
    "weights, bias = hidden1.get_weights()"
   ]
  },
  {
   "cell_type": "code",
   "execution_count": 23,
   "metadata": {},
   "outputs": [
    {
     "data": {
      "text/plain": [
       "array([[ 0.01856373,  0.0497105 , -0.05068398, ..., -0.05868106,\n",
       "        -0.07095139, -0.00745123],\n",
       "       [ 0.07085614,  0.0078975 , -0.0616613 , ..., -0.04238203,\n",
       "        -0.04054877,  0.02398548],\n",
       "       [ 0.05170223, -0.00042493, -0.0421215 , ..., -0.04183963,\n",
       "         0.04923023, -0.0328436 ],\n",
       "       ...,\n",
       "       [ 0.0601438 , -0.05320697, -0.04799741, ...,  0.00575545,\n",
       "         0.00880761, -0.04036974],\n",
       "       [ 0.00921788, -0.01091495, -0.04703628, ...,  0.02314623,\n",
       "        -0.00548818, -0.01187235],\n",
       "       [-0.02570666,  0.00084313, -0.06148914, ..., -0.0405465 ,\n",
       "        -0.06479917,  0.00871042]], dtype=float32)"
      ]
     },
     "execution_count": 23,
     "metadata": {},
     "output_type": "execute_result"
    }
   ],
   "source": [
    "weights #randomly initialized to break symmetry"
   ]
  },
  {
   "cell_type": "code",
   "execution_count": 24,
   "metadata": {},
   "outputs": [
    {
     "data": {
      "text/plain": [
       "array([0., 0., 0., 0., 0., 0., 0., 0., 0., 0., 0., 0., 0., 0., 0., 0., 0.,\n",
       "       0., 0., 0., 0., 0., 0., 0., 0., 0., 0., 0., 0., 0., 0., 0., 0., 0.,\n",
       "       0., 0., 0., 0., 0., 0., 0., 0., 0., 0., 0., 0., 0., 0., 0., 0., 0.,\n",
       "       0., 0., 0., 0., 0., 0., 0., 0., 0., 0., 0., 0., 0., 0., 0., 0., 0.,\n",
       "       0., 0., 0., 0., 0., 0., 0., 0., 0., 0., 0., 0., 0., 0., 0., 0., 0.,\n",
       "       0., 0., 0., 0., 0., 0., 0., 0., 0., 0., 0., 0., 0., 0., 0., 0., 0.,\n",
       "       0., 0., 0., 0., 0., 0., 0., 0., 0., 0., 0., 0., 0., 0., 0., 0., 0.,\n",
       "       0., 0., 0., 0., 0., 0., 0., 0., 0., 0., 0., 0., 0., 0., 0., 0., 0.,\n",
       "       0., 0., 0., 0., 0., 0., 0., 0., 0., 0., 0., 0., 0., 0., 0., 0., 0.,\n",
       "       0., 0., 0., 0., 0., 0., 0., 0., 0., 0., 0., 0., 0., 0., 0., 0., 0.,\n",
       "       0., 0., 0., 0., 0., 0., 0., 0., 0., 0., 0., 0., 0., 0., 0., 0., 0.,\n",
       "       0., 0., 0., 0., 0., 0., 0., 0., 0., 0., 0., 0., 0., 0., 0., 0., 0.,\n",
       "       0., 0., 0., 0., 0., 0., 0., 0., 0., 0., 0., 0., 0., 0., 0., 0., 0.,\n",
       "       0., 0., 0., 0., 0., 0., 0., 0., 0., 0., 0., 0., 0., 0., 0., 0., 0.,\n",
       "       0., 0., 0., 0., 0., 0., 0., 0., 0., 0., 0., 0., 0., 0., 0., 0., 0.,\n",
       "       0., 0., 0., 0., 0., 0., 0., 0., 0., 0., 0., 0., 0., 0., 0., 0., 0.,\n",
       "       0., 0., 0., 0., 0., 0., 0., 0., 0., 0., 0., 0., 0., 0., 0., 0., 0.,\n",
       "       0., 0., 0., 0., 0., 0., 0., 0., 0., 0., 0.], dtype=float32)"
      ]
     },
     "execution_count": 24,
     "metadata": {},
     "output_type": "execute_result"
    }
   ],
   "source": [
    "bias #zero initialized"
   ]
  },
  {
   "cell_type": "code",
   "execution_count": 25,
   "metadata": {},
   "outputs": [],
   "source": [
    "model.compile(loss=\"sparse_categorical_crossentropy\", optimizer=\"sgd\", metrics=[\"accuracy\"])"
   ]
  },
  {
   "cell_type": "code",
   "execution_count": 26,
   "metadata": {
    "scrolled": false
   },
   "outputs": [
    {
     "name": "stdout",
     "output_type": "stream",
     "text": [
      "Train on 55000 samples, validate on 5000 samples\n",
      "Epoch 1/30\n",
      "55000/55000 [==============================] - 3s 55us/sample - loss: 0.7087 - accuracy: 0.7681 - val_loss: 0.5215 - val_accuracy: 0.8238\n",
      "Epoch 2/30\n",
      "55000/55000 [==============================] - 3s 50us/sample - loss: 0.4860 - accuracy: 0.8307 - val_loss: 0.4457 - val_accuracy: 0.8518\n",
      "Epoch 3/30\n",
      "55000/55000 [==============================] - 3s 50us/sample - loss: 0.4424 - accuracy: 0.8441 - val_loss: 0.4177 - val_accuracy: 0.8556\n",
      "Epoch 4/30\n",
      "55000/55000 [==============================] - 3s 49us/sample - loss: 0.4139 - accuracy: 0.8544 - val_loss: 0.3950 - val_accuracy: 0.8618\n",
      "Epoch 5/30\n",
      "55000/55000 [==============================] - 3s 51us/sample - loss: 0.3943 - accuracy: 0.8607 - val_loss: 0.4046 - val_accuracy: 0.8612\n",
      "Epoch 6/30\n",
      "55000/55000 [==============================] - 3s 50us/sample - loss: 0.3781 - accuracy: 0.8672 - val_loss: 0.3760 - val_accuracy: 0.8684\n",
      "Epoch 7/30\n",
      "55000/55000 [==============================] - 3s 48us/sample - loss: 0.3647 - accuracy: 0.8717 - val_loss: 0.4213 - val_accuracy: 0.8474\n",
      "Epoch 8/30\n",
      "55000/55000 [==============================] - 3s 49us/sample - loss: 0.3538 - accuracy: 0.8735 - val_loss: 0.3580 - val_accuracy: 0.8736\n",
      "Epoch 9/30\n",
      "55000/55000 [==============================] - 3s 49us/sample - loss: 0.3428 - accuracy: 0.8780 - val_loss: 0.3476 - val_accuracy: 0.8790\n",
      "Epoch 10/30\n",
      "55000/55000 [==============================] - 3s 51us/sample - loss: 0.3326 - accuracy: 0.8825 - val_loss: 0.3448 - val_accuracy: 0.8742\n",
      "Epoch 11/30\n",
      "55000/55000 [==============================] - 3s 48us/sample - loss: 0.3252 - accuracy: 0.8837 - val_loss: 0.3489 - val_accuracy: 0.8744\n",
      "Epoch 12/30\n",
      "55000/55000 [==============================] - 3s 49us/sample - loss: 0.3174 - accuracy: 0.8862 - val_loss: 0.3268 - val_accuracy: 0.8862\n",
      "Epoch 13/30\n",
      "55000/55000 [==============================] - 3s 51us/sample - loss: 0.3091 - accuracy: 0.8893 - val_loss: 0.3362 - val_accuracy: 0.8812\n",
      "Epoch 14/30\n",
      "55000/55000 [==============================] - 3s 50us/sample - loss: 0.3036 - accuracy: 0.8907 - val_loss: 0.3195 - val_accuracy: 0.8838\n",
      "Epoch 15/30\n",
      "55000/55000 [==============================] - 3s 51us/sample - loss: 0.2957 - accuracy: 0.8931 - val_loss: 0.3201 - val_accuracy: 0.8814\n",
      "Epoch 16/30\n",
      "55000/55000 [==============================] - 3s 49us/sample - loss: 0.2911 - accuracy: 0.8956 - val_loss: 0.3121 - val_accuracy: 0.8848\n",
      "Epoch 17/30\n",
      "55000/55000 [==============================] - 3s 50us/sample - loss: 0.2851 - accuracy: 0.8967 - val_loss: 0.3069 - val_accuracy: 0.8888\n",
      "Epoch 18/30\n",
      "55000/55000 [==============================] - 3s 50us/sample - loss: 0.2792 - accuracy: 0.8994 - val_loss: 0.3279 - val_accuracy: 0.8826\n",
      "Epoch 19/30\n",
      "55000/55000 [==============================] - 3s 50us/sample - loss: 0.2731 - accuracy: 0.9011 - val_loss: 0.3104 - val_accuracy: 0.8874\n",
      "Epoch 20/30\n",
      "55000/55000 [==============================] - 3s 50us/sample - loss: 0.2675 - accuracy: 0.9022 - val_loss: 0.3205 - val_accuracy: 0.8872\n",
      "Epoch 21/30\n",
      "55000/55000 [==============================] - 3s 50us/sample - loss: 0.2628 - accuracy: 0.9047 - val_loss: 0.3014 - val_accuracy: 0.8894\n",
      "Epoch 22/30\n",
      "55000/55000 [==============================] - 3s 50us/sample - loss: 0.2588 - accuracy: 0.9067 - val_loss: 0.2972 - val_accuracy: 0.8930\n",
      "Epoch 23/30\n",
      "55000/55000 [==============================] - 3s 50us/sample - loss: 0.2537 - accuracy: 0.9079 - val_loss: 0.2998 - val_accuracy: 0.8908\n",
      "Epoch 24/30\n",
      "55000/55000 [==============================] - 3s 50us/sample - loss: 0.2503 - accuracy: 0.9096 - val_loss: 0.2973 - val_accuracy: 0.8916\n",
      "Epoch 25/30\n",
      "55000/55000 [==============================] - 3s 51us/sample - loss: 0.2454 - accuracy: 0.9106 - val_loss: 0.2913 - val_accuracy: 0.8942\n",
      "Epoch 26/30\n",
      "55000/55000 [==============================] - 3s 50us/sample - loss: 0.2422 - accuracy: 0.9119 - val_loss: 0.2953 - val_accuracy: 0.8902\n",
      "Epoch 27/30\n",
      "55000/55000 [==============================] - 3s 51us/sample - loss: 0.2371 - accuracy: 0.9138 - val_loss: 0.2948 - val_accuracy: 0.8948\n",
      "Epoch 28/30\n",
      "55000/55000 [==============================] - 3s 49us/sample - loss: 0.2328 - accuracy: 0.9159 - val_loss: 0.2930 - val_accuracy: 0.8954\n",
      "Epoch 29/30\n",
      "55000/55000 [==============================] - 3s 49us/sample - loss: 0.2288 - accuracy: 0.9173 - val_loss: 0.3302 - val_accuracy: 0.8834\n",
      "Epoch 30/30\n",
      "55000/55000 [==============================] - 3s 50us/sample - loss: 0.2261 - accuracy: 0.9184 - val_loss: 0.2950 - val_accuracy: 0.8966\n"
     ]
    }
   ],
   "source": [
    "history = model.fit(X_train, y_train, epochs=30, validation_data=(X_valid, y_valid))"
   ]
  },
  {
   "cell_type": "code",
   "execution_count": 27,
   "metadata": {},
   "outputs": [],
   "source": [
    "model.save(\"checkpoint.h5\")"
   ]
  },
  {
   "cell_type": "code",
   "execution_count": 28,
   "metadata": {},
   "outputs": [
    {
     "data": {
      "image/png": "[encoded data removed]",
      "text/plain": [
       "<Figure size 432x288 with 1 Axes>"
      ]
     },
     "metadata": {
      "needs_background": "light"
     },
     "output_type": "display_data"
    },
    {
     "data": {
      "image/png": "[encoded data removed]",
      "text/plain": [
       "<Figure size 432x288 with 1 Axes>"
      ]
     },
     "metadata": {
      "needs_background": "light"
     },
     "output_type": "display_data"
    }
   ],
   "source": [
    "plt.plot(history.history[\"accuracy\"])\n",
    "plt.plot(history.history[\"val_accuracy\"])\n",
    "plt.show()\n",
    "plt.plot(history.history[\"loss\"])\n",
    "plt.plot(history.history[\"val_loss\"])\n",
    "plt.show()"
   ]
  },
  {
   "cell_type": "code",
   "execution_count": 29,
   "metadata": {
    "scrolled": false
   },
   "outputs": [
    {
     "data": {
      "image/png": "[encoded data removed]",
      "text/plain": [
       "<Figure size 1440x720 with 1 Axes>"
      ]
     },
     "metadata": {
      "needs_background": "light"
     },
     "output_type": "display_data"
    }
   ],
   "source": [
    "import pandas as pd\n",
    "pd.DataFrame(history.history).plot(figsize=(20,10))\n",
    "plt.grid(True)\n",
    "plt.gca().set_ylim(0, 1)\n",
    "plt.show()"
   ]
  },
  {
   "cell_type": "markdown",
   "metadata": {},
   "source": [
    "* Ypu can just keep training if you want. just call the fit method again"
   ]
  },
  {
   "cell_type": "code",
   "execution_count": 30,
   "metadata": {},
   "outputs": [
    {
     "name": "stdout",
     "output_type": "stream",
     "text": [
      "Train on 55000 samples, validate on 5000 samples\n",
      "Epoch 1/30\n",
      "55000/55000 [==============================] - 3s 50us/sample - loss: 0.2229 - accuracy: 0.9196 - val_loss: 0.2818 - val_accuracy: 0.8980\n",
      "Epoch 2/30\n",
      "55000/55000 [==============================] - 3s 50us/sample - loss: 0.2180 - accuracy: 0.9216 - val_loss: 0.2892 - val_accuracy: 0.8926\n",
      "Epoch 3/30\n",
      "55000/55000 [==============================] - 3s 51us/sample - loss: 0.2150 - accuracy: 0.9223 - val_loss: 0.2962 - val_accuracy: 0.8910\n",
      "Epoch 4/30\n",
      "55000/55000 [==============================] - 3s 49us/sample - loss: 0.2103 - accuracy: 0.9243 - val_loss: 0.2925 - val_accuracy: 0.8910\n",
      "Epoch 5/30\n",
      "55000/55000 [==============================] - 3s 50us/sample - loss: 0.2075 - accuracy: 0.9247 - val_loss: 0.2891 - val_accuracy: 0.8958\n",
      "Epoch 6/30\n",
      "55000/55000 [==============================] - 3s 48us/sample - loss: 0.2035 - accuracy: 0.9271 - val_loss: 0.2890 - val_accuracy: 0.8948\n",
      "Epoch 7/30\n",
      "55000/55000 [==============================] - 3s 50us/sample - loss: 0.2018 - accuracy: 0.9274 - val_loss: 0.2784 - val_accuracy: 0.8970\n",
      "Epoch 8/30\n",
      "55000/55000 [==============================] - 3s 50us/sample - loss: 0.1972 - accuracy: 0.9298 - val_loss: 0.2901 - val_accuracy: 0.8968\n",
      "Epoch 9/30\n",
      "55000/55000 [==============================] - 3s 50us/sample - loss: 0.1946 - accuracy: 0.9302 - val_loss: 0.3031 - val_accuracy: 0.8890\n",
      "Epoch 10/30\n",
      "55000/55000 [==============================] - 3s 50us/sample - loss: 0.1920 - accuracy: 0.9316 - val_loss: 0.2826 - val_accuracy: 0.8980\n",
      "Epoch 11/30\n",
      "55000/55000 [==============================] - 3s 50us/sample - loss: 0.1881 - accuracy: 0.9339 - val_loss: 0.2805 - val_accuracy: 0.9006\n",
      "Epoch 12/30\n",
      "55000/55000 [==============================] - 3s 50us/sample - loss: 0.1850 - accuracy: 0.9343 - val_loss: 0.2923 - val_accuracy: 0.8960\n",
      "Epoch 13/30\n",
      "55000/55000 [==============================] - 3s 49us/sample - loss: 0.1826 - accuracy: 0.9343 - val_loss: 0.3194 - val_accuracy: 0.8886\n",
      "Epoch 14/30\n",
      "55000/55000 [==============================] - 3s 49us/sample - loss: 0.1792 - accuracy: 0.9364 - val_loss: 0.3046 - val_accuracy: 0.8922\n",
      "Epoch 15/30\n",
      "55000/55000 [==============================] - 3s 49us/sample - loss: 0.1760 - accuracy: 0.9378 - val_loss: 0.2958 - val_accuracy: 0.8940\n",
      "Epoch 16/30\n",
      "55000/55000 [==============================] - 3s 48us/sample - loss: 0.1745 - accuracy: 0.9375 - val_loss: 0.2763 - val_accuracy: 0.8988\n",
      "Epoch 17/30\n",
      "55000/55000 [==============================] - 3s 51us/sample - loss: 0.1702 - accuracy: 0.9391 - val_loss: 0.3212 - val_accuracy: 0.8888\n",
      "Epoch 18/30\n",
      "55000/55000 [==============================] - 3s 51us/sample - loss: 0.1683 - accuracy: 0.9399 - val_loss: 0.2793 - val_accuracy: 0.8998\n",
      "Epoch 19/30\n",
      "55000/55000 [==============================] - 3s 52us/sample - loss: 0.1653 - accuracy: 0.9413 - val_loss: 0.2823 - val_accuracy: 0.8986\n",
      "Epoch 20/30\n",
      "55000/55000 [==============================] - 3s 50us/sample - loss: 0.1625 - accuracy: 0.9432 - val_loss: 0.2914 - val_accuracy: 0.8982\n",
      "Epoch 21/30\n",
      "55000/55000 [==============================] - 3s 50us/sample - loss: 0.1606 - accuracy: 0.9423 - val_loss: 0.3042 - val_accuracy: 0.8936\n",
      "Epoch 22/30\n",
      "55000/55000 [==============================] - 3s 49us/sample - loss: 0.1576 - accuracy: 0.9446 - val_loss: 0.2970 - val_accuracy: 0.8908\n",
      "Epoch 23/30\n",
      "55000/55000 [==============================] - 3s 50us/sample - loss: 0.1542 - accuracy: 0.9451 - val_loss: 0.3008 - val_accuracy: 0.8958\n",
      "Epoch 24/30\n",
      "55000/55000 [==============================] - 3s 49us/sample - loss: 0.1528 - accuracy: 0.9466 - val_loss: 0.3150 - val_accuracy: 0.8932\n",
      "Epoch 25/30\n",
      "55000/55000 [==============================] - 3s 50us/sample - loss: 0.1501 - accuracy: 0.9467 - val_loss: 0.2866 - val_accuracy: 0.9010\n",
      "Epoch 26/30\n",
      "55000/55000 [==============================] - 3s 49us/sample - loss: 0.1480 - accuracy: 0.9478 - val_loss: 0.3352 - val_accuracy: 0.8864\n",
      "Epoch 27/30\n",
      "55000/55000 [==============================] - 3s 50us/sample - loss: 0.1465 - accuracy: 0.9485 - val_loss: 0.3027 - val_accuracy: 0.8950\n",
      "Epoch 28/30\n",
      "55000/55000 [==============================] - 3s 50us/sample - loss: 0.1432 - accuracy: 0.9490 - val_loss: 0.3000 - val_accuracy: 0.8914\n",
      "Epoch 29/30\n",
      "55000/55000 [==============================] - 3s 49us/sample - loss: 0.1409 - accuracy: 0.9504 - val_loss: 0.3034 - val_accuracy: 0.8974\n",
      "Epoch 30/30\n",
      "55000/55000 [==============================] - 3s 50us/sample - loss: 0.1383 - accuracy: 0.9511 - val_loss: 0.3048 - val_accuracy: 0.8964\n"
     ]
    }
   ],
   "source": [
    "history = model.fit(X_train, y_train, epochs=30, validation_data=(X_valid, y_valid))"
   ]
  },
  {
   "cell_type": "code",
   "execution_count": 31,
   "metadata": {},
   "outputs": [
    {
     "data": {
      "image/png": "[encoded data removed]",
      "text/plain": [
       "<Figure size 1440x720 with 1 Axes>"
      ]
     },
     "metadata": {
      "needs_background": "light"
     },
     "output_type": "display_data"
    }
   ],
   "source": [
    "import pandas as pd\n",
    "pd.DataFrame(history.history).plot(figsize=(20,10))\n",
    "plt.grid(True)\n",
    "plt.gca().set_ylim(0, 1)\n",
    "plt.show()"
   ]
  },
  {
   "cell_type": "markdown",
   "metadata": {},
   "source": [
    "* This time was not as good as the previous one"
   ]
  },
  {
   "cell_type": "code",
   "execution_count": 32,
   "metadata": {},
   "outputs": [],
   "source": [
    "checkpoint_model = tf.keras.models.load_model(\"checkpoint.h5\")"
   ]
  },
  {
   "cell_type": "code",
   "execution_count": 33,
   "metadata": {},
   "outputs": [
    {
     "name": "stdout",
     "output_type": "stream",
     "text": [
      "10000/10000 [==============================] - 0s 39us/sample - loss: 62.4351 - accuracy: 0.8548\n"
     ]
    },
    {
     "data": {
      "text/plain": [
       "[62.43512047576904, 0.8548]"
      ]
     },
     "execution_count": 33,
     "metadata": {},
     "output_type": "execute_result"
    }
   ],
   "source": [
    "checkpoint_model.evaluate(X_test,y_test)"
   ]
  },
  {
   "cell_type": "markdown",
   "metadata": {},
   "source": [
    "* Quite lower than the validation"
   ]
  },
  {
   "cell_type": "code",
   "execution_count": 34,
   "metadata": {},
   "outputs": [
    {
     "data": {
      "text/plain": [
       "array([[0.0000000e+00, 0.0000000e+00, 0.0000000e+00, 0.0000000e+00,\n",
       "        0.0000000e+00, 0.0000000e+00, 0.0000000e+00, 0.0000000e+00,\n",
       "        0.0000000e+00, 1.0000000e+00],\n",
       "       [0.0000000e+00, 0.0000000e+00, 1.0000000e+00, 0.0000000e+00,\n",
       "        0.0000000e+00, 0.0000000e+00, 0.0000000e+00, 0.0000000e+00,\n",
       "        0.0000000e+00, 0.0000000e+00],\n",
       "       [0.0000000e+00, 1.0000000e+00, 0.0000000e+00, 0.0000000e+00,\n",
       "        0.0000000e+00, 0.0000000e+00, 0.0000000e+00, 0.0000000e+00,\n",
       "        0.0000000e+00, 0.0000000e+00],\n",
       "       [0.0000000e+00, 1.0000000e+00, 0.0000000e+00, 0.0000000e+00,\n",
       "        0.0000000e+00, 0.0000000e+00, 0.0000000e+00, 0.0000000e+00,\n",
       "        0.0000000e+00, 0.0000000e+00],\n",
       "       [1.6529056e-19, 0.0000000e+00, 0.0000000e+00, 0.0000000e+00,\n",
       "        0.0000000e+00, 0.0000000e+00, 1.0000000e+00, 0.0000000e+00,\n",
       "        0.0000000e+00, 0.0000000e+00],\n",
       "       [0.0000000e+00, 1.0000000e+00, 0.0000000e+00, 0.0000000e+00,\n",
       "        0.0000000e+00, 0.0000000e+00, 0.0000000e+00, 0.0000000e+00,\n",
       "        0.0000000e+00, 0.0000000e+00],\n",
       "       [0.0000000e+00, 0.0000000e+00, 0.0000000e+00, 0.0000000e+00,\n",
       "        1.0000000e+00, 0.0000000e+00, 0.0000000e+00, 0.0000000e+00,\n",
       "        0.0000000e+00, 0.0000000e+00],\n",
       "       [0.0000000e+00, 0.0000000e+00, 0.0000000e+00, 0.0000000e+00,\n",
       "        0.0000000e+00, 0.0000000e+00, 1.0000000e+00, 0.0000000e+00,\n",
       "        0.0000000e+00, 0.0000000e+00],\n",
       "       [0.0000000e+00, 0.0000000e+00, 0.0000000e+00, 0.0000000e+00,\n",
       "        0.0000000e+00, 1.0000000e+00, 0.0000000e+00, 0.0000000e+00,\n",
       "        0.0000000e+00, 0.0000000e+00],\n",
       "       [0.0000000e+00, 0.0000000e+00, 0.0000000e+00, 0.0000000e+00,\n",
       "        0.0000000e+00, 0.0000000e+00, 0.0000000e+00, 1.0000000e+00,\n",
       "        0.0000000e+00, 0.0000000e+00]], dtype=float32)"
      ]
     },
     "execution_count": 34,
     "metadata": {},
     "output_type": "execute_result"
    }
   ],
   "source": [
    "X_new = X_test[:10]\n",
    "y_proba = model.predict(X_new)\n",
    "y_proba"
   ]
  },
  {
   "cell_type": "code",
   "execution_count": 35,
   "metadata": {},
   "outputs": [
    {
     "data": {
      "text/plain": [
       "array([9, 2, 1, 1, 6, 1, 4, 6, 5, 7])"
      ]
     },
     "execution_count": 35,
     "metadata": {},
     "output_type": "execute_result"
    }
   ],
   "source": [
    "y_pred = model.predict_classes(X_new)\n",
    "y_pred"
   ]
  },
  {
   "cell_type": "code",
   "execution_count": 36,
   "metadata": {},
   "outputs": [
    {
     "data": {
      "text/plain": [
       "array(['Ankle boot', 'Pullover', 'Trouser', 'Trouser', 'Shirt', 'Trouser',\n",
       "       'Coat', 'Shirt', 'Sandal', 'Sneaker'], dtype='<U11')"
      ]
     },
     "execution_count": 36,
     "metadata": {},
     "output_type": "execute_result"
    }
   ],
   "source": [
    "np.array(class_names)[y_pred]"
   ]
  },
  {
   "cell_type": "code",
   "execution_count": 37,
   "metadata": {},
   "outputs": [
    {
     "data": {
      "text/plain": [
       "array([9, 2, 1, 1, 6, 1, 4, 6, 5, 7], dtype=uint8)"
      ]
     },
     "execution_count": 37,
     "metadata": {},
     "output_type": "execute_result"
    }
   ],
   "source": [
    "y_new = y_test[:10]\n",
    "y_new"
   ]
  },
  {
   "cell_type": "code",
   "execution_count": 38,
   "metadata": {},
   "outputs": [
    {
     "data": {
      "image/png": "[encoded data removed]",
      "text/plain": [
       "<Figure size 432x432 with 10 Axes>"
      ]
     },
     "metadata": {},
     "output_type": "display_data"
    }
   ],
   "source": [
    "plt.figure(figsize=(6,6))\n",
    "\n",
    "for i in range(len(X_new)):\n",
    "    plt.subplot(5, 5, i+1)\n",
    "    plt.xticks([])\n",
    "    plt.yticks([])\n",
    "    plt.grid(False)\n",
    "    plt.imshow(X_new[i], cmap=plt.cm.binary)\n",
    "    plt.xlabel(class_names[y_pred[i]])\n",
    "plt.tight_layout()"
   ]
  },
  {
   "cell_type": "markdown",
   "metadata": {},
   "source": [
    "## Building a Regression MLP Using the Sequantial API"
   ]
  },
  {
   "cell_type": "code",
   "execution_count": 39,
   "metadata": {},
   "outputs": [],
   "source": [
    "from sklearn.datasets import fetch_california_housing\n",
    "from sklearn.model_selection import train_test_split\n",
    "from sklearn.preprocessing import StandardScaler"
   ]
  },
  {
   "cell_type": "code",
   "execution_count": 40,
   "metadata": {},
   "outputs": [],
   "source": [
    "housing = fetch_california_housing()\n",
    "\n",
    "X_housing_train_full, X_housing_test, y_housing_train_full, y_housing_test = train_test_split(housing.data, housing.target)"
   ]
  },
  {
   "cell_type": "code",
   "execution_count": 41,
   "metadata": {},
   "outputs": [],
   "source": [
    "X_housing_train, X_housing_valid, y_housing_train, y_housing_valid = train_test_split(X_housing_train_full, y_housing_train_full)"
   ]
  },
  {
   "cell_type": "code",
   "execution_count": 42,
   "metadata": {},
   "outputs": [],
   "source": [
    "scaler = StandardScaler()\n",
    "X_housing_train = scaler.fit_transform(X_housing_train)\n",
    "X_housing_valid = scaler.fit_transform(X_housing_valid)\n",
    "X_housing_test = scaler.fit_transform(X_housing_test)"
   ]
  },
  {
   "cell_type": "code",
   "execution_count": 43,
   "metadata": {},
   "outputs": [
    {
     "name": "stdout",
     "output_type": "stream",
     "text": [
      "Train on 11610 samples, validate on 3870 samples\n",
      "Epoch 1/20\n",
      "11610/11610 [==============================] - 1s 60us/sample - loss: 0.8105 - val_loss: 0.6422\n",
      "Epoch 2/20\n",
      "11610/11610 [==============================] - 1s 52us/sample - loss: 0.5458 - val_loss: 0.7733\n",
      "Epoch 3/20\n",
      "11610/11610 [==============================] - 1s 49us/sample - loss: 0.5161 - val_loss: 0.4566\n",
      "Epoch 4/20\n",
      "11610/11610 [==============================] - 1s 50us/sample - loss: 0.4443 - val_loss: 0.4355\n",
      "Epoch 5/20\n",
      "11610/11610 [==============================] - 1s 49us/sample - loss: 0.4316 - val_loss: 0.4274\n",
      "Epoch 6/20\n",
      "11610/11610 [==============================] - 1s 48us/sample - loss: 0.4223 - val_loss: 0.4141\n",
      "Epoch 7/20\n",
      "11610/11610 [==============================] - 1s 48us/sample - loss: 0.4137 - val_loss: 0.4053\n",
      "Epoch 8/20\n",
      "11610/11610 [==============================] - 1s 48us/sample - loss: 0.4079 - val_loss: 0.4074\n",
      "Epoch 9/20\n",
      "11610/11610 [==============================] - 1s 49us/sample - loss: 0.4035 - val_loss: 0.3983\n",
      "Epoch 10/20\n",
      "11610/11610 [==============================] - 1s 49us/sample - loss: 0.3983 - val_loss: 0.3894\n",
      "Epoch 11/20\n",
      "11610/11610 [==============================] - 1s 50us/sample - loss: 0.3954 - val_loss: 0.3866\n",
      "Epoch 12/20\n",
      "11610/11610 [==============================] - 1s 49us/sample - loss: 0.3914 - val_loss: 0.3900\n",
      "Epoch 13/20\n",
      "11610/11610 [==============================] - 1s 48us/sample - loss: 0.3881 - val_loss: 0.3821\n",
      "Epoch 14/20\n",
      "11610/11610 [==============================] - 1s 47us/sample - loss: 0.3864 - val_loss: 0.3797\n",
      "Epoch 15/20\n",
      "11610/11610 [==============================] - 1s 49us/sample - loss: 0.3826 - val_loss: 0.3797\n",
      "Epoch 16/20\n",
      "11610/11610 [==============================] - 1s 48us/sample - loss: 0.3808 - val_loss: 0.3816\n",
      "Epoch 17/20\n",
      "11610/11610 [==============================] - 1s 49us/sample - loss: 0.3778 - val_loss: 0.3767\n",
      "Epoch 18/20\n",
      "11610/11610 [==============================] - 1s 49us/sample - loss: 0.3760 - val_loss: 0.4248\n",
      "Epoch 19/20\n",
      "11610/11610 [==============================] - 1s 49us/sample - loss: 0.3830 - val_loss: 0.3755\n",
      "Epoch 20/20\n",
      "11610/11610 [==============================] - 1s 50us/sample - loss: 0.3722 - val_loss: 0.3822\n"
     ]
    }
   ],
   "source": [
    "model = keras.Sequential([\n",
    "    keras.layers.Dense(30, activation=\"relu\", input_shape=X_housing_train.shape[1:]),\n",
    "    keras.layers.Dense(1)\n",
    "])\n",
    "\n",
    "model.compile(loss=\"mse\", optimizer=\"sgd\")\n",
    "\n",
    "history = model.fit(X_housing_train, y_housing_train, epochs=20, validation_data=(X_housing_valid, y_housing_valid))"
   ]
  },
  {
   "cell_type": "code",
   "execution_count": 44,
   "metadata": {},
   "outputs": [
    {
     "name": "stdout",
     "output_type": "stream",
     "text": [
      "5160/5160 [==============================] - 0s 24us/sample - loss: 2.5590\n"
     ]
    },
    {
     "data": {
      "text/plain": [
       "2.5590344264525777"
      ]
     },
     "execution_count": 44,
     "metadata": {},
     "output_type": "execute_result"
    }
   ],
   "source": [
    "mse_test = model.evaluate(X_housing_test, y_housing_test)\n",
    "mse_test"
   ]
  },
  {
   "cell_type": "code",
   "execution_count": 45,
   "metadata": {},
   "outputs": [],
   "source": [
    "X_housing_new = X_housing_test[:3]"
   ]
  },
  {
   "cell_type": "code",
   "execution_count": 46,
   "metadata": {},
   "outputs": [],
   "source": [
    "y_housing_pred = model.predict(X_housing_new)"
   ]
  },
  {
   "cell_type": "code",
   "execution_count": 47,
   "metadata": {},
   "outputs": [
    {
     "data": {
      "text/plain": [
       "array([[0.4328425 ],\n",
       "       [5.2231345 ],\n",
       "       [0.55817753]], dtype=float32)"
      ]
     },
     "execution_count": 47,
     "metadata": {},
     "output_type": "execute_result"
    }
   ],
   "source": [
    "y_housing_pred"
   ]
  },
  {
   "cell_type": "code",
   "execution_count": 48,
   "metadata": {},
   "outputs": [
    {
     "data": {
      "text/plain": [
       "array([0.543, 3.242, 0.832])"
      ]
     },
     "execution_count": 48,
     "metadata": {},
     "output_type": "execute_result"
    }
   ],
   "source": [
    "y_housing_test[:3]"
   ]
  },
  {
   "cell_type": "code",
   "execution_count": 51,
   "metadata": {},
   "outputs": [
    {
     "data": {
      "image/png": "[encoded data removed]",
      "text/plain": [
       "<Figure size 1440x720 with 1 Axes>"
      ]
     },
     "metadata": {
      "needs_background": "light"
     },
     "output_type": "display_data"
    }
   ],
   "source": [
    "import pandas as pd\n",
    "pd.DataFrame(history.history).plot(figsize=(20,10))\n",
    "plt.grid(True)\n",
    "plt.gca().set_ylim(0, 1)\n",
    "plt.show()"
   ]
  },
  {
   "cell_type": "markdown",
   "metadata": {},
   "source": [
    "## Complex models using the functional API"
   ]
  },
  {
   "cell_type": "markdown",
   "metadata": {},
   "source": [
    "* Same input"
   ]
  },
  {
   "cell_type": "code",
   "execution_count": 56,
   "metadata": {},
   "outputs": [],
   "source": [
    "input_ = keras.layers.Input(shape=X_housing_train.shape[1:])\n",
    "hidden1 = keras.layers.Dense(30, activation=\"relu\")(input_)\n",
    "hidden2 = keras.layers.Dense(30, activation=\"relu\")(hidden1)\n",
    "concat = keras.layers.Concatenate()([input_, hidden2])\n",
    "output = keras.layers.Dense(1)(concat)\n",
    "model = keras.Model(inputs=[input_], outputs=[output])"
   ]
  },
  {
   "cell_type": "markdown",
   "metadata": {},
   "source": [
    "* Different inputs"
   ]
  },
  {
   "cell_type": "code",
   "execution_count": 57,
   "metadata": {},
   "outputs": [],
   "source": [
    "input_A = keras.layers.Input(shape=[5], name=\"wide_input\")\n",
    "input_B = keras.layers.Input(shape=[6], name=\"deep_input\")\n",
    "hidden1 = keras.layers.Dense(30, activation=\"relu\")(input_B)\n",
    "hidden2 = keras.layers.Dense(30, activation=\"relu\")(hidden1)\n",
    "concat = keras.layers.Concatenate()([input_A, hidden2])\n",
    "output = keras.layers.Dense(1, name=\"output\")(concat)\n",
    "model = keras.Model(inputs=[input_A, input_B], outputs=[output])"
   ]
  },
  {
   "cell_type": "code",
   "execution_count": 58,
   "metadata": {},
   "outputs": [
    {
     "data": {
      "image/png": "[encoded data removed]",
      "text/plain": [
       "<IPython.core.display.Image object>"
      ]
     },
     "execution_count": 58,
     "metadata": {},
     "output_type": "execute_result"
    }
   ],
   "source": [
    "keras.utils.plot_model(model)"
   ]
  },
  {
   "cell_type": "code",
   "execution_count": 59,
   "metadata": {},
   "outputs": [
    {
     "name": "stdout",
     "output_type": "stream",
     "text": [
      "Model: \"model_2\"\n",
      "__________________________________________________________________________________________________\n",
      "Layer (type)                    Output Shape         Param #     Connected to                     \n",
      "==================================================================================================\n",
      "deep_input (InputLayer)         [(None, 6)]          0                                            \n",
      "__________________________________________________________________________________________________\n",
      "dense_15 (Dense)                (None, 30)           210         deep_input[0][0]                 \n",
      "__________________________________________________________________________________________________\n",
      "wide_input (InputLayer)         [(None, 5)]          0                                            \n",
      "__________________________________________________________________________________________________\n",
      "dense_16 (Dense)                (None, 30)           930         dense_15[0][0]                   \n",
      "__________________________________________________________________________________________________\n",
      "concatenate_3 (Concatenate)     (None, 35)           0           wide_input[0][0]                 \n",
      "                                                                 dense_16[0][0]                   \n",
      "__________________________________________________________________________________________________\n",
      "output (Dense)                  (None, 1)            36          concatenate_3[0][0]              \n",
      "==================================================================================================\n",
      "Total params: 1,176\n",
      "Trainable params: 1,176\n",
      "Non-trainable params: 0\n",
      "__________________________________________________________________________________________________\n"
     ]
    }
   ],
   "source": [
    "model.summary()"
   ]
  },
  {
   "cell_type": "code",
   "execution_count": 60,
   "metadata": {},
   "outputs": [],
   "source": [
    "model.compile(loss=\"mse\", optimizer=keras.optimizers.SGD(lr=1e-3))"
   ]
  },
  {
   "cell_type": "code",
   "execution_count": 62,
   "metadata": {},
   "outputs": [
    {
     "data": {
      "text/plain": [
       "(11610, 8)"
      ]
     },
     "execution_count": 62,
     "metadata": {},
     "output_type": "execute_result"
    }
   ],
   "source": [
    "X_housing_train.shape"
   ]
  },
  {
   "cell_type": "code",
   "execution_count": 63,
   "metadata": {},
   "outputs": [],
   "source": [
    "X_train_A, X_train_B = X_housing_train[:, :5], X_housing_train[:,2:] #5 for one(wide) and 6 for the other(deep)"
   ]
  },
  {
   "cell_type": "code",
   "execution_count": 64,
   "metadata": {},
   "outputs": [],
   "source": [
    "X_valid_A, X_valid_B = X_housing_valid[:, :5], X_housing_valid[:,2:]"
   ]
  },
  {
   "cell_type": "code",
   "execution_count": 65,
   "metadata": {},
   "outputs": [],
   "source": [
    "X_test_A, X_test_B = X_housing_test[:,:5], X_housing_test[:,2:]"
   ]
  },
  {
   "cell_type": "code",
   "execution_count": 66,
   "metadata": {},
   "outputs": [],
   "source": [
    "X_new_A, X_new_B = X_test_A[:3], X_test_B[:3]"
   ]
  },
  {
   "cell_type": "code",
   "execution_count": 67,
   "metadata": {},
   "outputs": [
    {
     "name": "stdout",
     "output_type": "stream",
     "text": [
      "Train on 11610 samples, validate on 3870 samples\n",
      "Epoch 1/20\n",
      "11610/11610 [==============================] - 1s 73us/sample - loss: 2.4694 - val_loss: 1.1532\n",
      "Epoch 2/20\n",
      "11610/11610 [==============================] - 1s 58us/sample - loss: 0.9444 - val_loss: 0.8197\n",
      "Epoch 3/20\n",
      "11610/11610 [==============================] - 1s 58us/sample - loss: 0.7508 - val_loss: 0.7101\n",
      "Epoch 4/20\n",
      "11610/11610 [==============================] - 1s 58us/sample - loss: 0.6733 - val_loss: 0.6590\n",
      "Epoch 5/20\n",
      "11610/11610 [==============================] - 1s 58us/sample - loss: 0.6292 - val_loss: 0.6279\n",
      "Epoch 6/20\n",
      "11610/11610 [==============================] - 1s 59us/sample - loss: 0.6007 - val_loss: 0.6065\n",
      "Epoch 7/20\n",
      "11610/11610 [==============================] - 1s 58us/sample - loss: 0.5797 - val_loss: 0.5901\n",
      "Epoch 8/20\n",
      "11610/11610 [==============================] - 1s 58us/sample - loss: 0.5640 - val_loss: 0.5763\n",
      "Epoch 9/20\n",
      "11610/11610 [==============================] - 1s 62us/sample - loss: 0.5518 - val_loss: 0.5672\n",
      "Epoch 10/20\n",
      "11610/11610 [==============================] - 1s 58us/sample - loss: 0.5416 - val_loss: 0.5586\n",
      "Epoch 11/20\n",
      "11610/11610 [==============================] - 1s 59us/sample - loss: 0.5333 - val_loss: 0.5514\n",
      "Epoch 12/20\n",
      "11610/11610 [==============================] - 1s 59us/sample - loss: 0.5262 - val_loss: 0.5456\n",
      "Epoch 13/20\n",
      "11610/11610 [==============================] - 1s 58us/sample - loss: 0.5202 - val_loss: 0.5401\n",
      "Epoch 14/20\n",
      "11610/11610 [==============================] - 1s 58us/sample - loss: 0.5150 - val_loss: 0.5358\n",
      "Epoch 15/20\n",
      "11610/11610 [==============================] - 1s 59us/sample - loss: 0.5104 - val_loss: 0.5322\n",
      "Epoch 16/20\n",
      "11610/11610 [==============================] - 1s 60us/sample - loss: 0.5063 - val_loss: 0.5270\n",
      "Epoch 17/20\n",
      "11610/11610 [==============================] - 1s 60us/sample - loss: 0.5026 - val_loss: 0.5236\n",
      "Epoch 18/20\n",
      "11610/11610 [==============================] - 1s 62us/sample - loss: 0.4991 - val_loss: 0.5209\n",
      "Epoch 19/20\n",
      "11610/11610 [==============================] - 1s 57us/sample - loss: 0.4961 - val_loss: 0.5165\n",
      "Epoch 20/20\n",
      "11610/11610 [==============================] - 1s 59us/sample - loss: 0.4933 - val_loss: 0.5135\n",
      "5160/5160 [==============================] - 0s 30us/sample - loss: 0.4857\n"
     ]
    }
   ],
   "source": [
    "history = model.fit((X_train_A, X_train_B), y_housing_train, epochs=20,\n",
    "                   validation_data=((X_valid_A, X_valid_B), y_housing_valid))\n",
    "\n",
    "mse_test = model.evaluate((X_test_A, X_test_B), y_housing_test)\n",
    "\n",
    "y_pred = model.predict((X_new_A, X_new_B))"
   ]
  },
  {
   "cell_type": "code",
   "execution_count": 68,
   "metadata": {},
   "outputs": [
    {
     "data": {
      "image/png": "[encoded data removed]",
      "text/plain": [
       "<Figure size 1440x720 with 1 Axes>"
      ]
     },
     "metadata": {
      "needs_background": "light"
     },
     "output_type": "display_data"
    }
   ],
   "source": [
    "import pandas as pd\n",
    "pd.DataFrame(history.history).plot(figsize=(20,10))\n",
    "plt.grid(True)\n",
    "plt.gca().set_ylim(0, 1)\n",
    "plt.show()"
   ]
  },
  {
   "cell_type": "markdown",
   "metadata": {},
   "source": [
    "* Learning quite well"
   ]
  },
  {
   "cell_type": "markdown",
   "metadata": {},
   "source": [
    "## More than one output"
   ]
  },
  {
   "cell_type": "code",
   "execution_count": 69,
   "metadata": {},
   "outputs": [],
   "source": [
    "input_A = keras.layers.Input(shape=[5], name=\"wide_input\")\n",
    "input_B = keras.layers.Input(shape=[6], name=\"deep_input\")\n",
    "hidden1 = keras.layers.Dense(30, activation=\"relu\")(input_B)\n",
    "hidden2 = keras.layers.Dense(30, activation=\"relu\")(hidden1)\n",
    "concat = keras.layers.Concatenate()([input_A, hidden2])\n",
    "output = keras.layers.Dense(1, name=\"output\")(concat)\n",
    "aux_output = keras.layers.Dense(1, name=\"aux_output\")(hidden2)\n",
    "model = keras.Model(inputs=[input_A, input_B], outputs=[output, aux_output])"
   ]
  },
  {
   "cell_type": "code",
   "execution_count": 70,
   "metadata": {},
   "outputs": [
    {
     "data": {
      "image/png": "[encoded data removed]",
      "text/plain": [
       "<IPython.core.display.Image object>"
      ]
     },
     "execution_count": 70,
     "metadata": {},
     "output_type": "execute_result"
    }
   ],
   "source": [
    "keras.utils.plot_model(model)"
   ]
  },
  {
   "cell_type": "code",
   "execution_count": 71,
   "metadata": {
    "scrolled": false
   },
   "outputs": [
    {
     "name": "stdout",
     "output_type": "stream",
     "text": [
      "Model: \"model_3\"\n",
      "__________________________________________________________________________________________________\n",
      "Layer (type)                    Output Shape         Param #     Connected to                     \n",
      "==================================================================================================\n",
      "deep_input (InputLayer)         [(None, 6)]          0                                            \n",
      "__________________________________________________________________________________________________\n",
      "dense_17 (Dense)                (None, 30)           210         deep_input[0][0]                 \n",
      "__________________________________________________________________________________________________\n",
      "wide_input (InputLayer)         [(None, 5)]          0                                            \n",
      "__________________________________________________________________________________________________\n",
      "dense_18 (Dense)                (None, 30)           930         dense_17[0][0]                   \n",
      "__________________________________________________________________________________________________\n",
      "concatenate_4 (Concatenate)     (None, 35)           0           wide_input[0][0]                 \n",
      "                                                                 dense_18[0][0]                   \n",
      "__________________________________________________________________________________________________\n",
      "output (Dense)                  (None, 1)            36          concatenate_4[0][0]              \n",
      "__________________________________________________________________________________________________\n",
      "aux_output (Dense)              (None, 1)            31          dense_18[0][0]                   \n",
      "==================================================================================================\n",
      "Total params: 1,207\n",
      "Trainable params: 1,207\n",
      "Non-trainable params: 0\n",
      "__________________________________________________________________________________________________\n"
     ]
    }
   ],
   "source": [
    "model.summary()"
   ]
  },
  {
   "cell_type": "code",
   "execution_count": 72,
   "metadata": {},
   "outputs": [],
   "source": [
    "model.compile(loss=[\"mse\", \"mse\"], loss_weights=[0.9, 0.1], optimizer=keras.optimizers.SGD(lr=1e-3)) #we are wputting weighs cause we care more about the main output"
   ]
  },
  {
   "cell_type": "code",
   "execution_count": 74,
   "metadata": {
    "scrolled": true
   },
   "outputs": [
    {
     "name": "stdout",
     "output_type": "stream",
     "text": [
      "Train on 11610 samples, validate on 3870 samples\n",
      "Epoch 1/20\n",
      "11610/11610 [==============================] - 1s 119us/sample - loss: 5.1731 - output_loss: 2.4761 - aux_output_loss: 2.6957 - val_loss: 2.5383 - val_output_loss: 1.1265 - val_aux_output_loss: 1.4120\n",
      "Epoch 2/20\n",
      "11610/11610 [==============================] - 1s 76us/sample - loss: 2.1674 - output_loss: 0.8864 - aux_output_loss: 1.2809 - val_loss: 1.8998 - val_output_loss: 0.7508 - val_aux_output_loss: 1.1492\n",
      "Epoch 3/20\n",
      "11610/11610 [==============================] - 1s 77us/sample - loss: 1.7963 - output_loss: 0.6861 - aux_output_loss: 1.1104 - val_loss: 1.6774 - val_output_loss: 0.6511 - val_aux_output_loss: 1.0265\n",
      "Epoch 4/20\n",
      "11610/11610 [==============================] - 1s 76us/sample - loss: 1.6059 - output_loss: 0.6139 - aux_output_loss: 0.9919 - val_loss: 1.5149 - val_output_loss: 0.6008 - val_aux_output_loss: 0.9144\n",
      "Epoch 5/20\n",
      "11610/11610 [==============================] - 1s 76us/sample - loss: 1.4644 - output_loss: 0.5731 - aux_output_loss: 0.8911 - val_loss: 1.3915 - val_output_loss: 0.5687 - val_aux_output_loss: 0.8230\n",
      "Epoch 6/20\n",
      "11610/11610 [==============================] - 1s 76us/sample - loss: 1.3589 - output_loss: 0.5464 - aux_output_loss: 0.8126 - val_loss: 1.3041 - val_output_loss: 0.5464 - val_aux_output_loss: 0.7580\n",
      "Epoch 7/20\n",
      "11610/11610 [==============================] - 1s 75us/sample - loss: 1.2818 - output_loss: 0.5269 - aux_output_loss: 0.7552 - val_loss: 1.2442 - val_output_loss: 0.5307 - val_aux_output_loss: 0.7138\n",
      "Epoch 8/20\n",
      "11610/11610 [==============================] - 1s 74us/sample - loss: 1.2284 - output_loss: 0.5126 - aux_output_loss: 0.7156 - val_loss: 1.2008 - val_output_loss: 0.5182 - val_aux_output_loss: 0.6829\n",
      "Epoch 9/20\n",
      "11610/11610 [==============================] - 1s 74us/sample - loss: 1.1905 - output_loss: 0.5016 - aux_output_loss: 0.6891 - val_loss: 1.1718 - val_output_loss: 0.5094 - val_aux_output_loss: 0.6626\n",
      "Epoch 10/20\n",
      "11610/11610 [==============================] - 1s 74us/sample - loss: 1.1641 - output_loss: 0.4936 - aux_output_loss: 0.6710 - val_loss: 1.1470 - val_output_loss: 0.5002 - val_aux_output_loss: 0.6470\n",
      "Epoch 11/20\n",
      "11610/11610 [==============================] - 1s 75us/sample - loss: 1.1433 - output_loss: 0.4861 - aux_output_loss: 0.6574 - val_loss: 1.1308 - val_output_loss: 0.4941 - val_aux_output_loss: 0.6370\n",
      "Epoch 12/20\n",
      "11610/11610 [==============================] - 1s 73us/sample - loss: 1.1257 - output_loss: 0.4793 - aux_output_loss: 0.6465 - val_loss: 1.1155 - val_output_loss: 0.4882 - val_aux_output_loss: 0.6276\n",
      "Epoch 13/20\n",
      "11610/11610 [==============================] - 1s 75us/sample - loss: 1.1108 - output_loss: 0.4735 - aux_output_loss: 0.6372 - val_loss: 1.1003 - val_output_loss: 0.4824 - val_aux_output_loss: 0.6181\n",
      "Epoch 14/20\n",
      "11610/11610 [==============================] - 1s 75us/sample - loss: 1.0971 - output_loss: 0.4684 - aux_output_loss: 0.6289 - val_loss: 1.0885 - val_output_loss: 0.4779 - val_aux_output_loss: 0.6109\n",
      "Epoch 15/20\n",
      "11610/11610 [==============================] - 1s 76us/sample - loss: 1.0846 - output_loss: 0.4636 - aux_output_loss: 0.6211 - val_loss: 1.0760 - val_output_loss: 0.4731 - val_aux_output_loss: 0.6032\n",
      "Epoch 16/20\n",
      "11610/11610 [==============================] - 1s 75us/sample - loss: 1.0731 - output_loss: 0.4589 - aux_output_loss: 0.6143 - val_loss: 1.0659 - val_output_loss: 0.4691 - val_aux_output_loss: 0.5971\n",
      "Epoch 17/20\n",
      "11610/11610 [==============================] - 1s 76us/sample - loss: 1.0629 - output_loss: 0.4550 - aux_output_loss: 0.6084 - val_loss: 1.0549 - val_output_loss: 0.4647 - val_aux_output_loss: 0.5904\n",
      "Epoch 18/20\n",
      "11610/11610 [==============================] - 1s 76us/sample - loss: 1.0529 - output_loss: 0.4508 - aux_output_loss: 0.6019 - val_loss: 1.0480 - val_output_loss: 0.4622 - val_aux_output_loss: 0.5860\n",
      "Epoch 19/20\n",
      "11610/11610 [==============================] - 1s 74us/sample - loss: 1.0440 - output_loss: 0.4480 - aux_output_loss: 0.5960 - val_loss: 1.0342 - val_output_loss: 0.4564 - val_aux_output_loss: 0.5780\n",
      "Epoch 20/20\n",
      "11610/11610 [==============================] - 1s 74us/sample - loss: 1.0354 - output_loss: 0.4445 - aux_output_loss: 0.5910 - val_loss: 1.0269 - val_output_loss: 0.4541 - val_aux_output_loss: 0.5731\n",
      "5160/5160 [==============================] - 0s 38us/sample - loss: 1.8130 - output_loss: 0.6584 - aux_output_loss: 1.1494\n"
     ]
    }
   ],
   "source": [
    "history = model.fit((X_train_A, X_train_B), [y_housing_train, y_housing_train], epochs=20,\n",
    "                   validation_data=((X_valid_A, X_valid_B), [y_housing_valid, y_housing_valid]))\n",
    "\n",
    "mse_test = model.evaluate((X_test_A, X_test_B), [y_housing_test, y_housing_test])"
   ]
  },
  {
   "cell_type": "code",
   "execution_count": 68,
   "metadata": {
    "scrolled": false
   },
   "outputs": [
    {
     "data": {
      "image/png": "[encoded data removed]",
      "text/plain": [
       "<Figure size 1440x720 with 1 Axes>"
      ]
     },
     "metadata": {
      "needs_background": "light"
     },
     "output_type": "display_data"
    }
   ],
   "source": [
    "import pandas as pd\n",
    "pd.DataFrame(history.history).plot(figsize=(20,10))\n",
    "plt.grid(True)\n",
    "plt.gca().set_ylim(0, 1)\n",
    "plt.show()"
   ]
  },
  {
   "cell_type": "code",
   "execution_count": 75,
   "metadata": {},
   "outputs": [],
   "source": [
    "y_pred_main, y_pred_aux = model.predict((X_new_A, X_new_B))"
   ]
  },
  {
   "cell_type": "code",
   "execution_count": 76,
   "metadata": {},
   "outputs": [
    {
     "data": {
      "text/plain": [
       "array([0.543, 3.242, 0.832])"
      ]
     },
     "execution_count": 76,
     "metadata": {},
     "output_type": "execute_result"
    }
   ],
   "source": [
    "y_housing_test[:3]"
   ]
  },
  {
   "cell_type": "code",
   "execution_count": 77,
   "metadata": {},
   "outputs": [
    {
     "data": {
      "text/plain": [
       "array([[-0.2646203],\n",
       "       [ 3.1741061],\n",
       "       [ 0.3160378]], dtype=float32)"
      ]
     },
     "execution_count": 77,
     "metadata": {},
     "output_type": "execute_result"
    }
   ],
   "source": [
    "y_pred_main"
   ]
  },
  {
   "cell_type": "code",
   "execution_count": 78,
   "metadata": {},
   "outputs": [
    {
     "data": {
      "text/plain": [
       "array([[0.49926946],\n",
       "       [3.595243  ],\n",
       "       [0.68114346]], dtype=float32)"
      ]
     },
     "execution_count": 78,
     "metadata": {},
     "output_type": "execute_result"
    }
   ],
   "source": [
    "y_pred_aux"
   ]
  },
  {
   "cell_type": "markdown",
   "metadata": {},
   "source": [
    "## Usin the subclassing API to build dynamic models"
   ]
  },
  {
   "cell_type": "code",
   "execution_count": 80,
   "metadata": {},
   "outputs": [],
   "source": [
    "class wideAndDeepModel(keras.Model):\n",
    "    def __init__(self, units=30, activation=\"relu\", **kwargs):\n",
    "        super().__init__(**kwargs)\n",
    "        self.hidden1 = keras.layers.Dense(units, activation=activation)\n",
    "        self.hidden2 = keras.layers.Dense(units, activation=activation)\n",
    "        self.main_output = keras.layers.Dense(1)\n",
    "        self.aux_output = keras.layers.Dense(1)\n",
    "        \n",
    "    def call(self, inputs):\n",
    "        input_A, input_B = inputs\n",
    "        hidden1 = self.hidden1(input_B)\n",
    "        hidden2 = self.hidden2(hidden1)\n",
    "        concat = keras.layers.concatenate([input_A, hidden2])\n",
    "        main_output = self.main_output(concat)\n",
    "        aux_output = self.aux_output(hidden2)\n",
    "        return main_output, aux_output"
   ]
  },
  {
   "cell_type": "code",
   "execution_count": 81,
   "metadata": {},
   "outputs": [],
   "source": [
    "model = wideAndDeepModel()"
   ]
  },
  {
   "cell_type": "code",
   "execution_count": 82,
   "metadata": {},
   "outputs": [
    {
     "name": "stdout",
     "output_type": "stream",
     "text": [
      "WARNING:tensorflow:Layer dense_19 is casting an input tensor from dtype float64 to the layer's dtype of float32, which is new behavior in TensorFlow 2.  The layer has dtype float32 because it's dtype defaults to floatx.\n",
      "\n",
      "If you intended to run this layer in float32, you can safely ignore this warning. If in doubt, this warning is likely only an issue if you are porting a TensorFlow 1.X model to TensorFlow 2.\n",
      "\n",
      "To change all layers to have dtype float64 by default, call `tf.keras.backend.set_floatx('float64')`. To change just this layer, pass dtype='float64' to the layer constructor. If you are the author of this layer, you can disable autocasting by passing autocast=False to the base Layer constructor.\n",
      "\n",
      "WARNING:tensorflow:Layer concatenate_5 is casting an input tensor from dtype float64 to the layer's dtype of float32, which is new behavior in TensorFlow 2.  The layer has dtype float32 because it's dtype defaults to floatx.\n",
      "\n",
      "If you intended to run this layer in float32, you can safely ignore this warning. If in doubt, this warning is likely only an issue if you are porting a TensorFlow 1.X model to TensorFlow 2.\n",
      "\n",
      "To change all layers to have dtype float64 by default, call `tf.keras.backend.set_floatx('float64')`. To change just this layer, pass dtype='float64' to the layer constructor. If you are the author of this layer, you can disable autocasting by passing autocast=False to the base Layer constructor.\n",
      "\n"
     ]
    },
    {
     "data": {
      "text/plain": [
       "(<tf.Tensor: shape=(11610, 1), dtype=float32, numpy=\n",
       " array([[ 0.28573805],\n",
       "        [-0.6206971 ],\n",
       "        [ 0.16999248],\n",
       "        ...,\n",
       "        [ 0.12648667],\n",
       "        [ 0.11074391],\n",
       "        [ 0.7964167 ]], dtype=float32)>,\n",
       " <tf.Tensor: shape=(11610, 1), dtype=float32, numpy=\n",
       " array([[0.14014816],\n",
       "        [0.17748675],\n",
       "        [0.06584284],\n",
       "        ...,\n",
       "        [0.07624594],\n",
       "        [0.17464575],\n",
       "        [0.05761033]], dtype=float32)>)"
      ]
     },
     "execution_count": 82,
     "metadata": {},
     "output_type": "execute_result"
    }
   ],
   "source": [
    "model.call((X_train_A, X_train_B))"
   ]
  },
  {
   "cell_type": "code",
   "execution_count": 83,
   "metadata": {
    "scrolled": true
   },
   "outputs": [
    {
     "data": {
      "image/png": "[encoded data removed]",
      "text/plain": [
       "<IPython.core.display.Image object>"
      ]
     },
     "execution_count": 83,
     "metadata": {},
     "output_type": "execute_result"
    }
   ],
   "source": [
    "keras.utils.plot_model(model)"
   ]
  },
  {
   "cell_type": "code",
   "execution_count": 84,
   "metadata": {},
   "outputs": [],
   "source": [
    "model.compile(loss=[\"mse\", \"mse\"], loss_weights=[0.9, 0.1], optimizer=keras.optimizers.SGD(lr=1e-3)) #we are wputting weighs cause we care more about the main output"
   ]
  },
  {
   "cell_type": "code",
   "execution_count": 85,
   "metadata": {
    "scrolled": false
   },
   "outputs": [
    {
     "name": "stdout",
     "output_type": "stream",
     "text": [
      "Train on 11610 samples, validate on 3870 samples\n",
      "Epoch 1/20\n",
      "11610/11610 [==============================] - 1s 98us/sample - loss: 2.5138 - output_1_loss: 2.3836 - output_2_loss: 3.6780 - val_loss: 1.1276 - val_output_1_loss: 0.9564 - val_output_2_loss: 2.6697\n",
      "Epoch 2/20\n",
      "11610/11610 [==============================] - 1s 76us/sample - loss: 0.9195 - output_1_loss: 0.7735 - output_2_loss: 2.2344 - val_loss: 0.7663 - val_output_1_loss: 0.6380 - val_output_2_loss: 1.9213\n",
      "Epoch 3/20\n",
      "11610/11610 [==============================] - 1s 78us/sample - loss: 0.7197 - output_1_loss: 0.6069 - output_2_loss: 1.7340 - val_loss: 0.6752 - val_output_1_loss: 0.5742 - val_output_2_loss: 1.5850\n",
      "Epoch 4/20\n",
      "11610/11610 [==============================] - 1s 76us/sample - loss: 0.6530 - output_1_loss: 0.5597 - output_2_loss: 1.4906 - val_loss: 0.6362 - val_output_1_loss: 0.5488 - val_output_2_loss: 1.4240\n",
      "Epoch 5/20\n",
      "11610/11610 [==============================] - 1s 77us/sample - loss: 0.6193 - output_1_loss: 0.5362 - output_2_loss: 1.3662 - val_loss: 0.6137 - val_output_1_loss: 0.5345 - val_output_2_loss: 1.3276\n",
      "Epoch 6/20\n",
      "11610/11610 [==============================] - 1s 77us/sample - loss: 0.5996 - output_1_loss: 0.5222 - output_2_loss: 1.2942 - val_loss: 0.5995 - val_output_1_loss: 0.5253 - val_output_2_loss: 1.2687\n",
      "Epoch 7/20\n",
      "11610/11610 [==============================] - 1s 79us/sample - loss: 0.5864 - output_1_loss: 0.5132 - output_2_loss: 1.2478 - val_loss: 0.5890 - val_output_1_loss: 0.5181 - val_output_2_loss: 1.2277\n",
      "Epoch 8/20\n",
      "11610/11610 [==============================] - 1s 77us/sample - loss: 0.5769 - output_1_loss: 0.5061 - output_2_loss: 1.2139 - val_loss: 0.5821 - val_output_1_loss: 0.5139 - val_output_2_loss: 1.1968\n",
      "Epoch 9/20\n",
      "11610/11610 [==============================] - 1s 75us/sample - loss: 0.5694 - output_1_loss: 0.5012 - output_2_loss: 1.1846 - val_loss: 0.5750 - val_output_1_loss: 0.5092 - val_output_2_loss: 1.1675\n",
      "Epoch 10/20\n",
      "11610/11610 [==============================] - 1s 76us/sample - loss: 0.5630 - output_1_loss: 0.4970 - output_2_loss: 1.1581 - val_loss: 0.5691 - val_output_1_loss: 0.5059 - val_output_2_loss: 1.1383\n",
      "Epoch 11/20\n",
      "11610/11610 [==============================] - 1s 77us/sample - loss: 0.5575 - output_1_loss: 0.4935 - output_2_loss: 1.1330 - val_loss: 0.5646 - val_output_1_loss: 0.5037 - val_output_2_loss: 1.1132\n",
      "Epoch 12/20\n",
      "11610/11610 [==============================] - 1s 76us/sample - loss: 0.5526 - output_1_loss: 0.4909 - output_2_loss: 1.1093 - val_loss: 0.5596 - val_output_1_loss: 0.5009 - val_output_2_loss: 1.0885\n",
      "Epoch 13/20\n",
      "11610/11610 [==============================] - 1s 76us/sample - loss: 0.5479 - output_1_loss: 0.4881 - output_2_loss: 1.0856 - val_loss: 0.5559 - val_output_1_loss: 0.4993 - val_output_2_loss: 1.0661\n",
      "Epoch 14/20\n",
      "11610/11610 [==============================] - 1s 73us/sample - loss: 0.5436 - output_1_loss: 0.4858 - output_2_loss: 1.0638 - val_loss: 0.5513 - val_output_1_loss: 0.4968 - val_output_2_loss: 1.0424\n",
      "Epoch 15/20\n",
      "11610/11610 [==============================] - 1s 75us/sample - loss: 0.5396 - output_1_loss: 0.4836 - output_2_loss: 1.0421 - val_loss: 0.5473 - val_output_1_loss: 0.4947 - val_output_2_loss: 1.0217\n",
      "Epoch 16/20\n",
      "11610/11610 [==============================] - 1s 75us/sample - loss: 0.5357 - output_1_loss: 0.4816 - output_2_loss: 1.0224 - val_loss: 0.5445 - val_output_1_loss: 0.4938 - val_output_2_loss: 1.0013\n",
      "Epoch 17/20\n",
      "11610/11610 [==============================] - 1s 75us/sample - loss: 0.5322 - output_1_loss: 0.4799 - output_2_loss: 1.0029 - val_loss: 0.5406 - val_output_1_loss: 0.4916 - val_output_2_loss: 0.9822\n",
      "Epoch 18/20\n",
      "11610/11610 [==============================] - 1s 75us/sample - loss: 0.5287 - output_1_loss: 0.4783 - output_2_loss: 0.9855 - val_loss: 0.5367 - val_output_1_loss: 0.4895 - val_output_2_loss: 0.9618\n",
      "Epoch 19/20\n",
      "11610/11610 [==============================] - 1s 78us/sample - loss: 0.5255 - output_1_loss: 0.4765 - output_2_loss: 0.9668 - val_loss: 0.5338 - val_output_1_loss: 0.4884 - val_output_2_loss: 0.9437\n",
      "Epoch 20/20\n",
      "11610/11610 [==============================] - 1s 74us/sample - loss: 0.5223 - output_1_loss: 0.4748 - output_2_loss: 0.9498 - val_loss: 0.5295 - val_output_1_loss: 0.4856 - val_output_2_loss: 0.9256\n",
      "5160/5160 [==============================] - 0s 37us/sample - loss: 0.5066 - output_1_loss: 0.4588 - output_2_loss: 0.9288\n"
     ]
    }
   ],
   "source": [
    "history = model.fit((X_train_A, X_train_B), [y_housing_train, y_housing_train], epochs=20,\n",
    "                   validation_data=((X_valid_A, X_valid_B), [y_housing_valid, y_housing_valid]))\n",
    "\n",
    "mse_test = model.evaluate((X_test_A, X_test_B), [y_housing_test, y_housing_test])"
   ]
  },
  {
   "cell_type": "code",
   "execution_count": 87,
   "metadata": {},
   "outputs": [
    {
     "name": "stdout",
     "output_type": "stream",
     "text": [
      "Model: \"wide_and_deep_model\"\n",
      "_________________________________________________________________\n",
      "Layer (type)                 Output Shape              Param #   \n",
      "=================================================================\n",
      "dense_19 (Dense)             multiple                  210       \n",
      "_________________________________________________________________\n",
      "dense_20 (Dense)             multiple                  930       \n",
      "_________________________________________________________________\n",
      "dense_21 (Dense)             multiple                  36        \n",
      "_________________________________________________________________\n",
      "dense_22 (Dense)             multiple                  31        \n",
      "=================================================================\n",
      "Total params: 1,207\n",
      "Trainable params: 1,207\n",
      "Non-trainable params: 0\n",
      "_________________________________________________________________\n"
     ]
    }
   ],
   "source": [
    "model.summary()"
   ]
  },
  {
   "cell_type": "code",
   "execution_count": null,
   "metadata": {},
   "outputs": [],
   "source": []
  }
 ],
 "metadata": {
  "kernelspec": {
   "display_name": "Python 3",
   "language": "python",
   "name": "python3"
  },
  "language_info": {
   "codemirror_mode": {
    "name": "ipython",
    "version": 3
   },
   "file_extension": ".py",
   "mimetype": "text/x-python",
   "name": "python",
   "nbconvert_exporter": "python",
   "pygments_lexer": "ipython3",
   "version": "3.7.5"
  }
 },
 "nbformat": 4,
 "nbformat_minor": 2
}
