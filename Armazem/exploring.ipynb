{
 "cells": [
  {
   "cell_type": "code",
   "execution_count": 1,
   "metadata": {},
   "outputs": [],
   "source": [
    "import pandas as pd\n",
    "pd.set_option('display.max_columns', 20)\n",
    "pd.set_option('display.max_rows', 50)"
   ]
  },
  {
   "cell_type": "code",
   "execution_count": 58,
   "metadata": {},
   "outputs": [],
   "source": [
    "df = pd.read_csv(\"13.csv\", index_col=0)"
   ]
  },
  {
   "cell_type": "code",
   "execution_count": 59,
   "metadata": {},
   "outputs": [
    {
     "data": {
      "text/plain": [
       "(1404, 6223)"
      ]
     },
     "execution_count": 59,
     "metadata": {},
     "output_type": "execute_result"
    }
   ],
   "source": [
    "df.shape"
   ]
  },
  {
   "cell_type": "code",
   "execution_count": 4,
   "metadata": {
    "scrolled": false
   },
   "outputs": [
    {
     "data": {
      "text/html": [
       "<div>\n",
       "<style scoped>\n",
       "    .dataframe tbody tr th:only-of-type {\n",
       "        vertical-align: middle;\n",
       "    }\n",
       "\n",
       "    .dataframe tbody tr th {\n",
       "        vertical-align: top;\n",
       "    }\n",
       "\n",
       "    .dataframe thead th {\n",
       "        text-align: right;\n",
       "    }\n",
       "</style>\n",
       "<table border=\"1\" class=\"dataframe\">\n",
       "  <thead>\n",
       "    <tr style=\"text-align: right;\">\n",
       "      <th></th>\n",
       "      <th>ACESSORIO CABO DE FORCA BR 1,80M PRETO M/F C7</th>\n",
       "      <th>ACESSORIO MONOPOD PAU DE SELFIE CABO AMARELO</th>\n",
       "      <th>ACESSORIO MONOPOD PAU DE SELFIE CABO AZUL</th>\n",
       "      <th>ACESSORIO MONOPOD PAU DE SELFIE CABO BRANCO</th>\n",
       "      <th>ACESSORIO MONOPOD PAU DE SELFIE CABO PRETO</th>\n",
       "      <th>ACESSORIO MONOPOD PAU DE SELFIE CABO ROSA</th>\n",
       "      <th>AEREO 120CM 3P CG196 TKA-VERMONT</th>\n",
       "      <th>AEREO 80CM 1P BASCULANTE CG200 TKA-VERMONT</th>\n",
       "      <th>AEREO 80CM 1P.BASCULANTE CG147 TEKA MAD.DEMOL</th>\n",
       "      <th>AEREO CD-211 DUPLO C/NICHO CARV/BR UV</th>\n",
       "      <th>...</th>\n",
       "      <th>ZTE R236 DB</th>\n",
       "      <th>ZTE R260 DB</th>\n",
       "      <th>ZTE R260 GARFIELD DB</th>\n",
       "      <th>ZTE S518 DB</th>\n",
       "      <th>ZTE S518 PRETO TIM</th>\n",
       "      <th>ZTE V821 DB</th>\n",
       "      <th>ZTE X670 MINI DB</th>\n",
       "      <th>ZTE X730 DB</th>\n",
       "      <th>ZTE X850 SMARTPHONE VIVO</th>\n",
       "      <th>ZTE X993 PRETO VERM</th>\n",
       "    </tr>\n",
       "  </thead>\n",
       "  <tbody>\n",
       "    <tr>\n",
       "      <th>2015-01-02</th>\n",
       "      <td>NaN</td>\n",
       "      <td>0.0</td>\n",
       "      <td>0.0</td>\n",
       "      <td>0.0</td>\n",
       "      <td>0.0</td>\n",
       "      <td>0.0</td>\n",
       "      <td>NaN</td>\n",
       "      <td>NaN</td>\n",
       "      <td>NaN</td>\n",
       "      <td>0.0</td>\n",
       "      <td>...</td>\n",
       "      <td>NaN</td>\n",
       "      <td>NaN</td>\n",
       "      <td>0.0</td>\n",
       "      <td>NaN</td>\n",
       "      <td>NaN</td>\n",
       "      <td>0.0</td>\n",
       "      <td>0.0</td>\n",
       "      <td>NaN</td>\n",
       "      <td>0.0</td>\n",
       "      <td>NaN</td>\n",
       "    </tr>\n",
       "    <tr>\n",
       "      <th>2015-01-03</th>\n",
       "      <td>NaN</td>\n",
       "      <td>0.0</td>\n",
       "      <td>0.0</td>\n",
       "      <td>0.0</td>\n",
       "      <td>0.0</td>\n",
       "      <td>0.0</td>\n",
       "      <td>NaN</td>\n",
       "      <td>NaN</td>\n",
       "      <td>NaN</td>\n",
       "      <td>0.0</td>\n",
       "      <td>...</td>\n",
       "      <td>NaN</td>\n",
       "      <td>NaN</td>\n",
       "      <td>0.0</td>\n",
       "      <td>NaN</td>\n",
       "      <td>NaN</td>\n",
       "      <td>0.0</td>\n",
       "      <td>0.0</td>\n",
       "      <td>NaN</td>\n",
       "      <td>0.0</td>\n",
       "      <td>NaN</td>\n",
       "    </tr>\n",
       "    <tr>\n",
       "      <th>2015-01-05</th>\n",
       "      <td>NaN</td>\n",
       "      <td>0.0</td>\n",
       "      <td>0.0</td>\n",
       "      <td>0.0</td>\n",
       "      <td>0.0</td>\n",
       "      <td>0.0</td>\n",
       "      <td>NaN</td>\n",
       "      <td>NaN</td>\n",
       "      <td>NaN</td>\n",
       "      <td>0.0</td>\n",
       "      <td>...</td>\n",
       "      <td>NaN</td>\n",
       "      <td>NaN</td>\n",
       "      <td>0.0</td>\n",
       "      <td>NaN</td>\n",
       "      <td>NaN</td>\n",
       "      <td>0.0</td>\n",
       "      <td>0.0</td>\n",
       "      <td>NaN</td>\n",
       "      <td>0.0</td>\n",
       "      <td>NaN</td>\n",
       "    </tr>\n",
       "    <tr>\n",
       "      <th>2015-01-06</th>\n",
       "      <td>NaN</td>\n",
       "      <td>0.0</td>\n",
       "      <td>0.0</td>\n",
       "      <td>0.0</td>\n",
       "      <td>0.0</td>\n",
       "      <td>0.0</td>\n",
       "      <td>NaN</td>\n",
       "      <td>NaN</td>\n",
       "      <td>NaN</td>\n",
       "      <td>0.0</td>\n",
       "      <td>...</td>\n",
       "      <td>NaN</td>\n",
       "      <td>NaN</td>\n",
       "      <td>0.0</td>\n",
       "      <td>NaN</td>\n",
       "      <td>NaN</td>\n",
       "      <td>0.0</td>\n",
       "      <td>0.0</td>\n",
       "      <td>NaN</td>\n",
       "      <td>0.0</td>\n",
       "      <td>NaN</td>\n",
       "    </tr>\n",
       "    <tr>\n",
       "      <th>2015-01-07</th>\n",
       "      <td>NaN</td>\n",
       "      <td>0.0</td>\n",
       "      <td>0.0</td>\n",
       "      <td>0.0</td>\n",
       "      <td>0.0</td>\n",
       "      <td>0.0</td>\n",
       "      <td>NaN</td>\n",
       "      <td>NaN</td>\n",
       "      <td>NaN</td>\n",
       "      <td>0.0</td>\n",
       "      <td>...</td>\n",
       "      <td>NaN</td>\n",
       "      <td>NaN</td>\n",
       "      <td>0.0</td>\n",
       "      <td>NaN</td>\n",
       "      <td>NaN</td>\n",
       "      <td>0.0</td>\n",
       "      <td>0.0</td>\n",
       "      <td>NaN</td>\n",
       "      <td>0.0</td>\n",
       "      <td>NaN</td>\n",
       "    </tr>\n",
       "  </tbody>\n",
       "</table>\n",
       "<p>5 rows × 6223 columns</p>\n",
       "</div>"
      ],
      "text/plain": [
       "            ACESSORIO CABO DE FORCA BR 1,80M PRETO M/F C7  \\\n",
       "2015-01-02                                            NaN   \n",
       "2015-01-03                                            NaN   \n",
       "2015-01-05                                            NaN   \n",
       "2015-01-06                                            NaN   \n",
       "2015-01-07                                            NaN   \n",
       "\n",
       "            ACESSORIO MONOPOD PAU DE SELFIE CABO AMARELO  \\\n",
       "2015-01-02                                           0.0   \n",
       "2015-01-03                                           0.0   \n",
       "2015-01-05                                           0.0   \n",
       "2015-01-06                                           0.0   \n",
       "2015-01-07                                           0.0   \n",
       "\n",
       "            ACESSORIO MONOPOD PAU DE SELFIE CABO AZUL  \\\n",
       "2015-01-02                                        0.0   \n",
       "2015-01-03                                        0.0   \n",
       "2015-01-05                                        0.0   \n",
       "2015-01-06                                        0.0   \n",
       "2015-01-07                                        0.0   \n",
       "\n",
       "            ACESSORIO MONOPOD PAU DE SELFIE CABO BRANCO  \\\n",
       "2015-01-02                                          0.0   \n",
       "2015-01-03                                          0.0   \n",
       "2015-01-05                                          0.0   \n",
       "2015-01-06                                          0.0   \n",
       "2015-01-07                                          0.0   \n",
       "\n",
       "            ACESSORIO MONOPOD PAU DE SELFIE CABO PRETO  \\\n",
       "2015-01-02                                         0.0   \n",
       "2015-01-03                                         0.0   \n",
       "2015-01-05                                         0.0   \n",
       "2015-01-06                                         0.0   \n",
       "2015-01-07                                         0.0   \n",
       "\n",
       "            ACESSORIO MONOPOD PAU DE SELFIE CABO ROSA  \\\n",
       "2015-01-02                                        0.0   \n",
       "2015-01-03                                        0.0   \n",
       "2015-01-05                                        0.0   \n",
       "2015-01-06                                        0.0   \n",
       "2015-01-07                                        0.0   \n",
       "\n",
       "            AEREO 120CM 3P CG196 TKA-VERMONT  \\\n",
       "2015-01-02                               NaN   \n",
       "2015-01-03                               NaN   \n",
       "2015-01-05                               NaN   \n",
       "2015-01-06                               NaN   \n",
       "2015-01-07                               NaN   \n",
       "\n",
       "            AEREO 80CM 1P BASCULANTE CG200 TKA-VERMONT  \\\n",
       "2015-01-02                                         NaN   \n",
       "2015-01-03                                         NaN   \n",
       "2015-01-05                                         NaN   \n",
       "2015-01-06                                         NaN   \n",
       "2015-01-07                                         NaN   \n",
       "\n",
       "            AEREO 80CM 1P.BASCULANTE CG147 TEKA MAD.DEMOL  \\\n",
       "2015-01-02                                            NaN   \n",
       "2015-01-03                                            NaN   \n",
       "2015-01-05                                            NaN   \n",
       "2015-01-06                                            NaN   \n",
       "2015-01-07                                            NaN   \n",
       "\n",
       "            AEREO CD-211 DUPLO C/NICHO CARV/BR UV  ...  ZTE R236 DB  \\\n",
       "2015-01-02                                    0.0  ...          NaN   \n",
       "2015-01-03                                    0.0  ...          NaN   \n",
       "2015-01-05                                    0.0  ...          NaN   \n",
       "2015-01-06                                    0.0  ...          NaN   \n",
       "2015-01-07                                    0.0  ...          NaN   \n",
       "\n",
       "            ZTE R260 DB  ZTE R260 GARFIELD DB  ZTE S518 DB  \\\n",
       "2015-01-02          NaN                   0.0          NaN   \n",
       "2015-01-03          NaN                   0.0          NaN   \n",
       "2015-01-05          NaN                   0.0          NaN   \n",
       "2015-01-06          NaN                   0.0          NaN   \n",
       "2015-01-07          NaN                   0.0          NaN   \n",
       "\n",
       "            ZTE S518 PRETO TIM  ZTE V821 DB  ZTE X670 MINI DB  ZTE X730 DB  \\\n",
       "2015-01-02                 NaN          0.0               0.0          NaN   \n",
       "2015-01-03                 NaN          0.0               0.0          NaN   \n",
       "2015-01-05                 NaN          0.0               0.0          NaN   \n",
       "2015-01-06                 NaN          0.0               0.0          NaN   \n",
       "2015-01-07                 NaN          0.0               0.0          NaN   \n",
       "\n",
       "            ZTE X850 SMARTPHONE VIVO  ZTE X993 PRETO VERM  \n",
       "2015-01-02                       0.0                  NaN  \n",
       "2015-01-03                       0.0                  NaN  \n",
       "2015-01-05                       0.0                  NaN  \n",
       "2015-01-06                       0.0                  NaN  \n",
       "2015-01-07                       0.0                  NaN  \n",
       "\n",
       "[5 rows x 6223 columns]"
      ]
     },
     "execution_count": 4,
     "metadata": {},
     "output_type": "execute_result"
    }
   ],
   "source": [
    "df.head()"
   ]
  },
  {
   "cell_type": "code",
   "execution_count": 5,
   "metadata": {},
   "outputs": [],
   "source": [
    "df.index = pd.to_datetime(df.index)"
   ]
  },
  {
   "cell_type": "code",
   "execution_count": 6,
   "metadata": {},
   "outputs": [],
   "source": [
    "cols = df.columns.tolist()"
   ]
  },
  {
   "cell_type": "code",
   "execution_count": 7,
   "metadata": {},
   "outputs": [
    {
     "data": {
      "text/plain": [
       "['ACESSORIO CABO DE FORCA BR 1,80M PRETO M/F C7',\n",
       " 'ACESSORIO MONOPOD PAU DE SELFIE CABO AMARELO',\n",
       " 'ACESSORIO MONOPOD PAU DE SELFIE CABO AZUL',\n",
       " 'ACESSORIO MONOPOD PAU DE SELFIE CABO BRANCO',\n",
       " 'ACESSORIO MONOPOD PAU DE SELFIE CABO PRETO',\n",
       " 'ACESSORIO MONOPOD PAU DE SELFIE CABO ROSA',\n",
       " 'AEREO 120CM 3P CG196 TKA-VERMONT',\n",
       " 'AEREO 80CM 1P BASCULANTE CG200 TKA-VERMONT',\n",
       " 'AEREO 80CM 1P.BASCULANTE CG147 TEKA MAD.DEMOL',\n",
       " 'AEREO CD-211 DUPLO C/NICHO CARV/BR UV',\n",
       " 'AEREO CD-211 DUPLO C/NICHO CARV/ONIX UV',\n",
       " 'AEREO CD-212 QUADRADO 612 CARV/BR UV',\n",
       " 'AEREO CD-212 QUADRADO 612 CARV/ONIX UV',\n",
       " 'AEREO CD-214 CANTO MEDIO 612 CARV/BR UV',\n",
       " 'AEREO CD-214 CANTO MEDIO 612 CARV/ONIX UV',\n",
       " 'AEREO CD-218 TRIPLO CARV',\n",
       " 'AEREO GELADEIRA NAPOLI 800X475X305 CARV/BR',\n",
       " 'AEREO GELADEIRA NAPOLI 800X475X305MM BC PT ON',\n",
       " 'AEREO GELADEIRA NAPOLI 800X475X305MM BR/MEL',\n",
       " 'AEREO GELADEIRA NAPOLI 800X475X305MM NOG CH',\n",
       " 'AEREO MEDIO CD229 CARV',\n",
       " 'AEREO TRIPLO NAPOLI 1200MMX900MMX305MM BR/MEL',\n",
       " 'AEREO TRIPLO NAPOLI 1200X900X305MM BC PT ONIX',\n",
       " 'AEREO TRIPLO NAPOLI 1200X900X305MM CARV/BR',\n",
       " 'AEREO TRIPLO NAPOLI 1200X900X305MM NOG CH',\n",
       " 'ALCATEL OT 1041 PTO',\n",
       " 'ALCATEL OT 217 PRETO',\n",
       " 'ALCATEL OT 217 VERMELHO',\n",
       " 'ALCATEL OT 223 DB',\n",
       " 'ALCATEL OT 228 BRANCO TIM',\n",
       " 'ALCATEL OT 236 PTO 3 CHIPS CLARO',\n",
       " 'ALCATEL OT 355 DB VERMELHO',\n",
       " 'ALCATEL OT 358 PRETO',\n",
       " 'ALCATEL OT 819 PRETO',\n",
       " 'ALCATEL OT4007E  PIXI PTO CLARO',\n",
       " 'ALCATEL OT6030 IDOL PRATA',\n",
       " 'ALCATEL OT6030 IDOL ROSA',\n",
       " 'ALTO FALANTE TS1330 BR',\n",
       " 'ALTO FALANTE TS1331',\n",
       " 'ALTO FALANTE TS1731',\n",
       " 'ALTO FALANTE TS1760 BR',\n",
       " 'ALTO FALANTE TS6941',\n",
       " 'ANTENA + RECEPTOR SKY PRE PAGO 60CM PT/CZ',\n",
       " 'ANTENA 1 50 MT MULTIPONTO CENTURY',\n",
       " 'ANTENA 1.70 MT MONOPONTO CENTURY',\n",
       " 'ANTENA 1.70 MT MULTIPONTO CENTURY',\n",
       " 'APARADOR CANDEIAS CARV FENDI',\n",
       " 'APARADOR CANDEIAS CARV PT',\n",
       " 'APARADOR CANDEIAS ETNA PT',\n",
       " 'APARADOR CANDEIAS NOG GRIGIO',\n",
       " 'APARADOR DARQUE ALTO BRILHO AMD PT',\n",
       " 'APARADOR DARQUE ALTO BRILHO CAST FOSCO',\n",
       " 'APARADOR DE PELO BRT 382/15 PHILIPS',\n",
       " 'APARADOR DE PELOS BG-02 CLASSIC GROOM',\n",
       " 'APARADOR DE PELOS HP-6341/05 WALITA',\n",
       " 'APARADOR DE PELOS HP6341/05 WALITA',\n",
       " 'APARADOR DE PELOS MG-3711/15 WALITA',\n",
       " 'APARADOR DE PELOS MG3711/15 WALITA',\n",
       " 'APARADOR DE PELOS QP-2510/10 ONEBLADE',\n",
       " 'APARADOR ESTER CR RT 1,10X0,35 VID INC AT AME',\n",
       " 'APARADOR FORMATO CR RT 1.30X0.45 VID WG',\n",
       " 'APARADOR FORTUNA -I 1,20X0,40 CAST PREM TC-36',\n",
       " 'APARADOR FORTUNA -I 1,20X0,40 CAST PREM TC-37',\n",
       " 'APARADOR FORTUNA -I 1,20X0,40 CHOC FOSC TC-36',\n",
       " 'APARADOR FORTUNA -I 1,20X0,40 CHOC FOSC TC-37',\n",
       " 'APARADOR FORTUNA -I 1,20X0,40 MALBEC FS TC-36',\n",
       " 'APARADOR FRANCINE CR RT 1,10X0,35 VID INC AT',\n",
       " 'APARADOR FRANCINE CR RT 1,10X0,35 VID INC NM',\n",
       " 'APARADOR FRATELO BRANCO',\n",
       " 'APARADOR GRANDA 1,20X0,40 ALTO BRI AMD PT',\n",
       " 'APARADOR GRANDA 1,20X0,40 ALTO BRI CAST FS',\n",
       " 'APARADOR GRANDA 1,20X0,40 ALTO BRI CHOC FS',\n",
       " 'APARADOR GRANDA 1,20X0,40 ALTO BRI GRIS C/PT',\n",
       " 'APARADOR INOVARE ALTO BRILHO PRE AMD PT',\n",
       " 'APARADOR INOVARE CAST F',\n",
       " 'APARADOR MARCELA AMD PT',\n",
       " 'APARADOR MARCELA AMD VERM',\n",
       " 'APARADOR MELISSA AMARELO PATRIMAR',\n",
       " 'APARADOR MELISSA BRANCO PATRIMAR',\n",
       " 'APARADOR MONET 220 09 CAP CAFE',\n",
       " 'APARADOR MONET 220 09 CAPUCCINO PT',\n",
       " 'APARADOR MONET 220 09 PEROLA PT',\n",
       " 'APARADOR MONET CAP WOOD EBANO',\n",
       " 'APARADOR MONET PEROLA WOOD EBANO',\n",
       " 'APARADOR MULTIFUNCIONAL 3X1 DEM AMARELO PATRI',\n",
       " 'APARADOR MULTIFUNCIONAL 3X1 DEM OFF WHITE BR',\n",
       " 'APARADOR MULTIFUNCIONAL 3X1 DEM VERMELHO PATR',\n",
       " 'APARADOR ONIX 1,35X0,35 T.MD C/VD OFF CAST P',\n",
       " 'APARADOR ONIX 1,35X0,35 T.MD C/VD OFF W CHOC',\n",
       " 'APARADOR ONIX 1,35X0,35 T.MD C/VD PT CHOC FS',\n",
       " 'APARADOR PARIS ALTO BRILHO BR',\n",
       " 'APARADOR PARIS ALTO BRILHO CAST FOSCO',\n",
       " 'APARADOR PARIS ALTO BRILHO GRIS',\n",
       " 'APARADOR PARIS ALTO BRILHO MALBECK',\n",
       " 'APARADOR PELOS MULT GROOM 7 EM 1',\n",
       " 'APARADOR SUPREMA ALTO BRILHO BR',\n",
       " 'APARADOR SUPREMA ALTO BRILHO CARV PT',\n",
       " 'APARADOR SUPREMA ALTO BRILHO CAST FOSCO',\n",
       " 'APARADOR SUPREMA ALTO BRILHO CHOC FOSCO',\n",
       " 'APARADOR SUPREMA ALTO BRILHO GRIZ PT',\n",
       " 'APARADOR VIDRO BRANCO 1,20X0,43X0,06',\n",
       " 'APARADOR VIDRO TRANSP.1,20X0,43X0,06',\n",
       " 'APLLE IPHONE 4 8GB BRANCO TIM',\n",
       " 'ARM ACO ANITA BAL SMART IG3G4D 105TL BRA',\n",
       " 'ARM ACO ANITA BAL SMART IG3G4D 105TL PT0',\n",
       " 'ARM ACO BAL CLARA IG3G2 105 PTO',\n",
       " 'ARM ACO CRIATIVA IG3G4 GD 105TL BR',\n",
       " 'ARM ACO CRIATIVA IG3G4 GD 105TL PT',\n",
       " 'ARM ACO CRIATIVA KIT I 3 GD4 105TL MX BRA',\n",
       " 'ARM ACO CRIATIVA KIT I 3V GD4 105TL MX BRA',\n",
       " 'ARM ACO CRIATIVA KIT I 3V GD4 105TL MX PTO',\n",
       " 'ARM ACO ITANEW I3 GD 120 BR MD1 2 2 2',\n",
       " 'ARM ACO ITANEW I31V G4GD 120 PT',\n",
       " 'ARM ACO ITANEW I3V G4 120 BR',\n",
       " 'ARM ACO ITANEW I3V G4 120 PT',\n",
       " 'ARM ACO ITANEW IA BR',\n",
       " 'ARM ACO ITANEW IG1 40 BR',\n",
       " 'ARM ACO ITANEW IG2 80 BR',\n",
       " 'ARM ACO ITANEW IG3 120 BR',\n",
       " 'ARM ACO ITANEW IG3G4 120 BR',\n",
       " 'ARM ACO ITANEW IG3G4 120 PT',\n",
       " 'ARM ACO ITANEW IP2 80 BR',\n",
       " 'ARM ACO ITANEW IP3 120 BR',\n",
       " 'ARM ACO ITANEW IP31V 120 NG BR',\n",
       " 'ARM ACO ITANEW IP31V 120 NG PT',\n",
       " 'ARM ACO ITANEW IPG2 70 BR',\n",
       " 'ARM ACO ITANEW IPL 40 BR',\n",
       " 'ARM ACO ITANEW IPLD 80 BR',\n",
       " 'ARM ACO ITANEW IPLDV 80 NG BR',\n",
       " 'ARM ACO ITANEW IPLDV 80 NG PT',\n",
       " 'ARM ACO ITANEW IPV2 80 BR',\n",
       " 'ARM ACO ITANEW IPV2 80 PT',\n",
       " 'ARM ACO ITANEW IPV3 120 NG BR',\n",
       " 'ARM ACO ITANEW IPV3 120 NG PT',\n",
       " 'ARM ACO LARA CALSS IP3-105 PTO',\n",
       " 'ARM ACO LARA CLASS IG3G2-105 PRETO',\n",
       " 'ARM ACO LARA CLASS IG3G2-105 VERMELHO',\n",
       " 'ARM ACO LARA CLASS IP3-105 VERMELHO',\n",
       " 'ARM ACO LARA CLASS IPH-69 BRANCO',\n",
       " 'ARM ACO LARA CLASS IPH-69 VERMELHO',\n",
       " 'ARM ACO LARA CLASS IPLD-70 MX BRANCO',\n",
       " 'ARM ACO LARA CLASS IPLDV-70 MX BR',\n",
       " 'ARM ACO LARA CLASS IPV3-105 BRANCO',\n",
       " 'ARM ACO LUCE IG3G2-105 AMARELO',\n",
       " 'ARM ACO LUCE IG3G2-105 BRANCO',\n",
       " 'ARM ACO LUCE IG3G2-105 PRETO',\n",
       " 'ARM ACO LUCE IPH-70 BRANCO',\n",
       " 'ARM ACO LUCE IPLDV-70 MX BR/PRETO',\n",
       " 'ARM ACO LUCE IPLDV-70 MX BRA/AMARELO',\n",
       " 'ARM ACO LUCE IPV3-105 AMARELO',\n",
       " 'ARM ACO LUCE IPV3-105 BRANCO',\n",
       " 'ARM ACO LUCE IPV3-105 PRETO',\n",
       " 'ARM ACO MULTILINHAS ICG BR',\n",
       " 'ARM ACO MULTILINHAS INM 70 NG BR',\n",
       " 'ARM ACO ROSE IG3G1-105 BRANCO',\n",
       " 'ARM ACO ROSE KIT I3G1-105 BR/PRETO',\n",
       " 'ARM ACO ROSE KIT I3G1-105 BRANCO',\n",
       " 'ARM DAKAR COZINHA BR',\n",
       " 'ARM JAZZ IG3G2 120 BEGE',\n",
       " 'ARM JAZZ IP2 NCH 120 BEGE',\n",
       " 'ARM JAZZ IPH 70 BEGE',\n",
       " 'ARM JAZZ IPH 70 PT',\n",
       " 'ARM JAZZ IPHM NCH 120 BEGE',\n",
       " 'ARM JAZZ IPLDA FNO 70 BEGE',\n",
       " 'ARM MULTILINHA SUPORTE TALHERES 120 BR',\n",
       " 'ARM MULTILINHA SUPORTE TALHERES 120 SAA',\n",
       " 'ARM SUPREMA IG3G2 120 BR PT LACA',\n",
       " 'ARM VIVACE IA BR',\n",
       " 'ARM VIVACE IA COIMBRA CZ',\n",
       " 'ARM VIVACE IG3G2 120 COIMBRA CZ',\n",
       " 'ARM VIVACE IP2 NCH 120 COIMBRA CZ',\n",
       " 'ARM VIVACE IPH 70 COIMBRA CZ',\n",
       " 'ARM VIVACE IPLDA 70 PRF COIMBRA CZ',\n",
       " 'ARM.BALCAO CANTO C PRAT C TAMP 608 82160 A AM',\n",
       " 'ARM.BALCAO DUPLO 2GAV.TAMPO 608 82211 A',\n",
       " 'ARM.BALCAO DUPLO 2GAV.TAMPO 608 82211 A PR AM',\n",
       " 'ARM.BALCAO DUPLO 2GAV.TAMPO 608 82211 A VD AM',\n",
       " 'ARM.BALCAO TRIPLO 3GAV.EXT.TP 82309 BR NOVITA',\n",
       " 'ARM.BALCAO TRIPLO 3GAV.EXT.TP 82309 TT NOVITA',\n",
       " 'ARM.BALCAO TRIPLO 3GV.TAMPO 608 82238 A AMER',\n",
       " 'ARM.BALCAO TRIPLO 3GV.TAMPO 608 82238 A PR AM',\n",
       " 'ARM.CANTO MEDIO OBLIG PT VID 81143 A PR AMER',\n",
       " 'ARM.CANTONEIRA INTEIRA 86026 A',\n",
       " 'ARM.DUPLO BAIXO 81126 A AMERICA',\n",
       " 'ARM.DUPLO MEDIO 2PT VID 81092 A AMERCIA',\n",
       " 'ARM.DUPLO MEDIO 2PT VID 81092 A PR AMERICA',\n",
       " 'ARM.DUPLO MEDIO 81091 A AMERICA',\n",
       " 'ARM.E FIRME DINAMIC BLACK 0,79 X 1,98 X 37',\n",
       " 'ARM.E FIRME DINAMIC BLACK 0,88 X 1,88 X 37',\n",
       " 'ARM.E FIRME DINAMIC BLACK 1,38 X 1,88 X 37',\n",
       " 'ARM.KIT TRIPLO 3G 3P VD CRI 608 88060 A PR AM',\n",
       " 'ARM.PANELEIRO DUPLO 2PT VID 87089 A PR AMER',\n",
       " 'ARM.PANELEIRO SIMPLES 1PT VID 87039 A PR AME',\n",
       " 'ARM.PANELEIRO SIMPLES PT DIR 87037 A',\n",
       " 'ARM.SIMPLES MEDIO PT DIR VID 81052 A VD AMERC',\n",
       " 'ARM.TRIPLO MEDIO 81129 A AMERICA',\n",
       " 'ARM.TRIPLO MEDIO PT VID 81130 A AMERICA',\n",
       " 'ARM.TRIPLO MEDIO PT VID 81130 A PR AMERICA',\n",
       " 'ARM.TRIPLO MEDIO PT VID. 81130 PT',\n",
       " 'ARMACAO DIA A DIA 0,88',\n",
       " 'ARMACAO DIA A DIA 1,38',\n",
       " 'ARMACAO E FIRME BIO BAMBU 0,88 X 1,88 X 37',\n",
       " 'ARMACAO E FIRME BIO BAMBU 1,38 X 1,88 X 37',\n",
       " 'ARMACAO E FIRME CHIC 0,79 X 1,98 X 37',\n",
       " 'ARMACAO E FIRME CHIC 0,88 X 1,88 X 37',\n",
       " 'ARMACAO E FIRME CHIC 1,38 X 1,88 X 37',\n",
       " 'ARMAR.CD-271 GELAD.1PT BASC CARV/BR',\n",
       " 'ARMAR.CD-271 GELAD.1PT BASC CARV/OX PT',\n",
       " 'ARMARIO ACO DUPLO BAIXO GOURMET 7004650 BR',\n",
       " 'ARMARIO ACO DUPLO MEDIO GOURMET 7005650 BR',\n",
       " 'ARMARIO ACO DUPLO MEDIO VD GOURMET 7006710 BR',\n",
       " 'ARMARIO ACO TRIPL MEDIO VD GOURMET 7009710 BR',\n",
       " 'ARMARIO ACO TRIPL MEDIO VD GOURMET 7009711 PT',\n",
       " 'ARMARIO ACO TRIPLO MEDIO GOURMET 7008650 BR',\n",
       " 'ARMARIO TEDY 3 PTS BRANCO BRANCO',\n",
       " 'ARMARIO ULI 3 PTS 2014 BRANCO BRANCO',\n",
       " 'ARMARIO ULI 4 PTS BRANCO',\n",
       " 'ARMARIO ULI 4 PTS BRANCO/CARVALHO',\n",
       " 'ARROZEIRA PERFECTA MALLORY',\n",
       " 'ASPIRADOR 1500 MAX',\n",
       " 'ASPIRADOR AGUA E PO AQP20 220V',\n",
       " 'ASPIRADOR DE PO A1 BLACK E DECKER',\n",
       " 'ASPIRADOR DE PO A2A-B2 1200W AZ BLACK E DECKE',\n",
       " 'ASPIRADOR DE PO A2B-B2 1200W BR BLACK E DECKE',\n",
       " 'ASPIRADOR DE PO AP 2000 B2 BLACK E DECKER',\n",
       " 'ASPIRADOR DE PO AP-15 HEPA TURBO 2000 220V',\n",
       " 'ASPIRADOR DE PO AP-22 220V/60HZ VERTICAL',\n",
       " 'ASPIRADOR DE PO AP-35 TURBO CYCLE 1100W 220V',\n",
       " 'ASPIRADOR DE PO AP4000-B2 BLACK E DECKER',\n",
       " 'ASPIRADOR DE PO AZUL A4-B2 CICLONE BLACK E DE',\n",
       " 'ASPIRADOR DE PO CYLI  FORCE LIGHT CA6545BH',\n",
       " 'ASPIRADOR DE PO E AGUA H3PO 220V',\n",
       " 'ASPIRADOR DE PO FACICLEAN 1480 N2 220V',\n",
       " 'ASPIRADOR DE PO NAP-03',\n",
       " 'ASPIRADOR DE PO NEO 30 VERMELHO',\n",
       " 'ASPIRADOR DE PO NEXT HEPA 1800 AP 13',\n",
       " 'ASPIRADOR DE PO PAS10 220V BRITANIA',\n",
       " 'ASPIRADOR DE PO TEKNA MOD SILENT10 AP1102Y',\n",
       " 'ASPIRADOR DE PO VERMELHO A4V-B2 BLACK E DECKE',\n",
       " 'ASPIRADOR NAP 03 DE PO ZION 1500 220V',\n",
       " 'ASPIRADOR PO AP-22 220V/60HZ VERTICAL',\n",
       " 'ASPIRADOR PO E AGUA GT30N 220V',\n",
       " 'ASPIRADOR PO FILTER AP1000 B2 BLACK E DECKER',\n",
       " 'ASPIRADOR PO PH10L',\n",
       " 'AUDIO BS83 BRANCO MP3',\n",
       " 'AUDIO BS83 PRETO MP3',\n",
       " 'AUDIO PB 119L',\n",
       " 'AUDIO PB 120 C CD MP3 USB PHILCO PT',\n",
       " 'AUDIO PB 122 BT (PRETO) PHILCO',\n",
       " 'AUDIO PB 122 BTL (LILAS) PHILCO',\n",
       " 'AUDIO PB119 BT PHILCO',\n",
       " 'AUDIO PB120R C CD MP3 USB RS',\n",
       " 'AUDIO PB125',\n",
       " 'AUDIO PB125L',\n",
       " 'AUDIO PB329BT',\n",
       " 'AUDIO PB330BT',\n",
       " 'AUDIO PB500 BT PHILCO',\n",
       " 'AUDIO PH 61 LILAS MP3 PHILCO',\n",
       " 'AUDIO PH 61 N2 PRETO MP3 PHILCO',\n",
       " 'AUDIO PH60',\n",
       " 'AUDIO PH80',\n",
       " 'AUTO RADIO AR 03 12V',\n",
       " 'AUTO RADIO DEH 4880 BT',\n",
       " 'AUTO RADIO DEH X1780 UB CD PLAY',\n",
       " 'AUTO RADIO DEH X6680 BT',\n",
       " 'AUTO RADIO DEH X6780 BT CD PLAY',\n",
       " 'AUTO RADIO DEH-S1080UB',\n",
       " 'AUTO RADIO DEH-S1180UB',\n",
       " 'AUTO RADIO DEH-S4080BT PRETO',\n",
       " 'AUTO RADIO DEH-X1880 C/CD PLAYER',\n",
       " 'AUTO RADIO DEH-X1980 UB',\n",
       " 'AUTO RADIO DVH 7780 AV DVD',\n",
       " 'AUTO RADIO DVH 8680 AV BT',\n",
       " 'AUTO RADIO DVH 8780 AV BT',\n",
       " 'AUTO RADIO DVH 8880 AV BT',\n",
       " 'AUTO RADIO DVH7880',\n",
       " 'AUTO RADIO MVH 078 UB USB',\n",
       " 'AUTO RADIO MVH 368 BT',\n",
       " 'AUTO RADIO MVH 378 BT USB',\n",
       " 'AUTO RADIO MVH X168UI USB',\n",
       " 'AUTO RADIO MVH-298BT',\n",
       " 'AUTO RADIO MVH-88 UB',\n",
       " 'AUTO RADIO MVH-98UB PIONEER',\n",
       " 'AUTO RADIO MVH-A208VBT PIONEER',\n",
       " 'AUTO RADIO MVH-G218BT PIONNER',\n",
       " 'AUTO RADIO MVH-S218BT PIONNER',\n",
       " 'AUTO RADIO MVH288 BT',\n",
       " 'BALANCA BANHEIRO BK30 BLACK E DECKER',\n",
       " 'BALANCA BANHEIRO BK35-BR BLACK E DECKER',\n",
       " 'BALANCA BL-03 DIGITAL ELEGANCE6V DC',\n",
       " 'BALANCA BL-05 DIGITAL SMART BLACK',\n",
       " 'BALANCA DIGITAL BK50 PBR BLACK E DECKER',\n",
       " 'BALANCA DIGITAL BK55 PBR BLACK E DECKER',\n",
       " 'BALANCA DIGITAL OSLO MALLORY',\n",
       " 'BALANCA DIGITAL WBCSC0000000137 FIT CARE',\n",
       " 'BALANCA VIDRO ELETRONICA ABB1893',\n",
       " 'BALCAO 120CM 2P 4GAV C/TAMPO CG192 TKA-VERMON',\n",
       " 'BALCAO 2181 1.20 MTS 535 TEKA BROWN',\n",
       " 'BALCAO 2181 1.20 MTS 542 BR PT',\n",
       " 'BALCAO 2181 1.20 MTS 656 BR CZ',\n",
       " 'BALCAO ACO TPL 1GV 611259046 MULTIPLA BR GP',\n",
       " 'BALCAO ACO TPL 1GV 611259146 MULTIPLA PR GP',\n",
       " 'BALCAO ACO TPL 2GV PT BX TP 611459046 M BR GP',\n",
       " 'BALCAO ACO TPL 2GV PT BX TP 611459146 M BR PR',\n",
       " 'BALCAO ACO TRIPLO 4GAV GOURMET 712665046 BR',\n",
       " 'BALCAO ACO TRIPLO 4GAV GOURMET 712665146 PT',\n",
       " 'BALCAO BA-30 BR UV',\n",
       " 'BALCAO BA-30 CARV/BR UV',\n",
       " 'BALCAO BA-30 CARV/PT UV',\n",
       " 'BALCAO BA-30 PLUS BR/PT UV',\n",
       " 'BALCAO BA-35 BR UV',\n",
       " 'BALCAO BALLI REF 31 BRANCO PRETO',\n",
       " 'BALCAO BALLI REF30/127 BRANCO BRANCO',\n",
       " 'BALCAO C GAVETAO CD108 VID 80 512 CARV CARV',\n",
       " 'BALCAO C/ TAMPO CAROL BRANCO/ASPEN/CANELA',\n",
       " 'BALCAO C/TAMPO 210 NOGAL/BR',\n",
       " 'BALCAO C/TAMPO 210 TEKA/BROWN',\n",
       " 'BALCAO C/TAMPO 210 TX DAKOTA/TX BRANCO',\n",
       " 'BALCAO C/TAMPO 210 TX ESSENZE/BROWN',\n",
       " 'BALCAO CD-104 120 612 CARV/BR',\n",
       " 'BALCAO CD-104 120 612 CARV/ONIX UV',\n",
       " 'BALCAO CD-106 CANTO 612 CARV/ONIX UV',\n",
       " 'BALCAO CD-108 C/GAVETAO VID 80 512 CARV CARV',\n",
       " 'BALCAO CD-144 MOLDURA CARV/ONIX UV',\n",
       " 'BALCAO CLASSIC REF 31 BRANCO PRETO',\n",
       " 'BALCAO CLASSIC REF30/127 BRANCO BRANCO',\n",
       " 'BALCAO DALLAS REF 30 BRANCO BRANCO',\n",
       " 'BALCAO DALLAS REF 31 BRANCO PRETO',\n",
       " 'BALCAO JULIA 2012006 TEKA ARTICO',\n",
       " 'BALCAO MP-320 TABUA DE PASSAR CARV/BR',\n",
       " 'BALCAO MP-320 TABUA DE PASSAR CARV/PT',\n",
       " 'BALCAO NAPOLI 1200X820X470MM BC CZ',\n",
       " 'BALCAO NAPOLI 1200X820X470MM BC PT ONIX',\n",
       " 'BALCAO NAPOLI 1200X820X470MM CARV/BR',\n",
       " 'BALCAO NAPOLI 1200X820X470MM NOG CH',\n",
       " 'BALCAO P BOMBONA BA20 BR UV',\n",
       " 'BALCAO PIA 03 PTS.02GAV.ADAPT BR',\n",
       " 'BALCAO PIA 03 PTS.02GAV.ADAPT BR AMD',\n",
       " 'BALCAO PIA COZ RENATA 535 TEKA BROWN',\n",
       " 'BALCAO PIA COZ RENATA 542 BR PT',\n",
       " 'BALCAO PIA COZ RENATA 656 CZ BR',\n",
       " 'BALCAO PIA SHEILA 2012140 542 BR PT',\n",
       " 'BALCAO PIA SHEILA 2012140 556 BR CZ',\n",
       " 'BALCAO PIA SHEILA 2012140 710 TX ESSENZE/BROW',\n",
       " 'BALCAO PIA SHEILA 2012140 720 TX DAKOTA/TX BR',\n",
       " 'BALCAO PIA SHEILA 2012140 723 TX RAVEL./TX BR',\n",
       " 'BALCAO PIA SHEILA 2012140 TEKA BROWN',\n",
       " 'BALCAO VERSALHES LHPR LHBC CP-LHPR',\n",
       " 'BALCAO VERSALHES NOGAL ARENA CP-NOGAL',\n",
       " 'BALCAO VERSALHES PETROLEO ARENA CP-PETROLEO',\n",
       " 'BAN MOTO BARBIE EL 6V 2035',\n",
       " 'BANCADA CD-143 C/ADEGA CARV/BR',\n",
       " 'BANCADA CD-143 C/ADEGA CARV/OX UV',\n",
       " 'BANCADA HAVANA AMDENDOA TX VANILLA PEROLIZADO',\n",
       " 'BANCADA HAVANA DORALE BRILHO CONHAQUE BRILHO',\n",
       " 'BANCADA HAVANA NOGUEIRA TX GRIGIO TX',\n",
       " 'BANCADA HAVANA RUSTICO MALBEC',\n",
       " 'BANCADA HAVANA TEKA TX/VANILLA PEROLIZADO',\n",
       " 'BANCADA LYON DESIRA DUNAS TEX',\n",
       " 'BANCADA VITA CB MILANO PRETO TEX',\n",
       " 'BANCADA VITTA CARV FENDI',\n",
       " 'BANCADA VITTA NOG GRIGIO',\n",
       " 'BANCO DE JARDIM BRANCO',\n",
       " 'BANCO ESCADA 3D.TRIB BOTAFOGO ESC0071',\n",
       " 'BANQ GENOVA 740MM PT FS ROSE 1B707PFR-110',\n",
       " 'BANQ GENOVA 740MM PT FS ROSE 1B707PFR-21',\n",
       " 'BANQ SHINE PLUS BR SOLIDO/PLASTICO UZ8007-10',\n",
       " 'BANQ SHINE PLUS PT SOLIDO/PLASTICO UZ8007-11',\n",
       " 'BANQ SHINE PLUS VERM SOLIDO/PLASTIC UZ8007-13',\n",
       " 'BANQUETA BISTRO BRANCA',\n",
       " 'BANQUETA BISTRO PRETO',\n",
       " 'BANQUETA CORURIPE 5 PERNAS BRANCA',\n",
       " 'BANQUETA CORURIPE 5 PERNAS PRETA',\n",
       " 'BANQUETA DOMESTICA ALUMINIO',\n",
       " 'BANQUETA DUBLIN 770MM CR METAL 1B706CR-110 PT',\n",
       " 'BANQUETA DUBLIN 770MM CR METAL 1B706CR-21 MAR',\n",
       " 'BANQUETA GENOVA 740MM CROMADA 1B705CR-110 MET',\n",
       " 'BANQUETA GENOVA 740MM CROMADA 1B705CR-21MET',\n",
       " 'BANQUETA GUNGA BRANCA',\n",
       " 'BANQUETA GUNGA VINHO',\n",
       " 'BANQUETA TURIM CROMADO CORINO MARROM BC-74',\n",
       " 'BANQUETA TURIM CROMADO CORINO PRETO BC-73',\n",
       " 'BANQUETA TURIM PRETO CORINO BEGE BC-75',\n",
       " 'BANQUETA TURIM PRETO CORINO VERMELHO BC-76',\n",
       " 'BARBEADOR AQUA BLUE',\n",
       " 'BARBEADOR AT610/14 AQUATOUCH BASIC',\n",
       " 'BARBEADOR AT611 16 DE 3 CAB.WALITA',\n",
       " 'BARBEADOR AT612 DE 3 CAB.A BAT ELET AQUAT',\n",
       " 'BARBEADOR BD3150 BR  BLACK E DECKER',\n",
       " 'BARBEADOR BD4150BR  BLACK E DECKER',\n",
       " 'BARBEADOR BE-01 ELETRICO CLASSIC',\n",
       " 'BARBEADOR D 2 CAB.A BAT.PQ222 17 WALITA',\n",
       " 'BARBEADOR ELET.BM 6000 MALLORY',\n",
       " 'BARBEADOR ELETRICO CLASSIC BE-01',\n",
       " 'BARBEADOR GAMA 3LAM.GSH860 BECSH0000000138',\n",
       " 'BARBEADOR HQ6906/16 WALITA',\n",
       " 'BARBEADOR HQ6927 16 3CAB.A BAT.WALITA',\n",
       " 'BARBEADOR NBE-01 ELETRICO BIVOLT CLASSIC',\n",
       " 'BARBEADOR PBA03',\n",
       " 'BARBEADOR S1030/04 WALITA',\n",
       " 'BARBEADOR S1070/04 WALITA',\n",
       " 'BASE BOX BRANCA 39CMX1,88MX1,38M',\n",
       " 'BASE BOX BRANCA 39CMX1,88MX88CM',\n",
       " 'BASE BOX BRANCA 39CMX1,98MX79CM',\n",
       " 'BASE BOX STANDARD BRANCA 079X198X39',\n",
       " 'BASE BOX STANDARD BRANCA 088X188X39',\n",
       " 'BASE BOX STANDARD BRANCA 138X188X39',\n",
       " 'BASE BOX STANDARD PRETA 079X198X39',\n",
       " 'BASE BOX STANDARD PRETA 088X188X39',\n",
       " 'BASE BOX STANDARD PRETA 138X188X39',\n",
       " 'BASE GAZIN POLIESTER 0,79X1,98X27CM BORD E P',\n",
       " 'BASE GAZIN POLIESTER 0,88X1,88X27CM BORD E P',\n",
       " 'BASE GAZIN POLIESTER 1,38X1,88X27CM BORD E P',\n",
       " 'BASE GAZIN SUEDE MARRON LISA 0,79X1,98X27CM',\n",
       " 'BASE GAZIN SUEDE MARRON LISA 0,88X1,88X27CM',\n",
       " 'BASE GAZIN SUEDE MARRON LISA 0,96X2,03X27CM',\n",
       " 'BASE GAZIN SUEDE MARRON LISA 1,38X1,88X27CM',\n",
       " 'BASE SUEDE AMASSA CHUMBO LISA 0,96X2,03X27CM',\n",
       " 'BASE SUEDE AMASSA CINZA 0,79X1,98X27CM',\n",
       " 'BASE SUEDE AMASSA CINZA 0,88X1,88X27CM',\n",
       " 'BASE SUEDE AMASSA CINZA 1,38X1,88X27CM',\n",
       " 'BATEDEIRA ACTIVA DUO PLUS MALLORY',\n",
       " 'BATEDEIRA ACTIVIA 220V B91300042 MALLORY',\n",
       " 'BATEDEIRA AMVOX ABT 199 220V',\n",
       " 'BATEDEIRA AMVOX ABT 215 220V',\n",
       " 'BATEDEIRA B 23 BELLA MASSA 220V',\n",
       " 'BATEDEIRA B-05 NP-2 PRATICA 220V',\n",
       " 'BATEDEIRA B-05 PRATICA 220V',\n",
       " 'BATEDEIRA B-12 NP PRATICA BLACK 220V',\n",
       " 'BATEDEIRA B-12 PRATICA BLACK 220V',\n",
       " 'BATEDEIRA B-23 NP-2 BELA MASSA INOX 220V',\n",
       " 'BATEDEIRA B-29 NP-2 RED PREM BELA MASSA INOX',\n",
       " 'BATEDEIRA B-29 RED PREMIUM BELA MASSA INOX',\n",
       " 'BATEDEIRA BA-8015 PR2 SEMP ORBITAL',\n",
       " 'BATEDEIRA BA-8017 VM2 SEMP ORBITAL',\n",
       " 'BATEDEIRA BATPLUS INOX BT9022X SUGGAR',\n",
       " 'BATEDEIRA BELLAGIO CRISTAL NEVE PT',\n",
       " 'BATEDEIRA BELLAGIO CRISTAL NEVE VM 220V',\n",
       " 'BATEDEIRA C PED 220V BAT 300 B2  B. E DECKER',\n",
       " 'BATEDEIRA C PED 220V MT 300 B2 BLACK E DECKER',\n",
       " 'BATEDEIRA C PED MT400B2 PT PRAT 5V B.E DECKER',\n",
       " 'BATEDEIRA GIROMAX BLACK 220V B91300352 MALLOR',\n",
       " 'BATEDEIRA GIROMAX QUATTRO BLACK MALLORY',\n",
       " 'BATEDEIRA GIROMAX QUATTRO BR MALLORY',\n",
       " 'BATEDEIRA MAXX PEROLA BR',\n",
       " 'BATEDEIRA MAXX PEROLA PT',\n",
       " 'BATEDEIRA NB-23 220V/60HZ',\n",
       " 'BATEDEIRA NB-23 BELA MASSA 220V/60HZ',\n",
       " 'BATEDEIRA PARIS PRETA',\n",
       " 'BATEDEIRA PARIS VM 220V',\n",
       " 'BATEDEIRA PED BRANCA BAT350B2  BLACK E DECKER',\n",
       " 'BATEDEIRA PLAN 1000B-B2 BRANCO BLACK & DECKER',\n",
       " 'BATEDEIRA RI 7000 30 WALITA BR',\n",
       " 'BATEDEIRA RI 7000 90 WALITA PT',\n",
       " 'BATEDEIRA RI 7200 00 WALITA',\n",
       " 'BATEDEIRA RI 7205/90 PR 220V WALITA',\n",
       " 'BATEDEIRA RI-7000/30 WALITA BR',\n",
       " 'BATEDEIRA RI-7000/40 250W WALITA',\n",
       " 'BATEDEIRA RI-7000/90 WALITA PT',\n",
       " 'BATEDEIRA RI-7200/00 WALITA',\n",
       " 'BATEDEIRA RI-7200/40 (VERM) WALITA',\n",
       " 'BATEDEIRA RI-7205/90 PR 220V WALITA',\n",
       " 'BATEDEIRA RI7000/40 250W WALITA',\n",
       " 'BATEDEIRA RI7200/40 (VERM) WALITA',\n",
       " 'BATEDEIRA RI7915 00 WALITA',\n",
       " 'BATEDEIRA SEMP ORBITAL BA8015PR2',\n",
       " 'BATEDEIRA SEMP ORBITAL BA8017VM2',\n",
       " 'BATEDEIRA SX15 FACILITA SX1501B2 BR',\n",
       " 'BATEDEIRA SX53 INCLINATA SX5008B2 PR',\n",
       " 'BATEDEIRA SX80 PLANETARIA GRUPO SEB',\n",
       " 'BATEDEIRA SX82 PLANETARIA PRETA SX8208B2',\n",
       " 'BATEDEIRA SX86 SX8815B2 PLANETARIA VERM 220V',\n",
       " 'BATEDEIRA TURBO 220V MT 350 BLACK E DECKER',\n",
       " 'BATEDEIRA TURBO MT350 B2 BLACK E DECKER',\n",
       " 'BATEDEIRA TURBO MT450 B2 3EM1 BLACK E DECKER',\n",
       " 'BEBEDOURO AGUA BIVOLT',\n",
       " 'BEBEDOURO BB 02 220V',\n",
       " 'BEBEDOURO BC21B ELECTROLUX',\n",
       " 'BEBEDOURO COMPACTO NEW ELETRONIC BR',\n",
       " 'BEBEDOURO DE COLUNA EGCQF',\n",
       " 'BEBEDOURO EGC 35 B AMARELO',\n",
       " 'BEBEDOURO EGC 35 B BR',\n",
       " 'BEBEDOURO EGC 35 B INOX NV',\n",
       " 'BEBEDOURO EGC 35 B LARANJA',\n",
       " 'BEBEDOURO EGC 35 B TURQUESA',\n",
       " 'BEBEDOURO EGC 35 B VERDE',\n",
       " 'BEBEDOURO EGC 35 B VERMELHO',\n",
       " 'BEBEDOURO EGM 30 AMARELO',\n",
       " 'BEBEDOURO EGM 30 BR',\n",
       " 'BEBEDOURO EGM 30 BR ESTILO',\n",
       " 'BEBEDOURO EGM 30 LARANJA',\n",
       " 'BEBEDOURO EGM 30 PRETO',\n",
       " 'BEBEDOURO EGM 30 TURQUESA',\n",
       " 'BEBEDOURO EGM 30 VERDE',\n",
       " 'BEBEDOURO EGM 30 VERMELHO',\n",
       " 'BEBEDOURO ELECTROLUX WD20C',\n",
       " 'BEBEDOURO ELET NEO BR GF BIVOLT',\n",
       " 'BEBEDOURO ELET. PBR803 LENOXX',\n",
       " 'BEBEDOURO LUND 220V MALLORY',\n",
       " 'BEBEDOURO NEO POPULAR GRAFITE',\n",
       " 'BEBEDOURO NEW ELETRONICO',\n",
       " 'BEBEDOURO PBR801 ELET.PRATIC 220 LENOXX',\n",
       " 'BEBEDOURO REFRIGERADOR 220V CJD20 ABBNA BR',\n",
       " 'BELICHE FORMULA 1 REF504003 BR',\n",
       " 'BELICHE FORMULA 1 REF504003 BR PT',\n",
       " 'BELICHE FORMULA 1 REF504003 BR ROSA',\n",
       " 'BELICHE GUARA 8,5X4,5 PAD AMD',\n",
       " 'BELICHE GUARA 8,5X4,5 PAD BRANCO',\n",
       " 'BELICHE GUARA 8,5X4,5 PAD CARV',\n",
       " 'BERCO 6900 ROSA',\n",
       " 'BERCO BBI-17 BR',\n",
       " 'BERCO BBI-41 MULTIFUNCIONAL BR UV',\n",
       " 'BERCO BBI-41 MULTIFUNCIONAL CARV/BR',\n",
       " 'BERCO BBI-51 BRANCO',\n",
       " 'BERCO INFANTIL MINI CAMA MIRELLI 332 BR/BRILH',\n",
       " 'BERCO INFANTIL MINI CAMA MIRELLI AMAD RUSTICO',\n",
       " 'BERCO JUNIOR 2014 BRANCO',\n",
       " 'BERCO JUNIOR BRANCO/CARVALHO',\n",
       " 'BERCO LUCCA C RODIZIO BR BRILHO',\n",
       " 'BERCO LUISA PLUS BC',\n",
       " 'BERCO MINI CAMA MIRELI AMADEIRADO',\n",
       " 'BERCO ULI BRANCO',\n",
       " 'BICAMA BB-28 BR',\n",
       " 'BICAMA REAL FLEX 188X088X52',\n",
       " 'BICAMA REAL FLEX SUPERIOR 0,88 X 1,88 X 52',\n",
       " 'BICICLETA 12 ANGEL KIDS BR RS VD',\n",
       " 'BICICLETA 12 AQUA 2 AZUL BEBE',\n",
       " 'BICICLETA 12 BIG BOY 110586',\n",
       " 'BICICLETA 12 CAT ROSA',\n",
       " 'BICICLETA 12 LILLY FEM FLOWER ROSA BCO',\n",
       " 'BICICLETA 12 LION MASC BLACK PTO VERD',\n",
       " 'BICICLETA 12 VELOZ AZUL',\n",
       " 'BICICLETA 12 VIOL.FEM',\n",
       " 'BICICLETA 12 WATER MAN VERM AZUL',\n",
       " 'BICICLETA 16 C-HIGH PTO/ROSA',\n",
       " 'BICICLETA 16 FLOWERS ROSA/PINK',\n",
       " 'BICICLETA 16 FLOWERS VIOL',\n",
       " 'BICICLETA 16 MTB C-16 PTO/VERD',\n",
       " 'BICICLETA 16 MTB FEM FADINHA LILAS',\n",
       " 'BICICLETA 16 MTB FEM FADINHA ROSA',\n",
       " 'BICICLETA 16 MTB MASC CAIRU 10 VERD',\n",
       " 'BICICLETA 16 MTB MASC RACER KIDS AZUL',\n",
       " 'BICICLETA 16 MTB MASC RACER KIDS VERM',\n",
       " 'BICICLETA 20 FREEST SUPER MAX BIC/AZUL',\n",
       " 'BICICLETA 20 FREEST SUPER MAX BIC/PTO',\n",
       " 'BICICLETA 20 FREEST SUPER MAX BIC/VERM',\n",
       " 'BICICLETA 20 GENOVA C/CT V.B ROSA',\n",
       " 'BICICLETA 20 GENOVA C/CT V.B VIOLETA',\n",
       " 'BICICLETA 20 JUMPER BOY 21M C/SUSP AZUL',\n",
       " 'BICICLETA 20 JUMPER BOY 21M C/SUSP PTO',\n",
       " 'BICICLETA 20 JUMPER BOY 21M C/SUSP VERM',\n",
       " 'BICICLETA 20 MTB MASC SUPER BOY BIC AZUL',\n",
       " 'BICICLETA 20 MTB MASC SUPER BOY BIC PTO',\n",
       " 'BICICLETA 20 MTB MASC SUPER BOY BIC VERM',\n",
       " 'BICICLETA 20 MTB STAR GIRL C CT BIC ROSA/PINK',\n",
       " 'BICICLETA 20 MTB STAR GIRL C CT BIC VIOL',\n",
       " 'BICICLETA 24 MTB BELLA C CT BIC AZUL',\n",
       " 'BICICLETA 24 MTB BELLA C CT BIC VIOL',\n",
       " 'BICICLETA 24 MTB BELLA C CT BIC VIOLETA',\n",
       " 'BICICLETA 24 MTB BELLA C CT BIC/ROSA/PINK',\n",
       " 'BICICLETA 24 MTB BELLA C CT BIC/VERM',\n",
       " 'BICICLETA 24 MTB FLASH BIC AZUL',\n",
       " 'BICICLETA 24 MTB FLASH BIC PTO',\n",
       " 'BICICLETA 24 MTB FLASH BIC VERM',\n",
       " 'BICICLETA 24 MTB MASC 21M FLASH AZUL',\n",
       " 'BICICLETA 24 MTB MASC 21M FLASH PRETO',\n",
       " 'BICICLETA 24 MTB MASC 21M FLASH VERMELHO',\n",
       " 'BICICLETA 26 21M C SUSP JUMPER BOY AZUL',\n",
       " 'BICICLETA 26 21M C SUSP JUMPER BOY VERM',\n",
       " 'BICICLETA 26 MTB BELLA C CT BIC ROSA',\n",
       " 'BICICLETA 26 MTB BELLA C CT BIC/VERM',\n",
       " 'BICICLETA 26 MTB BELLA C CT BIC/VIOL',\n",
       " 'BICICLETA 26 MTB FLASH AZUL',\n",
       " 'BICICLETA 26 MTB FLASH PRETO',\n",
       " 'BICICLETA 26 MTB FLASH VERMELHA',\n",
       " 'BICICLETA 26 MTB MASC 21M FLASH BIC/AZUL',\n",
       " 'BICICLETA 26 MTB MASC 21M FLASH BIC/PTO',\n",
       " 'BICICLETA 26 MTB MASC 21M FLASH BIC/VERM',\n",
       " 'BICICLETA A 24 ATLANTES LAND VERM PT',\n",
       " 'BICICLETA A-16 NIC/PIX AZUL HOUSTON',\n",
       " 'BICICLETA A-16 NIC/PIX PRETA HOUSTON',\n",
       " 'BICICLETA A-16 TINA/BLOOM PRETA HOUSTON',\n",
       " 'BICICLETA A-16 TINA/BLOOM ROSA HOUSTON',\n",
       " 'BICICLETA A-20 WF20 FEM.ROSA PINK HOUSTON',\n",
       " 'BICICLETA A-20 WM20 MASC. AZUL COPA HOUSTON',\n",
       " 'BICICLETA A-26 ATLANTIS MAD AZUL AT262O HOUST',\n",
       " 'BICICLETA A-26 ATLANTIS MAD PRETA AT261O HOUS',\n",
       " 'BICICLETA A-26 ATLANTIS MAD PRETA FOSC AT261Q',\n",
       " 'BICICLETA A-26 BRISTOL LANCE BRANCA C/CESTA',\n",
       " 'BICICLETA A-26 BRISTOL LANCE VIOLETA C/CESTA',\n",
       " 'BICICLETA A-26 FOXER HAMMER AZUL COPA HOUSTON',\n",
       " 'BICICLETA A-26 FOXER HAMMER PRETA CADILLAC HO',\n",
       " 'BICICLETA A-26 FOXER HAMMER VERMELHA HOUSTON',\n",
       " 'BICICLETA A-26 FOXER MAORI PINK C/CESTA HOUST',\n",
       " 'BICICLETA A-26 FOXER MAORI PRETA C/CESTA HOUS',\n",
       " 'BICICLETA A-26 FOXER MAORI VERM SUNRED C/CEST',\n",
       " 'BICICLETA A-26 STINGER PRETA/BRANCA HOUSTON',\n",
       " 'BICICLETA BARRA CIRCULAR CC FI AZUL',\n",
       " 'BICICLETA BARRA CIRCULAR CC FI VERDE',\n",
       " 'BICICLETA BARRA CIRCULAR CC FI VERMELHA',\n",
       " 'BICICLETA CALOI 29 18 PTO FSC ARO29 A13',\n",
       " 'BICICLETA CALOI 700 19 GRAF A13 MASC',\n",
       " 'BICICLETA CALOI VELOX ARO 29 V21 T17 A18',\n",
       " 'BICICLETA COLLI DP.SUSP.A26 72R 21M MASC AZUL',\n",
       " 'BICICLETA EASY RIDER AZUL 18 ARO A11',\n",
       " 'BICICLETA EASY RIDER ROSA 18 ARO A13',\n",
       " 'BICICLETA ERG ACT CLB 10 CLASSIC D.C.R',\n",
       " 'BICICLETA ERG ACT CLB 11CLASSIC D.C.R',\n",
       " 'BICICLETA ERG ACT CLB 20 PREMIUN D.C.R',\n",
       " 'BICICLETA ERG ACT CLB 21 PREMIUN D.C.R',\n",
       " 'BICICLETA R12 CECIZINHA T9 BCO A17',\n",
       " 'BICICLETA R12 POWER REX T9 V1 AMARELA A16',\n",
       " 'BICICLETA R12 ZIGBIM VERM PRETA',\n",
       " 'BICICLETA R16 BARBIE T10 ROSA FUCCIA A15',\n",
       " 'BICICLETA R16 CALOI MONSTER HIGH T10 V1 PRET',\n",
       " 'BICICLETA R16 CALOI SPIDER MAN T10 V01 AZUL',\n",
       " 'BICICLETA R16 CECI T10 V1 BRANCA A16',\n",
       " 'BICICLETA R16 HOT WHEELS T10 V1 PRETO A15',\n",
       " 'BICICLETA R16 POWER REX T10 V1 LARANJA A16',\n",
       " 'BICICLETA R20 BARBIE T11V1 BRANCO PEROLA A17',\n",
       " 'BICICLETA R20 BARBIE T11V7 P RS FUCCIA A15',\n",
       " 'BICICLETA R20 CALOI  EXPERT 1V PRETO FSC A17',\n",
       " 'BICICLETA R20 CECI V1 T12 BRANCA A16',\n",
       " 'BICICLETA R20 EXPERT 20 PRETA A12',\n",
       " 'BICICLETA R20 HOT WHEELS CIDECK 7V PTO A13',\n",
       " 'BICICLETA R20 MONSTER HIGH 20 T11 V1 PTO A16',\n",
       " 'BICICLETA R24 CALOI MAX 24 V21 PTO FSC A17',\n",
       " 'BICICLETA R24 CALOI MAX FRONT 21V PT AM A12',\n",
       " 'BICICLETA R24 CALOI MAX FRONT V21 PRETA A17',\n",
       " 'BICICLETA R24 CECI 24 BRANCA A12',\n",
       " 'BICICLETA R24 MAX MASC PT BR A12',\n",
       " 'BICICLETA R24 SHOK PTO VERM A12',\n",
       " 'BICICLETA R26 ALUMINIUM SPORT T19V21 PTO A17',\n",
       " 'BICICLETA R26 ALUMINIUM SPORT T19V21 PTO A18',\n",
       " 'BICICLETA R26 CALOI ALUMINIUM T18 21V VERM',\n",
       " 'BICICLETA R26 CALOI ALUMINIUM T19V21 PT F A15',\n",
       " 'BICICLETA R26 CALOI ANDES T18 21V PTO FSC A14',\n",
       " 'BICICLETA R26 CALOI ANDES V21 PTO T18 A17',\n",
       " 'BICICLETA R26 CALOI ROUGE T17 21V PTO FSC A17',\n",
       " 'BICICLETA R26 CALOI TWISTER V21 T18 A17',\n",
       " 'BICICLETA R26 CALOI VENTURA T18 V21 BR A18',\n",
       " 'BICICLETA R26 CALOI XRT T18 V21 BRANCA A15',\n",
       " 'BICICLETA R26 CALOI XRT T18 V21 PTO A18',\n",
       " 'BICICLETA R26 HTX SPORT 17 PTO FOSCO A14',\n",
       " 'BICICLETA R26 KS FULL MTB1 PT PTA A13',\n",
       " 'BICICLETA R26 SK SPORT PT FOSCO A10',\n",
       " 'BICICLETA R26 SUPRA 20 PRETO FSC A13',\n",
       " 'BICICLETA R26 SUPRA 30 PRETO FSC A13',\n",
       " 'BICICLETA R26 TRS PT FOSCO A13',\n",
       " 'BICICLETA R26 TRS T18V21 PTO FSC A16',\n",
       " 'BICICLETA R26 TRS T18V21 PTO FSC A18',\n",
       " 'BICICLETA R29 CALOI 29 T17 V21 CZ M A18',\n",
       " 'BICICLETA R29 CALOI 29 V21 T17 A16',\n",
       " 'BICICLETA R29 CALOI VELOX 29 V21 T17 M A18',\n",
       " 'BICICLETA TROPICAL F 1 PURPURA',\n",
       " 'BICICLETA TROPICAL F 1 VERMELHA',\n",
       " 'BICICLETA TROPICAL F 1 VIOLETA',\n",
       " 'BICICLETA VENTURA R26 T18 V21 BRANCA A16',\n",
       " 'BIG BOSS COM PA 321',\n",
       " 'BLU ARIA II T179 AMARELO',\n",
       " 'BLU ARIA II T179 AZUL',\n",
       " 'BLU ARIA T 174 AMARELO',\n",
       " 'BLU ARIA T 174 BRANCO',\n",
       " 'BLU ARIA T 174 PRETO AZUL',\n",
       " 'BLU BROOKLYN CINZA DB',\n",
       " 'BLU CLICK LITE T 170 VERM. DB',\n",
       " 'BLU CLICK LITE T171I AZUL',\n",
       " 'BLU CLICK LITE T171I BRANCO',\n",
       " 'BLU CLICK LITE T171I ROSA',\n",
       " 'BLU DASH 3.5 PRETO',\n",
       " 'BLU DASH 4.0 D 270I PRETO',\n",
       " 'BLU DECO MINI 3 CHIPS AZUL DB',\n",
       " 'BLU DECO MINI 3 CHIPS BRANCO DB',\n",
       " 'BLU DECO MINI 3 CHIPS ROSA DB',\n",
       " 'BLU JANET 175 BCO',\n",
       " 'BLU JANET 175 LJA',\n",
       " 'BLU JANET 175 VDE',\n",
       " 'BLU JENNY AMARELO DB',\n",
       " 'BLU JENNY BRANCO DB',\n",
       " 'BLU JENNY T172 PRETO',\n",
       " 'BLU JENNY TV 172 AMARELO',\n",
       " 'BLU JENNY TV T172 BRANCO PRETO',\n",
       " 'BLU SPARK TV S131T CINZA',\n",
       " 'BLU STUDIO 5.0 D530 PRETO',\n",
       " 'BLU TANK T 190 AZUL',\n",
       " 'BLU TANK T 190 BRANCO AZUL',\n",
       " 'BLU TANK T 190 ROSA',\n",
       " 'BLU TANK T 190 VERM DB',\n",
       " 'BLU TATOO MINI TV Q 190 PT DB',\n",
       " 'BLU TATOO MINI TV Q 190 ROSA. DB',\n",
       " 'BLU ZOEY 2.4 T178 PTO AMARELO',\n",
       " 'BLU ZOEY 2.4 T178 PTO AZUL',\n",
       " 'BLU ZOEY BRANC LIMAO DB',\n",
       " 'BLU ZOEY PRET AZUL DB',\n",
       " 'BOMBA AR INTEX MANUAL GRANDE',\n",
       " 'BOMBE PREMIER AMARELO PATRIMAR',\n",
       " 'BOMBE PREMIER PRETO PATRIMAR',\n",
       " 'BOMBE PREMIER VERMELHO PATRIMAR',\n",
       " 'BOMBOX SP149 15WATS USB FM BAT LIT',\n",
       " 'BOOM BOX SUPER SOUND BX 07',\n",
       " 'BOOMBOX AZ391X/78 PORTATIL PHILIPS',\n",
       " 'BOOMBOX BX-19 BIVOLT UP DYNAMIC',\n",
       " 'BOOMBOX RBM PFS 11AC MOTOBRAS',\n",
       " 'BOX 106 25CM X188CM X138CM WHITE',\n",
       " 'BOX 106 25CM X188CM X88CM WHITE',\n",
       " 'BOX 106 25CM X198CM X79CM WHITE',\n",
       " 'BOX 106 25CMX188CMX138CM BLACK WHITE',\n",
       " 'BOX 106 25CMX188CMX88CM WHITE',\n",
       " 'BOX 106 37MX188CMX 079CM BLACK WHITE',\n",
       " 'BOX 106 NEW 25CMX1,88CMX138CM WHITE E SILVER',\n",
       " 'BOX 106 NEW 25CMX188CMX088CM WHITE E SILVER',\n",
       " 'BOX 106 NEW 25CMX198CMX079CM WHITE E SILVER',\n",
       " 'BOX 152 25CM X1,98CM X079CM ORTHO PRO NEW',\n",
       " 'BOX 152 25CM X188CM X079CM ORTHO PRO',\n",
       " 'BOX 152 25CM X188CM X138CM ORTHO PRO',\n",
       " 'BOX 152 25CM X188CM X138M ORTHO PRO NEW',\n",
       " 'BOX 152 25CMX188CMX138XM ORTOPRO',\n",
       " 'BOX 152 ORTHO PRO NEW 30CM X 188CM X 138CM',\n",
       " 'BOX 152 ORTHO PRO NEW 30CM X 188CM X 88CM',\n",
       " 'BOX 152 ORTHO PRO NEW 30CM X 198CM X 079CM',\n",
       " 'BOX 154 KING BEST 30CMX1,88MX138M',\n",
       " 'BOX 154 KING BEST 30CMX1,88MX88CM',\n",
       " 'BOX 154 KING BEST 30CMX1,98MX79CM',\n",
       " 'BOX 162 BLACK NEW 30CMX1,88MX0,88CM',\n",
       " 'BOX 162 BLACK NEW 30CMX1,88MX1,38M',\n",
       " 'BOX 162 BLACK NEW 30CMX1,98MX0,79CM',\n",
       " 'BOX 162 BLACK NEW 30CMX2,03CMX0,96CM',\n",
       " 'BOX 165 30CMX1,88MX1,38M AZUL',\n",
       " 'BOX 165 30CMX1,88MX88CM AZUL',\n",
       " 'BOX 165 30CMX1,98MX79CM AZUL',\n",
       " 'BOX 165 30CMX2,03MX96CM AZUL',\n",
       " 'BOX 172 30CMX1,88MX1,38M (PES DE 12)',\n",
       " 'BOX 172 30CMX1,98MX79CM (PES DE 12)',\n",
       " 'BOX 172 30CMX188MX88CM (PES DE 12)',\n",
       " 'BOX 172 30CMX2,03MX96CM (PES DE 12)',\n",
       " 'BOX 172 RICHESSE 6PES 30 X 188 X 138CM',\n",
       " 'BOX 172 RICHESSE 6PES 30 X 203 X 096CM',\n",
       " 'BOX 172 RICHESSE 6PES 30 X1,98X 079CM',\n",
       " 'BOX 172 RICHESSE NEW 25CMX1,88MX1,38CM',\n",
       " 'BOX 172 RICHESSE NEW 25CMX1,98MX79CM',\n",
       " 'BOX 172 RICHESSE NEW 25CMX2,03MX96CM',\n",
       " 'BOX 172 RICHESSE NEW 6PES 30 X 188 X 88CM',\n",
       " 'BOX BALI HIGH 0,79X1,98 AMERICANFLEX',\n",
       " 'BOX BALI HIGH 0,88X1,88 AMERICANFLEX',\n",
       " 'BOX BALI HIGH 1,38X1,88 AMERICANFLEX',\n",
       " 'BOX BG MULTIFLEX HIGH PB 0,79X1,98',\n",
       " 'BOX BG MULTIFLEX HIGH PB 0,88X1,88',\n",
       " 'BOX BG MULTIFLEX HIGH PB 1,38X1,88',\n",
       " 'BOX LINE OCM 1060 USB SD FM F.SEARCH MULT US',\n",
       " 'BOX LINE OCM 1090',\n",
       " 'BOX LINE OCM 1090 BLUETOOTH ONEAL',\n",
       " 'BOX LINE OCM 260 USB SD FM F.SEARCH MULT USE',\n",
       " 'BOX LINE OCM 290',\n",
       " 'BOX LINE OCM 290 BLUETOOTH ONEAL',\n",
       " 'BOX LINE OCM 2906B BLUETOOTH ONEAL',\n",
       " 'BOX LINE OCM 360 USB SD FM F.SEARCH MULT USE',\n",
       " 'BOX LINE OCM 390',\n",
       " 'BOX LINE OCM 390 BLUETOOTH ONEAL',\n",
       " 'BOX LINE OCM 3910 ONEAL',\n",
       " 'BOX LINE OCM 3912 ONEAL',\n",
       " 'BOX LINE OCM 3915 ONEAL',\n",
       " 'BOX LINE OCM 460 USB SD FM F.SEARCH MULT USE',\n",
       " 'BOX LINE OCM 490',\n",
       " 'BOX LINE OCM 490 BLUETOOTH ONEAL',\n",
       " 'BOX LINE OPB 5060 BLUETOOTH ONEAL',\n",
       " 'CAB. BOX VITORIA 1,4 1,6 CARV PT',\n",
       " 'CAB. BOX VITORIA 1,4 1,6 TB BR',\n",
       " 'CAB. DAYSE CASAL CAST C/PAINEL C22 MARROM',\n",
       " 'CAB. DAYSE CASAL CAST DUNA C/PAINEL C23 BEGE',\n",
       " 'CAB. DAYSE CASAL CINZA C/PAINEL C13 PRETO',\n",
       " 'CAB.BOX 0.88 FRAMAR ISIS BR C/PAINEL COR 08',\n",
       " 'CAB.BOX 0.88 FRAMAR ISIS CINZA C/PAINEL C.013',\n",
       " 'CAB.BOX 0.88 FRAMAR ISIS VANIL C/PAINEL C.022',\n",
       " 'CAB.BOX 1.38 ELISA AVELA AVELA/CASTANHO',\n",
       " 'CAB.BOX 1.38 ELISA CAPUCCINO/CAPUCCINO',\n",
       " 'CAB.BOX 1.38 ELISA CHOCOLATE C30',\n",
       " 'CAB.BOX 1.38 ELISA CINZA CINZA/PRETO',\n",
       " 'CAB.BOX 1.38 ELISA VANILLA/VANILLA',\n",
       " 'CAB.BOX 1.38 FRAMAR ELISA AVELA AVELA/CASTANH',\n",
       " 'CAB.BOX 1.38 FRAMAR ELISA CINZA CINZA/PRETO',\n",
       " 'CAB.BOX 1.38 FRAMAR ELISA ROV ROV/CAST DUNA',\n",
       " 'CAB.BOX 1.38 FRAMAR ELISA VANILLA/CASTANHO D',\n",
       " 'CAB.BOX 1.38 FRAMAR ISIS CAS/REL C/PAIN C.023',\n",
       " 'CAB.BOX 1.38 FRAMAR ISIS CINZA C/PAINEL C.013',\n",
       " 'CAB.BOX 1.38 FRAMAR PALOMA AVELA/CASTANHO',\n",
       " 'CAB.BOX 1.38 FRAMAR PALOMA CINZA/PRETO',\n",
       " 'CAB.BOX 1.38 FRAMAR PALOMA MALBEC/MALBEC',\n",
       " 'CAB.BOX C/CRIADO LARINE 1,40 BR/BR LX',\n",
       " 'CAB.BOX C/CRIADO LARINE 1,40 CARV.B/PT LX',\n",
       " 'CAB.BOX C/CRIADO LARINE 1,40 PT/CARV.B LX',\n",
       " 'CAB.BOX C/CRIADO LARINE 1,60 AV/NG LX',\n",
       " 'CAB.BOX C/CRIADO LARINE 1,60 BR/PT LX',\n",
       " 'CAB.BOX C/CRIADO LARISSA 0,90 BR/RS/LI LX',\n",
       " 'CAB.BOX C/CRIADO LARISSA 0,90 CARV/PT/BR LX',\n",
       " 'CAB.BOX C/CRIADO LARISSA 1.40/1.60 AV/PT/NG L',\n",
       " 'CAB.BOX C/CRIADO LARISSA 1.40/1.60 BR/PT/BR L',\n",
       " 'CAB.BOX C/CRIADO LARISSA 1.40/1.60 CARV/PT/BR',\n",
       " 'CAB.BOX C/CRIADO LARISSA 1.40/1.60 CAST WOOD',\n",
       " 'CABECEIRA AREZZO 140 160 CZ PT',\n",
       " 'CABECEIRA BOX C/CRIADO AMD MADEIRA B290-AM',\n",
       " 'CABECEIRA BOX C/CRIADO BR MADEIRA B290-BR',\n",
       " 'CABECEIRA BOX C/CRIADO BR/FS MAD F291-BRF',\n",
       " 'CABECEIRA BOX C/CRIADO NAT MADEIRA B290-NT',\n",
       " 'CABECEIRA BOX C/CRIADO NG MADEIRA F291-NO',\n",
       " 'CABECEIRA BP4081 CHAMP MAD.DEMOLICAO',\n",
       " 'CABECEIRA BP4310 TK SENSITIVE MAD DEMOLICAO',\n",
       " 'CABECEIRA CARUALHO SENS./TK SENS.',\n",
       " 'CABECEIRA CASAL URUGUAI C/CRI 6G BRANCO',\n",
       " 'CABECEIRA CASAL URUGUAI C/CRI 6G ROVERE',\n",
       " 'CABECEIRA ELITE 140 CBOX - NGR',\n",
       " 'CABECEIRA ISABELA CASAL CAFE',\n",
       " 'CABECEIRA ISABELA CASAL MEL',\n",
       " 'CABECEIRA ISABELA CASAL PEROLA EBANO',\n",
       " 'CABECEIRA ISABELA CASAL PLUS BC PT BC',\n",
       " 'CABECEIRA IZABELA IMB PT',\n",
       " 'CABECEIRA NEW CLAS 1,40/1,60 BC BRI CORINO BC',\n",
       " 'CABECEIRA NEW CLAS 1,40/1,60 MOCCAC SUED CAST',\n",
       " 'CABECEIRA PODIUM 090 CBOX - MDD',\n",
       " 'CABECEIRA PODIUM 140 CBOX - FNO CAF',\n",
       " 'CABECEIRA REGULAVEL TURIM 213-43 CARV/CHAMP',\n",
       " 'CABECEIRA REGULAVEL TURIM 213-44 ARTICO/CHAMP',\n",
       " 'CABECEIRA RUBI BRANCO PATRIMAR',\n",
       " 'CABECEIRA RUBI IMBUIA PATRIMAR',\n",
       " 'CABECEIRA SENA BRANCO',\n",
       " 'CABECEIRA SENA CINZA',\n",
       " 'CABECEIRA SENA ROVERE TOUCH',\n",
       " 'CABECEIRA UV4084 NATURE PECAN',\n",
       " 'CABECEIRA UV4270 VITREO',\n",
       " 'CACHEADOR AUT.ERAMIC PL 1000 NKS ESTRELAS',\n",
       " 'CACHEADOR PEARL (BIVOLT) MALLORY',\n",
       " 'CAD GLASS PLUS BR SOLIDO/PLASTICO UZ4004/10',\n",
       " 'CAD GLASS PLUS PT SOLIDO/PLASTICO UZ4004-11',\n",
       " 'CAD GLASS PLUS VERM SOLIDO/PLASTICO UZ4004/13',\n",
       " 'CAD HOLANDA CR 110 METAL CM4C009CR110',\n",
       " 'CAD HOLANDA PT FS RS 110 METAL CM2CO79PFR110',\n",
       " 'CAD HYDRA PLUS BR SOLIDO/PLASTICO UZ4002-10',\n",
       " 'CAD HYDRA PLUS PT SOLIDO/PLASTICO UZ4002-11',\n",
       " 'CAD HYDRA PLUS VERM SOLIDO/PLASTIC UZ4002-13',\n",
       " 'CAD LONDRES CR 110 METAL CM2C056CR2-110',\n",
       " 'CAD LONDRES CROMADA 21 METAL CM2C056CR21',\n",
       " 'CAD MUNIQUE CR 110 METAL CM4C047CR110 PT',\n",
       " 'CAD MUNIQUE CR 21 METAL CM4C047CR-21 MAR',\n",
       " 'CAD WIND PLUS BR SOLIDO/PLASTICO UZ4003-10',\n",
       " 'CAD WIND PLUS PT SOLIDO/PLASTICO UZ4003-11',\n",
       " 'CAD WIND PLUS VERM SOLIDO/PLASTICO UZ4003-13',\n",
       " 'CAD.FRANCINE B 267 B 270 AC.MAR ESC ENC.FLO M',\n",
       " 'CAD.FRANCINE B 281 B 281 AC.PT ENC.PT',\n",
       " 'CAD.FRANCINE B 314 B 313 AC.CZ ENC.FL CZ',\n",
       " 'CAD.FRANCINE TB RD 21 21 AC.PT ENC.PT LISO',\n",
       " 'CADEIRA ALUMINIO 100 ALEGRO',\n",
       " 'CADEIRA ALUMINIO C/ RATTAN NATURAL 520 03',\n",
       " 'CADEIRA ALUMINIO COM RATTAN CAFE 520 01',\n",
       " 'CADEIRA ASSENTO ELEVACAO MULTIKIDS BABY BB520',\n",
       " 'CADEIRA BISTRO CORURIPE BRANCA',\n",
       " 'CADEIRA BISTRO CORURIPE DUNNAS BR',\n",
       " 'CADEIRA BISTRO CORURIPE VINHO',\n",
       " 'CADEIRA BISTRO MARCELLA BRANCA PLAST HOME',\n",
       " 'CADEIRA BISTRO MARCELLA PRETO PLAST HOME',\n",
       " 'CADEIRA BISTRO PARIPUEIRA BRANCA',\n",
       " 'CADEIRA BISTRO PARIS BRANCA',\n",
       " 'CADEIRA CONDESSA CR 20 JUNC BRANCO',\n",
       " 'CADEIRA CONDESSA CR 25 JUNC BRONC LIST PT',\n",
       " 'CADEIRA CONDESSA CR 45 JUNC BRONZ PARMA BG',\n",
       " 'CADEIRA CONDESSA CR 49 JUNC BR RISC PT',\n",
       " 'CADEIRA CONDESSA CR 58 JUNC BRONZ MARRON',\n",
       " 'CADEIRA CONDESSA CR 63 JUNC BRONZ',\n",
       " 'CADEIRA CONDESSA CR 64 JUNC BRONZ CAP CLARO',\n",
       " 'CADEIRA CONDESSA CR 65 JUNC BRANG TRAN CZ',\n",
       " 'CADEIRA CONDESSA CR 66 JUNC BRONZ TRAN MAR',\n",
       " 'CADEIRA CONDESSA CR BC-74 J01 ACO NOBRE',\n",
       " 'CADEIRA DE ALUMINIO 100 TUBULAR',\n",
       " 'CADEIRA DE ALUMINIO 63391201 COM BRACO CAFE',\n",
       " 'CADEIRA DE ALUMINIO 63391202 COM BRACO BRANCA',\n",
       " 'CADEIRA DE ALUMINIO E RATTAN C 501 02 BRANCO',\n",
       " 'CADEIRA DE ALUMINIO E RATTAN C 501 03 NATURAL',\n",
       " 'CADEIRA DE ALUMINIO E RATTAN C 501 15 CARV',\n",
       " 'CADEIRA DE ALUMINIO INFANTIL PINTADA AMARELA',\n",
       " 'CADEIRA DE ALUMINIO INFANTIL PINTADA AZ',\n",
       " 'CADEIRA DE ALUMINIO INFANTIL PINTADA BR',\n",
       " 'CADEIRA DE ALUMINIO INFANTIL PINTADA RX',\n",
       " 'CADEIRA DE ALUMINIO INFANTIL PINTADA VD',\n",
       " 'CADEIRA DE ALUMINIO INFANTIL PINTADA VERMELHA',\n",
       " 'CADEIRA DE ALUMINIO MASTER',\n",
       " 'CADEIRA DE ALUMINIO MASTER PINTADA AMARELA',\n",
       " 'CADEIRA DE ALUMINIO MASTER PINTADA AZ',\n",
       " 'CADEIRA DE ALUMINIO MASTER PINTADA BR',\n",
       " 'CADEIRA DE ALUMINIO MASTER PINTADA LARANJA',\n",
       " 'CADEIRA DE ALUMINIO MASTER PINTADA PT',\n",
       " 'CADEIRA DE ALUMINIO MASTER PINTADA VD',\n",
       " 'CADEIRA DE ALUMINIO MASTER PINTADA VERMELHA',\n",
       " 'CADEIRA DE BALANCO DE ACO CB 001  KIT CB001K',\n",
       " 'CADEIRA DE RATTAN TUBULAR 102 03 NATURAL',\n",
       " 'CADEIRA DE RATTAN TUBULAR 102 04 PRETA',\n",
       " 'CADEIRA FORMATO 316 J BRONZ TC OCR PT CHE MAR',\n",
       " 'CADEIRA FORMATO 339 JUNCO BRONZ TC STO BEGE',\n",
       " 'CADEIRA FORMATO 340 JUNCO BRONZ TC VELUD MARR',\n",
       " 'CADEIRA FORMATO 363 JUNCO BRONZ J03 B',\n",
       " 'CADEIRA LAELIA 3818 BRANCA',\n",
       " 'CADEIRA LAELIA 3819 PRETA',\n",
       " 'CADEIRA LAELIA 3820 LILAS',\n",
       " 'CADEIRA LAELIA 3821 VERMELHA',\n",
       " 'CADEIRA MAYRA CR 2 61 J04 SUEDE CINZA',\n",
       " 'CADEIRA MAYRA CR 2 62 J03 SUEDE MARROM',\n",
       " 'CADEIRA MAYRA CR 2 67 J03 SUEDE CHOCOLATE',\n",
       " 'CADEIRA MAYRA CR-2-B363-J 03',\n",
       " 'CADEIRA PARA AUTO MULTIKIDS BABY BB-515 CINZA',\n",
       " 'CADEIRA PARA AUTO MULTIKIDS BABY BB518 CINZA',\n",
       " 'CADEIRA PEQUIM 45 XADREZ BR  PT',\n",
       " 'CADEIRA PEQUIM 46',\n",
       " 'CADEIRA PEQUIM 5CA541CR2 CR 20 20 BR',\n",
       " 'CADEIRA PEQUIM 5CA541CR2 CR 21 21 PT',\n",
       " 'CADEIRA PEQUIM 5CA541CR2 CR 49',\n",
       " 'CADEIRA PEQUIM 5CA541CR2 CR 50 PT RISC BR',\n",
       " 'CADEIRA PEQUIM CR 63 CAPTONE ESCURO',\n",
       " 'CADEIRA PEQUIM CR 64 CAPTONE CLARO',\n",
       " 'CADEIRA PEQUIM CR 65 TRANCADO CINZA',\n",
       " 'CADEIRA PRINCESA BR 44 CINZA',\n",
       " 'CADEIRA PRINCESA BR 50 PRETO RISC BR',\n",
       " 'CADEIRA PRINCESA BRANCO 63 CAPTONE ESCURO',\n",
       " 'CADEIRA PRINCESA CR 20 BRANCO',\n",
       " 'CADEIRA PRINCESA CR 50 PRETO RISC BR',\n",
       " 'CADEIRA PRINCESA CR 63 CAPT ESCURO',\n",
       " 'CADEIRA PRINCESA CRAQUELAD BR 36 XADREZ PT CZ',\n",
       " 'CADEIRA PRINCESA CRAQUELAD BR 49 QUAD PT RISC',\n",
       " 'CADEIRA PRINCESA CRAQUELAD ESC 64 CAPT CLARO',\n",
       " 'CADEIRA RATTAN COM ALMOFADA C60209 MARFIM',\n",
       " 'CADEIRA RATTAN TUBULAR MARROM 102',\n",
       " 'CADEIRA TURQUIA CR 20 20 BRANCO',\n",
       " 'CADEIRA TURQUIA CR 21 21 PRETO',\n",
       " 'CADEIRA TURQUIA CR 36 36 XADREZ PT CZ',\n",
       " 'CADEIRA TURQUIA CR 46 46',\n",
       " 'CADEIRA TURQUIA CR 48 48',\n",
       " 'CADEIRA TURQUIA CR 50 50 PT RISC BR',\n",
       " 'CADEIRA TURQUIA CR 64 64 CAPTONE CLARO',\n",
       " 'CADEIRA TURQUIA CR 66 66 TRANCADA MARROM',\n",
       " 'CAFETEIRA 12 XIC.CM100 B2 BLACK E DECKER',\n",
       " 'CAFETEIRA 12 XIC.CM120 B2 BLACK E DECKER',\n",
       " 'CAFETEIRA 12 XIC.CM301 B2 BLACK E DECKER',\n",
       " 'CAFETEIRA 24 CAFES CM200-B2 BLACK E DECKER',\n",
       " 'CAFETEIRA 30 CAF CMP-B2 ELET VM.PT BLACK E',\n",
       " 'CAFETEIRA AMVOX ACF227 2 220V',\n",
       " 'CAFETEIRA C-09 ELET.15XIC.220V',\n",
       " 'CAFETEIRA C-25 220V/60HZ 14 XICARAS',\n",
       " 'CAFETEIRA C-30 DOLCE AROME 18X PT INOX 220V',\n",
       " 'CAFETEIRA C-32 DOLCE AROME 32X PRETO 220V',\n",
       " 'CAFETEIRA C-35 DOLCE AROME 18X VRM INOX 220V',\n",
       " 'CAFETEIRA CAFEMAX15 MALLORY',\n",
       " 'CAFETEIRA CAFN PERFECTTA CM3408B2 NEW PT',\n",
       " 'CAFETEIRA CAFO PERFECTTA CM3428B2 NEW INOX',\n",
       " 'CAFETEIRA CAFP FILTRO FG3206B2 ARNO',\n",
       " 'CAFETEIRA CB15 BR 220V BORD INOX',\n",
       " 'CAFETEIRA CB30 INOX 220V BORD BR',\n",
       " 'CAFETEIRA CF-3015 PR2 SEMP TCL',\n",
       " 'CAFETEIRA CF-6015 PR2 SEMP TCL',\n",
       " 'CAFETEIRA CF3015 PR2 SEMP TCL',\n",
       " 'CAFETEIRA CF6015 PR2 SEMP TCL',\n",
       " 'CAFETEIRA CFG2 PERFECTTA CM4418B2 GRAN PT',\n",
       " 'CAFETEIRA CM 12 B2 12XIC.BLACK E DECKER',\n",
       " 'CAFETEIRA CP15 PT 220V BORD INOX',\n",
       " 'CAFETEIRA CP30 INOX 220V BORD PT',\n",
       " 'CAFETEIRA ELET.26XIC.C-10',\n",
       " 'CAFETEIRA MAGNIFIC CM4163 B2 BLACK E DECKER',\n",
       " 'CAFETEIRA PCA011 ELET.FAST 220 14 CAFES LENOX',\n",
       " 'CAFETEIRA PJ1006B2 NDG PICCOLO VERM 220 DP06',\n",
       " 'CAFETEIRA PJ120555 NDG MINI ME VERM 220V DMM6',\n",
       " 'CAFETEIRA PJ120855 NDG MINI ME AUT PT 220V DM',\n",
       " 'CAFETEIRA PJ120H55 NDG MINI ME PRETA/VERM 220',\n",
       " 'CAFETEIRA RI7447 20 WALITA',\n",
       " 'CAFETEIRA RI7454 20 VIVA BLACK JARRA INOX',\n",
       " 'CAFETEIRA RI7457 20 VIVA BLACK COADOR INOX',\n",
       " 'CAFETEIRA RI7476 20 C JARRA INOX 26XIC.',\n",
       " 'CAIXA ACUSTICA PHT1000 PHILCO',\n",
       " 'CAIXA ACUSTICA PHT1500',\n",
       " 'CAIXA ACUSTICA PHT3000 PHILCO',\n",
       " 'CAIXA ACUSTICA PHT5000 PHILCO',\n",
       " 'CAIXA ACUSTICA PHT80 PHILCO',\n",
       " 'CAIXA AMPLIFICADA BS 3000 USB FM',\n",
       " 'CAIXA AMPLIFICADA BS 5000 USB FM',\n",
       " 'CAIXA AMPLIFICADA CA305 LENOXX',\n",
       " 'CAIXA AMPLIFICADA CM-07 MONDIAL',\n",
       " 'CAIXA AMPLIFICADA CM-08 MONDIAL',\n",
       " 'CAIXA AMPLIFICADA CM-11 MULT CONECT PARTY BIV',\n",
       " 'CAIXA AMPLIFICADA CM-13 BIVOLT BLUETOOTH',\n",
       " 'CAIXA AMPLIFICADA CM06 MONDIAL',\n",
       " 'CAIXA AMPLIFICADA COM-02 MULT CONNECT MONDIAL',\n",
       " 'CAIXA AMPLIFICADA MCO-03 MULT CONNECT MONDIAL',\n",
       " 'CAIXA AMPLIFICADA MCO-04 MULT CONNECT MONDIAL',\n",
       " 'CAIXA AMPLIFICADA MCO-07 MULTI CONNECT',\n",
       " 'CAIXA AMPLIFICADA MULTI CONNECT MCO 01',\n",
       " 'CAIXA AMPLIFICADA MULTIMIDIA CM 01 BIV.',\n",
       " 'CAIXA AMPLIFICADA MULTIMIDIA CM 02 BIV.',\n",
       " 'CAIXA AMPLIFICADA SP200 TROLLEY MULTILASER',\n",
       " 'CAIXA DE SOM BLUETOOT SP186 PT E VERM',\n",
       " 'CAIXA DE SOM MINI SYSTEM SP141 C DVD USB',\n",
       " 'CAIXA DE SOM MULTIMIDIA 2.1 SM-CS3313B PRETO',\n",
       " 'CAIXA TERMICA 26L 25108171 AZUL',\n",
       " 'CAIXA TERMICA 26L 25108172 VERMELHA',\n",
       " 'CAIXA TERMICA 34L 25108161 AZUL',\n",
       " 'CAIXA TERMICA 34L 25108162 VERMELHA',\n",
       " 'CAMA ADSIVADA SOLTEIRO Nº401318 LX',\n",
       " ...]"
      ]
     },
     "execution_count": 7,
     "metadata": {},
     "output_type": "execute_result"
    }
   ],
   "source": [
    "cols"
   ]
  },
  {
   "cell_type": "code",
   "execution_count": 8,
   "metadata": {},
   "outputs": [
    {
     "name": "stderr",
     "output_type": "stream",
     "text": [
      "/home/itamar/anaconda3/lib/python3.7/site-packages/statsmodels/tools/_testing.py:19: FutureWarning: pandas.util.testing is deprecated. Use the functions in the public API at pandas.testing instead.\n",
      "  import pandas.util.testing as tm\n"
     ]
    }
   ],
   "source": [
    "import missingno as msno;"
   ]
  },
  {
   "cell_type": "code",
   "execution_count": 9,
   "metadata": {},
   "outputs": [
    {
     "data": {
      "text/plain": [
       "<matplotlib.axes._subplots.AxesSubplot at 0x7efbccfefa90>"
      ]
     },
     "execution_count": 9,
     "metadata": {},
     "output_type": "execute_result"
    },
    {
     "data": {
      "image/png": "[encoded data removed]",
      "text/plain": [
       "<Figure size 1728x720 with 2 Axes>"
      ]
     },
     "metadata": {
      "needs_background": "light"
     },
     "output_type": "display_data"
    }
   ],
   "source": [
    "msno.bar(df)"
   ]
  },
  {
   "cell_type": "code",
   "execution_count": 11,
   "metadata": {},
   "outputs": [],
   "source": [
    "missing = (df.isnull()/df.shape[0]).sum(axis = 0)"
   ]
  },
  {
   "cell_type": "code",
   "execution_count": 12,
   "metadata": {},
   "outputs": [],
   "source": [
    "sorted_missing = missing.sort_values(ascending = False)"
   ]
  },
  {
   "cell_type": "code",
   "execution_count": 13,
   "metadata": {},
   "outputs": [
    {
     "data": {
      "text/plain": [
       "PRANCHA GAMA BLOOM ION BECHS0000001498 LJ/AZ    0.890313\n",
       "PAINEL HOME CAPRI AVELA/OFF WHITE               0.890313\n",
       "CONJ 5PC CR5P ROCHEDO IDEA ROXA R2S1G4A61       0.890313\n",
       "KIT VOGUE 8PT BC LHBC CP-LHPR                   0.890313\n",
       "BOMBE PREMIER AMARELO PATRIMAR                  0.890313\n",
       "                                                  ...   \n",
       "BEBEDOURO EGM 30 BR ESTILO                      0.000000\n",
       "BEBEDOURO EGM 30 PRETO                          0.000000\n",
       "SMARTPHONE MOTOROLA MOTO G 3 16GB 2GRAM PRET    0.000000\n",
       "BEBEDOURO EGM 30 VERDE                          0.000000\n",
       "BALCAO BA-35 BR UV                              0.000000\n",
       "Length: 6223, dtype: float64"
      ]
     },
     "execution_count": 13,
     "metadata": {},
     "output_type": "execute_result"
    }
   ],
   "source": [
    "sorted_missing"
   ]
  },
  {
   "cell_type": "code",
   "execution_count": 14,
   "metadata": {
    "scrolled": false
   },
   "outputs": [
    {
     "data": {
      "text/plain": [
       "0.5725622438221263"
      ]
     },
     "execution_count": 14,
     "metadata": {},
     "output_type": "execute_result"
    }
   ],
   "source": [
    "sorted_missing.mean()"
   ]
  },
  {
   "cell_type": "code",
   "execution_count": 15,
   "metadata": {},
   "outputs": [
    {
     "data": {
      "text/plain": [
       "Timestamp('2015-01-02 00:00:00')"
      ]
     },
     "execution_count": 15,
     "metadata": {},
     "output_type": "execute_result"
    }
   ],
   "source": [
    "df.index[0]"
   ]
  },
  {
   "cell_type": "code",
   "execution_count": 16,
   "metadata": {},
   "outputs": [
    {
     "data": {
      "text/plain": [
       "Timestamp('2019-06-25 00:00:00')"
      ]
     },
     "execution_count": 16,
     "metadata": {},
     "output_type": "execute_result"
    }
   ],
   "source": [
    "df.index[-1]"
   ]
  },
  {
   "cell_type": "markdown",
   "metadata": {},
   "source": [
    "* Our data finishes at 25/06/2019"
   ]
  },
  {
   "cell_type": "code",
   "execution_count": 17,
   "metadata": {},
   "outputs": [],
   "source": [
    "last_year_data = df.loc[((df.index.year == 2018) & (df.index.month >= 6)) | (df.index.year == 2019)]"
   ]
  },
  {
   "cell_type": "code",
   "execution_count": 18,
   "metadata": {},
   "outputs": [
    {
     "data": {
      "text/plain": [
       "(347, 6223)"
      ]
     },
     "execution_count": 18,
     "metadata": {},
     "output_type": "execute_result"
    }
   ],
   "source": [
    "last_year_data.shape"
   ]
  },
  {
   "cell_type": "code",
   "execution_count": 19,
   "metadata": {
    "scrolled": false
   },
   "outputs": [],
   "source": [
    "last_year_data = last_year_data.loc[~((last_year_data.index.year == 2018) & (last_year_data.index.month == 6) & (last_year_data.index.day < 25))]"
   ]
  },
  {
   "cell_type": "code",
   "execution_count": 20,
   "metadata": {},
   "outputs": [
    {
     "data": {
      "text/html": [
       "<div>\n",
       "<style scoped>\n",
       "    .dataframe tbody tr th:only-of-type {\n",
       "        vertical-align: middle;\n",
       "    }\n",
       "\n",
       "    .dataframe tbody tr th {\n",
       "        vertical-align: top;\n",
       "    }\n",
       "\n",
       "    .dataframe thead th {\n",
       "        text-align: right;\n",
       "    }\n",
       "</style>\n",
       "<table border=\"1\" class=\"dataframe\">\n",
       "  <thead>\n",
       "    <tr style=\"text-align: right;\">\n",
       "      <th></th>\n",
       "      <th>ACESSORIO CABO DE FORCA BR 1,80M PRETO M/F C7</th>\n",
       "      <th>ACESSORIO MONOPOD PAU DE SELFIE CABO AMARELO</th>\n",
       "      <th>ACESSORIO MONOPOD PAU DE SELFIE CABO AZUL</th>\n",
       "      <th>ACESSORIO MONOPOD PAU DE SELFIE CABO BRANCO</th>\n",
       "      <th>ACESSORIO MONOPOD PAU DE SELFIE CABO PRETO</th>\n",
       "      <th>ACESSORIO MONOPOD PAU DE SELFIE CABO ROSA</th>\n",
       "      <th>AEREO 120CM 3P CG196 TKA-VERMONT</th>\n",
       "      <th>AEREO 80CM 1P BASCULANTE CG200 TKA-VERMONT</th>\n",
       "      <th>AEREO 80CM 1P.BASCULANTE CG147 TEKA MAD.DEMOL</th>\n",
       "      <th>AEREO CD-211 DUPLO C/NICHO CARV/BR UV</th>\n",
       "      <th>...</th>\n",
       "      <th>ZTE R236 DB</th>\n",
       "      <th>ZTE R260 DB</th>\n",
       "      <th>ZTE R260 GARFIELD DB</th>\n",
       "      <th>ZTE S518 DB</th>\n",
       "      <th>ZTE S518 PRETO TIM</th>\n",
       "      <th>ZTE V821 DB</th>\n",
       "      <th>ZTE X670 MINI DB</th>\n",
       "      <th>ZTE X730 DB</th>\n",
       "      <th>ZTE X850 SMARTPHONE VIVO</th>\n",
       "      <th>ZTE X993 PRETO VERM</th>\n",
       "    </tr>\n",
       "  </thead>\n",
       "  <tbody>\n",
       "    <tr>\n",
       "      <th>2018-06-25</th>\n",
       "      <td>NaN</td>\n",
       "      <td>NaN</td>\n",
       "      <td>NaN</td>\n",
       "      <td>NaN</td>\n",
       "      <td>NaN</td>\n",
       "      <td>NaN</td>\n",
       "      <td>0.0</td>\n",
       "      <td>1.0</td>\n",
       "      <td>0.0</td>\n",
       "      <td>0.0</td>\n",
       "      <td>...</td>\n",
       "      <td>0.0</td>\n",
       "      <td>0.0</td>\n",
       "      <td>0.0</td>\n",
       "      <td>0.0</td>\n",
       "      <td>0.0</td>\n",
       "      <td>0.0</td>\n",
       "      <td>0.0</td>\n",
       "      <td>0.0</td>\n",
       "      <td>NaN</td>\n",
       "      <td>0.0</td>\n",
       "    </tr>\n",
       "    <tr>\n",
       "      <th>2018-06-26</th>\n",
       "      <td>NaN</td>\n",
       "      <td>NaN</td>\n",
       "      <td>NaN</td>\n",
       "      <td>NaN</td>\n",
       "      <td>NaN</td>\n",
       "      <td>NaN</td>\n",
       "      <td>0.0</td>\n",
       "      <td>0.0</td>\n",
       "      <td>0.0</td>\n",
       "      <td>0.0</td>\n",
       "      <td>...</td>\n",
       "      <td>0.0</td>\n",
       "      <td>0.0</td>\n",
       "      <td>0.0</td>\n",
       "      <td>0.0</td>\n",
       "      <td>0.0</td>\n",
       "      <td>0.0</td>\n",
       "      <td>0.0</td>\n",
       "      <td>0.0</td>\n",
       "      <td>NaN</td>\n",
       "      <td>0.0</td>\n",
       "    </tr>\n",
       "    <tr>\n",
       "      <th>2018-06-27</th>\n",
       "      <td>NaN</td>\n",
       "      <td>NaN</td>\n",
       "      <td>NaN</td>\n",
       "      <td>NaN</td>\n",
       "      <td>NaN</td>\n",
       "      <td>NaN</td>\n",
       "      <td>0.0</td>\n",
       "      <td>0.0</td>\n",
       "      <td>0.0</td>\n",
       "      <td>0.0</td>\n",
       "      <td>...</td>\n",
       "      <td>0.0</td>\n",
       "      <td>0.0</td>\n",
       "      <td>0.0</td>\n",
       "      <td>0.0</td>\n",
       "      <td>0.0</td>\n",
       "      <td>0.0</td>\n",
       "      <td>0.0</td>\n",
       "      <td>0.0</td>\n",
       "      <td>NaN</td>\n",
       "      <td>0.0</td>\n",
       "    </tr>\n",
       "    <tr>\n",
       "      <th>2018-06-28</th>\n",
       "      <td>NaN</td>\n",
       "      <td>NaN</td>\n",
       "      <td>NaN</td>\n",
       "      <td>NaN</td>\n",
       "      <td>NaN</td>\n",
       "      <td>NaN</td>\n",
       "      <td>0.0</td>\n",
       "      <td>0.0</td>\n",
       "      <td>0.0</td>\n",
       "      <td>0.0</td>\n",
       "      <td>...</td>\n",
       "      <td>0.0</td>\n",
       "      <td>0.0</td>\n",
       "      <td>0.0</td>\n",
       "      <td>0.0</td>\n",
       "      <td>0.0</td>\n",
       "      <td>0.0</td>\n",
       "      <td>0.0</td>\n",
       "      <td>0.0</td>\n",
       "      <td>NaN</td>\n",
       "      <td>0.0</td>\n",
       "    </tr>\n",
       "    <tr>\n",
       "      <th>2018-06-29</th>\n",
       "      <td>NaN</td>\n",
       "      <td>NaN</td>\n",
       "      <td>NaN</td>\n",
       "      <td>NaN</td>\n",
       "      <td>NaN</td>\n",
       "      <td>NaN</td>\n",
       "      <td>0.0</td>\n",
       "      <td>0.0</td>\n",
       "      <td>0.0</td>\n",
       "      <td>0.0</td>\n",
       "      <td>...</td>\n",
       "      <td>0.0</td>\n",
       "      <td>0.0</td>\n",
       "      <td>0.0</td>\n",
       "      <td>0.0</td>\n",
       "      <td>0.0</td>\n",
       "      <td>0.0</td>\n",
       "      <td>0.0</td>\n",
       "      <td>0.0</td>\n",
       "      <td>NaN</td>\n",
       "      <td>0.0</td>\n",
       "    </tr>\n",
       "    <tr>\n",
       "      <th>...</th>\n",
       "      <td>...</td>\n",
       "      <td>...</td>\n",
       "      <td>...</td>\n",
       "      <td>...</td>\n",
       "      <td>...</td>\n",
       "      <td>...</td>\n",
       "      <td>...</td>\n",
       "      <td>...</td>\n",
       "      <td>...</td>\n",
       "      <td>...</td>\n",
       "      <td>...</td>\n",
       "      <td>...</td>\n",
       "      <td>...</td>\n",
       "      <td>...</td>\n",
       "      <td>...</td>\n",
       "      <td>...</td>\n",
       "      <td>...</td>\n",
       "      <td>...</td>\n",
       "      <td>...</td>\n",
       "      <td>...</td>\n",
       "      <td>...</td>\n",
       "    </tr>\n",
       "    <tr>\n",
       "      <th>2019-06-19</th>\n",
       "      <td>NaN</td>\n",
       "      <td>NaN</td>\n",
       "      <td>NaN</td>\n",
       "      <td>NaN</td>\n",
       "      <td>NaN</td>\n",
       "      <td>NaN</td>\n",
       "      <td>NaN</td>\n",
       "      <td>NaN</td>\n",
       "      <td>NaN</td>\n",
       "      <td>0.0</td>\n",
       "      <td>...</td>\n",
       "      <td>NaN</td>\n",
       "      <td>NaN</td>\n",
       "      <td>NaN</td>\n",
       "      <td>NaN</td>\n",
       "      <td>NaN</td>\n",
       "      <td>NaN</td>\n",
       "      <td>NaN</td>\n",
       "      <td>NaN</td>\n",
       "      <td>NaN</td>\n",
       "      <td>NaN</td>\n",
       "    </tr>\n",
       "    <tr>\n",
       "      <th>2019-06-20</th>\n",
       "      <td>NaN</td>\n",
       "      <td>NaN</td>\n",
       "      <td>NaN</td>\n",
       "      <td>NaN</td>\n",
       "      <td>NaN</td>\n",
       "      <td>NaN</td>\n",
       "      <td>NaN</td>\n",
       "      <td>NaN</td>\n",
       "      <td>NaN</td>\n",
       "      <td>0.0</td>\n",
       "      <td>...</td>\n",
       "      <td>NaN</td>\n",
       "      <td>NaN</td>\n",
       "      <td>NaN</td>\n",
       "      <td>NaN</td>\n",
       "      <td>NaN</td>\n",
       "      <td>NaN</td>\n",
       "      <td>NaN</td>\n",
       "      <td>NaN</td>\n",
       "      <td>NaN</td>\n",
       "      <td>NaN</td>\n",
       "    </tr>\n",
       "    <tr>\n",
       "      <th>2019-06-21</th>\n",
       "      <td>NaN</td>\n",
       "      <td>NaN</td>\n",
       "      <td>NaN</td>\n",
       "      <td>NaN</td>\n",
       "      <td>NaN</td>\n",
       "      <td>NaN</td>\n",
       "      <td>NaN</td>\n",
       "      <td>NaN</td>\n",
       "      <td>NaN</td>\n",
       "      <td>0.0</td>\n",
       "      <td>...</td>\n",
       "      <td>NaN</td>\n",
       "      <td>NaN</td>\n",
       "      <td>NaN</td>\n",
       "      <td>NaN</td>\n",
       "      <td>NaN</td>\n",
       "      <td>NaN</td>\n",
       "      <td>NaN</td>\n",
       "      <td>NaN</td>\n",
       "      <td>NaN</td>\n",
       "      <td>NaN</td>\n",
       "    </tr>\n",
       "    <tr>\n",
       "      <th>2019-06-22</th>\n",
       "      <td>NaN</td>\n",
       "      <td>NaN</td>\n",
       "      <td>NaN</td>\n",
       "      <td>NaN</td>\n",
       "      <td>NaN</td>\n",
       "      <td>NaN</td>\n",
       "      <td>NaN</td>\n",
       "      <td>NaN</td>\n",
       "      <td>NaN</td>\n",
       "      <td>0.0</td>\n",
       "      <td>...</td>\n",
       "      <td>NaN</td>\n",
       "      <td>NaN</td>\n",
       "      <td>NaN</td>\n",
       "      <td>NaN</td>\n",
       "      <td>NaN</td>\n",
       "      <td>NaN</td>\n",
       "      <td>NaN</td>\n",
       "      <td>NaN</td>\n",
       "      <td>NaN</td>\n",
       "      <td>NaN</td>\n",
       "    </tr>\n",
       "    <tr>\n",
       "      <th>2019-06-25</th>\n",
       "      <td>NaN</td>\n",
       "      <td>NaN</td>\n",
       "      <td>NaN</td>\n",
       "      <td>NaN</td>\n",
       "      <td>NaN</td>\n",
       "      <td>NaN</td>\n",
       "      <td>NaN</td>\n",
       "      <td>NaN</td>\n",
       "      <td>NaN</td>\n",
       "      <td>0.0</td>\n",
       "      <td>...</td>\n",
       "      <td>NaN</td>\n",
       "      <td>NaN</td>\n",
       "      <td>NaN</td>\n",
       "      <td>NaN</td>\n",
       "      <td>NaN</td>\n",
       "      <td>NaN</td>\n",
       "      <td>NaN</td>\n",
       "      <td>NaN</td>\n",
       "      <td>NaN</td>\n",
       "      <td>NaN</td>\n",
       "    </tr>\n",
       "  </tbody>\n",
       "</table>\n",
       "<p>327 rows × 6223 columns</p>\n",
       "</div>"
      ],
      "text/plain": [
       "            ACESSORIO CABO DE FORCA BR 1,80M PRETO M/F C7  \\\n",
       "2018-06-25                                            NaN   \n",
       "2018-06-26                                            NaN   \n",
       "2018-06-27                                            NaN   \n",
       "2018-06-28                                            NaN   \n",
       "2018-06-29                                            NaN   \n",
       "...                                                   ...   \n",
       "2019-06-19                                            NaN   \n",
       "2019-06-20                                            NaN   \n",
       "2019-06-21                                            NaN   \n",
       "2019-06-22                                            NaN   \n",
       "2019-06-25                                            NaN   \n",
       "\n",
       "            ACESSORIO MONOPOD PAU DE SELFIE CABO AMARELO  \\\n",
       "2018-06-25                                           NaN   \n",
       "2018-06-26                                           NaN   \n",
       "2018-06-27                                           NaN   \n",
       "2018-06-28                                           NaN   \n",
       "2018-06-29                                           NaN   \n",
       "...                                                  ...   \n",
       "2019-06-19                                           NaN   \n",
       "2019-06-20                                           NaN   \n",
       "2019-06-21                                           NaN   \n",
       "2019-06-22                                           NaN   \n",
       "2019-06-25                                           NaN   \n",
       "\n",
       "            ACESSORIO MONOPOD PAU DE SELFIE CABO AZUL  \\\n",
       "2018-06-25                                        NaN   \n",
       "2018-06-26                                        NaN   \n",
       "2018-06-27                                        NaN   \n",
       "2018-06-28                                        NaN   \n",
       "2018-06-29                                        NaN   \n",
       "...                                               ...   \n",
       "2019-06-19                                        NaN   \n",
       "2019-06-20                                        NaN   \n",
       "2019-06-21                                        NaN   \n",
       "2019-06-22                                        NaN   \n",
       "2019-06-25                                        NaN   \n",
       "\n",
       "            ACESSORIO MONOPOD PAU DE SELFIE CABO BRANCO  \\\n",
       "2018-06-25                                          NaN   \n",
       "2018-06-26                                          NaN   \n",
       "2018-06-27                                          NaN   \n",
       "2018-06-28                                          NaN   \n",
       "2018-06-29                                          NaN   \n",
       "...                                                 ...   \n",
       "2019-06-19                                          NaN   \n",
       "2019-06-20                                          NaN   \n",
       "2019-06-21                                          NaN   \n",
       "2019-06-22                                          NaN   \n",
       "2019-06-25                                          NaN   \n",
       "\n",
       "            ACESSORIO MONOPOD PAU DE SELFIE CABO PRETO  \\\n",
       "2018-06-25                                         NaN   \n",
       "2018-06-26                                         NaN   \n",
       "2018-06-27                                         NaN   \n",
       "2018-06-28                                         NaN   \n",
       "2018-06-29                                         NaN   \n",
       "...                                                ...   \n",
       "2019-06-19                                         NaN   \n",
       "2019-06-20                                         NaN   \n",
       "2019-06-21                                         NaN   \n",
       "2019-06-22                                         NaN   \n",
       "2019-06-25                                         NaN   \n",
       "\n",
       "            ACESSORIO MONOPOD PAU DE SELFIE CABO ROSA  \\\n",
       "2018-06-25                                        NaN   \n",
       "2018-06-26                                        NaN   \n",
       "2018-06-27                                        NaN   \n",
       "2018-06-28                                        NaN   \n",
       "2018-06-29                                        NaN   \n",
       "...                                               ...   \n",
       "2019-06-19                                        NaN   \n",
       "2019-06-20                                        NaN   \n",
       "2019-06-21                                        NaN   \n",
       "2019-06-22                                        NaN   \n",
       "2019-06-25                                        NaN   \n",
       "\n",
       "            AEREO 120CM 3P CG196 TKA-VERMONT  \\\n",
       "2018-06-25                               0.0   \n",
       "2018-06-26                               0.0   \n",
       "2018-06-27                               0.0   \n",
       "2018-06-28                               0.0   \n",
       "2018-06-29                               0.0   \n",
       "...                                      ...   \n",
       "2019-06-19                               NaN   \n",
       "2019-06-20                               NaN   \n",
       "2019-06-21                               NaN   \n",
       "2019-06-22                               NaN   \n",
       "2019-06-25                               NaN   \n",
       "\n",
       "            AEREO 80CM 1P BASCULANTE CG200 TKA-VERMONT  \\\n",
       "2018-06-25                                         1.0   \n",
       "2018-06-26                                         0.0   \n",
       "2018-06-27                                         0.0   \n",
       "2018-06-28                                         0.0   \n",
       "2018-06-29                                         0.0   \n",
       "...                                                ...   \n",
       "2019-06-19                                         NaN   \n",
       "2019-06-20                                         NaN   \n",
       "2019-06-21                                         NaN   \n",
       "2019-06-22                                         NaN   \n",
       "2019-06-25                                         NaN   \n",
       "\n",
       "            AEREO 80CM 1P.BASCULANTE CG147 TEKA MAD.DEMOL  \\\n",
       "2018-06-25                                            0.0   \n",
       "2018-06-26                                            0.0   \n",
       "2018-06-27                                            0.0   \n",
       "2018-06-28                                            0.0   \n",
       "2018-06-29                                            0.0   \n",
       "...                                                   ...   \n",
       "2019-06-19                                            NaN   \n",
       "2019-06-20                                            NaN   \n",
       "2019-06-21                                            NaN   \n",
       "2019-06-22                                            NaN   \n",
       "2019-06-25                                            NaN   \n",
       "\n",
       "            AEREO CD-211 DUPLO C/NICHO CARV/BR UV  ...  ZTE R236 DB  \\\n",
       "2018-06-25                                    0.0  ...          0.0   \n",
       "2018-06-26                                    0.0  ...          0.0   \n",
       "2018-06-27                                    0.0  ...          0.0   \n",
       "2018-06-28                                    0.0  ...          0.0   \n",
       "2018-06-29                                    0.0  ...          0.0   \n",
       "...                                           ...  ...          ...   \n",
       "2019-06-19                                    0.0  ...          NaN   \n",
       "2019-06-20                                    0.0  ...          NaN   \n",
       "2019-06-21                                    0.0  ...          NaN   \n",
       "2019-06-22                                    0.0  ...          NaN   \n",
       "2019-06-25                                    0.0  ...          NaN   \n",
       "\n",
       "            ZTE R260 DB  ZTE R260 GARFIELD DB  ZTE S518 DB  \\\n",
       "2018-06-25          0.0                   0.0          0.0   \n",
       "2018-06-26          0.0                   0.0          0.0   \n",
       "2018-06-27          0.0                   0.0          0.0   \n",
       "2018-06-28          0.0                   0.0          0.0   \n",
       "2018-06-29          0.0                   0.0          0.0   \n",
       "...                 ...                   ...          ...   \n",
       "2019-06-19          NaN                   NaN          NaN   \n",
       "2019-06-20          NaN                   NaN          NaN   \n",
       "2019-06-21          NaN                   NaN          NaN   \n",
       "2019-06-22          NaN                   NaN          NaN   \n",
       "2019-06-25          NaN                   NaN          NaN   \n",
       "\n",
       "            ZTE S518 PRETO TIM  ZTE V821 DB  ZTE X670 MINI DB  ZTE X730 DB  \\\n",
       "2018-06-25                 0.0          0.0               0.0          0.0   \n",
       "2018-06-26                 0.0          0.0               0.0          0.0   \n",
       "2018-06-27                 0.0          0.0               0.0          0.0   \n",
       "2018-06-28                 0.0          0.0               0.0          0.0   \n",
       "2018-06-29                 0.0          0.0               0.0          0.0   \n",
       "...                        ...          ...               ...          ...   \n",
       "2019-06-19                 NaN          NaN               NaN          NaN   \n",
       "2019-06-20                 NaN          NaN               NaN          NaN   \n",
       "2019-06-21                 NaN          NaN               NaN          NaN   \n",
       "2019-06-22                 NaN          NaN               NaN          NaN   \n",
       "2019-06-25                 NaN          NaN               NaN          NaN   \n",
       "\n",
       "            ZTE X850 SMARTPHONE VIVO  ZTE X993 PRETO VERM  \n",
       "2018-06-25                       NaN                  0.0  \n",
       "2018-06-26                       NaN                  0.0  \n",
       "2018-06-27                       NaN                  0.0  \n",
       "2018-06-28                       NaN                  0.0  \n",
       "2018-06-29                       NaN                  0.0  \n",
       "...                              ...                  ...  \n",
       "2019-06-19                       NaN                  NaN  \n",
       "2019-06-20                       NaN                  NaN  \n",
       "2019-06-21                       NaN                  NaN  \n",
       "2019-06-22                       NaN                  NaN  \n",
       "2019-06-25                       NaN                  NaN  \n",
       "\n",
       "[327 rows x 6223 columns]"
      ]
     },
     "execution_count": 20,
     "metadata": {},
     "output_type": "execute_result"
    }
   ],
   "source": [
    "last_year_data"
   ]
  },
  {
   "cell_type": "code",
   "execution_count": 21,
   "metadata": {
    "scrolled": false
   },
   "outputs": [
    {
     "data": {
      "text/plain": [
       "<matplotlib.axes._subplots.AxesSubplot at 0x7efb947c7f90>"
      ]
     },
     "execution_count": 21,
     "metadata": {},
     "output_type": "execute_result"
    },
    {
     "data": {
      "image/png": "[encoded data removed]",
      "text/plain": [
       "<Figure size 1728x720 with 2 Axes>"
      ]
     },
     "metadata": {
      "needs_background": "light"
     },
     "output_type": "display_data"
    }
   ],
   "source": [
    "msno.bar(last_year_data)"
   ]
  },
  {
   "cell_type": "markdown",
   "metadata": {},
   "source": [
    "* we can basically drop the products that are missing in the last year. We should not drop products that appear nearly 50% due to seasonality"
   ]
  },
  {
   "cell_type": "code",
   "execution_count": 27,
   "metadata": {},
   "outputs": [
    {
     "data": {
      "text/plain": [
       "DatetimeIndex(['2018-06-25', '2018-06-26', '2018-06-27', '2018-06-28',\n",
       "               '2018-06-29', '2018-06-30', '2018-07-02', '2018-07-03',\n",
       "               '2018-07-04', '2018-07-05',\n",
       "               ...\n",
       "               '2019-06-13', '2019-06-14', '2019-06-15', '2019-06-17',\n",
       "               '2019-06-18', '2019-06-19', '2019-06-20', '2019-06-21',\n",
       "               '2019-06-22', '2019-06-25'],\n",
       "              dtype='datetime64[ns]', length=327, freq=None)"
      ]
     },
     "execution_count": 27,
     "metadata": {},
     "output_type": "execute_result"
    }
   ],
   "source": [
    "last_year_data.index"
   ]
  },
  {
   "cell_type": "code",
   "execution_count": 40,
   "metadata": {},
   "outputs": [],
   "source": [
    "drop_cols = last_year_data.isnull().sum() / last_year_data.shape[0] > 0.5"
   ]
  },
  {
   "cell_type": "code",
   "execution_count": 44,
   "metadata": {},
   "outputs": [],
   "source": [
    "df = df.drop(columns = df.columns[drop_cols])"
   ]
  },
  {
   "cell_type": "code",
   "execution_count": 45,
   "metadata": {},
   "outputs": [
    {
     "data": {
      "text/plain": [
       "(1404, 2862)"
      ]
     },
     "execution_count": 45,
     "metadata": {},
     "output_type": "execute_result"
    }
   ],
   "source": [
    "df.shape"
   ]
  },
  {
   "cell_type": "markdown",
   "metadata": {},
   "source": [
    "* dropped more than half of the data"
   ]
  },
  {
   "cell_type": "markdown",
   "metadata": {},
   "source": [
    "## Selecting a product"
   ]
  },
  {
   "cell_type": "code",
   "execution_count": 209,
   "metadata": {},
   "outputs": [],
   "source": [
    "frequent = df"
   ]
  },
  {
   "cell_type": "code",
   "execution_count": 174,
   "metadata": {},
   "outputs": [],
   "source": [
    "frequent.to_csv(\"frequent.csv\")"
   ]
  },
  {
   "attachments": {},
   "cell_type": "markdown",
   "metadata": {},
   "source": [
    "CHIP OI 4G 128KB  \n",
    "CHIP OI 4G HLR 39  \n",
    "CHIP OI TOTAL HLR 52 128K  PRE  \n",
    "CHIP TIM INFINITY PRE HRD TRIPLO 4G\t  \n",
    "CHIP VIVO 4G 128K P19 HRS PRE  "
   ]
  },
  {
   "cell_type": "markdown",
   "metadata": {},
   "source": [
    "### Chip Vivo"
   ]
  },
  {
   "cell_type": "code",
   "execution_count": 210,
   "metadata": {},
   "outputs": [],
   "source": [
    "chip_vivo = frequent[\"CHIP VIVO 4G 128K P19 HRS PRE\"]"
   ]
  },
  {
   "cell_type": "code",
   "execution_count": 211,
   "metadata": {},
   "outputs": [
    {
     "data": {
      "text/plain": [
       "2015-01-02    17.0\n",
       "2015-01-03    20.0\n",
       "2015-01-05    19.0\n",
       "2015-01-06    20.0\n",
       "2015-01-07    22.0\n",
       "              ... \n",
       "2019-06-19     1.0\n",
       "2019-06-20     3.0\n",
       "2019-06-21     3.0\n",
       "2019-06-22     2.0\n",
       "2019-06-25     2.0\n",
       "Name: CHIP VIVO 4G 128K P19 HRS PRE, Length: 1404, dtype: float64"
      ]
     },
     "execution_count": 211,
     "metadata": {},
     "output_type": "execute_result"
    }
   ],
   "source": [
    "chip_vivo"
   ]
  },
  {
   "cell_type": "code",
   "execution_count": 212,
   "metadata": {},
   "outputs": [
    {
     "data": {
      "text/plain": [
       "0"
      ]
     },
     "execution_count": 212,
     "metadata": {},
     "output_type": "execute_result"
    }
   ],
   "source": [
    "chip_vivo.isnull().sum()"
   ]
  },
  {
   "cell_type": "markdown",
   "metadata": {},
   "source": [
    "* Aparentemente ótimo produto para ser testado visto que tem vendas do começo ao fim e não tem nenhum valor nulo"
   ]
  },
  {
   "cell_type": "code",
   "execution_count": 213,
   "metadata": {},
   "outputs": [],
   "source": [
    "checkpoint_vivo = chip_vivo.copy()"
   ]
  },
  {
   "cell_type": "markdown",
   "metadata": {},
   "source": [
    "### Chip tim"
   ]
  },
  {
   "cell_type": "code",
   "execution_count": 214,
   "metadata": {},
   "outputs": [],
   "source": [
    "chip_tim = frequent[\"CHIP TIM INFINITY PRE HRD TRIPLO 4G\"]"
   ]
  },
  {
   "cell_type": "code",
   "execution_count": 215,
   "metadata": {},
   "outputs": [
    {
     "data": {
      "text/plain": [
       "1095"
      ]
     },
     "execution_count": 215,
     "metadata": {},
     "output_type": "execute_result"
    }
   ],
   "source": [
    "chip_tim.shape[0]"
   ]
  },
  {
   "cell_type": "code",
   "execution_count": 216,
   "metadata": {},
   "outputs": [
    {
     "data": {
      "text/plain": [
       "0"
      ]
     },
     "execution_count": 216,
     "metadata": {},
     "output_type": "execute_result"
    }
   ],
   "source": [
    "chip_tim.isnull().sum()"
   ]
  },
  {
   "cell_type": "markdown",
   "metadata": {},
   "source": [
    "* Temos 309 valores nulos (zeros não são considerados apenas NaNs)"
   ]
  },
  {
   "cell_type": "code",
   "execution_count": 217,
   "metadata": {},
   "outputs": [
    {
     "data": {
      "text/plain": [
       "0"
      ]
     },
     "execution_count": 217,
     "metadata": {},
     "output_type": "execute_result"
    }
   ],
   "source": [
    "chip_tim.index = pd.to_datetime(chip_tim.index) # converting to datetime\n",
    "\n",
    "(chip_tim.index.year == 2015).sum()"
   ]
  },
  {
   "cell_type": "code",
   "execution_count": 218,
   "metadata": {},
   "outputs": [],
   "source": [
    "chip_tim.dropna(inplace=True)"
   ]
  },
  {
   "cell_type": "markdown",
   "metadata": {},
   "source": [
    "* Dropando esses valores"
   ]
  },
  {
   "cell_type": "code",
   "execution_count": 219,
   "metadata": {},
   "outputs": [
    {
     "data": {
      "text/plain": [
       "2016-01-02     0.0\n",
       "2016-01-04     0.0\n",
       "2016-01-05     0.0\n",
       "2016-01-06     0.0\n",
       "2016-01-07     0.0\n",
       "              ... \n",
       "2019-06-19    11.0\n",
       "2019-06-20     6.0\n",
       "2019-06-21    11.0\n",
       "2019-06-22     2.0\n",
       "2019-06-25     5.0\n",
       "Name: CHIP TIM INFINITY PRE HRD TRIPLO 4G, Length: 1095, dtype: float64"
      ]
     },
     "execution_count": 219,
     "metadata": {},
     "output_type": "execute_result"
    }
   ],
   "source": [
    "chip_tim"
   ]
  },
  {
   "cell_type": "markdown",
   "metadata": {},
   "source": [
    "* Aparentement chip da tim só começou a ser vendido em 2016."
   ]
  },
  {
   "cell_type": "code",
   "execution_count": 220,
   "metadata": {},
   "outputs": [],
   "source": [
    "checkpoint_tim = chip_tim.copy()"
   ]
  },
  {
   "cell_type": "markdown",
   "metadata": {},
   "source": [
    "## Baseline"
   ]
  },
  {
   "cell_type": "code",
   "execution_count": 221,
   "metadata": {},
   "outputs": [],
   "source": [
    "import tensorflow as tf\n",
    "from tensorflow import keras\n",
    "import numpy as np\n",
    "import matplotlib.pyplot as plt"
   ]
  },
  {
   "cell_type": "code",
   "execution_count": 222,
   "metadata": {},
   "outputs": [],
   "source": [
    "def plot_series(time, series, format = \"-\", start = 0, end = None, label = None):\n",
    "    plt.plot(time[start:end], series[start:end], format, label = label)\n",
    "    plt.xlabel(\"Time\")\n",
    "    plt.ylabel(\"Value\")\n",
    "    if label:\n",
    "        plt.legend(fontsize = 14)\n",
    "    plt.grid(True)"
   ]
  },
  {
   "cell_type": "markdown",
   "metadata": {},
   "source": [
    "### Naive Forecasting Chip Tim"
   ]
  },
  {
   "cell_type": "code",
   "execution_count": 223,
   "metadata": {},
   "outputs": [],
   "source": [
    "naive_forecast_tim = chip_tim.shift(1)"
   ]
  },
  {
   "cell_type": "code",
   "execution_count": 224,
   "metadata": {
    "scrolled": true
   },
   "outputs": [
    {
     "data": {
      "text/plain": [
       "(1095,)"
      ]
     },
     "execution_count": 224,
     "metadata": {},
     "output_type": "execute_result"
    }
   ],
   "source": [
    "naive_forecast_tim.shape"
   ]
  },
  {
   "cell_type": "code",
   "execution_count": 225,
   "metadata": {
    "scrolled": true
   },
   "outputs": [
    {
     "data": {
      "text/plain": [
       "2016-01-02     NaN\n",
       "2016-01-04     0.0\n",
       "2016-01-05     0.0\n",
       "2016-01-06     0.0\n",
       "2016-01-07     0.0\n",
       "              ... \n",
       "2019-06-19    10.0\n",
       "2019-06-20    11.0\n",
       "2019-06-21     6.0\n",
       "2019-06-22    11.0\n",
       "2019-06-25     2.0\n",
       "Name: CHIP TIM INFINITY PRE HRD TRIPLO 4G, Length: 1095, dtype: float64"
      ]
     },
     "execution_count": 225,
     "metadata": {},
     "output_type": "execute_result"
    }
   ],
   "source": [
    "naive_forecast_tim"
   ]
  },
  {
   "cell_type": "code",
   "execution_count": 226,
   "metadata": {},
   "outputs": [],
   "source": [
    "naive_forecast_tim = naive_forecast_tim[1:]"
   ]
  },
  {
   "cell_type": "code",
   "execution_count": 227,
   "metadata": {},
   "outputs": [
    {
     "data": {
      "text/plain": [
       "(1094,)"
      ]
     },
     "execution_count": 227,
     "metadata": {},
     "output_type": "execute_result"
    }
   ],
   "source": [
    "naive_forecast_tim.shape"
   ]
  },
  {
   "cell_type": "code",
   "execution_count": 228,
   "metadata": {},
   "outputs": [
    {
     "data": {
      "text/plain": [
       "2016-01-04     0.0\n",
       "2016-01-05     0.0\n",
       "2016-01-06     0.0\n",
       "2016-01-07     0.0\n",
       "2016-01-08     0.0\n",
       "              ... \n",
       "2019-06-19    10.0\n",
       "2019-06-20    11.0\n",
       "2019-06-21     6.0\n",
       "2019-06-22    11.0\n",
       "2019-06-25     2.0\n",
       "Name: CHIP TIM INFINITY PRE HRD TRIPLO 4G, Length: 1094, dtype: float64"
      ]
     },
     "execution_count": 228,
     "metadata": {},
     "output_type": "execute_result"
    }
   ],
   "source": [
    "naive_forecast_tim"
   ]
  },
  {
   "cell_type": "code",
   "execution_count": 229,
   "metadata": {},
   "outputs": [
    {
     "data": {
      "text/plain": [
       "2016-01-02     0.0\n",
       "2016-01-04     0.0\n",
       "2016-01-05     0.0\n",
       "2016-01-06     0.0\n",
       "2016-01-07     0.0\n",
       "              ... \n",
       "2019-06-19    11.0\n",
       "2019-06-20     6.0\n",
       "2019-06-21    11.0\n",
       "2019-06-22     2.0\n",
       "2019-06-25     5.0\n",
       "Name: CHIP TIM INFINITY PRE HRD TRIPLO 4G, Length: 1095, dtype: float64"
      ]
     },
     "execution_count": 229,
     "metadata": {},
     "output_type": "execute_result"
    }
   ],
   "source": [
    "chip_tim"
   ]
  },
  {
   "cell_type": "code",
   "execution_count": 230,
   "metadata": {},
   "outputs": [],
   "source": [
    "chip_tim = chip_tim[1:]"
   ]
  },
  {
   "cell_type": "code",
   "execution_count": 231,
   "metadata": {},
   "outputs": [
    {
     "data": {
      "text/plain": [
       "2016-01-04     0.0\n",
       "2016-01-05     0.0\n",
       "2016-01-06     0.0\n",
       "2016-01-07     0.0\n",
       "2016-01-08     0.0\n",
       "              ... \n",
       "2019-06-19    11.0\n",
       "2019-06-20     6.0\n",
       "2019-06-21    11.0\n",
       "2019-06-22     2.0\n",
       "2019-06-25     5.0\n",
       "Name: CHIP TIM INFINITY PRE HRD TRIPLO 4G, Length: 1094, dtype: float64"
      ]
     },
     "execution_count": 231,
     "metadata": {},
     "output_type": "execute_result"
    }
   ],
   "source": [
    "chip_tim"
   ]
  },
  {
   "cell_type": "code",
   "execution_count": 232,
   "metadata": {},
   "outputs": [
    {
     "data": {
      "image/png": "[encoded data removed]",
      "text/plain": [
       "<Figure size 432x288 with 1 Axes>"
      ]
     },
     "metadata": {
      "needs_background": "light"
     },
     "output_type": "display_data"
    }
   ],
   "source": [
    "plot_series(naive_forecast_tim.index, naive_forecast_tim)\n",
    "plot_series(chip_tim.index, chip_tim)\n",
    "plt.show()"
   ]
  },
  {
   "cell_type": "markdown",
   "metadata": {},
   "source": [
    "* As cores ficaram bem sobrepostas, será que ficou bom?? kkkkk"
   ]
  },
  {
   "cell_type": "code",
   "execution_count": 233,
   "metadata": {},
   "outputs": [
    {
     "data": {
      "text/plain": [
       "2233.132541133455"
      ]
     },
     "execution_count": 233,
     "metadata": {},
     "output_type": "execute_result"
    }
   ],
   "source": [
    "tf.keras.metrics.mean_squared_error(chip_tim, naive_forecast_tim).numpy()"
   ]
  },
  {
   "cell_type": "code",
   "execution_count": 234,
   "metadata": {},
   "outputs": [
    {
     "data": {
      "text/plain": [
       "11.53473491773309"
      ]
     },
     "execution_count": 234,
     "metadata": {},
     "output_type": "execute_result"
    }
   ],
   "source": [
    "tf.keras.metrics.mean_absolute_error(chip_tim, naive_forecast_tim).numpy()"
   ]
  },
  {
   "cell_type": "markdown",
   "metadata": {},
   "source": [
    "* Como esse é o método mais simples, usaremos ele como baseline"
   ]
  },
  {
   "cell_type": "code",
   "execution_count": 235,
   "metadata": {},
   "outputs": [
    {
     "data": {
      "image/png": "[encoded data removed]",
      "text/plain": [
       "<Figure size 432x288 with 1 Axes>"
      ]
     },
     "metadata": {
      "needs_background": "light"
     },
     "output_type": "display_data"
    }
   ],
   "source": [
    "# Just to clarify what this method does:\n",
    "plot_series(chip_tim.index, chip_tim, start=250, end=300, label=\"real\")\n",
    "plot_series(naive_forecast_tim.index, naive_forecast_tim, start=250, end=300, label=\"naive\")\n",
    "plt.show()"
   ]
  },
  {
   "cell_type": "markdown",
   "metadata": {},
   "source": [
    "* Só dá um shift"
   ]
  },
  {
   "cell_type": "markdown",
   "metadata": {},
   "source": [
    "### Naive Forecasting Chip vivo"
   ]
  },
  {
   "cell_type": "code",
   "execution_count": 236,
   "metadata": {},
   "outputs": [],
   "source": [
    "naive_forecast_vivo = chip_vivo.shift(1)"
   ]
  },
  {
   "cell_type": "code",
   "execution_count": 237,
   "metadata": {},
   "outputs": [],
   "source": [
    "naive_forecast_vivo = naive_forecast_vivo[1:]"
   ]
  },
  {
   "cell_type": "code",
   "execution_count": 238,
   "metadata": {},
   "outputs": [
    {
     "data": {
      "text/plain": [
       "(1403,)"
      ]
     },
     "execution_count": 238,
     "metadata": {},
     "output_type": "execute_result"
    }
   ],
   "source": [
    "naive_forecast_vivo.shape"
   ]
  },
  {
   "cell_type": "code",
   "execution_count": 239,
   "metadata": {},
   "outputs": [
    {
     "data": {
      "text/plain": [
       "2015-01-03    17.0\n",
       "2015-01-05    20.0\n",
       "2015-01-06    19.0\n",
       "2015-01-07    20.0\n",
       "2015-01-08    22.0\n",
       "              ... \n",
       "2019-06-19     7.0\n",
       "2019-06-20     1.0\n",
       "2019-06-21     3.0\n",
       "2019-06-22     3.0\n",
       "2019-06-25     2.0\n",
       "Name: CHIP VIVO 4G 128K P19 HRS PRE, Length: 1403, dtype: float64"
      ]
     },
     "execution_count": 239,
     "metadata": {},
     "output_type": "execute_result"
    }
   ],
   "source": [
    "naive_forecast_vivo"
   ]
  },
  {
   "cell_type": "code",
   "execution_count": 240,
   "metadata": {},
   "outputs": [
    {
     "data": {
      "text/plain": [
       "(1404,)"
      ]
     },
     "execution_count": 240,
     "metadata": {},
     "output_type": "execute_result"
    }
   ],
   "source": [
    "chip_vivo.shape"
   ]
  },
  {
   "cell_type": "code",
   "execution_count": 241,
   "metadata": {},
   "outputs": [],
   "source": [
    "chip_vivo = chip_vivo[1:]"
   ]
  },
  {
   "cell_type": "code",
   "execution_count": 242,
   "metadata": {},
   "outputs": [
    {
     "data": {
      "text/plain": [
       "2015-01-03    20.0\n",
       "2015-01-05    19.0\n",
       "2015-01-06    20.0\n",
       "2015-01-07    22.0\n",
       "2015-01-08    21.0\n",
       "              ... \n",
       "2019-06-19     1.0\n",
       "2019-06-20     3.0\n",
       "2019-06-21     3.0\n",
       "2019-06-22     2.0\n",
       "2019-06-25     2.0\n",
       "Name: CHIP VIVO 4G 128K P19 HRS PRE, Length: 1403, dtype: float64"
      ]
     },
     "execution_count": 242,
     "metadata": {},
     "output_type": "execute_result"
    }
   ],
   "source": [
    "chip_vivo"
   ]
  },
  {
   "cell_type": "code",
   "execution_count": 243,
   "metadata": {},
   "outputs": [
    {
     "data": {
      "text/plain": [
       "3214.337134711333"
      ]
     },
     "execution_count": 243,
     "metadata": {},
     "output_type": "execute_result"
    }
   ],
   "source": [
    "tf.keras.metrics.mean_squared_error(chip_vivo, naive_forecast_vivo).numpy()"
   ]
  },
  {
   "cell_type": "code",
   "execution_count": 244,
   "metadata": {},
   "outputs": [
    {
     "data": {
      "text/plain": [
       "4.140413399857448"
      ]
     },
     "execution_count": 244,
     "metadata": {},
     "output_type": "execute_result"
    }
   ],
   "source": [
    "tf.keras.metrics.mean_absolute_error(chip_vivo, naive_forecast_vivo).numpy()"
   ]
  },
  {
   "cell_type": "markdown",
   "metadata": {},
   "source": [
    "* Nosso baseline pra o chip da vivo"
   ]
  },
  {
   "cell_type": "markdown",
   "metadata": {},
   "source": [
    "## Moving Average"
   ]
  },
  {
   "cell_type": "code",
   "execution_count": 208,
   "metadata": {},
   "outputs": [],
   "source": [
    "def moving_average(series, window_size):\n",
    "    forecast = []\n",
    "    for time in range(len(series) - window_size): # if you dont subtract the window size, you'll not compute right in the last 30 examples\n",
    "        forecast.append(series[time:time + window_size].mean())\n",
    "    return np.array(forecast)"
   ]
  },
  {
   "cell_type": "markdown",
   "metadata": {},
   "source": [
    "## Tim 3 days MA"
   ]
  },
  {
   "cell_type": "code",
   "execution_count": 247,
   "metadata": {},
   "outputs": [],
   "source": [
    "mov_avg_3_tim = moving_average(checkpoint_tim, 3)\n",
    "## 3 days moving average, the one day moving average is the same as the naive forecast"
   ]
  },
  {
   "cell_type": "code",
   "execution_count": 252,
   "metadata": {},
   "outputs": [
    {
     "data": {
      "image/png": "[encoded data removed]",
      "text/plain": [
       "<Figure size 432x288 with 1 Axes>"
      ]
     },
     "metadata": {
      "needs_background": "light"
     },
     "output_type": "display_data"
    }
   ],
   "source": [
    "plot_series(checkpoint_tim[3:].index, checkpoint_tim[3:])\n",
    "plot_series(checkpoint_tim[3:].index, mov_avg_3_tim)"
   ]
  },
  {
   "cell_type": "code",
   "execution_count": 253,
   "metadata": {
    "scrolled": true
   },
   "outputs": [
    {
     "data": {
      "image/png": "[encoded data removed]",
      "text/plain": [
       "<Figure size 432x288 with 1 Axes>"
      ]
     },
     "metadata": {
      "needs_background": "light"
     },
     "output_type": "display_data"
    }
   ],
   "source": [
    "# zoom\n",
    "plot_series(checkpoint_tim[3:].index, checkpoint_tim[3:], start=250, end=300, label=\"real\")\n",
    "plot_series(checkpoint_tim[3:].index, mov_avg_3_tim, start=250, end=300, label=\"3 days MA\")\n",
    "plt.show()"
   ]
  },
  {
   "cell_type": "code",
   "execution_count": 259,
   "metadata": {},
   "outputs": [
    {
     "data": {
      "text/plain": [
       "2019-06-19    11.0\n",
       "2019-06-20     6.0\n",
       "2019-06-21    11.0\n",
       "2019-06-22     2.0\n",
       "2019-06-25     5.0\n",
       "Name: CHIP TIM INFINITY PRE HRD TRIPLO 4G, dtype: float64"
      ]
     },
     "execution_count": 259,
     "metadata": {},
     "output_type": "execute_result"
    }
   ],
   "source": [
    "checkpoint_tim[-5:]"
   ]
  },
  {
   "cell_type": "code",
   "execution_count": 260,
   "metadata": {},
   "outputs": [
    {
     "data": {
      "text/plain": [
       "array([10.66666667, 10.        ,  9.        ,  9.33333333,  6.33333333])"
      ]
     },
     "execution_count": 260,
     "metadata": {},
     "output_type": "execute_result"
    }
   ],
   "source": [
    "mov_avg_3_tim[-5:]"
   ]
  },
  {
   "cell_type": "markdown",
   "metadata": {},
   "source": [
    "* Aqui, por exemplo, o último número 6,3333 é resultado da média entre 2.0, 11.0 e 6.0. O que é equivalente a média dos três últimos dias antecedentes a ele."
   ]
  },
  {
   "cell_type": "code",
   "execution_count": 262,
   "metadata": {},
   "outputs": [
    {
     "data": {
      "text/plain": [
       "1604.229344729345"
      ]
     },
     "execution_count": 262,
     "metadata": {},
     "output_type": "execute_result"
    }
   ],
   "source": [
    "tf.keras.metrics.mean_squared_error(checkpoint_tim[3:],mov_avg_3_tim).numpy()"
   ]
  },
  {
   "cell_type": "code",
   "execution_count": 263,
   "metadata": {},
   "outputs": [
    {
     "data": {
      "text/plain": [
       "11.387057387057387"
      ]
     },
     "execution_count": 263,
     "metadata": {},
     "output_type": "execute_result"
    }
   ],
   "source": [
    "tf.keras.metrics.mean_absolute_error(checkpoint_tim[3:], mov_avg_3_tim).numpy()"
   ]
  },
  {
   "cell_type": "markdown",
   "metadata": {},
   "source": [
    "* Já desempenhou consideravelmente melhor que o baseline"
   ]
  },
  {
   "cell_type": "markdown",
   "metadata": {},
   "source": [
    "## Tim 10 days MA"
   ]
  },
  {
   "cell_type": "code",
   "execution_count": 264,
   "metadata": {},
   "outputs": [],
   "source": [
    "ma = 10\n",
    "mov_avg_10_tim = moving_average(checkpoint_tim, ma)\n",
    "## 10days moving average, the one day moving average is the same as the naive forecast"
   ]
  },
  {
   "cell_type": "code",
   "execution_count": 265,
   "metadata": {},
   "outputs": [
    {
     "data": {
      "image/png": "[encoded data removed]",
      "text/plain": [
       "<Figure size 432x288 with 1 Axes>"
      ]
     },
     "metadata": {
      "needs_background": "light"
     },
     "output_type": "display_data"
    }
   ],
   "source": [
    "plot_series(checkpoint_tim[ma:].index, checkpoint_tim[ma:])\n",
    "plot_series(checkpoint_tim[ma:].index, mov_avg_10_tim)"
   ]
  },
  {
   "cell_type": "markdown",
   "metadata": {},
   "source": [
    "* Aqui a gente pode ver que ele já fica bem menos sensível aos spikes"
   ]
  },
  {
   "cell_type": "code",
   "execution_count": 266,
   "metadata": {
    "scrolled": true
   },
   "outputs": [
    {
     "data": {
      "image/png": "[encoded data removed]",
      "text/plain": [
       "<Figure size 432x288 with 1 Axes>"
      ]
     },
     "metadata": {
      "needs_background": "light"
     },
     "output_type": "display_data"
    }
   ],
   "source": [
    "# zoom\n",
    "plot_series(checkpoint_tim[ma:].index, checkpoint_tim[ma:], start=250, end=300, label=\"real\")\n",
    "plot_series(checkpoint_tim[ma:].index, mov_avg_10_tim, start=250, end=300, label=\"10 days MA\")\n",
    "plt.show()"
   ]
  },
  {
   "cell_type": "code",
   "execution_count": 274,
   "metadata": {},
   "outputs": [
    {
     "data": {
      "text/plain": [
       "2019-06-12    13.0\n",
       "2019-06-13     4.0\n",
       "2019-06-14     6.0\n",
       "2019-06-15    13.0\n",
       "2019-06-17     9.0\n",
       "2019-06-18    10.0\n",
       "2019-06-19    11.0\n",
       "2019-06-20     6.0\n",
       "2019-06-21    11.0\n",
       "2019-06-22     2.0\n",
       "Name: CHIP TIM INFINITY PRE HRD TRIPLO 4G, dtype: float64"
      ]
     },
     "execution_count": 274,
     "metadata": {},
     "output_type": "execute_result"
    }
   ],
   "source": [
    "checkpoint_tim[-11:-1]"
   ]
  },
  {
   "cell_type": "code",
   "execution_count": 273,
   "metadata": {},
   "outputs": [
    {
     "data": {
      "text/plain": [
       "array([8.5])"
      ]
     },
     "execution_count": 273,
     "metadata": {},
     "output_type": "execute_result"
    }
   ],
   "source": [
    "mov_avg_10_tim[-1:]"
   ]
  },
  {
   "cell_type": "markdown",
   "metadata": {},
   "source": [
    "* Aqui, por exemplo, o último número 8.5 é resultado da média entre os dez últimos dias antecedentes a ele."
   ]
  },
  {
   "cell_type": "code",
   "execution_count": 276,
   "metadata": {},
   "outputs": [
    {
     "data": {
      "text/plain": [
       "1434.9065898617512"
      ]
     },
     "execution_count": 276,
     "metadata": {},
     "output_type": "execute_result"
    }
   ],
   "source": [
    "tf.keras.metrics.mean_squared_error(checkpoint_tim[ma:],mov_avg_10_tim).numpy()"
   ]
  },
  {
   "cell_type": "code",
   "execution_count": 275,
   "metadata": {},
   "outputs": [
    {
     "data": {
      "text/plain": [
       "12.285437788018431"
      ]
     },
     "execution_count": 275,
     "metadata": {},
     "output_type": "execute_result"
    }
   ],
   "source": [
    "tf.keras.metrics.mean_absolute_error(checkpoint_tim[10:], mov_avg_10_tim).numpy()"
   ]
  },
  {
   "cell_type": "markdown",
   "metadata": {},
   "source": [
    "* Aqui tivemos uma piora no mae e uma melhora no mse"
   ]
  },
  {
   "cell_type": "markdown",
   "metadata": {},
   "source": [
    "* Podemos testar outros intervalos de dias para encontrar um que se saia melhor nos nossos dados. É bom levar em consideração que quanto maior a janela no moving average, menos sensível fica às variações diárias."
   ]
  },
  {
   "cell_type": "markdown",
   "metadata": {},
   "source": [
    "## Decomposing"
   ]
  },
  {
   "cell_type": "code",
   "execution_count": 277,
   "metadata": {},
   "outputs": [],
   "source": [
    "from statsmodels.tsa.seasonal import seasonal_decompose"
   ]
  },
  {
   "cell_type": "code",
   "execution_count": 286,
   "metadata": {},
   "outputs": [],
   "source": [
    "df = pd.DataFrame(checkpoint_tim, index=pd.to_datetime(checkpoint_tim.index))"
   ]
  },
  {
   "cell_type": "code",
   "execution_count": 299,
   "metadata": {},
   "outputs": [
    {
     "data": {
      "image/png": "[encoded data removed]",
      "text/plain": [
       "<Figure size 720x720 with 4 Axes>"
      ]
     },
     "metadata": {
      "needs_background": "light"
     },
     "output_type": "display_data"
    }
   ],
   "source": [
    "result = seasonal_decompose(df, model=\"additive\", freq=30)\n",
    "\n",
    "fig, (ax1,ax2,ax3,ax4) = plt.subplots(4,1, figsize =(10,10))\n",
    "result.observed.plot(ax = ax1, title = \"observed\")\n",
    "result.trend.plot(ax = ax2, title = \"trend\")\n",
    "result.seasonal.plot(ax = ax3, title = \"seasonal\")\n",
    "result.resid.plot(ax = ax4, title = \"resid\")\n",
    "plt.tight_layout()"
   ]
  },
  {
   "cell_type": "code",
   "execution_count": null,
   "metadata": {},
   "outputs": [],
   "source": []
  }
 ],
 "metadata": {
  "kernelspec": {
   "display_name": "Python 3",
   "language": "python",
   "name": "python3"
  },
  "language_info": {
   "codemirror_mode": {
    "name": "ipython",
    "version": 3
   },
   "file_extension": ".py",
   "mimetype": "text/x-python",
   "name": "python",
   "nbconvert_exporter": "python",
   "pygments_lexer": "ipython3",
   "version": "3.7.5"
  }
 },
 "nbformat": 4,
 "nbformat_minor": 2
}
