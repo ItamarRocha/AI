{
 "cells": [
  {
   "cell_type": "markdown",
   "metadata": {},
   "source": [
    "# Deep Learning class exercise list 1"
   ]
  },
  {
   "cell_type": "markdown",
   "metadata": {},
   "source": [
    "## Question 1"
   ]
  },
  {
   "cell_type": "markdown",
   "metadata": {},
   "source": [
    "* ### Generating Data"
   ]
  },
  {
   "cell_type": "code",
   "execution_count": 1,
   "metadata": {},
   "outputs": [],
   "source": [
    "import numpy as np\n",
    "import matplotlib.pyplot as plt\n",
    "from sklearn.datasets import load_digits"
   ]
  },
  {
   "cell_type": "code",
   "execution_count": 2,
   "metadata": {},
   "outputs": [],
   "source": [
    "def generate_data(data_size, train_val_split = 0.1):\n",
    "    X = np.zeros((data_size, 3),dtype=np.float128)\n",
    "    y = np.zeros((data_size, 8),dtype=np.float128)\n",
    "    for i in range(data_size):\n",
    "        arr = np.random.randint(0, 2, 3) + np.random.uniform(-0.1,0.1, 3)\n",
    "        X[i] = np.round(arr,4)\n",
    "        y[i][int(round(arr[0]) * 4 + round(arr[1]) * 2+ round(arr[2]))] = 1\n",
    "    \n",
    "    val_split = round(data_size * (1 - train_val_split))\n",
    "\n",
    "    X_train, y_train = X[:val_split].T, y[:val_split].T\n",
    "    X_val, y_val = X[val_split:].T, y[val_split:].T\n",
    "    return X_train, X_val, y_train, y_val"
   ]
  },
  {
   "cell_type": "code",
   "execution_count": 3,
   "metadata": {},
   "outputs": [],
   "source": [
    "def generate_data2(data_size, train_val_split = 0.1):\n",
    "    X = np.zeros((data_size, 1))\n",
    "    y = np.zeros((data_size, 1))\n",
    "    for i in range(data_size):\n",
    "        arr = np.random.randint(0, 2, 1) + np.random.uniform(-0.1,0.1, 1)\n",
    "        X[i] = np.round(arr,4)\n",
    "        y[i] = int(np.round(X[i]))\n",
    "    \n",
    "#     val_split = round(data_size * (1 - train_val_split))\n",
    "#     X_train, y_train = X[:val_split].T, y[:val_split].T\n",
    "#     X_val, y_val = X[val_split:].T, y[val_split:].T\n",
    "    return X.T, y.T"
   ]
  },
  {
   "cell_type": "code",
   "execution_count": 4,
   "metadata": {},
   "outputs": [],
   "source": [
    "X_train, X_val, y_train, y_val = generate_data(20)"
   ]
  },
  {
   "cell_type": "markdown",
   "metadata": {},
   "source": [
    "* ### MLP"
   ]
  },
  {
   "cell_type": "code",
   "execution_count": 5,
   "metadata": {},
   "outputs": [],
   "source": [
    "def sigmoid(value):\n",
    "    return 1/(1 + np.exp(-value))\n",
    "\n",
    "def sigmoid_derivative(value):\n",
    "    return sigmoid(value) * (1 - sigmoid(value))"
   ]
  },
  {
   "cell_type": "code",
   "execution_count": 38,
   "metadata": {},
   "outputs": [],
   "source": [
    "def softmax(value):\n",
    "    expA = np.exp(value.T - np.max(value.T, axis=1, keepdims=True))\n",
    "    return (expA / expA.sum(axis=1, keepdims=True)).T"
   ]
  },
  {
   "cell_type": "code",
   "execution_count": 39,
   "metadata": {},
   "outputs": [],
   "source": [
    "def relu(value):\n",
    "    return np.maximum(value, 0)\n",
    "\n",
    "def relu_derivative(value):\n",
    "    value[relu(value) <=0] = 0\n",
    "    return value"
   ]
  },
  {
   "cell_type": "code",
   "execution_count": 104,
   "metadata": {},
   "outputs": [],
   "source": [
    "class MLP():\n",
    "    def __init__(self):\n",
    "        \"\"\"\n",
    "        Initializes your class:\n",
    "            parameters : dictionary of parameters, which will store W and b through propagation.\n",
    "            cache : dictionary of cache, which will be responsible for storing A and Z during the propagation.\n",
    "            grads: dictionary of gradients, which will store all gradients computed during backprop.\n",
    "        \n",
    "        Args:\n",
    "            No arguments taken.\n",
    "        return:\n",
    "            No return.\n",
    "        \"\"\"\n",
    "        \n",
    "        self.parameters = {}\n",
    "        self.cache = {}\n",
    "        self.grads = {}\n",
    "\n",
    "    def fit(self, X_train, y_train, hidden=relu, output=softmax):\n",
    "        \"\"\"\n",
    "        Args : \n",
    "            X_train = input data of shape (n_x, number_of_examples).\n",
    "            y_train = label vector of shape (n_y, number_of_examples).\n",
    "        \"\"\"\n",
    "        self.X_train = X_train\n",
    "        self.y_train = y_train\n",
    "        self.m = X_train.shape[1]\n",
    "        self.hidden = hidden # function passed as argument to be used on hidden layers\n",
    "        self.output = output # function passed as argument to be used on output layers\n",
    "\n",
    "    def initialize_parameters(self, dims):\n",
    "        \"\"\"\n",
    "        Args:\n",
    "            dims = dimensions of the network.\n",
    "            \n",
    "            Example:\n",
    "                dims = [3,3,8]\n",
    "                \n",
    "                A network with input size = 3, hidden layer = 3 and output layer = 8.\n",
    "                \n",
    "                The first dimension on the list must always be the length of each example.\n",
    "                The last dimension on the list must always be the length of each output example.\n",
    "                \n",
    "                In a case where X_train shape = (3, 4500) and y_train shape = (8, 4500), 4500 in\n",
    "                each shape represents the number of examples.\n",
    "                \n",
    "                dims = [3, 8]\n",
    "        Return:\n",
    "            parameters : a dictionary containing all weights and biases intialized\n",
    "                \n",
    "        \"\"\"\n",
    "        self.L = len(dims)\n",
    "        for l in range(1, self.L):\n",
    "            self.parameters[\"W\" + str(l)] = np.random.randn(dims[l], dims[l-1])\n",
    "            self.parameters[\"b\" + str(l)] = np.zeros((dims[l], 1))\n",
    "        return self.parameters\n",
    "    \n",
    "    def propagate(self, X):\n",
    "        \"\"\"\n",
    "        Does the forward propagation of the network\n",
    "        \"\"\"\n",
    "        A_prev = X\n",
    "        self.cache[f\"A{0}\"] = A_prev\n",
    "        for l in range(1, self.L):\n",
    "            \n",
    "            Z = np.dot(self.parameters[f\"W{l}\"], A_prev) + self.parameters[f\"b{l}\"]\n",
    "\n",
    "            if l == self.L - 1:\n",
    "                A = self.output(Z)\n",
    "            else:\n",
    "                A = self.hidden(Z)\n",
    "\n",
    "            self.cache[f\"Z{l}\"] = Z\n",
    "            self.cache[f\"A{l}\"] = A\n",
    "            \n",
    "            A_prev = A\n",
    "        \n",
    "        self.y_hat = A\n",
    "\n",
    "    def predict(self, X):\n",
    "        \"\"\"\n",
    "        Predicts the value using the propagate function\n",
    "        \n",
    "        Args:\n",
    "            X : data to be used on prediction\n",
    "        Return:\n",
    "            y_hat : data predicted\n",
    "        \"\"\"\n",
    "        self.propagate(X)\n",
    "        return self.y_hat\n",
    "    \n",
    "    def error(self):\n",
    "        pred = self.y_hat.T\n",
    "        real = self.y_train.T\n",
    "        n_samples = real.shape[0]\n",
    "        logp = - np.log(pred[np.arange(n_samples), real.argmax(axis=1)])\n",
    "        loss = np.sum(logp)/(n_samples)\n",
    "        return loss\n",
    "\n",
    "    def cross_entropy(self):\n",
    "        res = self.y_hat - self.y_train\n",
    "        return res\n",
    "\n",
    "    def compute_grads(self):\n",
    "        cross_entropy_value = self.cross_entropy()\n",
    "        \n",
    "        dZ = cross_entropy_value\n",
    "\n",
    "        self.grads[f\"dW{self.L - 1}\"] = 1/self.m * (np.dot(dZ, self.cache[f\"A{self.L - 2}\"].T))\n",
    "        self.grads[f\"db{self.L - 1}\"] = 1/self.m * np.sum(dZ, axis=1, keepdims=True)\n",
    "\n",
    "        for l in reversed(range(1, self.L - 1)):\n",
    "            self.grads[f\"dA_prev{l}\"] = np.dot(self.parameters[f\"W{l + 1}\"].T,dZ)\n",
    "            dZ = self.grads[f\"dA_prev{l}\"] * relu_derivative(self.cache[f\"Z{l}\"])\n",
    "            self.grads[f\"dW{l}\"] = 1/self.m * (np.dot(dZ, self.cache[f\"A{l - 1}\"].T))\n",
    "            self.grads[f\"db{l}\"] = 1/self.m * np.sum(dZ, axis=1, keepdims=True)\n",
    "    \n",
    "    def backprop(self, learning_rate = 0.01):\n",
    "        self.learning_rate = learning_rate\n",
    "        for l in reversed(range(1, self.L)):\n",
    "            #print(l)\n",
    "            self.parameters[\"W\"+str(l)] -= self.learning_rate * (self.grads[f\"dW{l}\"])\n",
    "            self.parameters[\"b\"+str(l)] -= self.learning_rate * (self.grads[f\"db{l}\"])\n",
    "\n",
    "    def compute_cost(self):\n",
    "        logprods = np.dot(self.y_train, np.log(self.y_hat).T) + np.dot((1-self.y_train), np.log(1- self.y_hat).T)\n",
    "        cost = -1/self.m*np.sum(logprods)\n",
    "        \n",
    "        return np.sum(self.loss)/self.m\n",
    "\n",
    "    def train(self, dims, learning_rate = 0.01, iterations = 1000):\n",
    "        printing_interval = round(iterations * 0.01)\n",
    "        self.initialize_parameters(dims)\n",
    "        costs = []\n",
    "        for i in range(iterations):\n",
    "            self.propagate(self.X_train)\n",
    "            loss = self.error()\n",
    "            if i % printing_interval == 0:\n",
    "                print(f\"epoch {i} : {loss}\")\n",
    "            costs.append(loss)\n",
    "            self.compute_grads()\n",
    "            self.backprop(learning_rate = learning_rate)\n",
    "        plt.plot(np.squeeze(costs))\n",
    "        plt.ylabel('cost')\n",
    "        plt.xlabel('iterations (per hundreds)')\n",
    "        plt.title(\"Learning rate =\" + str(learning_rate))\n",
    "        plt.show()"
   ]
  },
  {
   "cell_type": "code",
   "execution_count": 105,
   "metadata": {},
   "outputs": [],
   "source": [
    "X_train, X_val , y_train, y_val = generate_data(50000)"
   ]
  },
  {
   "cell_type": "code",
   "execution_count": 106,
   "metadata": {},
   "outputs": [],
   "source": [
    "mlp = MLP()"
   ]
  },
  {
   "cell_type": "code",
   "execution_count": 107,
   "metadata": {},
   "outputs": [],
   "source": [
    "mlp.fit(X_train, y_train)"
   ]
  },
  {
   "cell_type": "code",
   "execution_count": 117,
   "metadata": {
    "scrolled": false
   },
   "outputs": [
    {
     "name": "stdout",
     "output_type": "stream",
     "text": [
      "epoch 0 : 5.409663895024497\n",
      "epoch 50 : 1.7647741502107657\n",
      "epoch 100 : 1.4084206010963762\n",
      "epoch 150 : 1.262580037681157\n",
      "epoch 200 : 1.148467679422792\n",
      "epoch 250 : 0.8689795546763687\n",
      "epoch 300 : 0.7613747982964134\n",
      "epoch 350 : 0.8103147143737719\n",
      "epoch 400 : 0.5382307816686325\n",
      "epoch 450 : 0.4744851095039884\n",
      "epoch 500 : 0.37326934338671713\n",
      "epoch 550 : 0.25797460717735354\n",
      "epoch 600 : 3.2408520700512815\n",
      "epoch 650 : 1.2519175995536729\n",
      "epoch 700 : 1.1243481349584465\n",
      "epoch 750 : 1.038295111338606\n",
      "epoch 800 : 0.9797057287973799\n",
      "epoch 850 : 0.9403633977988954\n",
      "epoch 900 : 0.9093414971448963\n",
      "epoch 950 : 0.8814512223023158\n",
      "epoch 1000 : 0.8551927538998849\n",
      "epoch 1050 : 0.8302075974585025\n",
      "epoch 1100 : 0.8064778567448194\n",
      "epoch 1150 : 0.7840413288097615\n",
      "epoch 1200 : 0.7630685898000124\n",
      "epoch 1250 : 0.7437360291596895\n",
      "epoch 1300 : 0.7260036993419747\n",
      "epoch 1350 : 0.709685307426376\n",
      "epoch 1400 : 0.6943634794536958\n",
      "epoch 1450 : 0.6784453092469277\n",
      "epoch 1500 : 0.6385968049551156\n",
      "epoch 1550 : 0.583925099725276\n",
      "epoch 1600 : 0.5481175359562587\n",
      "epoch 1650 : 0.5179326206344109\n",
      "epoch 1700 : 0.488564166277315\n",
      "epoch 1750 : 0.4591563004486016\n",
      "epoch 1800 : 0.431432677024017\n",
      "epoch 1850 : 0.40823018309164394\n",
      "epoch 1900 : 0.38913914711042175\n",
      "epoch 1950 : 0.37211332001631703\n",
      "epoch 2000 : 0.3566151622246628\n",
      "epoch 2050 : 0.3425558759799704\n",
      "epoch 2100 : 0.32969657787027584\n",
      "epoch 2150 : 0.3176963523169608\n",
      "epoch 2200 : 0.3062755640348345\n",
      "epoch 2250 : 0.29518487578524943\n",
      "epoch 2300 : 0.28426369620971975\n",
      "epoch 2350 : 0.2734034947249407\n",
      "epoch 2400 : 0.26255797639082123\n",
      "epoch 2450 : 0.2516899911951751\n",
      "epoch 2500 : 0.2407609217429423\n",
      "epoch 2550 : 0.22974686892400392\n",
      "epoch 2600 : 0.21867048892999583\n",
      "epoch 2650 : 0.20757310160173273\n",
      "epoch 2700 : 0.19652184996055266\n",
      "epoch 2750 : 0.18559487299751365\n",
      "epoch 2800 : 0.1748845684660643\n",
      "epoch 2850 : 0.1645051147725524\n",
      "epoch 2900 : 0.1545731503727399\n",
      "epoch 2950 : 0.14522965691098788\n",
      "epoch 3000 : 0.1366018991350292\n",
      "epoch 3050 : 0.128936852685553\n",
      "epoch 3100 : 0.1224882237533673\n",
      "epoch 3150 : 0.11699512594972244\n",
      "epoch 3200 : 0.11180034028131061\n",
      "epoch 3250 : 0.10681308600901668\n",
      "epoch 3300 : 0.10216013478002749\n",
      "epoch 3350 : 0.09790370283352458\n",
      "epoch 3400 : 0.09403504442063304\n",
      "epoch 3450 : 0.09051902950933731\n",
      "epoch 3500 : 0.08731275069575122\n",
      "epoch 3550 : 0.0843709004589705\n",
      "epoch 3600 : 0.08165036392862911\n",
      "epoch 3650 : 0.07911801565823202\n",
      "epoch 3700 : 0.07674593432194483\n",
      "epoch 3750 : 0.07451471826532136\n",
      "epoch 3800 : 0.0724084027517932\n",
      "epoch 3850 : 0.07041290367610314\n",
      "epoch 3900 : 0.06851702353261799\n",
      "epoch 3950 : 0.06671464063819726\n",
      "epoch 4000 : 0.06499977698200186\n",
      "epoch 4050 : 0.06336432590868404\n",
      "epoch 4100 : 0.06180329160287681\n",
      "epoch 4150 : 0.060311395928296915\n",
      "epoch 4200 : 0.05888338064666651\n",
      "epoch 4250 : 0.05751620261100905\n",
      "epoch 4300 : 0.056203773837325416\n",
      "epoch 4350 : 0.05494468790337175\n",
      "epoch 4400 : 0.05373392107917679\n",
      "epoch 4450 : 0.05257056030787057\n",
      "epoch 4500 : 0.051453080592553706\n",
      "epoch 4550 : 0.05037723691057355\n",
      "epoch 4600 : 0.049340563266283305\n",
      "epoch 4650 : 0.04834105923902442\n",
      "epoch 4700 : 0.04737681471732409\n",
      "epoch 4750 : 0.046446036144926116\n",
      "epoch 4800 : 0.04554587939965865\n",
      "epoch 4850 : 0.04467515619805594\n",
      "epoch 4900 : 0.04383284646255988\n",
      "epoch 4950 : 0.04301784017332524\n"
     ]
    },
    {
     "data": {
      "image/png": "[encoded data removed]",
      "text/plain": [
       "<Figure size 432x288 with 1 Axes>"
      ]
     },
     "metadata": {
      "needs_background": "light"
     },
     "output_type": "display_data"
    }
   ],
   "source": [
    "mlp.train([X_train.shape[0], 10, 10, y_train.shape[0]], iterations=5000, learning_rate=0.01)"
   ]
  },
  {
   "cell_type": "code",
   "execution_count": 109,
   "metadata": {},
   "outputs": [],
   "source": [
    "y_pred = mlp.predict(X_val)"
   ]
  },
  {
   "cell_type": "code",
   "execution_count": 110,
   "metadata": {},
   "outputs": [
    {
     "data": {
      "text/plain": [
       "(8, 5000)"
      ]
     },
     "execution_count": 110,
     "metadata": {},
     "output_type": "execute_result"
    }
   ],
   "source": [
    "y_pred.shape"
   ]
  },
  {
   "cell_type": "code",
   "execution_count": 111,
   "metadata": {},
   "outputs": [
    {
     "data": {
      "text/plain": [
       "array([6, 1, 0, ..., 2, 7, 4])"
      ]
     },
     "execution_count": 111,
     "metadata": {},
     "output_type": "execute_result"
    }
   ],
   "source": [
    "np.argmax(y_pred.T, axis = 1)"
   ]
  },
  {
   "cell_type": "code",
   "execution_count": 112,
   "metadata": {},
   "outputs": [
    {
     "data": {
      "text/plain": [
       "array([6, 1, 0, ..., 2, 7, 4])"
      ]
     },
     "execution_count": 112,
     "metadata": {},
     "output_type": "execute_result"
    }
   ],
   "source": [
    "np.argmax(y_val.T, axis = 1)"
   ]
  },
  {
   "cell_type": "markdown",
   "metadata": {},
   "source": [
    "## opa"
   ]
  },
  {
   "cell_type": "code",
   "execution_count": 113,
   "metadata": {},
   "outputs": [],
   "source": [
    "from sklearn.metrics import accuracy_score"
   ]
  },
  {
   "cell_type": "code",
   "execution_count": 114,
   "metadata": {},
   "outputs": [
    {
     "data": {
      "text/plain": [
       "1.0"
      ]
     },
     "execution_count": 114,
     "metadata": {},
     "output_type": "execute_result"
    }
   ],
   "source": [
    "accuracy_score(np.argmax(y_pred.T, axis = 1), np.argmax(y_val.T, axis = 1))"
   ]
  },
  {
   "cell_type": "code",
   "execution_count": null,
   "metadata": {},
   "outputs": [],
   "source": []
  }
 ],
 "metadata": {
  "kernelspec": {
   "display_name": "Python 3",
   "language": "python",
   "name": "python3"
  },
  "language_info": {
   "codemirror_mode": {
    "name": "ipython",
    "version": 3
   },
   "file_extension": ".py",
   "mimetype": "text/x-python",
   "name": "python",
   "nbconvert_exporter": "python",
   "pygments_lexer": "ipython3",
   "version": "3.7.5"
  }
 },
 "nbformat": 4,
 "nbformat_minor": 2
}
