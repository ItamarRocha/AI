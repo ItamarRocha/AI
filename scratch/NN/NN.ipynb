{
 "cells": [
  {
   "cell_type": "markdown",
   "metadata": {},
   "source": [
    "# Deep Learning class exercise list 1"
   ]
  },
  {
   "cell_type": "markdown",
   "metadata": {},
   "source": [
    "## Question 1"
   ]
  },
  {
   "cell_type": "markdown",
   "metadata": {},
   "source": [
    "* ### Generating Data"
   ]
  },
  {
   "cell_type": "code",
   "execution_count": 159,
   "metadata": {},
   "outputs": [],
   "source": [
    "import numpy as np\n",
    "import matplotlib.pyplot as plt\n",
    "from sklearn.metrics import accuracy_score\n",
    "from sklearn.datasets import load_digits"
   ]
  },
  {
   "cell_type": "code",
   "execution_count": 160,
   "metadata": {},
   "outputs": [],
   "source": [
    "def generate_data(data_size, train_val_split = 0.1):\n",
    "    X = np.zeros((data_size, 3),dtype=np.float128)\n",
    "    y = np.zeros((data_size, 8),dtype=np.float128)\n",
    "    for i in range(data_size):\n",
    "        arr = np.random.randint(0, 2, 3) + np.random.uniform(-0.1,0.1, 3)\n",
    "        X[i] = np.round(arr,4)\n",
    "        y[i][int(round(arr[0]) * 4 + round(arr[1]) * 2+ round(arr[2]))] = 1\n",
    "    \n",
    "    val_split = round(data_size * (1 - train_val_split))\n",
    "\n",
    "    X_train, y_train = X[:val_split].T, y[:val_split].T\n",
    "    X_val, y_val = X[val_split:].T, y[val_split:].T\n",
    "    return X_train, X_val, y_train, y_val"
   ]
  },
  {
   "cell_type": "markdown",
   "metadata": {},
   "source": [
    "* ### MLP"
   ]
  },
  {
   "cell_type": "code",
   "execution_count": 161,
   "metadata": {},
   "outputs": [],
   "source": [
    "def sigmoid(value):\n",
    "    return 1/(1 + np.exp(-value))\n",
    "\n",
    "def sigmoid_derivative(value):\n",
    "    return sigmoid(value) * (1 - sigmoid(value))"
   ]
  },
  {
   "cell_type": "code",
   "execution_count": 162,
   "metadata": {},
   "outputs": [],
   "source": [
    "def softmax(value):\n",
    "    expA = np.exp(value.T - np.max(value.T, axis=1, keepdims=True))\n",
    "    return (expA / expA.sum(axis=1, keepdims=True)).T"
   ]
  },
  {
   "cell_type": "code",
   "execution_count": 163,
   "metadata": {},
   "outputs": [],
   "source": [
    "def relu(value):\n",
    "    return np.maximum(value, 0)\n",
    "\n",
    "def relu_derivative(value):\n",
    "    value[relu(value) <=0] = 0\n",
    "    return value"
   ]
  },
  {
   "cell_type": "code",
   "execution_count": 368,
   "metadata": {},
   "outputs": [],
   "source": [
    "class DNN():\n",
    "    def __init__(self):\n",
    "        \"\"\"\n",
    "        Initializes your class:\n",
    "            parameters : dictionary of parameters, which will store W and b through propagation.\n",
    "            cache : dictionary of cache, which will be responsible for storing A and Z during the propagation.\n",
    "            grads: dictionary of gradients, which will store all gradients computed during backprop.\n",
    "        \n",
    "        Args:\n",
    "            No arguments taken.\n",
    "        return:\n",
    "            No return.\n",
    "        \"\"\"\n",
    "        \n",
    "        self.parameters = {}\n",
    "        self.cache = {}\n",
    "        self.grads = {}\n",
    "        self.v = {}\n",
    "        self.s = {}\n",
    "\n",
    "    def fit(self, X_train, y_train, hidden=relu, output=softmax):\n",
    "        \"\"\"\n",
    "        Args : \n",
    "            X_train = input data of shape (n_x, number_of_examples).\n",
    "            y_train = label vector of shape (n_y, number_of_examples).\n",
    "        \"\"\"\n",
    "        self.X_train = X_train\n",
    "        self.y_train = y_train\n",
    "        self.m = X_train.shape[1]\n",
    "        self.hidden = hidden # function passed as argument to be used on hidden layers\n",
    "        self.output = output # function passed as argument to be used on output layers\n",
    "\n",
    "    def initialize_parameters(self, dims, adam_optimizer=False):\n",
    "        \"\"\"\n",
    "        Args:\n",
    "            dims = dimensions of the network.\n",
    "            \n",
    "            Example:\n",
    "                dims = [3,3,8]\n",
    "                \n",
    "                A network with input size = 3, hidden layer = 3 and output layer = 8.\n",
    "                \n",
    "                The first dimension on the list must always be the length of each example.\n",
    "                The last dimension on the list must always be the length of each output example.\n",
    "                \n",
    "                In a case where X_train shape = (3, 4500) and y_train shape = (8, 4500), 4500 in\n",
    "                each shape represents the number of examples.\n",
    "                \n",
    "                dims = [3, 8]\n",
    "        Return:\n",
    "            parameters : a dictionary containing all weights and biases intialized\n",
    "                \n",
    "        \"\"\"\n",
    "        self.L = len(dims)\n",
    "        for l in range(1, self.L):\n",
    "            self.parameters[\"W\" + str(l)] = np.random.randn(dims[l], dims[l-1]) * 0.01\n",
    "            self.parameters[\"b\" + str(l)] = np.zeros((dims[l], 1))\n",
    "            if adam_optimizer:\n",
    "                self.v[\"VdW\" + str(l)] = np.zeros((dims[l], dims[l-1]))\n",
    "                self.v[\"Vdb\" + str(l)] = np.zeros((dims[l], 1))\n",
    "                self.s[\"SdW\" + str(l)] = np.zeros((dims[l], dims[l-1]))\n",
    "                self.s[\"Sdb\" + str(l)] = np.zeros((dims[l], 1))\n",
    "        return self.parameters\n",
    "    \n",
    "    def propagate(self, X):\n",
    "        \"\"\"\n",
    "        Does the forward propagation of the network\n",
    "        \"\"\"\n",
    "        A_prev = X\n",
    "        self.cache[f\"A{0}\"] = A_prev\n",
    "        for l in range(1, self.L):\n",
    "            \n",
    "            Z = np.dot(self.parameters[f\"W{l}\"], A_prev) + self.parameters[f\"b{l}\"]\n",
    "\n",
    "            if l == self.L - 1:\n",
    "                A = self.output(Z)\n",
    "            else:\n",
    "                A = self.hidden(Z)\n",
    "\n",
    "            self.cache[f\"Z{l}\"] = Z\n",
    "            self.cache[f\"A{l}\"] = A\n",
    "            \n",
    "            A_prev = A\n",
    "        \n",
    "        self.y_hat = A\n",
    "\n",
    "    def predict(self, X):\n",
    "        \"\"\"\n",
    "        Predicts the value using the propagate function\n",
    "        \n",
    "        Args:\n",
    "            X : data to be used on prediction\n",
    "        Return:\n",
    "            y_hat : data predicted\n",
    "        \"\"\"\n",
    "        self.propagate(X)\n",
    "        return self.y_hat\n",
    "    \n",
    "    def compute_cost(self):\n",
    "        pred = self.y_hat.T\n",
    "        real = self.y_train.T\n",
    "        n_samples = real.shape[0]\n",
    "        logp = - np.log(pred[np.arange(n_samples), real.argmax(axis=1)])\n",
    "        cost = np.sum(logp)/(n_samples)\n",
    "        return cost\n",
    "\n",
    "    def loss(self):\n",
    "        res = self.y_hat - self.y_train\n",
    "        return res\n",
    "\n",
    "    def backprop(self):\n",
    "        dA = self.loss()\n",
    "        \n",
    "        if self.output == sigmoid:\n",
    "            dZ = dA * sigmoid_derivative(self.cache[f\"Z{self.L - 1}\"])\n",
    "        elif self.output == softmax:\n",
    "            dZ = dA\n",
    "        else:\n",
    "            print(\"output activation not recognized\")\n",
    "\n",
    "        self.grads[f\"dW{self.L - 1}\"] = 1/self.m * (np.dot(dZ, self.cache[f\"A{self.L - 2}\"].T))\n",
    "        self.grads[f\"db{self.L - 1}\"] = 1/self.m * np.sum(dZ, axis=1, keepdims=True)\n",
    "\n",
    "        for l in reversed(range(1, self.L - 1)):\n",
    "            self.grads[f\"dA_prev{l}\"] = np.dot(self.parameters[f\"W{l + 1}\"].T,dZ)\n",
    "            dZ = self.grads[f\"dA_prev{l}\"] * relu_derivative(self.cache[f\"Z{l}\"])\n",
    "            self.grads[f\"dW{l}\"] = 1/self.m * (np.dot(dZ, self.cache[f\"A{l - 1}\"].T))\n",
    "            self.grads[f\"db{l}\"] = 1/self.m * np.sum(dZ, axis=1, keepdims=True)\n",
    "    \n",
    "    def update_grads_adam(self, t, learning_rate = 0.01, beta1 = 0.9, beta2 = 0.999, epsilon = 1e-8):\n",
    "        \"\"\"\n",
    "        Args:\n",
    "        \n",
    "            beta1 : exponentially weighted average, beta = 0.9 is approx 10 days ewa\n",
    "        \"\"\"\n",
    "        v_biasCorrected = {}\n",
    "        s_biasCorrected = {}\n",
    "        self.learning_rate = learning_rate\n",
    "        for l in reversed(range(1, self.L)):\n",
    "            # moving average of the gradients\n",
    "            self.v[f\"VdW{l}\"] = beta1 * self.v[f\"VdW{l}\"] + (1 - beta1)* self.grads[f\"dW{l}\"]\n",
    "            self.v[f\"Vdb{l}\"] = beta1 * self.v[f\"Vdb{l}\"] + (1 - beta1)* self.grads[f\"db{l}\"]\n",
    "\n",
    "            v_biasCorrected[f\"VdW{l}\"] = self.v[f\"VdW{l}\"]/(1 - beta1 ** t) # bias correction to the first updates\n",
    "            v_biasCorrected[f\"Vdb{l}\"] = self.v[f\"Vdb{l}\"]/(1 - beta1 ** t) # bias correction\n",
    "\n",
    "            self.s[f\"SdW{l}\"] = beta2 * self.s[f\"SdW{l}\"] + (1 - beta2) * np.square(self.grads[f\"dW{l}\"])\n",
    "            self.s[f\"Sdb{l}\"] = beta2 * self.s[f\"Sdb{l}\"] + (1 - beta2) * np.square(self.grads[f\"db{l}\"])\n",
    "                                                                                             \n",
    "            s_biasCorrected[f\"SdW{l}\"] = self.s[f\"SdW{l}\"]/(1 - beta2 ** t) # bias correction to the first updates\n",
    "            s_biasCorrected[f\"Sdb{l}\"] = self.s[f\"Sdb{l}\"]/(1 - beta2 ** t) # bias correction\n",
    "            \n",
    "            self.parameters[f\"W{l}\"] -= self.learning_rate * (v_biasCorrected[f\"VdW{l}\"])/(np.sqrt(s_biasCorrected[f\"SdW{l}\"]) + epsilon)\n",
    "            self.parameters[f\"b{l}\"] -= self.learning_rate * (v_biasCorrected[f\"Vdb{l}\"])/(np.sqrt(s_biasCorrected[f\"Sdb{l}\"]) + epsilon)\n",
    "                                                                                               \n",
    "    def update_grads_gd(self, learning_rate = 0.01):\n",
    "        \"\"\"\n",
    "        Args:\n",
    "\n",
    "            beta1 : exponentially weighted average, beta = 0.9 is approx 10 days ewa\n",
    "        \"\"\"\n",
    "        self.learning_rate = learning_rate\n",
    "        for l in reversed(range(1, self.L)):\n",
    "            self.parameters[f\"W{l}\"] -= self.learning_rate * (self.grads[f\"dW{l}\"])\n",
    "            self.parameters[f\"b{l}\"] -= self.learning_rate * (self.grads[f\"db{l}\"])\n",
    "\n",
    "    def train(self, dims, learning_rate = 0.01, iterations = 1000, adam_optimizer=False):\n",
    "        printing_interval = round(iterations * 0.01)\n",
    "        self.initialize_parameters(dims, adam_optimizer=adam_optimizer)\n",
    "        costs = []\n",
    "        for i in range(iterations):\n",
    "            self.propagate(self.X_train)\n",
    "            cost = self.compute_cost()\n",
    "            if i % printing_interval == 0:\n",
    "                print(f\"epoch {i} : {cost}\")\n",
    "            costs.append(cost)\n",
    "            self.backprop()\n",
    "            if adam_optimizer:\n",
    "                self.update_grads_adam(t=i+1, learning_rate=learning_rate)\n",
    "            else:\n",
    "                self.update_grads_gd(learning_rate = learning_rate)\n",
    "        plt.plot(np.squeeze(costs))\n",
    "        plt.ylabel('cost')\n",
    "        plt.xlabel('iterations (per hundreds)')\n",
    "        plt.title(\"Learning rate =\" + str(learning_rate))\n",
    "        plt.show()"
   ]
  },
  {
   "cell_type": "code",
   "execution_count": 369,
   "metadata": {},
   "outputs": [],
   "source": [
    "X_train, X_val , y_train, y_val = generate_data(5000)"
   ]
  },
  {
   "cell_type": "code",
   "execution_count": 370,
   "metadata": {},
   "outputs": [],
   "source": [
    "neural_network = DNN()"
   ]
  },
  {
   "cell_type": "code",
   "execution_count": 371,
   "metadata": {},
   "outputs": [],
   "source": [
    "neural_network.fit(X_train, y_train)"
   ]
  },
  {
   "cell_type": "code",
   "execution_count": 372,
   "metadata": {
    "scrolled": true
   },
   "outputs": [
    {
     "name": "stdout",
     "output_type": "stream",
     "text": [
      "epoch 0 : 2.079432921486915\n",
      "epoch 4 : 1.8480015101304932\n",
      "epoch 8 : 1.3412846011476423\n",
      "epoch 12 : 0.7765311361562025\n",
      "epoch 16 : 0.3674470259640076\n",
      "epoch 20 : 0.13441789858068676\n",
      "epoch 24 : 0.04054525765860448\n",
      "epoch 28 : 0.012795110316442069\n",
      "epoch 32 : 0.004642810307760303\n",
      "epoch 36 : 0.0021778988203075143\n",
      "epoch 40 : 0.0012255661969152822\n",
      "epoch 44 : 0.0007819019325574763\n",
      "epoch 48 : 0.0005595426210197278\n",
      "epoch 52 : 0.0004418377397806554\n",
      "epoch 56 : 0.00037443409572433367\n",
      "epoch 60 : 0.00033206449542600537\n",
      "epoch 64 : 0.00030344206554337966\n",
      "epoch 68 : 0.00028341663074443345\n",
      "epoch 72 : 0.00026912736619573804\n",
      "epoch 76 : 0.0002585811634306752\n",
      "epoch 80 : 0.0002503400684648223\n",
      "epoch 84 : 0.00024347932429653676\n",
      "epoch 88 : 0.00023749168568411083\n",
      "epoch 92 : 0.0002321244540130208\n",
      "epoch 96 : 0.00022723295356956243\n",
      "epoch 100 : 0.0002227029779840512\n",
      "epoch 104 : 0.00021843432681013466\n",
      "epoch 108 : 0.00021434985983979113\n",
      "epoch 112 : 0.0002104010370335425\n",
      "epoch 116 : 0.0002065625511524302\n",
      "epoch 120 : 0.0002028218669632109\n",
      "epoch 124 : 0.00019917122304224022\n",
      "epoch 128 : 0.00019560432031095112\n",
      "epoch 132 : 0.00019211625130422002\n",
      "epoch 136 : 0.00018870373278433985\n",
      "epoch 140 : 0.00018536505614249224\n",
      "epoch 144 : 0.00018209926253176227\n",
      "epoch 148 : 0.00017890545276625044\n",
      "epoch 152 : 0.00017578239724426215\n",
      "epoch 156 : 0.00017272861762214942\n",
      "epoch 160 : 0.00016974243087303605\n",
      "epoch 164 : 0.00016682212389498806\n",
      "epoch 168 : 0.00016396605310734825\n",
      "epoch 172 : 0.00016117258478047484\n",
      "epoch 176 : 0.00015844020797049793\n",
      "epoch 180 : 0.0001557675921372114\n",
      "epoch 184 : 0.00015315351005232728\n",
      "epoch 188 : 0.00015059680791491183\n",
      "epoch 192 : 0.00014809635416103523\n",
      "epoch 196 : 0.00014565100156046593\n",
      "epoch 200 : 0.00014325962049748807\n",
      "epoch 204 : 0.00014092107214479693\n",
      "epoch 208 : 0.00013863418346476465\n",
      "epoch 212 : 0.0001363977577835668\n",
      "epoch 216 : 0.0001342106148528037\n",
      "epoch 220 : 0.00013207156251351148\n",
      "epoch 224 : 0.000129979425225319\n",
      "epoch 228 : 0.0001279330728501689\n",
      "epoch 232 : 0.0001259313528371114\n",
      "epoch 236 : 0.00012397315572697414\n",
      "epoch 240 : 0.00012205743002167472\n",
      "epoch 244 : 0.00012018308549777108\n",
      "epoch 248 : 0.00011834907981738637\n",
      "epoch 252 : 0.00011655440712025089\n",
      "epoch 256 : 0.00011479807764856251\n",
      "epoch 260 : 0.00011307911298507199\n",
      "epoch 264 : 0.00011139656712926372\n",
      "epoch 268 : 0.00010974952042981611\n",
      "epoch 272 : 0.00010813708014484493\n",
      "epoch 276 : 0.00010655836144669142\n",
      "epoch 280 : 0.00010501250266180486\n",
      "epoch 284 : 0.00010349868894367453\n",
      "epoch 288 : 0.0001020160992672047\n",
      "epoch 292 : 0.00010056394095699118\n",
      "epoch 296 : 9.914144486418492e-05\n",
      "epoch 300 : 9.77478592874579e-05\n",
      "epoch 304 : 9.63824555489987e-05\n",
      "epoch 308 : 9.504452072559451e-05\n",
      "epoch 312 : 9.373336176489062e-05\n",
      "epoch 316 : 9.244830855186019e-05\n",
      "epoch 320 : 9.118870943545024e-05\n",
      "epoch 324 : 8.995393078269727e-05\n",
      "epoch 328 : 8.874335653463278e-05\n",
      "epoch 332 : 8.755638790635533e-05\n",
      "epoch 336 : 8.639244357164766e-05\n",
      "epoch 340 : 8.525095644027295e-05\n",
      "epoch 344 : 8.413137632255394e-05\n",
      "epoch 348 : 8.303316840588333e-05\n",
      "epoch 352 : 8.195581710955035e-05\n",
      "epoch 356 : 8.089881315539362e-05\n",
      "epoch 360 : 7.986166477318909e-05\n",
      "epoch 364 : 7.884389518149802e-05\n",
      "epoch 368 : 7.784503946512374e-05\n",
      "epoch 372 : 7.686464638477966e-05\n",
      "epoch 376 : 7.590227983698778e-05\n",
      "epoch 380 : 7.495751152415328e-05\n",
      "epoch 384 : 7.40299265084691e-05\n",
      "epoch 388 : 7.311912281239516e-05\n",
      "epoch 392 : 7.222470841989981e-05\n",
      "epoch 396 : 7.134630008959807e-05\n"
     ]
    },
    {
     "data": {
      "image/png": "[encoded data removed]",
      "text/plain": [
       "<Figure size 432x288 with 1 Axes>"
      ]
     },
     "metadata": {
      "needs_background": "light"
     },
     "output_type": "display_data"
    }
   ],
   "source": [
    "neural_network.train([X_train.shape[0],8, y_train.shape[0]], iterations=400, learning_rate=0.1, adam_optimizer=True)"
   ]
  },
  {
   "cell_type": "code",
   "execution_count": 373,
   "metadata": {},
   "outputs": [],
   "source": [
    "y_pred = neural_network.predict(X_val)"
   ]
  },
  {
   "cell_type": "code",
   "execution_count": 374,
   "metadata": {
    "scrolled": true
   },
   "outputs": [
    {
     "data": {
      "text/plain": [
       "array([2, 1, 3, 0, 1, 5, 4, 0, 5, 4, 2, 6, 6, 6, 5, 5, 5, 4, 3, 1, 2, 7,\n",
       "       0, 3, 5, 4, 2, 1, 0, 4, 6, 4, 3, 5, 5, 1, 5, 1, 0, 7, 5, 1, 3, 3,\n",
       "       1, 2, 1, 2, 7, 4, 3, 3, 5, 4, 0, 5, 3, 5, 5, 6, 2, 5, 5, 7, 4, 4,\n",
       "       0, 4, 0, 1, 3, 4, 3, 6, 0, 1, 2, 6, 5, 4, 4, 4, 3, 4, 4, 3, 5, 1,\n",
       "       2, 7, 5, 3, 4, 5, 2, 1, 4, 6, 7, 3, 6, 6, 6, 0, 2, 6, 2, 2, 0, 3,\n",
       "       2, 1, 1, 0, 0, 0, 3, 3, 6, 1, 7, 2, 6, 7, 2, 5, 4, 4, 6, 3, 4, 2,\n",
       "       2, 5, 6, 7, 3, 0, 7, 4, 7, 1, 5, 5, 3, 2, 2, 3, 6, 7, 3, 5, 5, 7,\n",
       "       2, 2, 3, 6, 7, 5, 6, 2, 2, 2, 2, 2, 6, 0, 2, 5, 6, 2, 5, 5, 4, 5,\n",
       "       6, 3, 2, 6, 7, 0, 7, 6, 4, 1, 6, 0, 6, 4, 4, 1, 5, 0, 6, 0, 7, 0,\n",
       "       2, 0, 7, 5, 5, 7, 4, 5, 7, 7, 1, 6, 7, 0, 2, 2, 6, 3, 6, 1, 7, 4,\n",
       "       0, 3, 0, 7, 2, 6, 7, 6, 4, 2, 2, 3, 1, 4, 1, 5, 0, 5, 3, 5, 1, 6,\n",
       "       7, 2, 7, 6, 7, 1, 4, 4, 2, 1, 6, 5, 4, 3, 5, 0, 6, 5, 2, 4, 1, 7,\n",
       "       1, 6, 0, 2, 3, 7, 3, 5, 4, 0, 6, 4, 4, 5, 6, 5, 3, 4, 3, 3, 3, 5,\n",
       "       7, 5, 5, 2, 4, 5, 6, 4, 6, 0, 0, 4, 2, 6, 3, 3, 3, 4, 7, 6, 7, 2,\n",
       "       7, 1, 1, 2, 5, 7, 7, 5, 3, 0, 2, 6, 4, 7, 1, 2, 0, 7, 3, 2, 2, 5,\n",
       "       4, 7, 2, 0, 0, 0, 7, 5, 7, 0, 6, 3, 5, 6, 1, 7, 7, 3, 6, 2, 4, 6,\n",
       "       2, 3, 0, 5, 7, 4, 1, 0, 7, 2, 6, 1, 1, 3, 3, 6, 2, 3, 1, 3, 4, 5,\n",
       "       3, 6, 3, 5, 1, 5, 7, 7, 6, 5, 3, 7, 0, 7, 7, 3, 6, 1, 7, 5, 0, 6,\n",
       "       0, 3, 5, 7, 6, 3, 1, 7, 6, 2, 3, 5, 5, 1, 1, 0, 7, 7, 2, 5, 5, 6,\n",
       "       7, 0, 1, 7, 2, 3, 0, 0, 7, 0, 2, 6, 6, 7, 0, 5, 3, 5, 2, 1, 7, 1,\n",
       "       5, 4, 0, 7, 6, 5, 7, 2, 5, 5, 4, 7, 2, 3, 3, 2, 4, 6, 5, 1, 4, 3,\n",
       "       7, 1, 1, 0, 1, 1, 1, 3, 1, 4, 6, 5, 6, 1, 1, 4, 2, 7, 7, 2, 1, 0,\n",
       "       3, 1, 6, 1, 1, 2, 1, 7, 3, 6, 0, 7, 7, 3, 0, 0])"
      ]
     },
     "execution_count": 374,
     "metadata": {},
     "output_type": "execute_result"
    }
   ],
   "source": [
    "np.argmax(y_pred.T, axis = 1)"
   ]
  },
  {
   "cell_type": "code",
   "execution_count": 375,
   "metadata": {},
   "outputs": [
    {
     "data": {
      "text/plain": [
       "array([2, 1, 3, 0, 1, 5, 4, 0, 5, 4, 2, 6, 6, 6, 5, 5, 5, 4, 3, 1, 2, 7,\n",
       "       0, 3, 5, 4, 2, 1, 0, 4, 6, 4, 3, 5, 5, 1, 5, 1, 0, 7, 5, 1, 3, 3,\n",
       "       1, 2, 1, 2, 7, 4, 3, 3, 5, 4, 0, 5, 3, 5, 5, 6, 2, 5, 5, 7, 4, 4,\n",
       "       0, 4, 0, 1, 3, 4, 3, 6, 0, 1, 2, 6, 5, 4, 4, 4, 3, 4, 4, 3, 5, 1,\n",
       "       2, 7, 5, 3, 4, 5, 2, 1, 4, 6, 7, 3, 6, 6, 6, 0, 2, 6, 2, 2, 0, 3,\n",
       "       2, 1, 1, 0, 0, 0, 3, 3, 6, 1, 7, 2, 6, 7, 2, 5, 4, 4, 6, 3, 4, 2,\n",
       "       2, 5, 6, 7, 3, 0, 7, 4, 7, 1, 5, 5, 3, 2, 2, 3, 6, 7, 3, 5, 5, 7,\n",
       "       2, 2, 3, 6, 7, 5, 6, 2, 2, 2, 2, 2, 6, 0, 2, 5, 6, 2, 5, 5, 4, 5,\n",
       "       6, 3, 2, 6, 7, 0, 7, 6, 4, 1, 6, 0, 6, 4, 4, 1, 5, 0, 6, 0, 7, 0,\n",
       "       2, 0, 7, 5, 5, 7, 4, 5, 7, 7, 1, 6, 7, 0, 2, 2, 6, 3, 6, 1, 7, 4,\n",
       "       0, 3, 0, 7, 2, 6, 7, 6, 4, 2, 2, 3, 1, 4, 1, 5, 0, 5, 3, 5, 1, 6,\n",
       "       7, 2, 7, 6, 7, 1, 4, 4, 2, 1, 6, 5, 4, 3, 5, 0, 6, 5, 2, 4, 1, 7,\n",
       "       1, 6, 0, 2, 3, 7, 3, 5, 4, 0, 6, 4, 4, 5, 6, 5, 3, 4, 3, 3, 3, 5,\n",
       "       7, 5, 5, 2, 4, 5, 6, 4, 6, 0, 0, 4, 2, 6, 3, 3, 3, 4, 7, 6, 7, 2,\n",
       "       7, 1, 1, 2, 5, 7, 7, 5, 3, 0, 2, 6, 4, 7, 1, 2, 0, 7, 3, 2, 2, 5,\n",
       "       4, 7, 2, 0, 0, 0, 7, 5, 7, 0, 6, 3, 5, 6, 1, 7, 7, 3, 6, 2, 4, 6,\n",
       "       2, 3, 0, 5, 7, 4, 1, 0, 7, 2, 6, 1, 1, 3, 3, 6, 2, 3, 1, 3, 4, 5,\n",
       "       3, 6, 3, 5, 1, 5, 7, 7, 6, 5, 3, 7, 0, 7, 7, 3, 6, 1, 7, 5, 0, 6,\n",
       "       0, 3, 5, 7, 6, 3, 1, 7, 6, 2, 3, 5, 5, 1, 1, 0, 7, 7, 2, 5, 5, 6,\n",
       "       7, 0, 1, 7, 2, 3, 0, 0, 7, 0, 2, 6, 6, 7, 0, 5, 3, 5, 2, 1, 7, 1,\n",
       "       5, 4, 0, 7, 6, 5, 7, 2, 5, 5, 4, 7, 2, 3, 3, 2, 4, 6, 5, 1, 4, 3,\n",
       "       7, 1, 1, 0, 1, 1, 1, 3, 1, 4, 6, 5, 6, 1, 1, 4, 2, 7, 7, 2, 1, 0,\n",
       "       3, 1, 6, 1, 1, 2, 1, 7, 3, 6, 0, 7, 7, 3, 0, 0])"
      ]
     },
     "execution_count": 375,
     "metadata": {},
     "output_type": "execute_result"
    }
   ],
   "source": [
    "np.argmax(y_val.T, axis = 1)"
   ]
  },
  {
   "cell_type": "code",
   "execution_count": 376,
   "metadata": {},
   "outputs": [
    {
     "data": {
      "text/plain": [
       "1.0"
      ]
     },
     "execution_count": 376,
     "metadata": {},
     "output_type": "execute_result"
    }
   ],
   "source": [
    "accuracy_score(np.argmax(y_pred.T, axis = 1), np.argmax(y_val.T, axis = 1))"
   ]
  }
 ],
 "metadata": {
  "kernelspec": {
   "display_name": "Python 3",
   "language": "python",
   "name": "python3"
  },
  "language_info": {
   "codemirror_mode": {
    "name": "ipython",
    "version": 3
   },
   "file_extension": ".py",
   "mimetype": "text/x-python",
   "name": "python",
   "nbconvert_exporter": "python",
   "pygments_lexer": "ipython3",
   "version": "3.7.5"
  }
 },
 "nbformat": 4,
 "nbformat_minor": 2
}
