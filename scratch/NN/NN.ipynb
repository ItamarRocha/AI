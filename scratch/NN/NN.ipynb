{
 "cells": [
  {
   "cell_type": "markdown",
   "metadata": {},
   "source": [
    "# Deep Learning class exercise list 1"
   ]
  },
  {
   "cell_type": "markdown",
   "metadata": {},
   "source": [
    "## Question 1"
   ]
  },
  {
   "cell_type": "markdown",
   "metadata": {},
   "source": [
    "* ### Generating Data"
   ]
  },
  {
   "cell_type": "code",
   "execution_count": 4,
   "metadata": {},
   "outputs": [],
   "source": [
    "import numpy as np\n",
    "import matplotlib.pyplot as plt\n",
    "from sklearn.metrics import accuracy_score\n",
    "from sklearn.datasets import load_digits"
   ]
  },
  {
   "cell_type": "code",
   "execution_count": 5,
   "metadata": {},
   "outputs": [],
   "source": [
    "def generate_data(data_size, train_val_split = 0.1):\n",
    "    X = np.zeros((data_size, 3),dtype=np.float128)\n",
    "    y = np.zeros((data_size, 8),dtype=np.float128)\n",
    "    for i in range(data_size):\n",
    "        arr = np.random.randint(0, 2, 3) + np.random.uniform(-0.1,0.1, 3)\n",
    "        X[i] = np.round(arr,4)\n",
    "        y[i][int(round(arr[0]) * 4 + round(arr[1]) * 2+ round(arr[2]))] = 1\n",
    "    \n",
    "    val_split = round(data_size * (1 - train_val_split))\n",
    "\n",
    "    X_train, y_train = X[:val_split].T, y[:val_split].T\n",
    "    X_val, y_val = X[val_split:].T, y[val_split:].T\n",
    "    return X_train, X_val, y_train, y_val"
   ]
  },
  {
   "cell_type": "markdown",
   "metadata": {},
   "source": [
    "* ### MLP"
   ]
  },
  {
   "cell_type": "code",
   "execution_count": 6,
   "metadata": {},
   "outputs": [],
   "source": [
    "def sigmoid(value):\n",
    "    return 1/(1 + np.exp(-value))\n",
    "\n",
    "def sigmoid_derivative(value):\n",
    "    return sigmoid(value) * (1 - sigmoid(value))"
   ]
  },
  {
   "cell_type": "code",
   "execution_count": 7,
   "metadata": {},
   "outputs": [],
   "source": [
    "def softmax(value):\n",
    "    expA = np.exp(value.T - np.max(value.T, axis=1, keepdims=True))\n",
    "    return (expA / expA.sum(axis=1, keepdims=True)).T"
   ]
  },
  {
   "cell_type": "code",
   "execution_count": 8,
   "metadata": {},
   "outputs": [],
   "source": [
    "def relu(value):\n",
    "    return np.maximum(value, 0)\n",
    "\n",
    "def relu_derivative(value):\n",
    "    value[relu(value) <=0] = 0\n",
    "    return value"
   ]
  },
  {
   "cell_type": "markdown",
   "metadata": {},
   "source": [
    "## Exponentially Weighted Average\n",
    "$$\n",
    "V_{10} = \\frac{0.1\\theta_{10} + 0.9\\cdot0.1\\theta_{9} + 0.9^2\\cdot0.1\\theta_{8} + \\cdots + 0.9^8\\cdot0.1\\theta_{2} + 0.9^9\\cdot0.1\\theta_{1}}{10}\n",
    "$$\n",
    "* This is how we usually compute an average. Although, having to keep all theses values in memory is costly. One alternative way would be to compute $V_{10}$ taking into account only $V_9$ and $\\theta_{10}$.\n",
    "$$\n",
    "V_{10} = \\frac{9}{10}V_9 + \\frac{1}{10}\\theta_{10}\n",
    "$$"
   ]
  },
  {
   "cell_type": "markdown",
   "metadata": {},
   "source": [
    "* Which can be modelled as:\n",
    "$$\n",
    "V_t = \\beta V_{t-1} + (1 - \\beta) \\theta_t\n",
    "$$\n",
    "Where $\\beta$ is calculled as $\\frac{t -1}{t}$  \n",
    "the time window can be calculed through having the value of $\\beta$ as $\\frac{1}{1 - \\beta}$ days/windows"
   ]
  },
  {
   "cell_type": "markdown",
   "metadata": {},
   "source": [
    "* In early training, we have to do a bias correction in this averaging, in order to compensate the lack of data in previous time steps inserted on the time window. At time step 0, if working with a 0.9 $\\beta$, we will have a \n",
    "time window of 10, but our estimates will be biased and far from the real cause it will lack more terms that should make a parte of the exponentially weighted average. In order to fix this, we divide the $V$ value calculated by (1 - $\\beta^t$) which will \"normalize\" the initial values and wont affect the values the other ones"
   ]
  },
  {
   "cell_type": "markdown",
   "metadata": {},
   "source": [
    "$$\n",
    "V_t = \\frac{V_t}{1 - \\beta^t}\n",
    "$$"
   ]
  },
  {
   "cell_type": "code",
   "execution_count": 9,
   "metadata": {},
   "outputs": [],
   "source": [
    "class DNN():\n",
    "    def __init__(self):\n",
    "        \"\"\"\n",
    "        Initializes your class:\n",
    "            parameters : dictionary of parameters, which will store W and b through propagation.\n",
    "            cache : dictionary of cache, which will be responsible for storing A and Z during the propagation.\n",
    "            grads: dictionary of gradients, which will store all gradients computed during backprop.\n",
    "        \n",
    "        Args:\n",
    "            No arguments taken.\n",
    "        return:\n",
    "            No return.\n",
    "        \"\"\"\n",
    "        \n",
    "        self.parameters = {}\n",
    "        self.cache = {}\n",
    "        self.grads = {}\n",
    "        self.v = {}\n",
    "        self.s = {}\n",
    "\n",
    "    def fit(self, X_train, y_train, hidden=relu, output=softmax):\n",
    "        \"\"\"\n",
    "        Args : \n",
    "            X_train = input data of shape (n_x, number_of_examples).\n",
    "            y_train = label vector of shape (n_y, number_of_examples).\n",
    "        \"\"\"\n",
    "        self.X_train = X_train\n",
    "        self.y_train = y_train\n",
    "        self.m = X_train.shape[1]\n",
    "        self.hidden = hidden # function passed as argument to be used on hidden layers\n",
    "        self.output = output # function passed as argument to be used on output layers\n",
    "\n",
    "    def initialize_parameters(self, dims, adam_optimizer=False):\n",
    "        \"\"\"\n",
    "        Args:\n",
    "            dims = dimensions of the network.\n",
    "            \n",
    "            Example:\n",
    "                dims = [3,3,8]\n",
    "                \n",
    "                A network with input size = 3, hidden layer = 3 and output layer = 8.\n",
    "                \n",
    "                The first dimension on the list must always be the length of each example.\n",
    "                The last dimension on the list must always be the length of each output example.\n",
    "                \n",
    "                In a case where X_train shape = (3, 4500) and y_train shape = (8, 4500), 4500 in\n",
    "                each shape represents the number of examples.\n",
    "                \n",
    "                dims = [3, 8]\n",
    "        Return:\n",
    "            parameters : a dictionary containing all weights and biases intialized\n",
    "                \n",
    "        \"\"\"\n",
    "        self.L = len(dims)\n",
    "        for l in range(1, self.L):\n",
    "            self.parameters[\"W\" + str(l)] = np.random.randn(dims[l], dims[l-1]) * 0.01\n",
    "            self.parameters[\"b\" + str(l)] = np.zeros((dims[l], 1))\n",
    "            if adam_optimizer:\n",
    "                self.v[\"VdW\" + str(l)] = np.zeros((dims[l], dims[l-1]))\n",
    "                self.v[\"Vdb\" + str(l)] = np.zeros((dims[l], 1))\n",
    "                self.s[\"SdW\" + str(l)] = np.zeros((dims[l], dims[l-1]))\n",
    "                self.s[\"Sdb\" + str(l)] = np.zeros((dims[l], 1))\n",
    "        return self.parameters\n",
    "    \n",
    "    def propagate(self, X):\n",
    "        \"\"\"\n",
    "        Does the forward propagation of the network\n",
    "        \"\"\"\n",
    "        A_prev = X\n",
    "        self.cache[f\"A{0}\"] = A_prev\n",
    "        for l in range(1, self.L):\n",
    "            \n",
    "            Z = np.dot(self.parameters[f\"W{l}\"], A_prev) + self.parameters[f\"b{l}\"]\n",
    "\n",
    "            if l == self.L - 1:\n",
    "                A = self.output(Z)\n",
    "            else:\n",
    "                A = self.hidden(Z)\n",
    "\n",
    "            self.cache[f\"Z{l}\"] = Z\n",
    "            self.cache[f\"A{l}\"] = A\n",
    "            \n",
    "            A_prev = A\n",
    "        \n",
    "        self.y_hat = A\n",
    "\n",
    "    def predict(self, X):\n",
    "        \"\"\"\n",
    "        Predicts the value using the propagate function\n",
    "        \n",
    "        Args:\n",
    "            X : data to be used on prediction\n",
    "        Return:\n",
    "            y_hat : data predicted\n",
    "        \"\"\"\n",
    "        self.propagate(X)\n",
    "        return self.y_hat\n",
    "    \n",
    "    def compute_cost(self):\n",
    "        pred = self.y_hat.T\n",
    "        real = self.y_train.T\n",
    "        n_samples = real.shape[0]\n",
    "        logp = - np.log(pred[np.arange(n_samples), real.argmax(axis=1)])\n",
    "        cost = np.sum(logp)/(n_samples)\n",
    "        return cost\n",
    "\n",
    "    def loss(self):\n",
    "        res = self.y_hat - self.y_train\n",
    "        return res\n",
    "\n",
    "    def backprop(self):\n",
    "        dA = self.loss()\n",
    "        \n",
    "        if self.output == sigmoid:\n",
    "            dZ = dA * sigmoid_derivative(self.cache[f\"Z{self.L - 1}\"])\n",
    "        elif self.output == softmax:\n",
    "            dZ = dA\n",
    "        else:\n",
    "            print(\"output activation not recognized\")\n",
    "\n",
    "        self.grads[f\"dW{self.L - 1}\"] = 1/self.m * (np.dot(dZ, self.cache[f\"A{self.L - 2}\"].T))\n",
    "        self.grads[f\"db{self.L - 1}\"] = 1/self.m * np.sum(dZ, axis=1, keepdims=True)\n",
    "\n",
    "        for l in reversed(range(1, self.L - 1)):\n",
    "            self.grads[f\"dA_prev{l}\"] = np.dot(self.parameters[f\"W{l + 1}\"].T,dZ)\n",
    "            dZ = self.grads[f\"dA_prev{l}\"] * relu_derivative(self.cache[f\"Z{l}\"])\n",
    "            self.grads[f\"dW{l}\"] = 1/self.m * (np.dot(dZ, self.cache[f\"A{l - 1}\"].T))\n",
    "            self.grads[f\"db{l}\"] = 1/self.m * np.sum(dZ, axis=1, keepdims=True)\n",
    "    \n",
    "    def update_grads_adam(self, t, learning_rate = 0.01, beta1 = 0.9, beta2 = 0.999, epsilon = 1e-8):\n",
    "        \"\"\"\n",
    "        Args:\n",
    "        \n",
    "            beta1 : exponentially weighted average, beta = 0.9 is approx 10 days ewa\n",
    "        \"\"\"\n",
    "        v_biasCorrected = {}\n",
    "        s_biasCorrected = {}\n",
    "        self.learning_rate = learning_rate\n",
    "        for l in reversed(range(1, self.L)):\n",
    "            # moving average of the gradients\n",
    "            self.v[f\"VdW{l}\"] = beta1 * self.v[f\"VdW{l}\"] + (1 - beta1)* self.grads[f\"dW{l}\"]\n",
    "            self.v[f\"Vdb{l}\"] = beta1 * self.v[f\"Vdb{l}\"] + (1 - beta1)* self.grads[f\"db{l}\"]\n",
    "\n",
    "            v_biasCorrected[f\"VdW{l}\"] = self.v[f\"VdW{l}\"]/(1 - beta1 ** t) # bias correction to the first updates\n",
    "            v_biasCorrected[f\"Vdb{l}\"] = self.v[f\"Vdb{l}\"]/(1 - beta1 ** t) # bias correction\n",
    "\n",
    "            self.s[f\"SdW{l}\"] = beta2 * self.s[f\"SdW{l}\"] + (1 - beta2) * np.square(self.grads[f\"dW{l}\"])\n",
    "            self.s[f\"Sdb{l}\"] = beta2 * self.s[f\"Sdb{l}\"] + (1 - beta2) * np.square(self.grads[f\"db{l}\"])\n",
    "                                                                                             \n",
    "            s_biasCorrected[f\"SdW{l}\"] = self.s[f\"SdW{l}\"]/(1 - beta2 ** t) # bias correction to the first updates\n",
    "            s_biasCorrected[f\"Sdb{l}\"] = self.s[f\"Sdb{l}\"]/(1 - beta2 ** t) # bias correction\n",
    "            \n",
    "            self.parameters[f\"W{l}\"] -= self.learning_rate * (v_biasCorrected[f\"VdW{l}\"])/(np.sqrt(s_biasCorrected[f\"SdW{l}\"]) + epsilon)\n",
    "            self.parameters[f\"b{l}\"] -= self.learning_rate * (v_biasCorrected[f\"Vdb{l}\"])/(np.sqrt(s_biasCorrected[f\"Sdb{l}\"]) + epsilon)\n",
    "                                                                                               \n",
    "    def update_grads_gd(self, learning_rate = 0.01):\n",
    "        \"\"\"\n",
    "        Args:\n",
    "\n",
    "            beta1 : exponentially weighted average, beta = 0.9 is approx 10 days ewa\n",
    "        \"\"\"\n",
    "        self.learning_rate = learning_rate\n",
    "        for l in reversed(range(1, self.L)):\n",
    "            self.parameters[f\"W{l}\"] -= self.learning_rate * (self.grads[f\"dW{l}\"])\n",
    "            self.parameters[f\"b{l}\"] -= self.learning_rate * (self.grads[f\"db{l}\"])\n",
    "\n",
    "    def train(self, dims, learning_rate = 0.01, iterations = 1000, adam_optimizer=False):\n",
    "        printing_interval = round(iterations * 0.01)\n",
    "        self.initialize_parameters(dims, adam_optimizer=adam_optimizer)\n",
    "        costs = []\n",
    "        for i in range(iterations):\n",
    "            self.propagate(self.X_train)\n",
    "            cost = self.compute_cost()\n",
    "            if i % printing_interval == 0:\n",
    "                print(f\"epoch {i} : {cost}\")\n",
    "            costs.append(cost)\n",
    "            self.backprop()\n",
    "            if adam_optimizer:\n",
    "                self.update_grads_adam(t=i+1, learning_rate=learning_rate)\n",
    "            else:\n",
    "                self.update_grads_gd(learning_rate = learning_rate)\n",
    "        plt.plot(np.squeeze(costs))\n",
    "        plt.ylabel('cost')\n",
    "        plt.xlabel('iterations (per hundreds)')\n",
    "        plt.title(\"Learning rate =\" + str(learning_rate))\n",
    "        plt.show()"
   ]
  },
  {
   "cell_type": "code",
   "execution_count": 10,
   "metadata": {},
   "outputs": [],
   "source": [
    "X_train, X_val , y_train, y_val = generate_data(5000)"
   ]
  },
  {
   "cell_type": "code",
   "execution_count": 11,
   "metadata": {},
   "outputs": [],
   "source": [
    "neural_network = DNN()"
   ]
  },
  {
   "cell_type": "code",
   "execution_count": 12,
   "metadata": {},
   "outputs": [],
   "source": [
    "neural_network.fit(X_train, y_train)"
   ]
  },
  {
   "cell_type": "code",
   "execution_count": 20,
   "metadata": {
    "scrolled": true
   },
   "outputs": [
    {
     "name": "stdout",
     "output_type": "stream",
     "text": [
      "epoch 0 : 2.079378997026494\n",
      "epoch 1 : 2.0634085099998627\n",
      "epoch 2 : 2.0269471044285474\n",
      "epoch 3 : 1.9783905668382245\n",
      "epoch 4 : 1.906547192523324\n",
      "epoch 5 : 1.8251136918501247\n",
      "epoch 6 : 1.7337501638656416\n",
      "epoch 7 : 1.6242553708621703\n",
      "epoch 8 : 1.4946937545374974\n",
      "epoch 9 : 1.3592004315190338\n",
      "epoch 10 : 1.2262535659747207\n",
      "epoch 11 : 1.0925657830476907\n",
      "epoch 12 : 0.9571552053515843\n",
      "epoch 13 : 0.8340876405558112\n",
      "epoch 14 : 0.7325200155472833\n",
      "epoch 15 : 0.6373060989403112\n",
      "epoch 16 : 0.5465024988092766\n",
      "epoch 17 : 0.470396478621391\n",
      "epoch 18 : 0.40801532563394505\n",
      "epoch 19 : 0.35185609881697805\n",
      "epoch 20 : 0.30361063507080455\n",
      "epoch 21 : 0.2648008285363894\n",
      "epoch 22 : 0.22565604567141678\n",
      "epoch 23 : 0.19236904189067672\n",
      "epoch 24 : 0.1661406612643288\n",
      "epoch 25 : 0.14200771381491278\n",
      "epoch 26 : 0.1223330968652099\n",
      "epoch 27 : 0.10667281247068897\n",
      "epoch 28 : 0.09185571038456486\n",
      "epoch 29 : 0.0796445435868532\n",
      "epoch 30 : 0.0698767353098965\n",
      "epoch 31 : 0.06130242126201424\n",
      "epoch 32 : 0.05444047782673452\n",
      "epoch 33 : 0.04849447307729679\n",
      "epoch 34 : 0.04316313513680735\n",
      "epoch 35 : 0.03888100704118784\n",
      "epoch 36 : 0.03503646391534055\n",
      "epoch 37 : 0.031540607768389406\n",
      "epoch 38 : 0.02872093085885445\n",
      "epoch 39 : 0.026247009054724015\n",
      "epoch 40 : 0.023920034109642815\n",
      "epoch 41 : 0.02194080071275323\n",
      "epoch 42 : 0.02021024804100069\n",
      "epoch 43 : 0.01858244783671909\n",
      "epoch 44 : 0.017139833748144595\n",
      "epoch 45 : 0.015942950431656937\n",
      "epoch 46 : 0.014894316883746268\n",
      "epoch 47 : 0.013922501380546107\n",
      "epoch 48 : 0.013056744306625985\n",
      "epoch 49 : 0.012302891551431494\n",
      "epoch 50 : 0.011619486072959132\n",
      "epoch 51 : 0.010990857758016644\n",
      "epoch 52 : 0.010438015939596746\n",
      "epoch 53 : 0.009965732816023759\n",
      "epoch 54 : 0.009540049729858228\n",
      "epoch 55 : 0.009129511632962953\n",
      "epoch 56 : 0.008739991411529553\n",
      "epoch 57 : 0.008390855767993107\n",
      "epoch 58 : 0.00808189657999369\n",
      "epoch 59 : 0.007798354190328504\n",
      "epoch 60 : 0.0075321965982189125\n",
      "epoch 61 : 0.007286879516936211\n",
      "epoch 62 : 0.007065506640002719\n",
      "epoch 63 : 0.006862116847467383\n",
      "epoch 64 : 0.00666735053492\n",
      "epoch 65 : 0.006478871988697202\n",
      "epoch 66 : 0.006301633891687927\n",
      "epoch 67 : 0.006139441757683136\n",
      "epoch 68 : 0.005990247267140283\n",
      "epoch 69 : 0.0058494133299945095\n",
      "epoch 70 : 0.005714665791234127\n",
      "epoch 71 : 0.005586829070620506\n",
      "epoch 72 : 0.005466907402008466\n",
      "epoch 73 : 0.005353864410465499\n",
      "epoch 74 : 0.005245592383256834\n",
      "epoch 75 : 0.005141188220905523\n",
      "epoch 76 : 0.005041383628760986\n",
      "epoch 77 : 0.0049469160377914306\n",
      "epoch 78 : 0.004857208449311727\n",
      "epoch 79 : 0.004770830311847657\n",
      "epoch 80 : 0.0046868343222343095\n",
      "epoch 81 : 0.004605374153457739\n",
      "epoch 82 : 0.004527129579051611\n",
      "epoch 83 : 0.004452357820786551\n",
      "epoch 84 : 0.004380602425547447\n",
      "epoch 85 : 0.0043111984129327015\n",
      "epoch 86 : 0.004243855703107282\n",
      "epoch 87 : 0.004178671104875123\n",
      "epoch 88 : 0.004115707574423312\n",
      "epoch 89 : 0.004054740167070015\n",
      "epoch 90 : 0.003995411210499267\n",
      "epoch 91 : 0.003937537590395958\n",
      "epoch 92 : 0.0038811860270781292\n",
      "epoch 93 : 0.0038264675484358376\n",
      "epoch 94 : 0.003773318963844026\n",
      "epoch 95 : 0.0037215011053540023\n",
      "epoch 96 : 0.003670786208917902\n",
      "epoch 97 : 0.003621103067119479\n",
      "epoch 98 : 0.0035725090106603955\n",
      "epoch 99 : 0.0035250471128788576\n"
     ]
    },
    {
     "data": {
      "image/png": "[encoded data removed]",
      "text/plain": [
       "<Figure size 432x288 with 1 Axes>"
      ]
     },
     "metadata": {
      "needs_background": "light"
     },
     "output_type": "display_data"
    }
   ],
   "source": [
    "neural_network.train([X_train.shape[0],8, y_train.shape[0]], iterations=100, learning_rate=0.1, adam_optimizer=True)"
   ]
  },
  {
   "cell_type": "code",
   "execution_count": 21,
   "metadata": {},
   "outputs": [],
   "source": [
    "y_pred = neural_network.predict(X_val)"
   ]
  },
  {
   "cell_type": "code",
   "execution_count": 22,
   "metadata": {
    "scrolled": true
   },
   "outputs": [
    {
     "data": {
      "text/plain": [
       "array([3, 6, 7, 2, 7, 2, 1, 1, 6, 4, 0, 2, 4, 1, 4, 7, 7, 0, 7, 4, 4, 7,\n",
       "       0, 6, 6, 2, 3, 7, 2, 4, 6, 0, 1, 1, 1, 4, 6, 0, 3, 1, 7, 1, 1, 4,\n",
       "       2, 4, 0, 7, 1, 2, 7, 0, 0, 2, 0, 7, 5, 2, 2, 3, 7, 4, 7, 6, 5, 1,\n",
       "       0, 4, 4, 0, 6, 2, 6, 4, 7, 2, 2, 4, 6, 3, 6, 5, 3, 4, 4, 1, 5, 1,\n",
       "       1, 1, 6, 0, 3, 4, 4, 7, 7, 7, 2, 3, 1, 4, 6, 0, 5, 4, 1, 4, 1, 7,\n",
       "       2, 1, 1, 5, 1, 2, 2, 7, 4, 1, 6, 7, 2, 0, 6, 1, 0, 4, 4, 2, 2, 3,\n",
       "       4, 4, 6, 4, 1, 1, 7, 5, 1, 7, 2, 7, 7, 5, 0, 5, 4, 3, 1, 7, 6, 6,\n",
       "       2, 2, 6, 5, 7, 6, 0, 3, 6, 2, 5, 3, 2, 5, 2, 5, 4, 1, 3, 0, 4, 3,\n",
       "       2, 7, 7, 1, 2, 4, 3, 6, 5, 3, 0, 7, 4, 2, 7, 4, 6, 3, 2, 7, 5, 6,\n",
       "       6, 5, 4, 6, 7, 7, 5, 7, 6, 5, 5, 3, 0, 5, 1, 5, 6, 5, 2, 1, 0, 1,\n",
       "       0, 7, 3, 0, 2, 6, 5, 7, 5, 4, 2, 0, 2, 5, 4, 0, 2, 1, 1, 3, 6, 5,\n",
       "       3, 3, 5, 5, 6, 7, 5, 3, 1, 7, 6, 2, 0, 6, 2, 0, 7, 3, 4, 6, 4, 7,\n",
       "       1, 0, 3, 4, 6, 7, 0, 6, 7, 2, 0, 0, 1, 4, 5, 4, 4, 1, 7, 3, 2, 4,\n",
       "       6, 7, 4, 7, 2, 2, 3, 2, 6, 6, 7, 3, 0, 0, 0, 2, 4, 6, 4, 0, 0, 7,\n",
       "       7, 0, 5, 3, 1, 5, 4, 6, 2, 0, 5, 3, 5, 3, 5, 2, 0, 6, 0, 6, 1, 6,\n",
       "       5, 3, 6, 1, 7, 2, 2, 4, 4, 1, 5, 7, 0, 2, 7, 4, 1, 6, 0, 0, 4, 7,\n",
       "       3, 3, 4, 1, 6, 1, 4, 4, 1, 7, 3, 6, 2, 1, 7, 2, 2, 7, 6, 0, 4, 7,\n",
       "       6, 0, 7, 1, 7, 6, 3, 3, 5, 7, 4, 4, 4, 2, 5, 4, 1, 4, 2, 0, 1, 4,\n",
       "       3, 5, 0, 3, 5, 2, 7, 0, 2, 2, 2, 7, 7, 0, 1, 5, 1, 0, 3, 0, 7, 4,\n",
       "       7, 2, 0, 7, 7, 4, 1, 4, 0, 6, 6, 5, 7, 4, 1, 5, 1, 0, 7, 2, 1, 6,\n",
       "       3, 1, 7, 7, 5, 3, 6, 1, 0, 5, 5, 7, 4, 6, 1, 1, 0, 4, 2, 1, 0, 4,\n",
       "       6, 3, 7, 6, 1, 3, 4, 2, 4, 5, 5, 0, 3, 0, 2, 1, 7, 5, 6, 3, 3, 4,\n",
       "       1, 6, 1, 0, 6, 3, 4, 3, 5, 4, 3, 2, 7, 5, 6, 5])"
      ]
     },
     "execution_count": 22,
     "metadata": {},
     "output_type": "execute_result"
    }
   ],
   "source": [
    "np.argmax(y_pred.T, axis = 1)"
   ]
  },
  {
   "cell_type": "code",
   "execution_count": 23,
   "metadata": {},
   "outputs": [
    {
     "data": {
      "text/plain": [
       "array([3, 6, 7, 2, 7, 2, 1, 1, 6, 4, 0, 2, 4, 1, 4, 7, 7, 0, 7, 4, 4, 7,\n",
       "       0, 6, 6, 2, 3, 7, 2, 4, 6, 0, 1, 1, 1, 4, 6, 0, 3, 1, 7, 1, 1, 4,\n",
       "       2, 4, 0, 7, 1, 2, 7, 0, 0, 2, 0, 7, 5, 2, 2, 3, 7, 4, 7, 6, 5, 1,\n",
       "       0, 4, 4, 0, 6, 2, 6, 4, 7, 2, 2, 4, 6, 3, 6, 5, 3, 4, 4, 1, 5, 1,\n",
       "       1, 1, 6, 0, 3, 4, 4, 7, 7, 7, 2, 3, 1, 4, 6, 0, 5, 4, 1, 4, 1, 7,\n",
       "       2, 1, 1, 5, 1, 2, 2, 7, 4, 1, 6, 7, 2, 0, 6, 1, 0, 4, 4, 2, 2, 3,\n",
       "       4, 4, 6, 4, 1, 1, 7, 5, 1, 7, 2, 7, 7, 5, 0, 5, 4, 3, 1, 7, 6, 6,\n",
       "       2, 2, 6, 5, 7, 6, 0, 3, 6, 2, 5, 3, 2, 5, 2, 5, 4, 1, 3, 0, 4, 3,\n",
       "       2, 7, 7, 1, 2, 4, 3, 6, 5, 3, 0, 7, 4, 2, 7, 4, 6, 3, 2, 7, 5, 6,\n",
       "       6, 5, 4, 6, 7, 7, 5, 7, 6, 5, 5, 3, 0, 5, 1, 5, 6, 5, 2, 1, 0, 1,\n",
       "       0, 7, 3, 0, 2, 6, 5, 7, 5, 4, 2, 0, 2, 5, 4, 0, 2, 1, 1, 3, 6, 5,\n",
       "       3, 3, 5, 5, 6, 7, 5, 3, 1, 7, 6, 2, 0, 6, 2, 0, 7, 3, 4, 6, 4, 7,\n",
       "       1, 0, 3, 4, 6, 7, 0, 6, 7, 2, 0, 0, 1, 4, 5, 4, 4, 1, 7, 3, 2, 4,\n",
       "       6, 7, 4, 7, 2, 2, 3, 2, 6, 6, 7, 3, 0, 0, 0, 2, 4, 6, 4, 0, 0, 7,\n",
       "       7, 0, 5, 3, 1, 5, 4, 6, 2, 0, 5, 3, 5, 3, 5, 2, 0, 6, 0, 6, 1, 6,\n",
       "       5, 3, 6, 1, 7, 2, 2, 4, 4, 1, 5, 7, 0, 2, 7, 4, 1, 6, 0, 0, 4, 7,\n",
       "       3, 3, 4, 1, 6, 1, 4, 4, 1, 7, 3, 6, 2, 1, 7, 2, 2, 7, 6, 0, 4, 7,\n",
       "       6, 0, 7, 1, 7, 6, 3, 3, 5, 7, 4, 4, 4, 2, 5, 4, 1, 4, 2, 0, 1, 4,\n",
       "       3, 5, 0, 3, 5, 2, 7, 0, 2, 2, 2, 7, 7, 0, 1, 5, 1, 0, 3, 0, 7, 4,\n",
       "       7, 2, 0, 7, 7, 4, 1, 4, 0, 6, 6, 5, 7, 4, 1, 5, 1, 0, 7, 2, 1, 6,\n",
       "       3, 1, 7, 7, 5, 3, 6, 1, 0, 5, 5, 7, 4, 6, 1, 1, 0, 4, 2, 1, 0, 4,\n",
       "       6, 3, 7, 6, 1, 3, 4, 2, 4, 5, 5, 0, 3, 0, 2, 1, 7, 5, 6, 3, 3, 4,\n",
       "       1, 6, 1, 0, 6, 3, 4, 3, 5, 4, 3, 2, 7, 5, 6, 5])"
      ]
     },
     "execution_count": 23,
     "metadata": {},
     "output_type": "execute_result"
    }
   ],
   "source": [
    "np.argmax(y_val.T, axis = 1)"
   ]
  },
  {
   "cell_type": "code",
   "execution_count": 24,
   "metadata": {},
   "outputs": [
    {
     "data": {
      "text/plain": [
       "1.0"
      ]
     },
     "execution_count": 24,
     "metadata": {},
     "output_type": "execute_result"
    }
   ],
   "source": [
    "accuracy_score(np.argmax(y_pred.T, axis = 1), np.argmax(y_val.T, axis = 1))"
   ]
  }
 ],
 "metadata": {
  "kernelspec": {
   "display_name": "Python 3",
   "language": "python",
   "name": "python3"
  },
  "language_info": {
   "codemirror_mode": {
    "name": "ipython",
    "version": 3
   },
   "file_extension": ".py",
   "mimetype": "text/x-python",
   "name": "python",
   "nbconvert_exporter": "python",
   "pygments_lexer": "ipython3",
   "version": "3.7.5"
  }
 },
 "nbformat": 4,
 "nbformat_minor": 2
}
