{
 "cells": [
  {
   "cell_type": "markdown",
   "metadata": {},
   "source": [
    "# Deep Learning class exercise list 1"
   ]
  },
  {
   "cell_type": "markdown",
   "metadata": {},
   "source": [
    "## Question 1"
   ]
  },
  {
   "cell_type": "markdown",
   "metadata": {},
   "source": [
    "* ### Generating Data"
   ]
  },
  {
   "cell_type": "code",
   "execution_count": 1,
   "metadata": {},
   "outputs": [],
   "source": [
    "import numpy as np\n",
    "import matplotlib.pyplot as plt\n",
    "from sklearn.metrics import accuracy_score\n",
    "from sklearn.datasets import load_digits"
   ]
  },
  {
   "cell_type": "code",
   "execution_count": 2,
   "metadata": {},
   "outputs": [],
   "source": [
    "def generate_data(data_size, train_val_split = 0.1):\n",
    "    X = np.zeros((data_size, 3),dtype=np.float128)\n",
    "    y = np.zeros((data_size, 8),dtype=np.float128)\n",
    "    for i in range(data_size):\n",
    "        arr = np.random.randint(0, 2, 3) + np.random.uniform(-0.1,0.1, 3)\n",
    "        X[i] = np.round(arr,4)\n",
    "        y[i][int(round(arr[0]) * 4 + round(arr[1]) * 2+ round(arr[2]))] = 1\n",
    "    \n",
    "    val_split = round(data_size * (1 - train_val_split))\n",
    "\n",
    "    X_train, y_train = X[:val_split].T, y[:val_split].T\n",
    "    X_val, y_val = X[val_split:].T, y[val_split:].T\n",
    "    return X_train, X_val, y_train, y_val"
   ]
  },
  {
   "cell_type": "markdown",
   "metadata": {},
   "source": [
    "* ### MLP"
   ]
  },
  {
   "cell_type": "code",
   "execution_count": 17,
   "metadata": {},
   "outputs": [],
   "source": [
    "def linear(value):\n",
    "    return value\n",
    "\n",
    "def linear_derivative(value):\n",
    "    return 1"
   ]
  },
  {
   "cell_type": "code",
   "execution_count": 3,
   "metadata": {},
   "outputs": [],
   "source": [
    "def sigmoid(value):\n",
    "    return 1/(1 + np.exp(-value))\n",
    "\n",
    "def sigmoid_derivative(value):\n",
    "    return sigmoid(value) * (1 - sigmoid(value))"
   ]
  },
  {
   "cell_type": "code",
   "execution_count": 4,
   "metadata": {},
   "outputs": [],
   "source": [
    "def softmax(value):\n",
    "    expA = np.exp(value.T - np.max(value.T, axis=1, keepdims=True))\n",
    "    return (expA / expA.sum(axis=1, keepdims=True)).T\n",
    "\n",
    "def softmax_derivative(value):\n",
    "    return 1"
   ]
  },
  {
   "cell_type": "code",
   "execution_count": 5,
   "metadata": {},
   "outputs": [],
   "source": [
    "def relu(value):\n",
    "    return np.maximum(value, 0)\n",
    "\n",
    "def relu_derivative(value):\n",
    "    value[relu(value) <=0] = 0\n",
    "    return value"
   ]
  },
  {
   "cell_type": "markdown",
   "metadata": {},
   "source": [
    "## Exponentially Weighted Average\n",
    "$$\n",
    "V_{10} = \\frac{0.1\\theta_{10} + 0.9\\cdot0.1\\theta_{9} + 0.9^2\\cdot0.1\\theta_{8} + \\cdots + 0.9^8\\cdot0.1\\theta_{2} + 0.9^9\\cdot0.1\\theta_{1}}{10}\n",
    "$$\n",
    "* This is how we usually compute an average. Although, having to keep all theses values in memory is costly. One alternative way would be to compute $V_{10}$ taking into account only $V_9$ and $\\theta_{10}$.\n",
    "$$\n",
    "V_{10} = \\frac{9}{10}V_9 + \\frac{1}{10}\\theta_{10}\n",
    "$$"
   ]
  },
  {
   "cell_type": "markdown",
   "metadata": {},
   "source": [
    "* Which can be modelled as:\n",
    "$$\n",
    "V_t = \\beta V_{t-1} + (1 - \\beta) \\theta_t\n",
    "$$\n",
    "Where $\\beta$ is calculled as $\\frac{t -1}{t}$  \n",
    "the time window can be calculed through having the value of $\\beta$ as $\\frac{1}{1 - \\beta}$ days/windows"
   ]
  },
  {
   "cell_type": "markdown",
   "metadata": {},
   "source": [
    "* In early training, we have to do a bias correction in this averaging, in order to compensate the lack of data in previous time steps inserted on the time window. At time step 0, if working with a 0.9 $\\beta$, we will have a \n",
    "time window of 10, but our estimates will be biased and far from the real cause it will lack more terms that should make a parte of the exponentially weighted average. In order to fix this, we divide the $V$ value calculated by (1 - $\\beta^t$) which will \"normalize\" the initial values and wont affect the values the other ones"
   ]
  },
  {
   "cell_type": "markdown",
   "metadata": {},
   "source": [
    "$$\n",
    "V_t = \\frac{V_t}{1 - \\beta^t}\n",
    "$$"
   ]
  },
  {
   "cell_type": "code",
   "execution_count": 18,
   "metadata": {},
   "outputs": [],
   "source": [
    "class DNN():\n",
    "    def __init__(self):\n",
    "        \"\"\"\n",
    "        Initializes your class:\n",
    "            parameters : dictionary of parameters, which will store W and b through propagation.\n",
    "            cache : dictionary of cache, which will be responsible for storing A and Z during the propagation.\n",
    "            grads: dictionary of gradients, which will store all gradients computed during backprop.\n",
    "            v : dictionary with momentum ewa estimates\n",
    "            s : dictionary with RMSprop ewa estimates\n",
    "        Args:\n",
    "            No arguments taken.\n",
    "        return:\n",
    "            No return.\n",
    "        \"\"\"\n",
    "        \n",
    "        self.parameters = {}\n",
    "        self.cache = {}\n",
    "        self.grads = {}\n",
    "        self.v = {}\n",
    "        self.s = {}\n",
    "\n",
    "    def fit(self, X_train, y_train, X_val, y_val, hidden=\"relu\", output=\"softmax\"):\n",
    "        \"\"\"\n",
    "        Args : \n",
    "            X_train = input data of shape (n_x, number_of_examples).\n",
    "            y_train = label vector of shape (n_y, number_of_examples).\n",
    "            X_val = input data of shape (n_x, number_of_examples_validation).\n",
    "            y_val = label vector of shape (n_y, number_of_examples_validation).\n",
    "            hidden : passed as argument the function used on the hidden layers\n",
    "            output : function used on output layer\n",
    "        \"\"\"\n",
    "        self.X_train = X_train\n",
    "        self.y_train = y_train\n",
    "        self.X_val = X_val\n",
    "        self.y_val = y_val\n",
    "        self.m = X_train.shape[1]\n",
    "\n",
    "        if output == \"sigmoid\":\n",
    "            self.output = sigmoid # function passed as argument to be used on output layers\n",
    "            self.output_derivative = sigmoid_derivative\n",
    "        elif output == \"softmax\":\n",
    "            self.output = softmax\n",
    "            self.output_derivative = softmax_derivative\n",
    "        else:\n",
    "            print(\"output activation not recognized\")\n",
    "            return -1\n",
    "        \n",
    "        if hidden == \"relu\":\n",
    "            self.hidden = relu\n",
    "            self.hidden_derivative = relu_derivative\n",
    "        elif hidden == \"sigmoid\":\n",
    "            self.hidden = sigmoid\n",
    "            self.hidden_derivative = sigmoid_derivative\n",
    "        else:\n",
    "            print(\"hidden activation not recognized\")\n",
    "            return -1\n",
    "    \n",
    "    def initialize_parameters(self, dims, adam_optimizer=False):\n",
    "        \"\"\"\n",
    "        Args:\n",
    "            dims = dimensions of the network.\n",
    "            \n",
    "            Example:\n",
    "                dims = [3,3,8]\n",
    "                \n",
    "                A network with input size = 3, hidden layer = 3 and output layer = 8.\n",
    "                \n",
    "                The first dimension on the list must always be the length of each example.\n",
    "                The last dimension on the list must always be the length of each output example.\n",
    "                \n",
    "                In a case where X_train shape = (3, 4500) and y_train shape = (8, 4500), 4500 in\n",
    "                each shape represents the number of examples.\n",
    "                \n",
    "                dims = [3, 8]\n",
    "        Return:\n",
    "            parameters : a dictionary containing all weights and biases intialized\n",
    "                \n",
    "        \"\"\"\n",
    "        self.L = len(dims)\n",
    "        for l in range(1, self.L):\n",
    "            self.parameters[\"W\" + str(l)] = np.random.randn(dims[l], dims[l-1]) * 0.01\n",
    "            self.parameters[\"b\" + str(l)] = np.zeros((dims[l], 1))\n",
    "            if adam_optimizer:\n",
    "                self.v[\"VdW\" + str(l)] = np.zeros((dims[l], dims[l-1]))\n",
    "                self.v[\"Vdb\" + str(l)] = np.zeros((dims[l], 1))\n",
    "                self.s[\"SdW\" + str(l)] = np.zeros((dims[l], dims[l-1]))\n",
    "                self.s[\"Sdb\" + str(l)] = np.zeros((dims[l], 1))\n",
    "        return self.parameters\n",
    "    \n",
    "    def propagate(self, X):\n",
    "        \"\"\"\n",
    "        Does the forward propagation of the network\n",
    "        \"\"\"\n",
    "        A_prev = X\n",
    "        self.cache[f\"A{0}\"] = A_prev\n",
    "        for l in range(1, self.L):\n",
    "            \n",
    "            Z = np.dot(self.parameters[f\"W{l}\"], A_prev) + self.parameters[f\"b{l}\"]\n",
    "\n",
    "            if l == self.L - 1:\n",
    "                A = self.output(Z)\n",
    "            else:\n",
    "                A = self.hidden(Z)\n",
    "\n",
    "            self.cache[f\"Z{l}\"] = Z\n",
    "            self.cache[f\"A{l}\"] = A\n",
    "            \n",
    "            A_prev = A\n",
    "        \n",
    "        self.y_hat = A\n",
    "\n",
    "    def predict(self, X):\n",
    "        \"\"\"\n",
    "        Predicts the value\n",
    "        \n",
    "        Args:\n",
    "            X : data to be used on prediction\n",
    "        Return:\n",
    "            y_hat : data predicted\n",
    "        \"\"\"\n",
    "        A_prev = X\n",
    "\n",
    "        for l in range(1, self.L):\n",
    "            \n",
    "            Z = np.dot(self.parameters[f\"W{l}\"], A_prev) + self.parameters[f\"b{l}\"]\n",
    "\n",
    "            if l == self.L - 1:\n",
    "                A = self.output(Z)\n",
    "            else:\n",
    "                A = self.hidden(Z)\n",
    "            \n",
    "            A_prev = A\n",
    "        \n",
    "        return A\n",
    "    \n",
    "    def compute_cost(self, pred, real):\n",
    "        pred = pred.T\n",
    "        real = real.T\n",
    "        n_samples = real.shape[0]\n",
    "        logp = - np.log(pred[np.arange(n_samples), real.argmax(axis=1)])\n",
    "        cost = np.sum(logp)/(n_samples)\n",
    "        return cost\n",
    "\n",
    "    def loss(self):\n",
    "        res = self.y_hat - self.y_train\n",
    "        return res\n",
    "\n",
    "    def backprop(self):\n",
    "        dA = self.loss()\n",
    "        \n",
    "        dZ = dA * self.output_derivative(self.cache[f\"Z{self.L - 1}\"])\n",
    "        \n",
    "        self.grads[f\"dW{self.L - 1}\"] = 1/self.m * (np.dot(dZ, self.cache[f\"A{self.L - 2}\"].T))\n",
    "        self.grads[f\"db{self.L - 1}\"] = 1/self.m * np.sum(dZ, axis=1, keepdims=True)\n",
    "        \n",
    "        \n",
    "        for l in reversed(range(1, self.L - 1)):\n",
    "            self.grads[f\"dA_prev{l}\"] = np.dot(self.parameters[f\"W{l + 1}\"].T,dZ)\n",
    "            dZ = self.grads[f\"dA_prev{l}\"] * self.hidden_derivative(self.cache[f\"Z{l}\"])\n",
    "            self.grads[f\"dW{l}\"] = 1/self.m * (np.dot(dZ, self.cache[f\"A{l - 1}\"].T))\n",
    "            self.grads[f\"db{l}\"] = 1/self.m * np.sum(dZ, axis=1, keepdims=True)\n",
    "    \n",
    "    def update_grads_adam(self, t, learning_rate = 0.01, beta1 = 0.9, beta2 = 0.999, epsilon = 1e-8):\n",
    "        \"\"\"\n",
    "        ADAM -> Adaptive Moment estimation\n",
    "        Args:\n",
    "            t : epoch number\n",
    "            learning_rate : learning rate chosed to upgrade weights\n",
    "            beta1 : exponentially weighted average used on v (momentum), beta1 = 0.9 (recommended on paper) is approx 10 days ewa\n",
    "            beta1 : exponentially weighted average used on s (RMSprop), beta2 = 0.999 (recommended on paper)\n",
    "            epsilon : term to prevent division by zero\n",
    "        \"\"\"\n",
    "        \n",
    "        v_biasCorrected = {}\n",
    "        s_biasCorrected = {}\n",
    "        self.learning_rate = learning_rate\n",
    "        \n",
    "        for l in reversed(range(1, self.L)):\n",
    "            # moving average of the gradients\n",
    "            self.v[f\"VdW{l}\"] = beta1 * self.v[f\"VdW{l}\"] + (1 - beta1)* self.grads[f\"dW{l}\"]\n",
    "            self.v[f\"Vdb{l}\"] = beta1 * self.v[f\"Vdb{l}\"] + (1 - beta1)* self.grads[f\"db{l}\"]\n",
    "\n",
    "            v_biasCorrected[f\"VdW{l}\"] = self.v[f\"VdW{l}\"]/(1 - beta1 ** t) # bias correction to the first updates\n",
    "            v_biasCorrected[f\"Vdb{l}\"] = self.v[f\"Vdb{l}\"]/(1 - beta1 ** t) # bias correction\n",
    "\n",
    "            self.s[f\"SdW{l}\"] = beta2 * self.s[f\"SdW{l}\"] + (1 - beta2) * np.square(self.grads[f\"dW{l}\"])\n",
    "            self.s[f\"Sdb{l}\"] = beta2 * self.s[f\"Sdb{l}\"] + (1 - beta2) * np.square(self.grads[f\"db{l}\"])\n",
    "                                                                                             \n",
    "            s_biasCorrected[f\"SdW{l}\"] = self.s[f\"SdW{l}\"]/(1 - beta2 ** t) # bias correction to the first updates\n",
    "            s_biasCorrected[f\"Sdb{l}\"] = self.s[f\"Sdb{l}\"]/(1 - beta2 ** t) # bias correction\n",
    "            \n",
    "            self.parameters[f\"W{l}\"] -= self.learning_rate * (v_biasCorrected[f\"VdW{l}\"])/(np.sqrt(s_biasCorrected[f\"SdW{l}\"]) + epsilon)\n",
    "            self.parameters[f\"b{l}\"] -= self.learning_rate * (v_biasCorrected[f\"Vdb{l}\"])/(np.sqrt(s_biasCorrected[f\"Sdb{l}\"]) + epsilon)\n",
    "                                                                                               \n",
    "    def update_grads_gd(self, learning_rate = 0.01):\n",
    "        \"\"\"\n",
    "        Args:\n",
    "            learning_rate : learning rate chosed to upgrade weights\n",
    "        \"\"\"\n",
    "        self.learning_rate = learning_rate\n",
    "        for l in reversed(range(1, self.L)):\n",
    "            self.parameters[f\"W{l}\"] -= self.learning_rate * (self.grads[f\"dW{l}\"])\n",
    "            self.parameters[f\"b{l}\"] -= self.learning_rate * (self.grads[f\"db{l}\"])\n",
    "\n",
    "    def train(self, dims, learning_rate = 0.01, iterations = 1000, adam_optimizer=False):\n",
    "        #ATE AQUI TA SAFE PORRA\n",
    "        if iterations > 100:\n",
    "            printing_interval = round(iterations * 0.01)\n",
    "        else:\n",
    "            printing_interval = 1\n",
    "        self.initialize_parameters(dims, adam_optimizer=adam_optimizer)\n",
    "        \n",
    "        costs = []\n",
    "        val_costs = []\n",
    "\n",
    "        for i in range(iterations):\n",
    "            self.propagate(self.X_train)\n",
    "            cost = self.compute_cost(self.y_hat, self.y_train)\n",
    "            \n",
    "            y_hat_val = self.predict(self.X_val)\n",
    "            val_cost = self.compute_cost(y_hat_val, self.y_val)\n",
    "            val_costs.append(val_cost)\n",
    "            \n",
    "            if i % printing_interval == 0:\n",
    "                print(f\"EPOCH {i} Train cost : {np.round(cost,8)} | val cost : {np.round(val_cost,8)}\")\n",
    "                \n",
    "            costs.append(cost)\n",
    "            \n",
    "            self.backprop()\n",
    "            \n",
    "            if adam_optimizer:\n",
    "                self.update_grads_adam(t=i+1, learning_rate=learning_rate)\n",
    "            else:\n",
    "                self.update_grads_gd(learning_rate = learning_rate)\n",
    "\n",
    "        plt.plot(np.squeeze(costs), color=\"blue\", label=\"train\")\n",
    "        plt.plot(np.squeeze(val_costs), color=\"orange\", label=\"val\")\n",
    "        plt.ylabel('cost')\n",
    "        plt.xlabel('iterations (per hundreds)')\n",
    "        plt.title(\"Learning rate =\" + str(learning_rate))\n",
    "        plt.show()"
   ]
  },
  {
   "cell_type": "code",
   "execution_count": 19,
   "metadata": {},
   "outputs": [],
   "source": [
    "X_train, X_val , y_train, y_val = generate_data(5000)"
   ]
  },
  {
   "cell_type": "code",
   "execution_count": 20,
   "metadata": {},
   "outputs": [],
   "source": [
    "neural_network = DNN()"
   ]
  },
  {
   "cell_type": "code",
   "execution_count": 21,
   "metadata": {},
   "outputs": [],
   "source": [
    "neural_network.fit(X_train, y_train, X_val, y_val)"
   ]
  },
  {
   "cell_type": "code",
   "execution_count": 22,
   "metadata": {
    "scrolled": true
   },
   "outputs": [
    {
     "name": "stdout",
     "output_type": "stream",
     "text": [
      "EPOCH 0 Train cost : 2.08622077 | val cost : 2.0866424\n",
      "EPOCH 4 Train cost : 1.56366116 | val cost : 1.56542115\n",
      "EPOCH 8 Train cost : 1.16732541 | val cost : 1.16679957\n",
      "EPOCH 12 Train cost : 0.874154 | val cost : 0.87608517\n",
      "EPOCH 16 Train cost : 0.66157554 | val cost : 0.66378149\n",
      "EPOCH 20 Train cost : 0.50781056 | val cost : 0.50876147\n",
      "EPOCH 24 Train cost : 0.3976516 | val cost : 0.39841655\n",
      "EPOCH 28 Train cost : 0.31929934 | val cost : 0.32012444\n",
      "EPOCH 32 Train cost : 0.26259699 | val cost : 0.26302058\n",
      "EPOCH 36 Train cost : 0.22087084 | val cost : 0.22103259\n",
      "EPOCH 40 Train cost : 0.18934627 | val cost : 0.18959484\n",
      "EPOCH 44 Train cost : 0.16512885 | val cost : 0.1654246\n",
      "EPOCH 48 Train cost : 0.14618925 | val cost : 0.14636901\n",
      "EPOCH 52 Train cost : 0.13108554 | val cost : 0.13115541\n",
      "EPOCH 56 Train cost : 0.11880711 | val cost : 0.11886533\n",
      "EPOCH 60 Train cost : 0.10863453 | val cost : 0.10872107\n",
      "EPOCH 64 Train cost : 0.10006159 | val cost : 0.10014691\n",
      "EPOCH 68 Train cost : 0.09273183 | val cost : 0.09278571\n",
      "EPOCH 72 Train cost : 0.08638503 | val cost : 0.08641207\n",
      "EPOCH 76 Train cost : 0.08082706 | val cost : 0.08084653\n",
      "EPOCH 80 Train cost : 0.07591253 | val cost : 0.07593138\n",
      "EPOCH 84 Train cost : 0.07152888 | val cost : 0.07154245\n",
      "EPOCH 88 Train cost : 0.06758939 | val cost : 0.06759542\n",
      "EPOCH 92 Train cost : 0.06402636 | val cost : 0.06402853\n",
      "EPOCH 96 Train cost : 0.06078572 | val cost : 0.06078742\n",
      "EPOCH 100 Train cost : 0.05782415 | val cost : 0.05782478\n",
      "EPOCH 104 Train cost : 0.05510626 | val cost : 0.05510361\n",
      "EPOCH 108 Train cost : 0.05260274 | val cost : 0.05259626\n",
      "EPOCH 112 Train cost : 0.05028906 | val cost : 0.05028025\n",
      "EPOCH 116 Train cost : 0.04814448 | val cost : 0.0481352\n",
      "EPOCH 120 Train cost : 0.04615132 | val cost : 0.04614232\n",
      "EPOCH 124 Train cost : 0.04429439 | val cost : 0.04428518\n",
      "EPOCH 128 Train cost : 0.04256051 | val cost : 0.04255027\n",
      "EPOCH 132 Train cost : 0.0409382 | val cost : 0.04092663\n",
      "EPOCH 136 Train cost : 0.03941739 | val cost : 0.03940485\n",
      "EPOCH 140 Train cost : 0.03798921 | val cost : 0.03797628\n",
      "EPOCH 144 Train cost : 0.03664577 | val cost : 0.03663279\n",
      "EPOCH 148 Train cost : 0.03538008 | val cost : 0.03536705\n",
      "EPOCH 152 Train cost : 0.03418589 | val cost : 0.03417265\n",
      "EPOCH 156 Train cost : 0.03305758 | val cost : 0.03304407\n",
      "EPOCH 160 Train cost : 0.03199011 | val cost : 0.03197638\n",
      "EPOCH 164 Train cost : 0.03097894 | val cost : 0.0309651\n",
      "EPOCH 168 Train cost : 0.03001996 | val cost : 0.03000608\n",
      "EPOCH 172 Train cost : 0.02910942 | val cost : 0.02909555\n",
      "EPOCH 176 Train cost : 0.02824395 | val cost : 0.02823009\n",
      "EPOCH 180 Train cost : 0.02742046 | val cost : 0.02740662\n",
      "EPOCH 184 Train cost : 0.02663612 | val cost : 0.02662231\n",
      "EPOCH 188 Train cost : 0.02588837 | val cost : 0.02587461\n",
      "EPOCH 192 Train cost : 0.02517484 | val cost : 0.02516116\n",
      "EPOCH 196 Train cost : 0.02449337 | val cost : 0.02447978\n",
      "EPOCH 200 Train cost : 0.02384196 | val cost : 0.02382846\n",
      "EPOCH 204 Train cost : 0.02321877 | val cost : 0.02320538\n",
      "EPOCH 208 Train cost : 0.02262212 | val cost : 0.02260884\n",
      "EPOCH 212 Train cost : 0.02205044 | val cost : 0.02203728\n",
      "EPOCH 216 Train cost : 0.02150229 | val cost : 0.02148925\n",
      "EPOCH 220 Train cost : 0.02097632 | val cost : 0.02096341\n",
      "EPOCH 224 Train cost : 0.02047129 | val cost : 0.02045853\n",
      "EPOCH 228 Train cost : 0.01998606 | val cost : 0.01997343\n",
      "EPOCH 232 Train cost : 0.01951953 | val cost : 0.01950704\n",
      "EPOCH 236 Train cost : 0.01907073 | val cost : 0.01905838\n",
      "EPOCH 240 Train cost : 0.0186387 | val cost : 0.0186265\n",
      "EPOCH 244 Train cost : 0.0182226 | val cost : 0.01821054\n",
      "EPOCH 248 Train cost : 0.01782159 | val cost : 0.01780968\n",
      "EPOCH 252 Train cost : 0.01743493 | val cost : 0.01742317\n",
      "EPOCH 256 Train cost : 0.01706191 | val cost : 0.01705029\n",
      "EPOCH 260 Train cost : 0.01670185 | val cost : 0.01669038\n",
      "EPOCH 264 Train cost : 0.01635414 | val cost : 0.01634281\n",
      "EPOCH 268 Train cost : 0.01601818 | val cost : 0.016007\n",
      "EPOCH 272 Train cost : 0.01569343 | val cost : 0.0156824\n",
      "EPOCH 276 Train cost : 0.01537937 | val cost : 0.01536848\n",
      "EPOCH 280 Train cost : 0.0150755 | val cost : 0.01506476\n",
      "EPOCH 284 Train cost : 0.01478139 | val cost : 0.01477078\n",
      "EPOCH 288 Train cost : 0.01449658 | val cost : 0.01448612\n",
      "EPOCH 292 Train cost : 0.01422067 | val cost : 0.01421035\n",
      "EPOCH 296 Train cost : 0.01395327 | val cost : 0.01394309\n",
      "EPOCH 300 Train cost : 0.01369403 | val cost : 0.01368399\n",
      "EPOCH 304 Train cost : 0.01344259 | val cost : 0.01343269\n",
      "EPOCH 308 Train cost : 0.01319864 | val cost : 0.01318886\n",
      "EPOCH 312 Train cost : 0.01296185 | val cost : 0.01295221\n",
      "EPOCH 316 Train cost : 0.01273195 | val cost : 0.01272244\n",
      "EPOCH 320 Train cost : 0.01250865 | val cost : 0.01249927\n",
      "EPOCH 324 Train cost : 0.01229169 | val cost : 0.01228244\n",
      "EPOCH 328 Train cost : 0.01208082 | val cost : 0.01207169\n",
      "EPOCH 332 Train cost : 0.0118758 | val cost : 0.0118668\n",
      "EPOCH 336 Train cost : 0.01167641 | val cost : 0.01166753\n",
      "EPOCH 340 Train cost : 0.01148244 | val cost : 0.01147368\n",
      "EPOCH 344 Train cost : 0.01129367 | val cost : 0.01128503\n",
      "EPOCH 348 Train cost : 0.01110992 | val cost : 0.0111014\n",
      "EPOCH 352 Train cost : 0.010931 | val cost : 0.01092259\n",
      "EPOCH 356 Train cost : 0.01075673 | val cost : 0.01074844\n",
      "EPOCH 360 Train cost : 0.01058696 | val cost : 0.01057877\n",
      "EPOCH 364 Train cost : 0.0104215 | val cost : 0.01041343\n",
      "EPOCH 368 Train cost : 0.01026023 | val cost : 0.01025226\n",
      "EPOCH 372 Train cost : 0.01010298 | val cost : 0.01009512\n",
      "EPOCH 376 Train cost : 0.00994961 | val cost : 0.00994186\n",
      "EPOCH 380 Train cost : 0.0098 | val cost : 0.00979236\n",
      "EPOCH 384 Train cost : 0.00965402 | val cost : 0.00964648\n",
      "EPOCH 388 Train cost : 0.00951155 | val cost : 0.00950411\n",
      "EPOCH 392 Train cost : 0.00937246 | val cost : 0.00936512\n",
      "EPOCH 396 Train cost : 0.00923665 | val cost : 0.00922941\n"
     ]
    },
    {
     "data": {
      "image/png": "[encoded data removed]",
      "text/plain": [
       "<Figure size 432x288 with 1 Axes>"
      ]
     },
     "metadata": {
      "needs_background": "light"
     },
     "output_type": "display_data"
    }
   ],
   "source": [
    "neural_network.train([X_train.shape[0], y_train.shape[0]], iterations=400, learning_rate=0.1, adam_optimizer=True)"
   ]
  },
  {
   "cell_type": "code",
   "execution_count": 12,
   "metadata": {
    "scrolled": true
   },
   "outputs": [
    {
     "name": "stdout",
     "output_type": "stream",
     "text": [
      "EPOCH 0 Train cost : 2.07943347 | val cost : 2.07942589\n",
      "EPOCH 40 Train cost : 2.07905611 | val cost : 2.07993412\n",
      "EPOCH 80 Train cost : 2.0788628 | val cost : 2.08027702\n",
      "EPOCH 120 Train cost : 2.07872927 | val cost : 2.08046905\n",
      "EPOCH 160 Train cost : 2.07860716 | val cost : 2.0805455\n",
      "EPOCH 200 Train cost : 2.07847298 | val cost : 2.08053392\n",
      "EPOCH 240 Train cost : 2.07830851 | val cost : 2.08044731\n",
      "EPOCH 280 Train cost : 2.07809266 | val cost : 2.08028374\n",
      "EPOCH 320 Train cost : 2.07780289 | val cost : 2.08003061\n",
      "EPOCH 360 Train cost : 2.07740374 | val cost : 2.07966574\n",
      "EPOCH 400 Train cost : 2.07680102 | val cost : 2.07910175\n",
      "EPOCH 440 Train cost : 2.07580075 | val cost : 2.0781577\n",
      "EPOCH 480 Train cost : 2.07395967 | val cost : 2.07641608\n",
      "EPOCH 520 Train cost : 2.07009349 | val cost : 2.07275808\n",
      "EPOCH 560 Train cost : 2.06053455 | val cost : 2.06372164\n",
      "EPOCH 600 Train cost : 2.03312523 | val cost : 2.03785794\n",
      "EPOCH 640 Train cost : 1.96734381 | val cost : 1.97576498\n",
      "EPOCH 680 Train cost : 1.87841258 | val cost : 1.88912424\n",
      "EPOCH 720 Train cost : 1.78651648 | val cost : 1.79738182\n",
      "EPOCH 760 Train cost : 1.70245279 | val cost : 1.71339212\n",
      "EPOCH 800 Train cost : 1.62796608 | val cost : 1.63911826\n",
      "EPOCH 840 Train cost : 1.56131422 | val cost : 1.57276463\n",
      "EPOCH 880 Train cost : 1.49547257 | val cost : 1.50747944\n",
      "EPOCH 920 Train cost : 1.40291812 | val cost : 1.41665395\n",
      "EPOCH 960 Train cost : 1.18771008 | val cost : 1.20584273\n",
      "EPOCH 1000 Train cost : 0.9001527 | val cost : 0.91882302\n",
      "EPOCH 1040 Train cost : 0.73051213 | val cost : 0.74698941\n",
      "EPOCH 1080 Train cost : 0.62933223 | val cost : 0.64397141\n",
      "EPOCH 1120 Train cost : 0.58830994 | val cost : 0.59585399\n",
      "EPOCH 1160 Train cost : 0.57920541 | val cost : 0.58852182\n",
      "EPOCH 1200 Train cost : 0.52885664 | val cost : 0.53584431\n",
      "EPOCH 1240 Train cost : 0.47304312 | val cost : 0.47680688\n",
      "EPOCH 1280 Train cost : 0.41618526 | val cost : 0.41678551\n",
      "EPOCH 1320 Train cost : 0.36900628 | val cost : 0.36565442\n",
      "EPOCH 1360 Train cost : 0.32607422 | val cost : 0.32074443\n",
      "EPOCH 1400 Train cost : 0.29045297 | val cost : 0.2861894\n",
      "EPOCH 1440 Train cost : 0.25302288 | val cost : 0.2509317\n",
      "EPOCH 1480 Train cost : 0.19915869 | val cost : 0.19657586\n",
      "EPOCH 1520 Train cost : 0.14781857 | val cost : 0.14785231\n",
      "EPOCH 1560 Train cost : 0.13484711 | val cost : 0.13567681\n",
      "EPOCH 1600 Train cost : 0.18023396 | val cost : 0.18425181\n",
      "EPOCH 1640 Train cost : 0.10559823 | val cost : 0.10777606\n",
      "EPOCH 1680 Train cost : 0.0972089 | val cost : 0.09924666\n",
      "EPOCH 1720 Train cost : 0.08992402 | val cost : 0.09179463\n",
      "EPOCH 1760 Train cost : 0.08317016 | val cost : 0.08482133\n",
      "EPOCH 1800 Train cost : 0.07677702 | val cost : 0.0781785\n",
      "EPOCH 1840 Train cost : 0.07157289 | val cost : 0.07239371\n",
      "EPOCH 1880 Train cost : 0.05934525 | val cost : 0.06005482\n",
      "EPOCH 1920 Train cost : 0.05039396 | val cost : 0.05073205\n",
      "EPOCH 1960 Train cost : 0.04494585 | val cost : 0.04520199\n",
      "EPOCH 2000 Train cost : 0.04059086 | val cost : 0.04076646\n",
      "EPOCH 2040 Train cost : 0.03684539 | val cost : 0.03695559\n",
      "EPOCH 2080 Train cost : 0.03355602 | val cost : 0.03360777\n",
      "EPOCH 2120 Train cost : 0.03065225 | val cost : 0.03064913\n",
      "EPOCH 2160 Train cost : 0.02808785 | val cost : 0.02804069\n",
      "EPOCH 2200 Train cost : 0.02582341 | val cost : 0.02574186\n",
      "EPOCH 2240 Train cost : 0.0238234 | val cost : 0.02371319\n",
      "EPOCH 2280 Train cost : 0.02205585 | val cost : 0.02192464\n",
      "EPOCH 2320 Train cost : 0.02049232 | val cost : 0.02034455\n",
      "EPOCH 2360 Train cost : 0.01910619 | val cost : 0.01893936\n",
      "EPOCH 2400 Train cost : 0.01787389 | val cost : 0.01768877\n",
      "EPOCH 2440 Train cost : 0.01677397 | val cost : 0.01656981\n",
      "EPOCH 2480 Train cost : 0.01578846 | val cost : 0.01556713\n",
      "EPOCH 2520 Train cost : 0.0149019 | val cost : 0.01466665\n",
      "EPOCH 2560 Train cost : 0.01410111 | val cost : 0.01385457\n",
      "EPOCH 2600 Train cost : 0.01337476 | val cost : 0.01311922\n",
      "EPOCH 2640 Train cost : 0.01271337 | val cost : 0.01245074\n",
      "EPOCH 2680 Train cost : 0.01210864 | val cost : 0.01184075\n",
      "EPOCH 2720 Train cost : 0.01155425 | val cost : 0.01128218\n",
      "EPOCH 2760 Train cost : 0.01104434 | val cost : 0.01076898\n",
      "EPOCH 2800 Train cost : 0.01057383 | val cost : 0.01029605\n",
      "EPOCH 2840 Train cost : 0.01013815 | val cost : 0.00985893\n",
      "EPOCH 2880 Train cost : 0.00973388 | val cost : 0.0094538\n",
      "EPOCH 2920 Train cost : 0.00935789 | val cost : 0.00907737\n",
      "EPOCH 2960 Train cost : 0.00900732 | val cost : 0.00872678\n",
      "EPOCH 3000 Train cost : 0.00867975 | val cost : 0.00839955\n",
      "EPOCH 3040 Train cost : 0.00837306 | val cost : 0.00809348\n",
      "EPOCH 3080 Train cost : 0.00808537 | val cost : 0.00780662\n",
      "EPOCH 3120 Train cost : 0.00781501 | val cost : 0.00753726\n",
      "EPOCH 3160 Train cost : 0.00756051 | val cost : 0.00728393\n",
      "EPOCH 3200 Train cost : 0.00732051 | val cost : 0.00704527\n",
      "EPOCH 3240 Train cost : 0.0070939 | val cost : 0.00682012\n",
      "EPOCH 3280 Train cost : 0.00687961 | val cost : 0.00660741\n",
      "EPOCH 3320 Train cost : 0.00667668 | val cost : 0.00640617\n",
      "EPOCH 3360 Train cost : 0.00648426 | val cost : 0.00621557\n",
      "EPOCH 3400 Train cost : 0.00630158 | val cost : 0.0060348\n",
      "EPOCH 3440 Train cost : 0.00612794 | val cost : 0.00586317\n",
      "EPOCH 3480 Train cost : 0.00596273 | val cost : 0.00570002\n",
      "EPOCH 3520 Train cost : 0.00580537 | val cost : 0.00554475\n",
      "EPOCH 3560 Train cost : 0.00565537 | val cost : 0.00539684\n",
      "EPOCH 3600 Train cost : 0.00551222 | val cost : 0.0052558\n",
      "EPOCH 3640 Train cost : 0.00537548 | val cost : 0.00512117\n",
      "EPOCH 3680 Train cost : 0.00524476 | val cost : 0.00499255\n",
      "EPOCH 3720 Train cost : 0.00511969 | val cost : 0.00486956\n",
      "EPOCH 3760 Train cost : 0.00499993 | val cost : 0.00475187\n",
      "EPOCH 3800 Train cost : 0.00488515 | val cost : 0.00463914\n",
      "EPOCH 3840 Train cost : 0.00477507 | val cost : 0.00453109\n",
      "EPOCH 3880 Train cost : 0.0046694 | val cost : 0.00442744\n",
      "EPOCH 3920 Train cost : 0.0045679 | val cost : 0.00432794\n",
      "EPOCH 3960 Train cost : 0.00447034 | val cost : 0.00423236\n"
     ]
    },
    {
     "data": {
      "image/png": "[encoded data removed]",
      "text/plain": [
       "<Figure size 432x288 with 1 Axes>"
      ]
     },
     "metadata": {
      "needs_background": "light"
     },
     "output_type": "display_data"
    }
   ],
   "source": [
    "neural_network.train([X_train.shape[0],8, y_train.shape[0]], iterations=4000, learning_rate=0.1, adam_optimizer=False)"
   ]
  },
  {
   "cell_type": "code",
   "execution_count": 23,
   "metadata": {},
   "outputs": [],
   "source": [
    "y_pred = neural_network.predict(X_val)"
   ]
  },
  {
   "cell_type": "code",
   "execution_count": 24,
   "metadata": {
    "scrolled": true
   },
   "outputs": [
    {
     "data": {
      "text/plain": [
       "array([1, 7, 1, 0, 4, 4, 2, 7, 6, 3, 1, 1, 1, 4, 7, 7, 5, 6, 6, 5, 5, 7,\n",
       "       4, 1, 5, 4, 7, 3, 3, 7, 0, 1, 4, 2, 2, 4, 6, 1, 2, 0, 0, 7, 1, 2,\n",
       "       4, 0, 4, 6, 1, 5, 1, 3, 1, 7, 7, 2, 1, 7, 6, 4, 6, 7, 7, 7, 2, 5,\n",
       "       1, 6, 4, 3, 1, 3, 3, 7, 1, 4, 3, 4, 6, 5, 0, 1, 7, 3, 1, 7, 5, 2,\n",
       "       5, 5, 4, 4, 3, 6, 3, 4, 4, 4, 1, 3, 7, 5, 0, 4, 3, 1, 1, 0, 1, 1,\n",
       "       4, 3, 3, 5, 3, 5, 3, 5, 3, 1, 3, 3, 3, 6, 4, 0, 1, 6, 4, 7, 2, 4,\n",
       "       7, 1, 3, 4, 3, 5, 2, 2, 4, 1, 0, 4, 0, 6, 0, 6, 1, 5, 0, 1, 0, 6,\n",
       "       2, 3, 6, 1, 1, 6, 2, 3, 1, 6, 4, 7, 3, 1, 4, 7, 3, 4, 7, 6, 7, 1,\n",
       "       7, 2, 2, 1, 1, 5, 5, 1, 3, 3, 6, 5, 0, 6, 6, 0, 4, 1, 7, 1, 3, 7,\n",
       "       0, 2, 1, 7, 1, 0, 1, 4, 6, 7, 7, 3, 4, 0, 2, 2, 0, 2, 0, 1, 0, 4,\n",
       "       7, 3, 4, 7, 5, 0, 4, 7, 3, 7, 1, 0, 7, 3, 7, 0, 4, 3, 3, 0, 6, 0,\n",
       "       2, 4, 0, 5, 0, 6, 5, 1, 4, 2, 7, 4, 7, 0, 4, 3, 6, 7, 3, 5, 0, 2,\n",
       "       5, 3, 0, 7, 7, 5, 2, 0, 3, 3, 0, 6, 0, 3, 5, 0, 2, 3, 6, 3, 1, 2,\n",
       "       6, 2, 3, 6, 0, 2, 0, 6, 3, 2, 7, 2, 3, 2, 2, 0, 3, 5, 7, 3, 2, 2,\n",
       "       0, 3, 0, 2, 4, 3, 0, 3, 6, 4, 6, 7, 2, 4, 5, 3, 6, 6, 6, 0, 5, 6,\n",
       "       4, 5, 4, 6, 4, 7, 0, 6, 2, 1, 2, 0, 0, 3, 1, 0, 7, 7, 3, 6, 6, 5,\n",
       "       6, 2, 1, 3, 4, 5, 3, 2, 1, 3, 2, 2, 6, 2, 1, 7, 0, 3, 4, 2, 2, 7,\n",
       "       1, 4, 6, 6, 6, 6, 2, 4, 2, 0, 3, 7, 7, 0, 4, 3, 4, 0, 5, 5, 4, 5,\n",
       "       2, 2, 6, 7, 4, 1, 2, 6, 7, 7, 7, 5, 3, 4, 6, 6, 1, 5, 5, 5, 2, 6,\n",
       "       5, 2, 7, 2, 3, 2, 3, 4, 5, 1, 3, 0, 2, 5, 4, 5, 3, 2, 3, 5, 1, 6,\n",
       "       5, 4, 7, 3, 7, 4, 1, 4, 0, 2, 5, 1, 3, 1, 6, 4, 6, 4, 0, 2, 3, 2,\n",
       "       2, 0, 5, 5, 0, 7, 7, 7, 1, 2, 5, 5, 2, 1, 4, 6, 3, 1, 7, 0, 2, 7,\n",
       "       2, 2, 0, 0, 0, 7, 2, 0, 6, 6, 2, 6, 3, 4, 1, 2])"
      ]
     },
     "execution_count": 24,
     "metadata": {},
     "output_type": "execute_result"
    }
   ],
   "source": [
    "np.argmax(y_pred.T, axis = 1)"
   ]
  },
  {
   "cell_type": "code",
   "execution_count": 25,
   "metadata": {
    "scrolled": true
   },
   "outputs": [
    {
     "data": {
      "text/plain": [
       "array([1, 7, 1, 0, 4, 4, 2, 7, 6, 3, 1, 1, 1, 4, 7, 7, 5, 6, 6, 5, 5, 7,\n",
       "       4, 1, 5, 4, 7, 3, 3, 7, 0, 1, 4, 2, 2, 4, 6, 1, 2, 0, 0, 7, 1, 2,\n",
       "       4, 0, 4, 6, 1, 5, 1, 3, 1, 7, 7, 2, 1, 7, 6, 4, 6, 7, 7, 7, 2, 5,\n",
       "       1, 6, 4, 3, 1, 3, 3, 7, 1, 4, 3, 4, 6, 5, 0, 1, 7, 3, 1, 7, 5, 2,\n",
       "       5, 5, 4, 4, 3, 6, 3, 4, 4, 4, 1, 3, 7, 5, 0, 4, 3, 1, 1, 0, 1, 1,\n",
       "       4, 3, 3, 5, 3, 5, 3, 5, 3, 1, 3, 3, 3, 6, 4, 0, 1, 6, 4, 7, 2, 4,\n",
       "       7, 1, 3, 4, 3, 5, 2, 2, 4, 1, 0, 4, 0, 6, 0, 6, 1, 5, 0, 1, 0, 6,\n",
       "       2, 3, 6, 1, 1, 6, 2, 3, 1, 6, 4, 7, 3, 1, 4, 7, 3, 4, 7, 6, 7, 1,\n",
       "       7, 2, 2, 1, 1, 5, 5, 1, 3, 3, 6, 5, 0, 6, 6, 0, 4, 1, 7, 1, 3, 7,\n",
       "       0, 2, 1, 7, 1, 0, 1, 4, 6, 7, 7, 3, 4, 0, 2, 2, 0, 2, 0, 1, 0, 4,\n",
       "       7, 3, 4, 7, 5, 0, 4, 7, 3, 7, 1, 0, 7, 3, 7, 0, 4, 3, 3, 0, 6, 0,\n",
       "       2, 4, 0, 5, 0, 6, 5, 1, 4, 2, 7, 4, 7, 0, 4, 3, 6, 7, 3, 5, 0, 2,\n",
       "       5, 3, 0, 7, 7, 5, 2, 0, 3, 3, 0, 6, 0, 3, 5, 0, 2, 3, 6, 3, 1, 2,\n",
       "       6, 2, 3, 6, 0, 2, 0, 6, 3, 2, 7, 2, 3, 2, 2, 0, 3, 5, 7, 3, 2, 2,\n",
       "       0, 3, 0, 2, 4, 3, 0, 3, 6, 4, 6, 7, 2, 4, 5, 3, 6, 6, 6, 0, 5, 6,\n",
       "       4, 5, 4, 6, 4, 7, 0, 6, 2, 1, 2, 0, 0, 3, 1, 0, 7, 7, 3, 6, 6, 5,\n",
       "       6, 2, 1, 3, 4, 5, 3, 2, 1, 3, 2, 2, 6, 2, 1, 7, 0, 3, 4, 2, 2, 7,\n",
       "       1, 4, 6, 6, 6, 6, 2, 4, 2, 0, 3, 7, 7, 0, 4, 3, 4, 0, 5, 5, 4, 5,\n",
       "       2, 2, 6, 7, 4, 1, 2, 6, 7, 7, 7, 5, 3, 4, 6, 6, 1, 5, 5, 5, 2, 6,\n",
       "       5, 2, 7, 2, 3, 2, 3, 4, 5, 1, 3, 0, 2, 5, 4, 5, 3, 2, 3, 5, 1, 6,\n",
       "       5, 4, 7, 3, 7, 4, 1, 4, 0, 2, 5, 1, 3, 1, 6, 4, 6, 4, 0, 2, 3, 2,\n",
       "       2, 0, 5, 5, 0, 7, 7, 7, 1, 2, 5, 5, 2, 1, 4, 6, 3, 1, 7, 0, 2, 7,\n",
       "       2, 2, 0, 0, 0, 7, 2, 0, 6, 6, 2, 6, 3, 4, 1, 2])"
      ]
     },
     "execution_count": 25,
     "metadata": {},
     "output_type": "execute_result"
    }
   ],
   "source": [
    "np.argmax(y_val.T, axis = 1)"
   ]
  },
  {
   "cell_type": "code",
   "execution_count": 26,
   "metadata": {},
   "outputs": [
    {
     "data": {
      "text/plain": [
       "1.0"
      ]
     },
     "execution_count": 26,
     "metadata": {},
     "output_type": "execute_result"
    }
   ],
   "source": [
    "accuracy_score(np.argmax(y_pred.T, axis = 1), np.argmax(y_val.T, axis = 1))"
   ]
  }
 ],
 "metadata": {
  "kernelspec": {
   "display_name": "Python 3",
   "language": "python",
   "name": "python3"
  },
  "language_info": {
   "codemirror_mode": {
    "name": "ipython",
    "version": 3
   },
   "file_extension": ".py",
   "mimetype": "text/x-python",
   "name": "python",
   "nbconvert_exporter": "python",
   "pygments_lexer": "ipython3",
   "version": "3.7.5"
  }
 },
 "nbformat": 4,
 "nbformat_minor": 2
}
