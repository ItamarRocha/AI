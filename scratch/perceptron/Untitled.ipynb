{
 "cells": [
  {
   "cell_type": "markdown",
   "metadata": {},
   "source": [
    "## Perceptron"
   ]
  },
  {
   "cell_type": "code",
   "execution_count": 23,
   "metadata": {},
   "outputs": [],
   "source": [
    "import numpy as np\n",
    "from sklearn import datasets"
   ]
  },
  {
   "cell_type": "code",
   "execution_count": 38,
   "metadata": {},
   "outputs": [],
   "source": [
    "def step_function(value):\n",
    "    z1 = np.maximum(0, value)\n",
    "    idx = np.nonzero(z1)\n",
    "    z1[idx] = 1\n",
    "    return z1"
   ]
  },
  {
   "cell_type": "code",
   "execution_count": 44,
   "metadata": {},
   "outputs": [],
   "source": [
    "def initialize_parameters(dim):\n",
    "    \"\"\"\n",
    "    Args:\n",
    "    dim:\n",
    "        array containing dimensions of the layers\n",
    "    \n",
    "    return:\n",
    "        python dict with parameters\n",
    "    \"\"\"\n",
    "    parameters = {}\n",
    "    L = len(dim)\n",
    "    \n",
    "    for l in range(1, L):\n",
    "        parameters[\"W\" + str(l)] = np.random.randn(dim[l], dim[l-1])\n",
    "        parameters[\"b\" + str(l)] = np.ones((dim[l], 1))\n",
    "        \n",
    "    return parameters"
   ]
  },
  {
   "cell_type": "code",
   "execution_count": 49,
   "metadata": {},
   "outputs": [],
   "source": [
    "def propagate(A, W, b):\n",
    "    \"\"\"\n",
    "    Implement the forward prop\n",
    "    \n",
    "    Args:\n",
    "        A -> Matrix from the previous layer\n",
    "        W -> Weights matrix from this layer\n",
    "        b -> bias vector from this layer\n",
    "    \n",
    "    return:\n",
    "        Z -> dot product result\n",
    "    \n",
    "    \"\"\"\n",
    "    Z = W @ A + b\n",
    "    \n",
    "    \n",
    "    return Z"
   ]
  },
  {
   "cell_type": "code",
   "execution_count": 52,
   "metadata": {},
   "outputs": [],
   "source": [
    "W = np.ones((4,4))"
   ]
  },
  {
   "cell_type": "code",
   "execution_count": 53,
   "metadata": {},
   "outputs": [],
   "source": [
    "b = np.ones((4,1))"
   ]
  },
  {
   "cell_type": "code",
   "execution_count": 60,
   "metadata": {},
   "outputs": [],
   "source": [
    "A = np.ones((4,1))"
   ]
  },
  {
   "cell_type": "code",
   "execution_count": 61,
   "metadata": {},
   "outputs": [
    {
     "data": {
      "text/plain": [
       "array([[5.],\n",
       "       [5.],\n",
       "       [5.],\n",
       "       [5.]])"
      ]
     },
     "execution_count": 61,
     "metadata": {},
     "output_type": "execute_result"
    }
   ],
   "source": [
    "propagate(A, W, b)"
   ]
  },
  {
   "cell_type": "code",
   "execution_count": 45,
   "metadata": {},
   "outputs": [],
   "source": [
    "X,y = datasets.load_iris(return_X_y=True)"
   ]
  },
  {
   "cell_type": "code",
   "execution_count": 46,
   "metadata": {
    "scrolled": true
   },
   "outputs": [
    {
     "data": {
      "text/plain": [
       "{'W1': array([[-0.41329931, -0.90696857, -2.55649543,  2.02409157],\n",
       "        [ 0.09928755, -3.3789935 , -0.87514537,  0.4405913 ],\n",
       "        [-0.96226117, -0.58897475, -0.07160151, -0.11428033],\n",
       "        [-0.31983586, -0.43433894, -0.53084721, -0.34115266]]),\n",
       " 'b1': array([[0.],\n",
       "        [0.],\n",
       "        [0.],\n",
       "        [0.]]),\n",
       " 'W2': array([[1.98201767, 1.11397607, 0.48532451, 0.54580289]]),\n",
       " 'b2': array([[0.]])}"
      ]
     },
     "execution_count": 46,
     "metadata": {},
     "output_type": "execute_result"
    }
   ],
   "source": [
    "initialize_parameters([4,4,1])"
   ]
  }
 ],
 "metadata": {
  "kernelspec": {
   "display_name": "Python 3",
   "language": "python",
   "name": "python3"
  },
  "language_info": {
   "codemirror_mode": {
    "name": "ipython",
    "version": 3
   },
   "file_extension": ".py",
   "mimetype": "text/x-python",
   "name": "python",
   "nbconvert_exporter": "python",
   "pygments_lexer": "ipython3",
   "version": "3.7.5"
  }
 },
 "nbformat": 4,
 "nbformat_minor": 2
}
