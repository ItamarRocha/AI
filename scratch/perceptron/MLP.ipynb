{
 "cells": [
  {
   "cell_type": "markdown",
   "metadata": {},
   "source": [
    "# Deep Learning class exercise list 1"
   ]
  },
  {
   "cell_type": "markdown",
   "metadata": {},
   "source": [
    "## Question 1"
   ]
  },
  {
   "cell_type": "markdown",
   "metadata": {},
   "source": [
    "* ### Generating Data"
   ]
  },
  {
   "cell_type": "code",
   "execution_count": 859,
   "metadata": {},
   "outputs": [],
   "source": [
    "import numpy as np\n",
    "import matplotlib.pyplot as plt"
   ]
  },
  {
   "cell_type": "code",
   "execution_count": 877,
   "metadata": {},
   "outputs": [],
   "source": [
    "def generate_data(data_size, train_val_split = 0.1):\n",
    "    X = np.zeros((data_size, 3))\n",
    "    y = np.zeros((data_size, 8))\n",
    "    for i in range(data_size):\n",
    "        arr = np.random.randint(0, 2, 3) + np.random.uniform(-0.1,0.1, 3)\n",
    "        X[i] = np.round(arr,4)\n",
    "        y[i][int(round(arr[0]) * 4 + round(arr[1]) * 2+ round(arr[2]))] = 1\n",
    "    \n",
    "    val_split = round(data_size * (1 - train_val_split))\n",
    "\n",
    "    X_train, y_train = X[:val_split].T, y[:val_split].T\n",
    "    X_val, y_val = X[val_split:].T, y[val_split:].T\n",
    "    return X_train, X_val, y_train, y_val"
   ]
  },
  {
   "cell_type": "code",
   "execution_count": 939,
   "metadata": {},
   "outputs": [],
   "source": [
    "def generate_data2(data_size, train_val_split = 0.1):\n",
    "    X = np.zeros((data_size, 2))\n",
    "    y = np.zeros((data_size, 4))\n",
    "    for i in range(data_size):\n",
    "        arr = np.random.randint(0, 2, 2) + np.random.uniform(-0.1,0.1, 2)\n",
    "        X[i] = np.round(arr,4)\n",
    "        y[i][int(round(arr[0]) * 2 + round(arr[1]) * 1)] = 1\n",
    "    \n",
    "#     val_split = round(data_size * (1 - train_val_split))\n",
    "#     X_train, y_train = X[:val_split].T, y[:val_split].T\n",
    "#     X_val, y_val = X[val_split:].T, y[val_split:].T\n",
    "    return X.T, y.T"
   ]
  },
  {
   "cell_type": "code",
   "execution_count": 929,
   "metadata": {},
   "outputs": [],
   "source": [
    "X_train, X_val, y_train, y_val = generate_data(20)"
   ]
  },
  {
   "cell_type": "code",
   "execution_count": 930,
   "metadata": {
    "scrolled": false
   },
   "outputs": [
    {
     "data": {
      "text/plain": [
       "(array([[ 3.6000e-02, -8.7000e-02,  9.4880e-01],\n",
       "        [-9.1400e-02,  3.0000e-04, -6.3400e-02],\n",
       "        [ 1.0880e+00,  5.0800e-02, -9.9400e-02],\n",
       "        [-1.0500e-02,  6.9700e-02,  9.7070e-01],\n",
       "        [ 9.6630e-01,  8.3400e-02,  9.9470e-01],\n",
       "        [ 8.1300e-02,  9.1710e-01, -5.6700e-02],\n",
       "        [ 9.4430e-01,  1.0157e+00,  9.9320e-01],\n",
       "        [ 9.3520e-01,  8.0500e-02,  1.0260e+00],\n",
       "        [ 1.0468e+00, -8.7100e-02, -4.8600e-02],\n",
       "        [ 1.0214e+00, -9.5200e-02,  9.7100e-02],\n",
       "        [-4.6200e-02,  9.6050e-01,  1.0038e+00],\n",
       "        [ 9.1590e-01, -8.9000e-03, -7.9600e-02],\n",
       "        [ 1.0217e+00,  9.9650e-01, -8.4600e-02],\n",
       "        [ 4.1900e-02,  8.1300e-02,  1.0011e+00],\n",
       "        [ 1.0293e+00,  9.4340e-01,  9.0750e-01],\n",
       "        [ 1.0790e+00,  6.5400e-02,  9.1680e-01],\n",
       "        [ 9.0710e-01, -7.6100e-02,  9.7210e-01],\n",
       "        [ 1.0249e+00, -4.5100e-02,  9.9200e-02]]),\n",
       " array([[0., 1., 0., 0., 0., 0., 0., 0.],\n",
       "        [1., 0., 0., 0., 0., 0., 0., 0.],\n",
       "        [0., 0., 0., 0., 1., 0., 0., 0.],\n",
       "        [0., 1., 0., 0., 0., 0., 0., 0.],\n",
       "        [0., 0., 0., 0., 0., 1., 0., 0.],\n",
       "        [0., 0., 1., 0., 0., 0., 0., 0.],\n",
       "        [0., 0., 0., 0., 0., 0., 0., 1.],\n",
       "        [0., 0., 0., 0., 0., 1., 0., 0.],\n",
       "        [0., 0., 0., 0., 1., 0., 0., 0.],\n",
       "        [0., 0., 0., 0., 1., 0., 0., 0.],\n",
       "        [0., 0., 0., 1., 0., 0., 0., 0.],\n",
       "        [0., 0., 0., 0., 1., 0., 0., 0.],\n",
       "        [0., 0., 0., 0., 0., 0., 1., 0.],\n",
       "        [0., 1., 0., 0., 0., 0., 0., 0.],\n",
       "        [0., 0., 0., 0., 0., 0., 0., 1.],\n",
       "        [0., 0., 0., 0., 0., 1., 0., 0.],\n",
       "        [0., 0., 0., 0., 0., 1., 0., 0.],\n",
       "        [0., 0., 0., 0., 1., 0., 0., 0.]]))"
      ]
     },
     "execution_count": 930,
     "metadata": {},
     "output_type": "execute_result"
    }
   ],
   "source": [
    "X_train.T, y_train.T"
   ]
  },
  {
   "cell_type": "markdown",
   "metadata": {},
   "source": [
    "* ### MLP"
   ]
  },
  {
   "cell_type": "code",
   "execution_count": 931,
   "metadata": {},
   "outputs": [],
   "source": [
    "def sigmoid(value):\n",
    "    return 1/(1 + np.exp(-value))\n",
    "\n",
    "def sigmoid_derivative(value):\n",
    "    return sigmoid(value) * (1 - sigmoid(value))"
   ]
  },
  {
   "cell_type": "code",
   "execution_count": 932,
   "metadata": {},
   "outputs": [],
   "source": [
    "def relu(value):\n",
    "    return np.maximum(value, 0)\n",
    "\n",
    "def relu_derivative(value):\n",
    "    value[relu(value) <=0] = 0\n",
    "    return value"
   ]
  },
  {
   "cell_type": "code",
   "execution_count": 1119,
   "metadata": {},
   "outputs": [],
   "source": [
    "class MLP():\n",
    "    def __init__(self):\n",
    "        self.parameters = {}\n",
    "        self.cache = {}\n",
    "        self.grads = {}\n",
    "\n",
    "    def fit(self, X_train, y_train):\n",
    "        \"\"\"\n",
    "        args : \n",
    "        X_train = input data of shape (n_x, number_of_examples)\n",
    "        y_train = label vector of shape (n_y, number_of_examples)\n",
    "        \"\"\"\n",
    "        self.X_train = (X_train - np.mean(X_train))/np.std(X_train)\n",
    "        self.y_train = y_train\n",
    "        self.m = X_train.shape[1]\n",
    "        self.hidden = relu\n",
    "        self.output = sigmoid\n",
    "\n",
    "    def initialize_parameters(self, dims):\n",
    "        self.L = len(dims)\n",
    "        for l in range(1, self.L):\n",
    "            self.parameters[\"W\" + str(l)] = np.random.randn(dims[l], dims[l-1]) * 0.001\n",
    "            self.parameters[\"b\" + str(l)] = np.zeros((dims[l], 1))\n",
    "        return self.parameters\n",
    "    \n",
    "    def propagate(self):\n",
    "        A_prev = self.X_train\n",
    "        self.cache[f\"A{0}\"] = A_prev\n",
    "        for l in range(1, self.L):\n",
    "            \n",
    "            Z = self.parameters[f\"W{l}\"] @ A_prev + self.parameters[f\"b{l}\"]\n",
    "            #print(l)\n",
    "            if l == self.L - 1:\n",
    "                #print(\"sigmoid\")\n",
    "                A = self.output(Z)\n",
    "            else:\n",
    "                A = self.hidden(Z)\n",
    "\n",
    "            self.cache[f\"Z{l}\"] = Z\n",
    "            self.cache[f\"A{l}\"] = A\n",
    "            \n",
    "            A_prev = A\n",
    "        \n",
    "        self.y_hat = A\n",
    "\n",
    "    def predict(self, X):\n",
    "        A = X\n",
    "        for l in range(1, self.L):\n",
    "            Z = self.parameters[f\"W{l}\"] @ A + self.parameters[f\"b{l}\"]\n",
    "            A = self.hidden(Z)\n",
    "        \n",
    "        return self.output(Z)\n",
    "    \n",
    "    def compute_diff(self):\n",
    "        self.loss = - (np.divide(self.y_train, self.y_hat) - np.divide(1 - self.y_train, 1 - self.y_hat))\n",
    "        #self.loss = self.y_hat - self.y_train\n",
    "        #print(self.loss.shape)\n",
    "        return self.loss\n",
    "    \n",
    "    def compute_grads(self):\n",
    "        dZ = self.loss * sigmoid_derivative(self.cache[f\"Z{self.L - 1}\"])\n",
    "\n",
    "        self.grads[f\"dW{self.L - 1}\"] = 1/self.m * (dZ @ self.cache[f\"A{self.L - 2}\"].T)\n",
    "        self.grads[f\"db{self.L - 1}\"] = 1/self.m * np.sum(dZ, axis=1, keepdims=True)\n",
    "\n",
    "        for l in reversed(range(1, self.L - 1)):\n",
    "            self.grads[f\"dA_prev{l}\"] = self.parameters[f\"W{l + 1}\"].T @ dZ\n",
    "            dZ = self.grads[f\"dA_prev{l}\"] * relu_derivative(self.cache[f\"Z{l}\"])\n",
    "            self.grads[f\"dW{l}\"] = 1/self.m * (dZ @ self.cache[f\"A{l - 1}\"].T)\n",
    "            self.grads[f\"db{l}\"] = 1/self.m * np.sum(dZ, axis=1, keepdims=True)\n",
    "    \n",
    "    def backprop(self, learning_rate = 0.001):\n",
    "        self.learning_rate = learning_rate\n",
    "        for l in reversed(range(1, self.L)):\n",
    "            #print(l)\n",
    "            self.parameters[\"W\"+str(l)] -= self.learning_rate * (self.grads[f\"dW{l}\"])\n",
    "            self.parameters[\"b\"+str(l)] -= self.learning_rate * (self.grads[f\"db{l}\"])\n",
    "\n",
    "    def compute_cost(self):\n",
    "        logprods = np.dot(self.y_train, np.log(self.y_hat).T) + np.dot((1-self.y_train), np.log(1- self.y_hat).T)\n",
    "        cost = -1/self.m*np.sum(logprods)\n",
    "        return cost#np.sum(self.loss)\n",
    "\n",
    "    def train(self, dims, learning_rate = 0.001, iterations = 1000):\n",
    "        printing_interval = round(iterations * 0.01)\n",
    "        self.initialize_parameters(dims)\n",
    "        costs = []\n",
    "        for i in range(iterations):\n",
    "            self.propagate()\n",
    "            loss = self.compute_diff()\n",
    "            costs.append(self.compute_cost())\n",
    "            self.compute_grads()\n",
    "            self.backprop(learning_rate = learning_rate)\n",
    "        plt.plot(np.squeeze(costs))\n",
    "        plt.ylabel('cost')\n",
    "        plt.xlabel('iterations (per hundreds)')\n",
    "        plt.title(\"Learning rate =\" + str(learning_rate))\n",
    "        plt.show()"
   ]
  },
  {
   "cell_type": "code",
   "execution_count": 1120,
   "metadata": {},
   "outputs": [],
   "source": [
    "mlpclf = MLP()"
   ]
  },
  {
   "cell_type": "code",
   "execution_count": 1121,
   "metadata": {},
   "outputs": [],
   "source": [
    "X_train, y_train = (np.array([[ 0.998 ,  0.9855],\n",
    "       [ 1.0479,  1.0063],\n",
    "       [ 1.096 ,  1.0209],\n",
    "       [ 0.9448,  0.0045],\n",
    "       [ 1.082 , -0.0854],\n",
    "       [ 1.0196,  0.0555]]).T,\n",
    "np.array([[0., 0., 0., 1.],\n",
    "       [0., 0., 0., 1.],\n",
    "       [0., 0., 0., 1.],\n",
    "       [0., 0., 1., 0.],\n",
    "       [0., 0., 1., 0.],\n",
    "       [0., 0., 1., 0.]]).T)\n"
   ]
  },
  {
   "cell_type": "code",
   "execution_count": 1122,
   "metadata": {
    "scrolled": true
   },
   "outputs": [],
   "source": [
    "mlpclf.fit(X_train, y_train)"
   ]
  },
  {
   "cell_type": "markdown",
   "metadata": {},
   "source": [
    "$$\n",
    "Z^{[l]} = W^{[l]}A^{[l-1]} + b^{[l]}\n",
    "$$"
   ]
  },
  {
   "cell_type": "code",
   "execution_count": 1123,
   "metadata": {
    "scrolled": false
   },
   "outputs": [
    {
     "data": {
      "image/png": "[encoded data removed]",
      "text/plain": [
       "<Figure size 432x288 with 1 Axes>"
      ]
     },
     "metadata": {
      "needs_background": "light"
     },
     "output_type": "display_data"
    }
   ],
   "source": [
    "mlpclf.train([X_train.shape[0],8,y_train.shape[0]], learning_rate=0.08, iterations=40)"
   ]
  },
  {
   "cell_type": "code",
   "execution_count": 1124,
   "metadata": {},
   "outputs": [
    {
     "data": {
      "text/plain": [
       "array([[ 0.998 ,  0.9855],\n",
       "       [ 1.0479,  1.0063],\n",
       "       [ 1.096 ,  1.0209],\n",
       "       [ 0.9448,  0.0045],\n",
       "       [ 1.082 , -0.0854],\n",
       "       [ 1.0196,  0.0555]])"
      ]
     },
     "execution_count": 1124,
     "metadata": {},
     "output_type": "execute_result"
    }
   ],
   "source": [
    "X_train.T"
   ]
  },
  {
   "cell_type": "code",
   "execution_count": 1125,
   "metadata": {},
   "outputs": [
    {
     "data": {
      "text/plain": [
       "array([[0., 0., 0., 1.],\n",
       "       [0., 0., 0., 1.],\n",
       "       [0., 0., 0., 1.],\n",
       "       [0., 0., 1., 0.],\n",
       "       [0., 0., 1., 0.],\n",
       "       [0., 0., 1., 0.]])"
      ]
     },
     "execution_count": 1125,
     "metadata": {},
     "output_type": "execute_result"
    }
   ],
   "source": [
    "y_train.T"
   ]
  },
  {
   "cell_type": "code",
   "execution_count": 1126,
   "metadata": {},
   "outputs": [],
   "source": [
    "y_pred = mlpclf.predict(X_train)"
   ]
  },
  {
   "cell_type": "code",
   "execution_count": 1127,
   "metadata": {},
   "outputs": [
    {
     "data": {
      "text/plain": [
       "array([[0.24401751, 0.24401744, 0.24401738, 0.24401801, 0.24401785,\n",
       "        0.2440179 ],\n",
       "       [0.24401826, 0.24401822, 0.24401818, 0.24401835, 0.24401819,\n",
       "        0.24401831],\n",
       "       [0.49999685, 0.49999673, 0.49999662, 0.4999983 , 0.49999814,\n",
       "        0.49999809],\n",
       "       [0.50000231, 0.50000241, 0.5000025 , 0.50000148, 0.50000158,\n",
       "        0.50000166]])"
      ]
     },
     "execution_count": 1127,
     "metadata": {},
     "output_type": "execute_result"
    }
   ],
   "source": [
    "y_pred"
   ]
  },
  {
   "cell_type": "code",
   "execution_count": 1128,
   "metadata": {},
   "outputs": [
    {
     "data": {
      "text/plain": [
       "array([[0., 0., 0., 1.],\n",
       "       [0., 0., 0., 1.],\n",
       "       [0., 0., 0., 1.],\n",
       "       [0., 0., 1., 0.],\n",
       "       [0., 0., 1., 0.],\n",
       "       [0., 0., 1., 0.]])"
      ]
     },
     "execution_count": 1128,
     "metadata": {},
     "output_type": "execute_result"
    }
   ],
   "source": [
    "y_train.T"
   ]
  },
  {
   "cell_type": "code",
   "execution_count": 1129,
   "metadata": {},
   "outputs": [
    {
     "data": {
      "text/plain": [
       "array([3, 3, 3, 3, 3, 3])"
      ]
     },
     "execution_count": 1129,
     "metadata": {},
     "output_type": "execute_result"
    }
   ],
   "source": [
    "np.argmax(y_pred, axis = 0)"
   ]
  },
  {
   "cell_type": "code",
   "execution_count": 1130,
   "metadata": {},
   "outputs": [
    {
     "data": {
      "text/plain": [
       "array([3, 3, 3, 2, 2, 2])"
      ]
     },
     "execution_count": 1130,
     "metadata": {},
     "output_type": "execute_result"
    }
   ],
   "source": [
    "np.argmax(y_train, axis = 0)"
   ]
  }
 ],
 "metadata": {
  "kernelspec": {
   "display_name": "Python 3",
   "language": "python",
   "name": "python3"
  },
  "language_info": {
   "codemirror_mode": {
    "name": "ipython",
    "version": 3
   },
   "file_extension": ".py",
   "mimetype": "text/x-python",
   "name": "python",
   "nbconvert_exporter": "python",
   "pygments_lexer": "ipython3",
   "version": "3.7.5"
  }
 },
 "nbformat": 4,
 "nbformat_minor": 2
}
