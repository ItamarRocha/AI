{
 "cells": [
  {
   "cell_type": "markdown",
   "metadata": {},
   "source": [
    "# Deep Learning class exercise list 1"
   ]
  },
  {
   "cell_type": "markdown",
   "metadata": {},
   "source": [
    "## Question 1"
   ]
  },
  {
   "cell_type": "markdown",
   "metadata": {},
   "source": [
    "* ### Generating Data"
   ]
  },
  {
   "cell_type": "code",
   "execution_count": 859,
   "metadata": {},
   "outputs": [],
   "source": [
    "import numpy as np\n",
    "import matplotlib.pyplot as plt"
   ]
  },
  {
   "cell_type": "code",
   "execution_count": 860,
   "metadata": {},
   "outputs": [],
   "source": [
    "def generate_data(data_size, train_val_split = 0.1):\n",
    "    X = np.zeros((data_size, 3))\n",
    "    y = np.zeros((data_size, 8))\n",
    "    for i in range(data_size):\n",
    "        arr = np.random.randint(0, 2, 3) + np.random.uniform(-0.1,0.1, 3)\n",
    "        X[i] = np.round(arr,4)\n",
    "        y[i][int(round(arr[0]) * 4 + round(arr[1]) * 2+ round(arr[2]))] = 1\n",
    "    \n",
    "    val_split = round(data_size * (1 - train_val_split))\n",
    "\n",
    "    X_train, y_train = X[:val_split].T, y[:val_split].T\n",
    "    X_val, y_val = X[val_split:].T, y[val_split:].T\n",
    "    return X_train, X_val, y_train, y_val"
   ]
  },
  {
   "cell_type": "code",
   "execution_count": 861,
   "metadata": {},
   "outputs": [],
   "source": [
    "def generate_data2(data_size, train_val_split = 0.1):\n",
    "    X = np.zeros((data_size, 2))\n",
    "    y = np.zeros((data_size, 1))\n",
    "    for i in range(data_size):\n",
    "        arr = np.random.randint(0, 2, 2) + np.random.uniform(-0.1,0.1, 2)\n",
    "        X[i] = np.round(arr,4)\n",
    "        y[i] = int(round(arr[0]) * 2 + round(arr[1]) * 1)\n",
    "    \n",
    "    val_split = round(data_size * (1 - train_val_split))\n",
    "    X_train, y_train = X[:val_split].T, y[:val_split].T\n",
    "    X_val, y_val = X[val_split:].T, y[val_split:].T\n",
    "    return X_train, X_val, y_train, y_val"
   ]
  },
  {
   "cell_type": "code",
   "execution_count": 862,
   "metadata": {},
   "outputs": [],
   "source": [
    "X_train, X_val, y_train, y_val = generate_data(50)"
   ]
  },
  {
   "cell_type": "code",
   "execution_count": 782,
   "metadata": {},
   "outputs": [
    {
     "data": {
      "text/plain": [
       "(2, 4500)"
      ]
     },
     "execution_count": 782,
     "metadata": {},
     "output_type": "execute_result"
    }
   ],
   "source": [
    "X_train.shape"
   ]
  },
  {
   "cell_type": "code",
   "execution_count": 783,
   "metadata": {},
   "outputs": [
    {
     "data": {
      "text/plain": [
       "(1, 4500)"
      ]
     },
     "execution_count": 783,
     "metadata": {},
     "output_type": "execute_result"
    }
   ],
   "source": [
    "y_train.shape"
   ]
  },
  {
   "cell_type": "code",
   "execution_count": 784,
   "metadata": {},
   "outputs": [
    {
     "data": {
      "text/plain": [
       "array([[ 1.0983,  1.0191],\n",
       "       [ 1.0627,  0.9699],\n",
       "       [ 1.0322,  0.9895],\n",
       "       ...,\n",
       "       [-0.0324, -0.067 ],\n",
       "       [ 0.9398,  1.0794],\n",
       "       [-0.0496, -0.0384]])"
      ]
     },
     "execution_count": 784,
     "metadata": {},
     "output_type": "execute_result"
    }
   ],
   "source": [
    "X_train.T"
   ]
  },
  {
   "cell_type": "code",
   "execution_count": 788,
   "metadata": {},
   "outputs": [
    {
     "data": {
      "text/plain": [
       "1139"
      ]
     },
     "execution_count": 788,
     "metadata": {},
     "output_type": "execute_result"
    }
   ],
   "source": [
    "(y_train == 0).sum()"
   ]
  },
  {
   "cell_type": "code",
   "execution_count": 789,
   "metadata": {},
   "outputs": [
    {
     "data": {
      "text/plain": [
       "1104"
      ]
     },
     "execution_count": 789,
     "metadata": {},
     "output_type": "execute_result"
    }
   ],
   "source": [
    "(y_train == 1).sum()"
   ]
  },
  {
   "cell_type": "code",
   "execution_count": 790,
   "metadata": {},
   "outputs": [
    {
     "data": {
      "text/plain": [
       "1071"
      ]
     },
     "execution_count": 790,
     "metadata": {},
     "output_type": "execute_result"
    }
   ],
   "source": [
    "(y_train == 2).sum()"
   ]
  },
  {
   "cell_type": "code",
   "execution_count": 791,
   "metadata": {},
   "outputs": [
    {
     "data": {
      "text/plain": [
       "1186"
      ]
     },
     "execution_count": 791,
     "metadata": {},
     "output_type": "execute_result"
    }
   ],
   "source": [
    "(y_train == 3).sum()"
   ]
  },
  {
   "cell_type": "markdown",
   "metadata": {},
   "source": [
    "* ### MLP"
   ]
  },
  {
   "cell_type": "code",
   "execution_count": 792,
   "metadata": {},
   "outputs": [],
   "source": [
    "def sigmoid(value):\n",
    "    return 1/(1 + np.exp(-value))\n",
    "\n",
    "def sigmoid_derivative(value):\n",
    "    return sigmoid(value) * (1 - sigmoid(value))"
   ]
  },
  {
   "cell_type": "code",
   "execution_count": 793,
   "metadata": {},
   "outputs": [],
   "source": [
    "def relu(value):\n",
    "    return np.maximum(value, 0)\n",
    "\n",
    "def relu_derivative(value):\n",
    "    value[relu(value) <=0] = 0\n",
    "    return value"
   ]
  },
  {
   "cell_type": "code",
   "execution_count": 817,
   "metadata": {},
   "outputs": [],
   "source": [
    "def step_function(value):\n",
    "    value = np.maximum(value, 0)\n",
    "    value[value != 0] = 1\n",
    "    return value\n",
    "\n",
    "def step_derivative(value):\n",
    "    return 1"
   ]
  },
  {
   "cell_type": "code",
   "execution_count": 863,
   "metadata": {},
   "outputs": [],
   "source": [
    "class MLP():\n",
    "    def __init__(self):\n",
    "        self.parameters = {}\n",
    "        self.cache = {}\n",
    "        self.grads = {}\n",
    "\n",
    "    def fit(self, X_train, y_train):\n",
    "        \"\"\"\n",
    "        args : \n",
    "        X_train = input data of shape (n_x, number_of_examples)\n",
    "        y_train = label vector of shape (n_y, number_of_examples)\n",
    "        \"\"\"\n",
    "        self.X_train = (X_train - np.mean(X_train))/np.std(X_train)\n",
    "        self.y_train = y_train\n",
    "        self.m = X_train.shape[1]\n",
    "        self.hidden = relu\n",
    "        self.output = sigmoid\n",
    "\n",
    "    def initialize_parameters(self, dims):\n",
    "        self.L = len(dims)\n",
    "        for l in range(1, self.L):\n",
    "            self.parameters[\"W\" + str(l)] = np.random.randn(dims[l], dims[l-1]) * 0.01\n",
    "            self.parameters[\"b\" + str(l)] = np.zeros((dims[l], 1))\n",
    "        return self.parameters\n",
    "    \n",
    "    def propagate(self):\n",
    "        A_prev = self.X_train\n",
    "        self.cache[f\"A{0}\"] = A_prev\n",
    "        for l in range(1, self.L):\n",
    "            \n",
    "            Z = self.parameters[f\"W{l}\"] @ A_prev + self.parameters[f\"b{l}\"]\n",
    "            #print(l)\n",
    "            if l == self.L - 1:\n",
    "                #print(\"sigmoid\")\n",
    "                A = self.output(Z)\n",
    "            else:\n",
    "                A = self.hidden(Z)\n",
    "\n",
    "            self.cache[f\"Z{l}\"] = Z\n",
    "            self.cache[f\"A{l}\"] = A\n",
    "            \n",
    "            A_prev = A\n",
    "        \n",
    "        self.y_hat = A\n",
    "\n",
    "    def predict(self, X):\n",
    "        A = X\n",
    "        for l in range(1, self.L):\n",
    "            Z = self.parameters[f\"W{l}\"] @ A + self.parameters[f\"b{l}\"]\n",
    "            A = self.hidden(Z)\n",
    "        \n",
    "        return self.output(Z)\n",
    "    \n",
    "    def compute_diff(self):\n",
    "        self.loss = - (np.divide(self.y_train, self.y_hat) - np.divide(1 - self.y_train, 1 - self.y_hat))\n",
    "        #self.loss = self.y_hat - self.y_train\n",
    "        #print(self.loss.shape)\n",
    "        return self.loss\n",
    "    \n",
    "    def compute_grads(self):\n",
    "        dZ = self.loss * sigmoid_derivative(self.cache[f\"Z{self.L - 1}\"])\n",
    "\n",
    "        self.grads[f\"dW{self.L - 1}\"] = 1/self.m * dZ @ self.cache[f\"A{self.L - 2}\"].T\n",
    "        self.grads[f\"db{self.L - 1}\"] = 1/self.m * np.sum(dZ, axis=1, keepdims=True)\n",
    "        \n",
    "        for l in reversed(range(1, self.L - 1)):\n",
    "            self.grads[f\"dA_prev{l}\"] = self.parameters[f\"W{l + 1}\"].T @ dZ\n",
    "            dZ = self.grads[f\"dA_prev{l}\"] * relu_derivative(self.cache[f\"Z{l}\"])\n",
    "            self.grads[f\"dW{l}\"] = 1/self.m * dZ @ self.cache[f\"A{l - 1}\"].T\n",
    "            self.grads[f\"db{l}\"] = 1/self.m * np.sum(dZ, axis=1, keepdims=True)\n",
    "    \n",
    "    def backprop(self, learning_rate = 0.001):\n",
    "        self.learning_rate = learning_rate\n",
    "        for l in reversed(range(1, self.L)):\n",
    "            self.parameters[\"W\"+str(l)] -= self.learning_rate * (self.grads[f\"dW{l}\"])\n",
    "            self.parameters[\"b\"+str(l)] -= self.learning_rate * (self.grads[f\"db{l}\"])\n",
    "\n",
    "    def compute_cost(self):\n",
    "        logprods = np.dot(self.y_train, np.log(self.y_hat).T) + np.dot((1-self.y_train), np.log(1- self.y_hat).T)\n",
    "        cost = -1/self.m*np.sum(logprods)\n",
    "        return cost#np.sum(self.loss)\n",
    "\n",
    "    def train(self, dims, learning_rate = 0.001, iterations = 1000):\n",
    "        printing_interval = round(iterations * 0.01)\n",
    "        self.initialize_parameters(dims)\n",
    "        costs = []\n",
    "        for i in range(iterations):\n",
    "            self.propagate()\n",
    "            loss = self.compute_diff()\n",
    "            costs.append(self.compute_cost())\n",
    "            self.compute_grads()\n",
    "            self.backprop(learning_rate = learning_rate)\n",
    "        plt.plot(np.squeeze(costs))\n",
    "        plt.ylabel('cost')\n",
    "        plt.xlabel('iterations (per hundreds)')\n",
    "        plt.title(\"Learning rate =\" + str(learning_rate))\n",
    "        plt.show()"
   ]
  },
  {
   "cell_type": "code",
   "execution_count": 864,
   "metadata": {},
   "outputs": [],
   "source": [
    "mlpclf = MLP()"
   ]
  },
  {
   "cell_type": "code",
   "execution_count": 865,
   "metadata": {
    "scrolled": true
   },
   "outputs": [],
   "source": [
    "mlpclf.fit(X_train, y_train)"
   ]
  },
  {
   "cell_type": "markdown",
   "metadata": {},
   "source": [
    "$$\n",
    "Z^{[l]} = W^{[l]}A^{[l-1]} + b^{[l]}\n",
    "$$"
   ]
  },
  {
   "cell_type": "code",
   "execution_count": 867,
   "metadata": {
    "scrolled": true
   },
   "outputs": [
    {
     "data": {
      "image/png": "[encoded data removed]",
      "text/plain": [
       "<Figure size 432x288 with 1 Axes>"
      ]
     },
     "metadata": {
      "needs_background": "light"
     },
     "output_type": "display_data"
    }
   ],
   "source": [
    "mlpclf.train([X_train.shape[0],8,y_train.shape[0]], learning_rate=0.01, iterations=1000)"
   ]
  },
  {
   "cell_type": "code",
   "execution_count": 868,
   "metadata": {},
   "outputs": [],
   "source": [
    "y_pred = mlpclf.predict(X_val)"
   ]
  },
  {
   "cell_type": "code",
   "execution_count": 869,
   "metadata": {},
   "outputs": [
    {
     "data": {
      "text/plain": [
       "array([[1.0394, 0.0128, 0.912 ],\n",
       "       [0.9353, 0.9689, 1.0027],\n",
       "       [0.0921, 0.9514, 0.9654],\n",
       "       [0.9102, 0.0445, 1.0417],\n",
       "       [0.0998, 0.0064, 0.0636]])"
      ]
     },
     "execution_count": 869,
     "metadata": {},
     "output_type": "execute_result"
    }
   ],
   "source": [
    "X_val.T[0:10]"
   ]
  },
  {
   "cell_type": "code",
   "execution_count": 870,
   "metadata": {},
   "outputs": [
    {
     "data": {
      "text/plain": [
       "array([[0., 0., 0., 0., 0., 1., 0., 0.],\n",
       "       [0., 0., 0., 0., 0., 0., 0., 1.],\n",
       "       [0., 0., 0., 1., 0., 0., 0., 0.],\n",
       "       [0., 0., 0., 0., 0., 1., 0., 0.],\n",
       "       [1., 0., 0., 0., 0., 0., 0., 0.]])"
      ]
     },
     "execution_count": 870,
     "metadata": {},
     "output_type": "execute_result"
    }
   ],
   "source": [
    "y_val.T[0:10]"
   ]
  },
  {
   "cell_type": "code",
   "execution_count": 871,
   "metadata": {},
   "outputs": [],
   "source": [
    "row_maxes = y_pred.T.max(axis=1).reshape(-1, 1)"
   ]
  },
  {
   "cell_type": "code",
   "execution_count": 875,
   "metadata": {},
   "outputs": [
    {
     "data": {
      "text/plain": [
       "array([1, 1, 1, 1, 1])"
      ]
     },
     "execution_count": 875,
     "metadata": {},
     "output_type": "execute_result"
    }
   ],
   "source": [
    "np.argmax(y_pred, axis = 0)"
   ]
  },
  {
   "cell_type": "code",
   "execution_count": null,
   "metadata": {},
   "outputs": [],
   "source": [
    "np.argmax()"
   ]
  },
  {
   "cell_type": "code",
   "execution_count": 836,
   "metadata": {},
   "outputs": [
    {
     "data": {
      "text/plain": [
       "array([[0.02430398, 0.02721038, 0.12730349, 0.10091697, 0.11618435,\n",
       "        0.11612583, 0.36595012, 0.60578228],\n",
       "       [0.02529818, 0.09471432, 0.02499116, 0.1111794 , 0.10260876,\n",
       "        0.45957196, 0.1141666 , 0.55454231],\n",
       "       [0.01100546, 0.04472455, 0.06190308, 0.21853799, 0.06201709,\n",
       "        0.20033145, 0.21005499, 0.78572326],\n",
       "       [0.11120326, 0.11571927, 0.11763118, 0.1299759 , 0.10350705,\n",
       "        0.12983408, 0.10771192, 0.13452459],\n",
       "       [0.02745825, 0.03003761, 0.12694968, 0.10083202, 0.11678525,\n",
       "        0.11717043, 0.34332783, 0.56382403]])"
      ]
     },
     "execution_count": 836,
     "metadata": {},
     "output_type": "execute_result"
    }
   ],
   "source": [
    "y_pred.T[0:10]"
   ]
  },
  {
   "cell_type": "code",
   "execution_count": null,
   "metadata": {},
   "outputs": [],
   "source": []
  }
 ],
 "metadata": {
  "kernelspec": {
   "display_name": "Python 3",
   "language": "python",
   "name": "python3"
  },
  "language_info": {
   "codemirror_mode": {
    "name": "ipython",
    "version": 3
   },
   "file_extension": ".py",
   "mimetype": "text/x-python",
   "name": "python",
   "nbconvert_exporter": "python",
   "pygments_lexer": "ipython3",
   "version": "3.7.5"
  }
 },
 "nbformat": 4,
 "nbformat_minor": 2
}
