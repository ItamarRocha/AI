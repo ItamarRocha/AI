{
 "cells": [
  {
   "cell_type": "markdown",
   "metadata": {},
   "source": [
    "## Linear Regression"
   ]
  },
  {
   "cell_type": "markdown",
   "metadata": {},
   "source": [
    "$$\n",
    "f(x) = \\beta_0 + \\sum^p_{J=1}x_j \\beta_j \n",
    "$$\n",
    "We want to Minimize the residual sum of squares. To do so, first we need to compute it.\n",
    "$$\n",
    "\\begin{aligned}\n",
    "S(\\beta) &= \\sum^N_{i = 1}(y_i - f(x_i))^2 \\\\\n",
    "        &= \\sum^N_{i = 1} \\big( y_i - \\beta_0 - \\sum^p_{j=1}x_{ij}\\beta_j \\big)^2\n",
    "\\end{aligned}\n",
    "$$\n",
    "* We have to add one more column with value 1 constant to multiply with the $\\beta_0$, by doing so, the formula become:\n",
    "$$\n",
    "\\begin{aligned}\n",
    "S(\\beta) &= \\sum^N_{i=1} \\big(y_i - \\sum^p_{\\color{red}{j=0}}x_{ij}\\beta_j \\big) ^2 \\\\\n",
    "&= (y - X\\beta)^T (y - X\\beta) \\\\\n",
    "&= y^Ty - y^T X\\beta - \\beta^T X^T y + \\beta^T X^T X \\beta\n",
    "\\end{aligned}\n",
    "$$\n",
    "* Minimizing and getting the estimated $\\beta$ formula\n",
    "$$\n",
    "\\begin{aligned}\n",
    "\\frac{\\partial S}{\\partial \\beta} &= \\frac{\\partial (y^Ty - y^T X\\beta - \\beta^T X^T y + \\beta^T X^T X \\beta)}{\\partial \\beta} = 0 \\\\\n",
    "&= -2X^T y + 2X^T X \\beta = 0 \\\\\n",
    "&= X^T X \\beta = X^T y \\\\\n",
    "\\hat{\\beta} &= (X^T X)^{-1} X^T y\n",
    "\\end{aligned}\n",
    "$$\n",
    "* To predic the target value to a new vector x:\n",
    "$$\n",
    "\\hat{y} = \\hat{f}(x) = (1:x)^T \\hat{\\beta}\n",
    "$$"
   ]
  },
  {
   "cell_type": "code",
   "execution_count": 23,
   "metadata": {},
   "outputs": [],
   "source": [
    "import numpy as np"
   ]
  },
  {
   "cell_type": "code",
   "execution_count": 199,
   "metadata": {},
   "outputs": [
    {
     "data": {
      "text/plain": [
       "array([[-1.75,  3.34],\n",
       "       [ 1.15,  2.75],\n",
       "       [ 0.98,  3.51],\n",
       "       [ 0.22,  1.93],\n",
       "       [-0.19,  3.26],\n",
       "       [-0.46,  3.44],\n",
       "       [-0.58,  3.82],\n",
       "       [ 0.67,  2.9 ],\n",
       "       [-0.53,  4.03],\n",
       "       [-0.44,  1.88]])"
      ]
     },
     "execution_count": 199,
     "metadata": {},
     "output_type": "execute_result"
    }
   ],
   "source": [
    "X = np.array([[-1.75,  1.15,  0.98,  0.22, -0.19, -0.46, -0.58,  0.67, -0.53,-0.44],\n",
    "                 [3.34, 2.75, 3.51, 1.93, 3.26, 3.44, 3.82, 2.9 , 4.03, 1.88]]).T\n",
    "X"
   ]
  },
  {
   "cell_type": "code",
   "execution_count": 200,
   "metadata": {},
   "outputs": [
    {
     "data": {
      "text/plain": [
       "array([-19.56,  10.54,   5.53,   0.5 ,  -5.24,  -7.54,  -9.71,   5.26,\n",
       "       -10.69,  -5.1 ])"
      ]
     },
     "execution_count": 200,
     "metadata": {},
     "output_type": "execute_result"
    }
   ],
   "source": [
    "y = np.array([-19.56,  10.54,   5.53,   0.5 ,  -5.24,  -7.54,  -9.71,   5.26, -10.69,  -5.1])\n",
    "y"
   ]
  },
  {
   "cell_type": "code",
   "execution_count": 270,
   "metadata": {},
   "outputs": [],
   "source": [
    "class LinearRegression():\n",
    "    def __init__(self):\n",
    "        self.beta = None\n",
    "    \n",
    "    def fit(self, X, y, pinv=False):\n",
    "        X = np.array(X)\n",
    "        y = np.array(y)\n",
    "        X = np.insert(X, 0, np.ones(X.shape[0]), axis = 1)\n",
    "        XTX = X.T @ X #can use this operator\n",
    "        if not pinv:\n",
    "            inverse = np.linalg.inv(XTX)\n",
    "        else:\n",
    "            inverse = np.linalg.pinv(XTX)\n",
    "        self.beta = np.dot(np.dot(inverse, X.T), y) # or np.dot, which may be more confusing with more operations\n",
    "        return self.beta\n",
    "    \n",
    "    def predict(self, X):\n",
    "        return self.beta[0] + np.dot(X,self.beta[1:])"
   ]
  },
  {
   "cell_type": "code",
   "execution_count": 202,
   "metadata": {},
   "outputs": [],
   "source": [
    "lr = LinearRegression()"
   ]
  },
  {
   "cell_type": "code",
   "execution_count": 203,
   "metadata": {},
   "outputs": [
    {
     "data": {
      "text/plain": [
       "array([ 2.90978614,  9.91248941, -1.81105788])"
      ]
     },
     "execution_count": 203,
     "metadata": {},
     "output_type": "execute_result"
    }
   ],
   "source": [
    "lr.fit(X, y) #same results of beta as the professor"
   ]
  },
  {
   "cell_type": "code",
   "execution_count": 204,
   "metadata": {},
   "outputs": [
    {
     "data": {
      "text/plain": [
       "-20.48600365967664"
      ]
     },
     "execution_count": 204,
     "metadata": {},
     "output_type": "execute_result"
    }
   ],
   "source": [
    "lr.predict([-1.75, 3.34])"
   ]
  },
  {
   "cell_type": "code",
   "execution_count": 205,
   "metadata": {},
   "outputs": [],
   "source": [
    "def mse(y, y_pred):\n",
    "    return np.mean((y - y_pred)**2) "
   ]
  },
  {
   "cell_type": "code",
   "execution_count": 206,
   "metadata": {},
   "outputs": [
    {
     "data": {
      "text/plain": [
       "-19.56"
      ]
     },
     "execution_count": 206,
     "metadata": {},
     "output_type": "execute_result"
    }
   ],
   "source": [
    "y[0]"
   ]
  },
  {
   "cell_type": "code",
   "execution_count": 207,
   "metadata": {},
   "outputs": [
    {
     "data": {
      "text/plain": [
       "0.857482777734534"
      ]
     },
     "execution_count": 207,
     "metadata": {},
     "output_type": "execute_result"
    }
   ],
   "source": [
    "mse(y[0], lr.predict([-1.75, 3.34]))"
   ]
  },
  {
   "cell_type": "markdown",
   "metadata": {},
   "source": [
    "### Correlated columns"
   ]
  },
  {
   "cell_type": "code",
   "execution_count": 208,
   "metadata": {},
   "outputs": [],
   "source": [
    "X2 = np.ones((10,2))"
   ]
  },
  {
   "cell_type": "code",
   "execution_count": 209,
   "metadata": {},
   "outputs": [],
   "source": [
    "X2[:,1] = X2[:,1] * 2"
   ]
  },
  {
   "cell_type": "code",
   "execution_count": 210,
   "metadata": {},
   "outputs": [
    {
     "data": {
      "text/plain": [
       "array([[1., 2.],\n",
       "       [1., 2.],\n",
       "       [1., 2.],\n",
       "       [1., 2.],\n",
       "       [1., 2.],\n",
       "       [1., 2.],\n",
       "       [1., 2.],\n",
       "       [1., 2.],\n",
       "       [1., 2.],\n",
       "       [1., 2.]])"
      ]
     },
     "execution_count": 210,
     "metadata": {},
     "output_type": "execute_result"
    }
   ],
   "source": [
    "X2"
   ]
  },
  {
   "cell_type": "code",
   "execution_count": 211,
   "metadata": {},
   "outputs": [
    {
     "data": {
      "text/plain": [
       "array([3.00545806, 3.00317059, 3.00302619, 3.00737119, 3.00526157,\n",
       "       3.0016538 , 3.00949069, 3.00620551, 3.00196514, 3.00935995])"
      ]
     },
     "execution_count": 211,
     "metadata": {},
     "output_type": "execute_result"
    }
   ],
   "source": [
    "y = X2.sum(axis=1) + np.random.random((y.shape[0])) * 0.01\n",
    "y"
   ]
  },
  {
   "cell_type": "code",
   "execution_count": 212,
   "metadata": {},
   "outputs": [
    {
     "ename": "LinAlgError",
     "evalue": "Singular matrix",
     "output_type": "error",
     "traceback": [
      "\u001b[0;31m---------------------------------------------------------------------------\u001b[0m",
      "\u001b[0;31mLinAlgError\u001b[0m                               Traceback (most recent call last)",
      "\u001b[0;32m<ipython-input-212-9b34609d906b>\u001b[0m in \u001b[0;36m<module>\u001b[0;34m\u001b[0m\n\u001b[0;32m----> 1\u001b[0;31m \u001b[0mlr\u001b[0m\u001b[0;34m.\u001b[0m\u001b[0mfit\u001b[0m\u001b[0;34m(\u001b[0m\u001b[0mX2\u001b[0m\u001b[0;34m,\u001b[0m \u001b[0my\u001b[0m\u001b[0;34m)\u001b[0m\u001b[0;34m\u001b[0m\u001b[0;34m\u001b[0m\u001b[0m\n\u001b[0m",
      "\u001b[0;32m<ipython-input-201-2c0ac3af1af5>\u001b[0m in \u001b[0;36mfit\u001b[0;34m(self, X, y, corr)\u001b[0m\n\u001b[1;32m      9\u001b[0m         \u001b[0mXTX\u001b[0m \u001b[0;34m=\u001b[0m \u001b[0mX\u001b[0m\u001b[0;34m.\u001b[0m\u001b[0mT\u001b[0m \u001b[0;34m@\u001b[0m \u001b[0mX\u001b[0m \u001b[0;31m#can use this operator\u001b[0m\u001b[0;34m\u001b[0m\u001b[0;34m\u001b[0m\u001b[0m\n\u001b[1;32m     10\u001b[0m         \u001b[0;32mif\u001b[0m \u001b[0;32mnot\u001b[0m \u001b[0mcorr\u001b[0m\u001b[0;34m:\u001b[0m\u001b[0;34m\u001b[0m\u001b[0;34m\u001b[0m\u001b[0m\n\u001b[0;32m---> 11\u001b[0;31m             \u001b[0minverse\u001b[0m \u001b[0;34m=\u001b[0m \u001b[0mnp\u001b[0m\u001b[0;34m.\u001b[0m\u001b[0mlinalg\u001b[0m\u001b[0;34m.\u001b[0m\u001b[0minv\u001b[0m\u001b[0;34m(\u001b[0m\u001b[0mXTX\u001b[0m\u001b[0;34m)\u001b[0m\u001b[0;34m\u001b[0m\u001b[0;34m\u001b[0m\u001b[0m\n\u001b[0m\u001b[1;32m     12\u001b[0m         \u001b[0;32melse\u001b[0m\u001b[0;34m:\u001b[0m\u001b[0;34m\u001b[0m\u001b[0;34m\u001b[0m\u001b[0m\n\u001b[1;32m     13\u001b[0m             \u001b[0minverse\u001b[0m \u001b[0;34m=\u001b[0m \u001b[0mnp\u001b[0m\u001b[0;34m.\u001b[0m\u001b[0mlinalg\u001b[0m\u001b[0;34m.\u001b[0m\u001b[0mpinv\u001b[0m\u001b[0;34m(\u001b[0m\u001b[0mXTX\u001b[0m\u001b[0;34m)\u001b[0m\u001b[0;34m\u001b[0m\u001b[0;34m\u001b[0m\u001b[0m\n",
      "\u001b[0;32m<__array_function__ internals>\u001b[0m in \u001b[0;36minv\u001b[0;34m(*args, **kwargs)\u001b[0m\n",
      "\u001b[0;32m~/anaconda3/lib/python3.7/site-packages/numpy/linalg/linalg.py\u001b[0m in \u001b[0;36minv\u001b[0;34m(a)\u001b[0m\n\u001b[1;32m    549\u001b[0m     \u001b[0msignature\u001b[0m \u001b[0;34m=\u001b[0m \u001b[0;34m'D->D'\u001b[0m \u001b[0;32mif\u001b[0m \u001b[0misComplexType\u001b[0m\u001b[0;34m(\u001b[0m\u001b[0mt\u001b[0m\u001b[0;34m)\u001b[0m \u001b[0;32melse\u001b[0m \u001b[0;34m'd->d'\u001b[0m\u001b[0;34m\u001b[0m\u001b[0;34m\u001b[0m\u001b[0m\n\u001b[1;32m    550\u001b[0m     \u001b[0mextobj\u001b[0m \u001b[0;34m=\u001b[0m \u001b[0mget_linalg_error_extobj\u001b[0m\u001b[0;34m(\u001b[0m\u001b[0m_raise_linalgerror_singular\u001b[0m\u001b[0;34m)\u001b[0m\u001b[0;34m\u001b[0m\u001b[0;34m\u001b[0m\u001b[0m\n\u001b[0;32m--> 551\u001b[0;31m     \u001b[0mainv\u001b[0m \u001b[0;34m=\u001b[0m \u001b[0m_umath_linalg\u001b[0m\u001b[0;34m.\u001b[0m\u001b[0minv\u001b[0m\u001b[0;34m(\u001b[0m\u001b[0ma\u001b[0m\u001b[0;34m,\u001b[0m \u001b[0msignature\u001b[0m\u001b[0;34m=\u001b[0m\u001b[0msignature\u001b[0m\u001b[0;34m,\u001b[0m \u001b[0mextobj\u001b[0m\u001b[0;34m=\u001b[0m\u001b[0mextobj\u001b[0m\u001b[0;34m)\u001b[0m\u001b[0;34m\u001b[0m\u001b[0;34m\u001b[0m\u001b[0m\n\u001b[0m\u001b[1;32m    552\u001b[0m     \u001b[0;32mreturn\u001b[0m \u001b[0mwrap\u001b[0m\u001b[0;34m(\u001b[0m\u001b[0mainv\u001b[0m\u001b[0;34m.\u001b[0m\u001b[0mastype\u001b[0m\u001b[0;34m(\u001b[0m\u001b[0mresult_t\u001b[0m\u001b[0;34m,\u001b[0m \u001b[0mcopy\u001b[0m\u001b[0;34m=\u001b[0m\u001b[0;32mFalse\u001b[0m\u001b[0;34m)\u001b[0m\u001b[0;34m)\u001b[0m\u001b[0;34m\u001b[0m\u001b[0;34m\u001b[0m\u001b[0m\n\u001b[1;32m    553\u001b[0m \u001b[0;34m\u001b[0m\u001b[0m\n",
      "\u001b[0;32m~/anaconda3/lib/python3.7/site-packages/numpy/linalg/linalg.py\u001b[0m in \u001b[0;36m_raise_linalgerror_singular\u001b[0;34m(err, flag)\u001b[0m\n\u001b[1;32m     95\u001b[0m \u001b[0;34m\u001b[0m\u001b[0m\n\u001b[1;32m     96\u001b[0m \u001b[0;32mdef\u001b[0m \u001b[0m_raise_linalgerror_singular\u001b[0m\u001b[0;34m(\u001b[0m\u001b[0merr\u001b[0m\u001b[0;34m,\u001b[0m \u001b[0mflag\u001b[0m\u001b[0;34m)\u001b[0m\u001b[0;34m:\u001b[0m\u001b[0;34m\u001b[0m\u001b[0;34m\u001b[0m\u001b[0m\n\u001b[0;32m---> 97\u001b[0;31m     \u001b[0;32mraise\u001b[0m \u001b[0mLinAlgError\u001b[0m\u001b[0;34m(\u001b[0m\u001b[0;34m\"Singular matrix\"\u001b[0m\u001b[0;34m)\u001b[0m\u001b[0;34m\u001b[0m\u001b[0;34m\u001b[0m\u001b[0m\n\u001b[0m\u001b[1;32m     98\u001b[0m \u001b[0;34m\u001b[0m\u001b[0m\n\u001b[1;32m     99\u001b[0m \u001b[0;32mdef\u001b[0m \u001b[0m_raise_linalgerror_nonposdef\u001b[0m\u001b[0;34m(\u001b[0m\u001b[0merr\u001b[0m\u001b[0;34m,\u001b[0m \u001b[0mflag\u001b[0m\u001b[0;34m)\u001b[0m\u001b[0;34m:\u001b[0m\u001b[0;34m\u001b[0m\u001b[0;34m\u001b[0m\u001b[0m\n",
      "\u001b[0;31mLinAlgError\u001b[0m: Singular matrix"
     ]
    }
   ],
   "source": [
    "lr.fit(X2, y)"
   ]
  },
  {
   "cell_type": "markdown",
   "metadata": {},
   "source": [
    "* Erros due to correlated columns, one way to go through is calculating the pseudo inverse"
   ]
  },
  {
   "cell_type": "code",
   "execution_count": 213,
   "metadata": {},
   "outputs": [
    {
     "data": {
      "text/plain": [
       "array([0.50088271, 0.50088271, 1.00176542])"
      ]
     },
     "execution_count": 213,
     "metadata": {},
     "output_type": "execute_result"
    }
   ],
   "source": [
    "lr.fit(X2, y, pinv=True)"
   ]
  },
  {
   "cell_type": "code",
   "execution_count": 214,
   "metadata": {},
   "outputs": [
    {
     "data": {
      "text/plain": [
       "3.0052962679438444"
      ]
     },
     "execution_count": 214,
     "metadata": {},
     "output_type": "execute_result"
    }
   ],
   "source": [
    "lr.predict([1, 2])"
   ]
  },
  {
   "cell_type": "markdown",
   "metadata": {},
   "source": [
    "### real database"
   ]
  },
  {
   "cell_type": "code",
   "execution_count": 216,
   "metadata": {},
   "outputs": [],
   "source": [
    "from sklearn.datasets import load_iris, load_breast_cancer"
   ]
  },
  {
   "cell_type": "code",
   "execution_count": 252,
   "metadata": {},
   "outputs": [],
   "source": [
    "np.random.seed(42)"
   ]
  },
  {
   "cell_type": "code",
   "execution_count": 253,
   "metadata": {},
   "outputs": [],
   "source": [
    "X,y = load_breast_cancer(return_X_y=True)"
   ]
  },
  {
   "cell_type": "code",
   "execution_count": 254,
   "metadata": {
    "scrolled": true
   },
   "outputs": [
    {
     "data": {
      "text/plain": [
       "(569, 30)"
      ]
     },
     "execution_count": 254,
     "metadata": {},
     "output_type": "execute_result"
    }
   ],
   "source": [
    "X.shape"
   ]
  },
  {
   "cell_type": "code",
   "execution_count": 255,
   "metadata": {
    "scrolled": true
   },
   "outputs": [
    {
     "data": {
      "text/plain": [
       "(569,)"
      ]
     },
     "execution_count": 255,
     "metadata": {},
     "output_type": "execute_result"
    }
   ],
   "source": [
    "y.shape"
   ]
  },
  {
   "cell_type": "code",
   "execution_count": 256,
   "metadata": {},
   "outputs": [
    {
     "data": {
      "text/plain": [
       "(569, 31)"
      ]
     },
     "execution_count": 256,
     "metadata": {},
     "output_type": "execute_result"
    }
   ],
   "source": [
    "breast_cancer_dataset = np.insert(X, X.shape[1], y, axis=1)\n",
    "breast_cancer_dataset.shape"
   ]
  },
  {
   "cell_type": "code",
   "execution_count": 259,
   "metadata": {},
   "outputs": [],
   "source": [
    "np.random.shuffle(breast_cancer_dataset)"
   ]
  },
  {
   "cell_type": "code",
   "execution_count": 261,
   "metadata": {},
   "outputs": [
    {
     "data": {
      "text/plain": [
       "(569, 31)"
      ]
     },
     "execution_count": 261,
     "metadata": {},
     "output_type": "execute_result"
    }
   ],
   "source": [
    "breast_cancer_dataset.shape"
   ]
  },
  {
   "cell_type": "code",
   "execution_count": 262,
   "metadata": {},
   "outputs": [
    {
     "data": {
      "text/plain": [
       "(530, 31)"
      ]
     },
     "execution_count": 262,
     "metadata": {},
     "output_type": "execute_result"
    }
   ],
   "source": [
    "train_set = breast_cancer_dataset[:530]\n",
    "train_set.shape"
   ]
  },
  {
   "cell_type": "code",
   "execution_count": 264,
   "metadata": {},
   "outputs": [
    {
     "data": {
      "text/plain": [
       "(39, 31)"
      ]
     },
     "execution_count": 264,
     "metadata": {},
     "output_type": "execute_result"
    }
   ],
   "source": [
    "test_set = breast_cancer_dataset[530:]\n",
    "test_set.shape"
   ]
  },
  {
   "cell_type": "code",
   "execution_count": 266,
   "metadata": {
    "scrolled": true
   },
   "outputs": [
    {
     "name": "stdout",
     "output_type": "stream",
     "text": [
      "(530, 30) \n",
      " (530,)\n"
     ]
    }
   ],
   "source": [
    "X_train, y_train = train_set[:,:30], train_set[:,-1]\n",
    "print(X_train.shape, \"\\n\",y_train.shape)"
   ]
  },
  {
   "cell_type": "code",
   "execution_count": 273,
   "metadata": {},
   "outputs": [
    {
     "name": "stdout",
     "output_type": "stream",
     "text": [
      "(39, 30) \n",
      " (39,)\n"
     ]
    }
   ],
   "source": [
    "X_test, y_test = test_set[:,:30], test_set[:,-1]\n",
    "print(X_test.shape, \"\\n\",y_test.shape)"
   ]
  },
  {
   "cell_type": "code",
   "execution_count": 271,
   "metadata": {},
   "outputs": [],
   "source": [
    "lr = LinearRegression()"
   ]
  },
  {
   "cell_type": "code",
   "execution_count": 272,
   "metadata": {},
   "outputs": [
    {
     "data": {
      "text/plain": [
       "array([ 3.02323062e+00,  2.46273863e-01, -2.76441109e-03, -1.89904186e-02,\n",
       "       -6.14673229e-04, -4.14077572e-01,  4.30596685e+00, -1.57533799e+00,\n",
       "       -2.12308381e+00, -3.33930009e-01, -8.85551822e-01, -1.02338247e-01,\n",
       "        9.70060079e-03,  1.85577029e-02, -2.36682280e-04, -1.76533389e+01,\n",
       "       -1.06451020e+00,  3.44397392e+00, -9.55186262e+00, -4.63486624e+00,\n",
       "        1.08095837e+01, -2.48096068e-01, -7.04847878e-03,  1.88706404e-03,\n",
       "        1.24683590e-03, -6.67465509e-02,  7.41878972e-02, -4.41674584e-01,\n",
       "       -4.65434343e-01, -2.48576468e-01, -4.46429797e+00])"
      ]
     },
     "execution_count": 272,
     "metadata": {},
     "output_type": "execute_result"
    }
   ],
   "source": [
    "lr.fit(X_train, y_train)"
   ]
  },
  {
   "cell_type": "code",
   "execution_count": 275,
   "metadata": {},
   "outputs": [],
   "source": [
    "y_pred = lr.predict(X_test)"
   ]
  },
  {
   "cell_type": "code",
   "execution_count": 276,
   "metadata": {},
   "outputs": [
    {
     "data": {
      "text/plain": [
       "0.08315075211389102"
      ]
     },
     "execution_count": 276,
     "metadata": {},
     "output_type": "execute_result"
    }
   ],
   "source": [
    "mse(y_test, y_pred)"
   ]
  },
  {
   "cell_type": "code",
   "execution_count": 277,
   "metadata": {
    "scrolled": false
   },
   "outputs": [
    {
     "name": "stdout",
     "output_type": "stream",
     "text": [
      "real = 0.0 predicted = -0.08556535396556209\n",
      "real = 0.0 predicted = -0.0005558405745942352\n",
      "real = 0.0 predicted = 0.15803823404638262\n",
      "real = 0.0 predicted = 0.22466514182367492\n",
      "real = 0.0 predicted = -0.14242774652906398\n",
      "real = 1.0 predicted = 0.9021469086257117\n",
      "real = 0.0 predicted = 0.31638057304628386\n",
      "real = 1.0 predicted = 0.9720883109773069\n",
      "real = 1.0 predicted = 0.9409904128031052\n",
      "real = 0.0 predicted = 0.340235160007198\n",
      "real = 0.0 predicted = -0.3588154817013307\n",
      "real = 1.0 predicted = 0.7404432020247502\n",
      "real = 0.0 predicted = 0.5889532198356271\n",
      "real = 0.0 predicted = 0.322389083330739\n",
      "real = 1.0 predicted = 0.9553608818991282\n",
      "real = 0.0 predicted = 0.004331576830676642\n",
      "real = 0.0 predicted = -0.26581300008606057\n",
      "real = 0.0 predicted = 0.4281159092585738\n",
      "real = 1.0 predicted = 1.0650340906225462\n",
      "real = 1.0 predicted = 1.0180783286607578\n",
      "real = 1.0 predicted = 0.9175272520497257\n",
      "real = 0.0 predicted = 0.5823055359144012\n",
      "real = 0.0 predicted = -0.5518712574971305\n",
      "real = 0.0 predicted = 0.9774804992598725\n",
      "real = 0.0 predicted = -0.21324164905353715\n",
      "real = 1.0 predicted = 0.8383729996274671\n",
      "real = 1.0 predicted = 0.920178692553598\n",
      "real = 0.0 predicted = 0.05310540270088282\n",
      "real = 0.0 predicted = -0.23047658768952894\n",
      "real = 1.0 predicted = 0.8652897803462727\n",
      "real = 1.0 predicted = 0.8970136970107481\n",
      "real = 1.0 predicted = 0.7208950701405659\n",
      "real = 1.0 predicted = 0.8320671241563691\n",
      "real = 0.0 predicted = -0.19940980602903702\n",
      "real = 1.0 predicted = 0.9506241683678809\n",
      "real = 0.0 predicted = -0.11685180767914938\n",
      "real = 1.0 predicted = 0.8732654803936417\n",
      "real = 1.0 predicted = 0.8054027617559711\n",
      "real = 0.0 predicted = 0.13506959931771512\n"
     ]
    }
   ],
   "source": [
    "for i in range(len(y_test)):\n",
    "    print(f\"real = {y_test[i]} predicted = {y_pred[i]}\")"
   ]
  },
  {
   "cell_type": "markdown",
   "metadata": {},
   "source": [
    "### coeficient significance"
   ]
  },
  {
   "cell_type": "code",
   "execution_count": null,
   "metadata": {},
   "outputs": [],
   "source": [
    "def variance(p, y, y_pred):\n",
    "    "
   ]
  }
 ],
 "metadata": {
  "kernelspec": {
   "display_name": "Python 3",
   "language": "python",
   "name": "python3"
  },
  "language_info": {
   "codemirror_mode": {
    "name": "ipython",
    "version": 3
   },
   "file_extension": ".py",
   "mimetype": "text/x-python",
   "name": "python",
   "nbconvert_exporter": "python",
   "pygments_lexer": "ipython3",
   "version": "3.7.5"
  }
 },
 "nbformat": 4,
 "nbformat_minor": 2
}
