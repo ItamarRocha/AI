{
 "cells": [
  {
   "cell_type": "markdown",
   "metadata": {},
   "source": [
    "## Linear Regression"
   ]
  },
  {
   "cell_type": "markdown",
   "metadata": {},
   "source": [
    "$$\n",
    "f(x) = \\beta_0 + \\sum^p_{J=1}x_j \\beta_j \n",
    "$$\n",
    "We want to Minimize the residual sum of squares. To do so, first we need to compute it.\n",
    "$$\n",
    "\\begin{aligned}\n",
    "S(\\beta) &= \\sum^N_{i = 1}(y_i - f(x_i))^2 \\\\\n",
    "        &= \\sum^N_{i = 1} \\big( y_i - \\beta_0 - \\sum^p_{j=1}x_{ij}\\beta_j \\big)^2\n",
    "\\end{aligned}\n",
    "$$\n",
    "* We have to add one more column with value 1 constant to multiply with the $\\beta_0$, by doing so, the formula become:\n",
    "$$\n",
    "\\begin{aligned}\n",
    "S(\\beta) &= \\sum^N_{i=1} \\big(y_i - \\sum^p_{\\color{red}{j=0}}x_{ij}\\beta_j \\big) ^2 \\\\\n",
    "&= (y - X\\beta)^T (y - X\\beta) \\\\\n",
    "&= y^Ty - y^T X\\beta - \\beta^T X^T y + \\beta^T X^T X \\beta\n",
    "\\end{aligned}\n",
    "$$\n",
    "* Minimizing and getting the estimated $\\beta$ formula\n",
    "$$\n",
    "\\begin{aligned}\n",
    "\\frac{\\partial S}{\\partial \\beta} &= \\frac{\\partial (y^Ty - y^T X\\beta - \\beta^T X^T y + \\beta^T X^T X \\beta)}{\\partial \\beta} = 0 \\\\\n",
    "&= -2X^T y + 2X^T X \\beta = 0 \\\\\n",
    "&= X^T X \\beta = X^T y \\\\\n",
    "\\hat{\\beta} &= (X^T X)^{-1} X^T y\n",
    "\\end{aligned}\n",
    "$$\n",
    "* To predic the target value to a new vector x:\n",
    "$$\n",
    "\\hat{y} = \\hat{f}(x) = (1:x)^T \\hat{\\beta}\n",
    "$$"
   ]
  },
  {
   "cell_type": "code",
   "execution_count": 1,
   "metadata": {},
   "outputs": [],
   "source": [
    "import numpy as np"
   ]
  },
  {
   "cell_type": "code",
   "execution_count": 2,
   "metadata": {},
   "outputs": [
    {
     "data": {
      "text/plain": [
       "array([[-1.75,  3.34],\n",
       "       [ 1.15,  2.75],\n",
       "       [ 0.98,  3.51],\n",
       "       [ 0.22,  1.93],\n",
       "       [-0.19,  3.26],\n",
       "       [-0.46,  3.44],\n",
       "       [-0.58,  3.82],\n",
       "       [ 0.67,  2.9 ],\n",
       "       [-0.53,  4.03],\n",
       "       [-0.44,  1.88]])"
      ]
     },
     "execution_count": 2,
     "metadata": {},
     "output_type": "execute_result"
    }
   ],
   "source": [
    "X = np.array([[-1.75,  1.15,  0.98,  0.22, -0.19, -0.46, -0.58,  0.67, -0.53,-0.44],\n",
    "                 [3.34, 2.75, 3.51, 1.93, 3.26, 3.44, 3.82, 2.9 , 4.03, 1.88]]).T\n",
    "X"
   ]
  },
  {
   "cell_type": "code",
   "execution_count": 3,
   "metadata": {},
   "outputs": [
    {
     "data": {
      "text/plain": [
       "array([-19.56,  10.54,   5.53,   0.5 ,  -5.24,  -7.54,  -9.71,   5.26,\n",
       "       -10.69,  -5.1 ])"
      ]
     },
     "execution_count": 3,
     "metadata": {},
     "output_type": "execute_result"
    }
   ],
   "source": [
    "y = np.array([-19.56,  10.54,   5.53,   0.5 ,  -5.24,  -7.54,  -9.71,   5.26, -10.69,  -5.1])\n",
    "y"
   ]
  },
  {
   "cell_type": "code",
   "execution_count": 4,
   "metadata": {},
   "outputs": [],
   "source": [
    "class LinearRegression():\n",
    "    def __init__(self):\n",
    "        self.beta = None\n",
    "    \n",
    "    def fit(self, X, y, pinv=False):\n",
    "        \"\"\"\n",
    "        Args:\n",
    "        X -> matrix of values\n",
    "        y -> corresponding target values\n",
    "        pinv -> flag that indicates the use of pseudo inverse matrix calulation\n",
    "        \n",
    "        Return:\n",
    "        Beta\n",
    "        \"\"\"\n",
    "        X = np.array(X)\n",
    "        y = np.array(y)\n",
    "        X = np.insert(X, 0, np.ones(X.shape[0]), axis = 1)\n",
    "        XTX = X.T @ X #can use this operator\n",
    "        if not pinv:\n",
    "            inverse = np.linalg.inv(XTX)\n",
    "        else:\n",
    "            inverse = np.linalg.pinv(XTX)\n",
    "        self.beta = np.dot(np.dot(inverse, X.T), y) # or np.dot, which may be more confusing with more operations\n",
    "        return self.beta\n",
    "    \n",
    "    def predict(self, X):\n",
    "        \"\"\"\n",
    "        Args:\n",
    "        X -> matrix of values\n",
    "        \n",
    "        return\n",
    "        predicted value y_hat\n",
    "        \"\"\"\n",
    "        return self.beta[0] + np.dot(X,self.beta[1:])\n",
    "\n",
    "    def variance(self, X, y):\n",
    "        \"\"\"\n",
    "        Args:\n",
    "        X -> matrix of values\n",
    "        y -> corresponding target values\n",
    "\n",
    "        Return:\n",
    "        Variance        \n",
    "        \"\"\"\n",
    "        y_hat = self.predict(X)\n",
    "        N, p = X.shape[0], X.shape[1]\n",
    "        return np.sum((y - y_hat) ** 2 / (N - p - 1))\n",
    "\n",
    "        "
   ]
  },
  {
   "cell_type": "code",
   "execution_count": 5,
   "metadata": {},
   "outputs": [],
   "source": [
    "lr = LinearRegression()"
   ]
  },
  {
   "cell_type": "code",
   "execution_count": 6,
   "metadata": {},
   "outputs": [],
   "source": [
    "beta = lr.fit(X, y) #same results of beta as the professor"
   ]
  },
  {
   "cell_type": "code",
   "execution_count": 7,
   "metadata": {},
   "outputs": [
    {
     "data": {
      "text/plain": [
       "-20.48600365967664"
      ]
     },
     "execution_count": 7,
     "metadata": {},
     "output_type": "execute_result"
    }
   ],
   "source": [
    "lr.predict([-1.75, 3.34])"
   ]
  },
  {
   "cell_type": "code",
   "execution_count": 8,
   "metadata": {},
   "outputs": [],
   "source": [
    "def mse(y, y_pred):\n",
    "    return np.mean((y - y_pred)**2) "
   ]
  },
  {
   "cell_type": "code",
   "execution_count": 9,
   "metadata": {},
   "outputs": [
    {
     "data": {
      "text/plain": [
       "-19.56"
      ]
     },
     "execution_count": 9,
     "metadata": {},
     "output_type": "execute_result"
    }
   ],
   "source": [
    "y[0]"
   ]
  },
  {
   "cell_type": "code",
   "execution_count": 10,
   "metadata": {
    "scrolled": true
   },
   "outputs": [
    {
     "data": {
      "text/plain": [
       "0.857482777734534"
      ]
     },
     "execution_count": 10,
     "metadata": {},
     "output_type": "execute_result"
    }
   ],
   "source": [
    "mse(y[0], lr.predict([-1.75, 3.34]))"
   ]
  },
  {
   "cell_type": "markdown",
   "metadata": {},
   "source": [
    "### Correlated columns"
   ]
  },
  {
   "cell_type": "code",
   "execution_count": 11,
   "metadata": {},
   "outputs": [],
   "source": [
    "X2 = np.ones((10,2))"
   ]
  },
  {
   "cell_type": "code",
   "execution_count": 12,
   "metadata": {},
   "outputs": [],
   "source": [
    "X2[:,1] = X2[:,1] * 2"
   ]
  },
  {
   "cell_type": "code",
   "execution_count": 13,
   "metadata": {},
   "outputs": [
    {
     "data": {
      "text/plain": [
       "array([[1., 2.],\n",
       "       [1., 2.],\n",
       "       [1., 2.],\n",
       "       [1., 2.],\n",
       "       [1., 2.],\n",
       "       [1., 2.],\n",
       "       [1., 2.],\n",
       "       [1., 2.],\n",
       "       [1., 2.],\n",
       "       [1., 2.]])"
      ]
     },
     "execution_count": 13,
     "metadata": {},
     "output_type": "execute_result"
    }
   ],
   "source": [
    "X2"
   ]
  },
  {
   "cell_type": "code",
   "execution_count": 14,
   "metadata": {},
   "outputs": [
    {
     "data": {
      "text/plain": [
       "array([3.00402179, 3.0032624 , 3.00240856, 3.00295596, 3.00565385,\n",
       "       3.00195023, 3.00258199, 3.00719405, 3.0085365 , 3.00646698])"
      ]
     },
     "execution_count": 14,
     "metadata": {},
     "output_type": "execute_result"
    }
   ],
   "source": [
    "y2 = X2.sum(axis=1) + np.random.random((X2.shape[0])) * 0.01\n",
    "y2"
   ]
  },
  {
   "cell_type": "code",
   "execution_count": 15,
   "metadata": {},
   "outputs": [],
   "source": [
    "lr2 = LinearRegression()"
   ]
  },
  {
   "cell_type": "code",
   "execution_count": 16,
   "metadata": {},
   "outputs": [
    {
     "ename": "LinAlgError",
     "evalue": "Singular matrix",
     "output_type": "error",
     "traceback": [
      "\u001b[0;31m---------------------------------------------------------------------------\u001b[0m",
      "\u001b[0;31mLinAlgError\u001b[0m                               Traceback (most recent call last)",
      "\u001b[0;32m<ipython-input-16-6e32e95a0b7e>\u001b[0m in \u001b[0;36m<module>\u001b[0;34m\u001b[0m\n\u001b[0;32m----> 1\u001b[0;31m \u001b[0mlr2\u001b[0m\u001b[0;34m.\u001b[0m\u001b[0mfit\u001b[0m\u001b[0;34m(\u001b[0m\u001b[0mX2\u001b[0m\u001b[0;34m,\u001b[0m \u001b[0my2\u001b[0m\u001b[0;34m)\u001b[0m\u001b[0;34m\u001b[0m\u001b[0;34m\u001b[0m\u001b[0m\n\u001b[0m",
      "\u001b[0;32m<ipython-input-4-6870ae3678c8>\u001b[0m in \u001b[0;36mfit\u001b[0;34m(self, X, y, pinv)\u001b[0m\n\u001b[1;32m     18\u001b[0m         \u001b[0mXTX\u001b[0m \u001b[0;34m=\u001b[0m \u001b[0mX\u001b[0m\u001b[0;34m.\u001b[0m\u001b[0mT\u001b[0m \u001b[0;34m@\u001b[0m \u001b[0mX\u001b[0m \u001b[0;31m#can use this operator\u001b[0m\u001b[0;34m\u001b[0m\u001b[0;34m\u001b[0m\u001b[0m\n\u001b[1;32m     19\u001b[0m         \u001b[0;32mif\u001b[0m \u001b[0;32mnot\u001b[0m \u001b[0mpinv\u001b[0m\u001b[0;34m:\u001b[0m\u001b[0;34m\u001b[0m\u001b[0;34m\u001b[0m\u001b[0m\n\u001b[0;32m---> 20\u001b[0;31m             \u001b[0minverse\u001b[0m \u001b[0;34m=\u001b[0m \u001b[0mnp\u001b[0m\u001b[0;34m.\u001b[0m\u001b[0mlinalg\u001b[0m\u001b[0;34m.\u001b[0m\u001b[0minv\u001b[0m\u001b[0;34m(\u001b[0m\u001b[0mXTX\u001b[0m\u001b[0;34m)\u001b[0m\u001b[0;34m\u001b[0m\u001b[0;34m\u001b[0m\u001b[0m\n\u001b[0m\u001b[1;32m     21\u001b[0m         \u001b[0;32melse\u001b[0m\u001b[0;34m:\u001b[0m\u001b[0;34m\u001b[0m\u001b[0;34m\u001b[0m\u001b[0m\n\u001b[1;32m     22\u001b[0m             \u001b[0minverse\u001b[0m \u001b[0;34m=\u001b[0m \u001b[0mnp\u001b[0m\u001b[0;34m.\u001b[0m\u001b[0mlinalg\u001b[0m\u001b[0;34m.\u001b[0m\u001b[0mpinv\u001b[0m\u001b[0;34m(\u001b[0m\u001b[0mXTX\u001b[0m\u001b[0;34m)\u001b[0m\u001b[0;34m\u001b[0m\u001b[0;34m\u001b[0m\u001b[0m\n",
      "\u001b[0;32m<__array_function__ internals>\u001b[0m in \u001b[0;36minv\u001b[0;34m(*args, **kwargs)\u001b[0m\n",
      "\u001b[0;32m~/anaconda3/lib/python3.7/site-packages/numpy/linalg/linalg.py\u001b[0m in \u001b[0;36minv\u001b[0;34m(a)\u001b[0m\n\u001b[1;32m    549\u001b[0m     \u001b[0msignature\u001b[0m \u001b[0;34m=\u001b[0m \u001b[0;34m'D->D'\u001b[0m \u001b[0;32mif\u001b[0m \u001b[0misComplexType\u001b[0m\u001b[0;34m(\u001b[0m\u001b[0mt\u001b[0m\u001b[0;34m)\u001b[0m \u001b[0;32melse\u001b[0m \u001b[0;34m'd->d'\u001b[0m\u001b[0;34m\u001b[0m\u001b[0;34m\u001b[0m\u001b[0m\n\u001b[1;32m    550\u001b[0m     \u001b[0mextobj\u001b[0m \u001b[0;34m=\u001b[0m \u001b[0mget_linalg_error_extobj\u001b[0m\u001b[0;34m(\u001b[0m\u001b[0m_raise_linalgerror_singular\u001b[0m\u001b[0;34m)\u001b[0m\u001b[0;34m\u001b[0m\u001b[0;34m\u001b[0m\u001b[0m\n\u001b[0;32m--> 551\u001b[0;31m     \u001b[0mainv\u001b[0m \u001b[0;34m=\u001b[0m \u001b[0m_umath_linalg\u001b[0m\u001b[0;34m.\u001b[0m\u001b[0minv\u001b[0m\u001b[0;34m(\u001b[0m\u001b[0ma\u001b[0m\u001b[0;34m,\u001b[0m \u001b[0msignature\u001b[0m\u001b[0;34m=\u001b[0m\u001b[0msignature\u001b[0m\u001b[0;34m,\u001b[0m \u001b[0mextobj\u001b[0m\u001b[0;34m=\u001b[0m\u001b[0mextobj\u001b[0m\u001b[0;34m)\u001b[0m\u001b[0;34m\u001b[0m\u001b[0;34m\u001b[0m\u001b[0m\n\u001b[0m\u001b[1;32m    552\u001b[0m     \u001b[0;32mreturn\u001b[0m \u001b[0mwrap\u001b[0m\u001b[0;34m(\u001b[0m\u001b[0mainv\u001b[0m\u001b[0;34m.\u001b[0m\u001b[0mastype\u001b[0m\u001b[0;34m(\u001b[0m\u001b[0mresult_t\u001b[0m\u001b[0;34m,\u001b[0m \u001b[0mcopy\u001b[0m\u001b[0;34m=\u001b[0m\u001b[0;32mFalse\u001b[0m\u001b[0;34m)\u001b[0m\u001b[0;34m)\u001b[0m\u001b[0;34m\u001b[0m\u001b[0;34m\u001b[0m\u001b[0m\n\u001b[1;32m    553\u001b[0m \u001b[0;34m\u001b[0m\u001b[0m\n",
      "\u001b[0;32m~/anaconda3/lib/python3.7/site-packages/numpy/linalg/linalg.py\u001b[0m in \u001b[0;36m_raise_linalgerror_singular\u001b[0;34m(err, flag)\u001b[0m\n\u001b[1;32m     95\u001b[0m \u001b[0;34m\u001b[0m\u001b[0m\n\u001b[1;32m     96\u001b[0m \u001b[0;32mdef\u001b[0m \u001b[0m_raise_linalgerror_singular\u001b[0m\u001b[0;34m(\u001b[0m\u001b[0merr\u001b[0m\u001b[0;34m,\u001b[0m \u001b[0mflag\u001b[0m\u001b[0;34m)\u001b[0m\u001b[0;34m:\u001b[0m\u001b[0;34m\u001b[0m\u001b[0;34m\u001b[0m\u001b[0m\n\u001b[0;32m---> 97\u001b[0;31m     \u001b[0;32mraise\u001b[0m \u001b[0mLinAlgError\u001b[0m\u001b[0;34m(\u001b[0m\u001b[0;34m\"Singular matrix\"\u001b[0m\u001b[0;34m)\u001b[0m\u001b[0;34m\u001b[0m\u001b[0;34m\u001b[0m\u001b[0m\n\u001b[0m\u001b[1;32m     98\u001b[0m \u001b[0;34m\u001b[0m\u001b[0m\n\u001b[1;32m     99\u001b[0m \u001b[0;32mdef\u001b[0m \u001b[0m_raise_linalgerror_nonposdef\u001b[0m\u001b[0;34m(\u001b[0m\u001b[0merr\u001b[0m\u001b[0;34m,\u001b[0m \u001b[0mflag\u001b[0m\u001b[0;34m)\u001b[0m\u001b[0;34m:\u001b[0m\u001b[0;34m\u001b[0m\u001b[0;34m\u001b[0m\u001b[0m\n",
      "\u001b[0;31mLinAlgError\u001b[0m: Singular matrix"
     ]
    }
   ],
   "source": [
    "lr2.fit(X2, y2)"
   ]
  },
  {
   "cell_type": "markdown",
   "metadata": {},
   "source": [
    "* Erros due to correlated columns, one way to go through is calculating the pseudo inverse"
   ]
  },
  {
   "cell_type": "code",
   "execution_count": 17,
   "metadata": {},
   "outputs": [
    {
     "data": {
      "text/plain": [
       "array([0.50075054, 0.50075054, 1.00150108])"
      ]
     },
     "execution_count": 17,
     "metadata": {},
     "output_type": "execute_result"
    }
   ],
   "source": [
    "lr2.fit(X2, y2, pinv=True)"
   ]
  },
  {
   "cell_type": "code",
   "execution_count": 18,
   "metadata": {},
   "outputs": [
    {
     "data": {
      "text/plain": [
       "3.0045032293615934"
      ]
     },
     "execution_count": 18,
     "metadata": {},
     "output_type": "execute_result"
    }
   ],
   "source": [
    "lr2.predict([1, 2])"
   ]
  },
  {
   "cell_type": "markdown",
   "metadata": {},
   "source": [
    "### real database"
   ]
  },
  {
   "cell_type": "code",
   "execution_count": 19,
   "metadata": {},
   "outputs": [],
   "source": [
    "from sklearn.datasets import load_iris, load_breast_cancer"
   ]
  },
  {
   "cell_type": "code",
   "execution_count": 20,
   "metadata": {},
   "outputs": [],
   "source": [
    "np.random.seed(42)"
   ]
  },
  {
   "cell_type": "code",
   "execution_count": 21,
   "metadata": {},
   "outputs": [],
   "source": [
    "X_breast,y_breast = load_breast_cancer(return_X_y=True)"
   ]
  },
  {
   "cell_type": "code",
   "execution_count": 22,
   "metadata": {
    "scrolled": true
   },
   "outputs": [
    {
     "data": {
      "text/plain": [
       "(569, 30)"
      ]
     },
     "execution_count": 22,
     "metadata": {},
     "output_type": "execute_result"
    }
   ],
   "source": [
    "X_breast.shape"
   ]
  },
  {
   "cell_type": "code",
   "execution_count": 23,
   "metadata": {
    "scrolled": true
   },
   "outputs": [
    {
     "data": {
      "text/plain": [
       "(569,)"
      ]
     },
     "execution_count": 23,
     "metadata": {},
     "output_type": "execute_result"
    }
   ],
   "source": [
    "y_breast.shape"
   ]
  },
  {
   "cell_type": "code",
   "execution_count": 24,
   "metadata": {},
   "outputs": [
    {
     "data": {
      "text/plain": [
       "(569, 31)"
      ]
     },
     "execution_count": 24,
     "metadata": {},
     "output_type": "execute_result"
    }
   ],
   "source": [
    "breast_cancer_dataset = np.insert(X_breast, X_breast.shape[1], y_breast, axis=1)\n",
    "breast_cancer_dataset.shape"
   ]
  },
  {
   "cell_type": "code",
   "execution_count": 25,
   "metadata": {},
   "outputs": [],
   "source": [
    "np.random.shuffle(breast_cancer_dataset)"
   ]
  },
  {
   "cell_type": "code",
   "execution_count": 26,
   "metadata": {},
   "outputs": [
    {
     "data": {
      "text/plain": [
       "(569, 31)"
      ]
     },
     "execution_count": 26,
     "metadata": {},
     "output_type": "execute_result"
    }
   ],
   "source": [
    "breast_cancer_dataset.shape"
   ]
  },
  {
   "cell_type": "code",
   "execution_count": 27,
   "metadata": {},
   "outputs": [
    {
     "data": {
      "text/plain": [
       "(530, 31)"
      ]
     },
     "execution_count": 27,
     "metadata": {},
     "output_type": "execute_result"
    }
   ],
   "source": [
    "train_set = breast_cancer_dataset[:530]\n",
    "train_set.shape"
   ]
  },
  {
   "cell_type": "code",
   "execution_count": 28,
   "metadata": {},
   "outputs": [
    {
     "data": {
      "text/plain": [
       "(39, 31)"
      ]
     },
     "execution_count": 28,
     "metadata": {},
     "output_type": "execute_result"
    }
   ],
   "source": [
    "test_set = breast_cancer_dataset[530:]\n",
    "test_set.shape"
   ]
  },
  {
   "cell_type": "code",
   "execution_count": 29,
   "metadata": {
    "scrolled": true
   },
   "outputs": [
    {
     "name": "stdout",
     "output_type": "stream",
     "text": [
      "(530, 30) \n",
      " (530,)\n"
     ]
    }
   ],
   "source": [
    "X_train, y_train = train_set[:,:30], train_set[:,-1]\n",
    "print(X_train.shape, \"\\n\",y_train.shape)"
   ]
  },
  {
   "cell_type": "code",
   "execution_count": 30,
   "metadata": {},
   "outputs": [
    {
     "name": "stdout",
     "output_type": "stream",
     "text": [
      "(39, 30) \n",
      " (39,)\n"
     ]
    }
   ],
   "source": [
    "X_test, y_test = test_set[:,:30], test_set[:,-1]\n",
    "print(X_test.shape, \"\\n\",y_test.shape)"
   ]
  },
  {
   "cell_type": "code",
   "execution_count": 31,
   "metadata": {},
   "outputs": [],
   "source": [
    "lr3 = LinearRegression()"
   ]
  },
  {
   "cell_type": "code",
   "execution_count": 32,
   "metadata": {},
   "outputs": [
    {
     "data": {
      "text/plain": [
       "array([ 2.98138703e+00,  1.66052735e-01, -7.95833945e-03, -1.64299058e-02,\n",
       "       -2.78771833e-04,  4.59180117e-03,  3.55216500e+00, -1.55700652e+00,\n",
       "       -1.55677866e+00, -9.20449605e-02,  3.21729801e+00, -4.47340609e-01,\n",
       "        2.86419452e-03,  2.08389151e-02,  9.89951065e-04, -1.50522111e+01,\n",
       "        4.86825779e-01,  3.36112709e+00, -1.09886925e+01, -2.68350513e+00,\n",
       "        1.12946630e+01, -1.97167639e-01, -5.05767537e-03,  2.96539457e-03,\n",
       "        9.96599344e-04, -6.68910603e-01,  1.89288509e-02, -4.06618832e-01,\n",
       "       -4.06044512e-01, -4.72963544e-01, -5.58660442e+00])"
      ]
     },
     "execution_count": 32,
     "metadata": {},
     "output_type": "execute_result"
    }
   ],
   "source": [
    "lr3.fit(X_train, y_train)"
   ]
  },
  {
   "cell_type": "code",
   "execution_count": 33,
   "metadata": {},
   "outputs": [],
   "source": [
    "y_pred = lr3.predict(X_test)"
   ]
  },
  {
   "cell_type": "code",
   "execution_count": 34,
   "metadata": {},
   "outputs": [
    {
     "data": {
      "text/plain": [
       "0.05468007839899052"
      ]
     },
     "execution_count": 34,
     "metadata": {},
     "output_type": "execute_result"
    }
   ],
   "source": [
    "mse(y_test, y_pred)"
   ]
  },
  {
   "cell_type": "code",
   "execution_count": 35,
   "metadata": {
    "scrolled": false
   },
   "outputs": [
    {
     "name": "stdout",
     "output_type": "stream",
     "text": [
      "real = 1.0 predicted = 0.9588469449417425\n",
      "real = 1.0 predicted = 1.2130753702572001\n",
      "real = 0.0 predicted = -0.15107299165410604\n",
      "real = 1.0 predicted = 0.7058384310126482\n",
      "real = 1.0 predicted = 0.7255783401265514\n",
      "real = 1.0 predicted = 1.1931227611440174\n",
      "real = 1.0 predicted = 0.8519273650919374\n",
      "real = 1.0 predicted = 1.0945338824282227\n",
      "real = 1.0 predicted = 0.8834561879541742\n",
      "real = 1.0 predicted = 0.972540777906302\n",
      "real = 1.0 predicted = 0.9427805694384017\n",
      "real = 1.0 predicted = 1.0875409772320794\n",
      "real = 0.0 predicted = -0.3843998927895975\n",
      "real = 1.0 predicted = 1.1500305175964367\n",
      "real = 1.0 predicted = 1.2230480677916873\n",
      "real = 1.0 predicted = 1.0438041629429422\n",
      "real = 1.0 predicted = 0.8361557309856069\n",
      "real = 1.0 predicted = 1.1155767343618397\n",
      "real = 1.0 predicted = 0.8276986031831406\n",
      "real = 0.0 predicted = 0.4330782180242605\n",
      "real = 1.0 predicted = 0.5419091887401639\n",
      "real = 1.0 predicted = 0.7322288047297554\n",
      "real = 0.0 predicted = -0.13117762487675266\n",
      "real = 1.0 predicted = 1.1020185978814239\n",
      "real = 1.0 predicted = 0.9623655163218872\n",
      "real = 0.0 predicted = 0.493769335343456\n",
      "real = 0.0 predicted = 0.2491610571001659\n",
      "real = 0.0 predicted = -0.3427152544492986\n",
      "real = 1.0 predicted = 0.8467891207340452\n",
      "real = 0.0 predicted = 0.35694100035045384\n",
      "real = 0.0 predicted = 0.014296070577309195\n",
      "real = 1.0 predicted = 0.6795428631292002\n",
      "real = 0.0 predicted = 0.1142554078198108\n",
      "real = 1.0 predicted = 1.0419693992260015\n",
      "real = 1.0 predicted = 1.3692662060961855\n",
      "real = 1.0 predicted = 0.6912338034364724\n",
      "real = 1.0 predicted = 1.0404441190053155\n",
      "real = 0.0 predicted = 0.2650753831172046\n",
      "real = 1.0 predicted = 0.8522372223125632\n"
     ]
    }
   ],
   "source": [
    "for i in range(len(y_test)):\n",
    "    print(f\"real = {y_test[i]} predicted = {y_pred[i]}\")"
   ]
  },
  {
   "cell_type": "markdown",
   "metadata": {},
   "source": [
    "### coeficient significance"
   ]
  },
  {
   "cell_type": "code",
   "execution_count": 37,
   "metadata": {},
   "outputs": [],
   "source": [
    "alpha = lr.variance(X, y)"
   ]
  }
 ],
 "metadata": {
  "kernelspec": {
   "display_name": "Python 3",
   "language": "python",
   "name": "python3"
  },
  "language_info": {
   "codemirror_mode": {
    "name": "ipython",
    "version": 3
   },
   "file_extension": ".py",
   "mimetype": "text/x-python",
   "name": "python",
   "nbconvert_exporter": "python",
   "pygments_lexer": "ipython3",
   "version": "3.7.5"
  }
 },
 "nbformat": 4,
 "nbformat_minor": 2
}
