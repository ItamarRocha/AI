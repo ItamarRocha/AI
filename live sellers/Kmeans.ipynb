{
 "cells": [
  {
   "cell_type": "code",
   "execution_count": 2,
   "metadata": {},
   "outputs": [],
   "source": [
    "import pandas as pd\n",
    "import numpy as np\n",
    "import matplotlib.pyplot as plt\n",
    "from datetime import datetime as dt"
   ]
  },
  {
   "cell_type": "markdown",
   "metadata": {},
   "source": [
    "# PREPROCESSING"
   ]
  },
  {
   "cell_type": "code",
   "execution_count": 3,
   "metadata": {},
   "outputs": [],
   "source": [
    "dataset = pd.read_csv(\"Live.csv\").drop(columns = {'status_id','Column1','Column2','Column3','Column4'})\n",
    "dataset['status_type'].value_counts()\n",
    "dataset['status_published'] = dataset['status_published'].astype(str).str.replace(\"/\",\"-\")\n",
    "dataset['status_published'] = pd.to_datetime(dataset['status_published'])"
   ]
  },
  {
   "cell_type": "code",
   "execution_count": 4,
   "metadata": {
    "scrolled": true
   },
   "outputs": [
    {
     "data": {
      "text/html": [
       "<div>\n",
       "<style scoped>\n",
       "    .dataframe tbody tr th:only-of-type {\n",
       "        vertical-align: middle;\n",
       "    }\n",
       "\n",
       "    .dataframe tbody tr th {\n",
       "        vertical-align: top;\n",
       "    }\n",
       "\n",
       "    .dataframe thead th {\n",
       "        text-align: right;\n",
       "    }\n",
       "</style>\n",
       "<table border=\"1\" class=\"dataframe\">\n",
       "  <thead>\n",
       "    <tr style=\"text-align: right;\">\n",
       "      <th></th>\n",
       "      <th>status_type</th>\n",
       "      <th>status_published</th>\n",
       "      <th>num_reactions</th>\n",
       "      <th>num_comments</th>\n",
       "      <th>num_shares</th>\n",
       "      <th>num_likes</th>\n",
       "      <th>num_loves</th>\n",
       "      <th>num_wows</th>\n",
       "      <th>num_hahas</th>\n",
       "      <th>num_sads</th>\n",
       "      <th>num_angrys</th>\n",
       "    </tr>\n",
       "  </thead>\n",
       "  <tbody>\n",
       "    <tr>\n",
       "      <th>0</th>\n",
       "      <td>video</td>\n",
       "      <td>2018-04-22 06:00:00</td>\n",
       "      <td>529</td>\n",
       "      <td>512</td>\n",
       "      <td>262</td>\n",
       "      <td>432</td>\n",
       "      <td>92</td>\n",
       "      <td>3</td>\n",
       "      <td>1</td>\n",
       "      <td>1</td>\n",
       "      <td>0</td>\n",
       "    </tr>\n",
       "    <tr>\n",
       "      <th>1</th>\n",
       "      <td>photo</td>\n",
       "      <td>2018-04-21 22:45:00</td>\n",
       "      <td>150</td>\n",
       "      <td>0</td>\n",
       "      <td>0</td>\n",
       "      <td>150</td>\n",
       "      <td>0</td>\n",
       "      <td>0</td>\n",
       "      <td>0</td>\n",
       "      <td>0</td>\n",
       "      <td>0</td>\n",
       "    </tr>\n",
       "    <tr>\n",
       "      <th>2</th>\n",
       "      <td>video</td>\n",
       "      <td>2018-04-21 06:17:00</td>\n",
       "      <td>227</td>\n",
       "      <td>236</td>\n",
       "      <td>57</td>\n",
       "      <td>204</td>\n",
       "      <td>21</td>\n",
       "      <td>1</td>\n",
       "      <td>1</td>\n",
       "      <td>0</td>\n",
       "      <td>0</td>\n",
       "    </tr>\n",
       "    <tr>\n",
       "      <th>3</th>\n",
       "      <td>photo</td>\n",
       "      <td>2018-04-21 02:29:00</td>\n",
       "      <td>111</td>\n",
       "      <td>0</td>\n",
       "      <td>0</td>\n",
       "      <td>111</td>\n",
       "      <td>0</td>\n",
       "      <td>0</td>\n",
       "      <td>0</td>\n",
       "      <td>0</td>\n",
       "      <td>0</td>\n",
       "    </tr>\n",
       "    <tr>\n",
       "      <th>4</th>\n",
       "      <td>photo</td>\n",
       "      <td>2018-04-18 03:22:00</td>\n",
       "      <td>213</td>\n",
       "      <td>0</td>\n",
       "      <td>0</td>\n",
       "      <td>204</td>\n",
       "      <td>9</td>\n",
       "      <td>0</td>\n",
       "      <td>0</td>\n",
       "      <td>0</td>\n",
       "      <td>0</td>\n",
       "    </tr>\n",
       "  </tbody>\n",
       "</table>\n",
       "</div>"
      ],
      "text/plain": [
       "  status_type    status_published  num_reactions  num_comments  num_shares  \\\n",
       "0       video 2018-04-22 06:00:00            529           512         262   \n",
       "1       photo 2018-04-21 22:45:00            150             0           0   \n",
       "2       video 2018-04-21 06:17:00            227           236          57   \n",
       "3       photo 2018-04-21 02:29:00            111             0           0   \n",
       "4       photo 2018-04-18 03:22:00            213             0           0   \n",
       "\n",
       "   num_likes  num_loves  num_wows  num_hahas  num_sads  num_angrys  \n",
       "0        432         92         3          1         1           0  \n",
       "1        150          0         0          0         0           0  \n",
       "2        204         21         1          1         0           0  \n",
       "3        111          0         0          0         0           0  \n",
       "4        204          9         0          0         0           0  "
      ]
     },
     "execution_count": 4,
     "metadata": {},
     "output_type": "execute_result"
    }
   ],
   "source": [
    "dataset.head()"
   ]
  },
  {
   "cell_type": "code",
   "execution_count": 5,
   "metadata": {},
   "outputs": [],
   "source": [
    "dataset['day'] = dataset['status_published'].dt.day\n",
    "dataset['month'] = dataset['status_published'].dt.month\n",
    "dataset['hour'] = dataset['status_published'].dt.hour\n",
    "dataset['minute'] = dataset['status_published'].dt.minute"
   ]
  },
  {
   "cell_type": "code",
   "execution_count": 6,
   "metadata": {},
   "outputs": [],
   "source": [
    "from sklearn.preprocessing import LabelEncoder\n",
    "encoder = LabelEncoder()\n",
    "dataset['status_type'] = encoder.fit_transform(dataset['status_type'])\n",
    "\n",
    "dataset = dataset.drop(columns = {'status_published'})"
   ]
  },
  {
   "cell_type": "code",
   "execution_count": 7,
   "metadata": {
    "scrolled": true
   },
   "outputs": [
    {
     "data": {
      "text/html": [
       "<div>\n",
       "<style scoped>\n",
       "    .dataframe tbody tr th:only-of-type {\n",
       "        vertical-align: middle;\n",
       "    }\n",
       "\n",
       "    .dataframe tbody tr th {\n",
       "        vertical-align: top;\n",
       "    }\n",
       "\n",
       "    .dataframe thead th {\n",
       "        text-align: right;\n",
       "    }\n",
       "</style>\n",
       "<table border=\"1\" class=\"dataframe\">\n",
       "  <thead>\n",
       "    <tr style=\"text-align: right;\">\n",
       "      <th></th>\n",
       "      <th>status_type</th>\n",
       "      <th>num_reactions</th>\n",
       "      <th>num_comments</th>\n",
       "      <th>num_shares</th>\n",
       "      <th>num_likes</th>\n",
       "      <th>num_loves</th>\n",
       "      <th>num_wows</th>\n",
       "      <th>num_hahas</th>\n",
       "      <th>num_sads</th>\n",
       "      <th>num_angrys</th>\n",
       "      <th>day</th>\n",
       "      <th>month</th>\n",
       "      <th>hour</th>\n",
       "      <th>minute</th>\n",
       "    </tr>\n",
       "  </thead>\n",
       "  <tbody>\n",
       "    <tr>\n",
       "      <th>0</th>\n",
       "      <td>3</td>\n",
       "      <td>529</td>\n",
       "      <td>512</td>\n",
       "      <td>262</td>\n",
       "      <td>432</td>\n",
       "      <td>92</td>\n",
       "      <td>3</td>\n",
       "      <td>1</td>\n",
       "      <td>1</td>\n",
       "      <td>0</td>\n",
       "      <td>22</td>\n",
       "      <td>4</td>\n",
       "      <td>6</td>\n",
       "      <td>0</td>\n",
       "    </tr>\n",
       "    <tr>\n",
       "      <th>1</th>\n",
       "      <td>1</td>\n",
       "      <td>150</td>\n",
       "      <td>0</td>\n",
       "      <td>0</td>\n",
       "      <td>150</td>\n",
       "      <td>0</td>\n",
       "      <td>0</td>\n",
       "      <td>0</td>\n",
       "      <td>0</td>\n",
       "      <td>0</td>\n",
       "      <td>21</td>\n",
       "      <td>4</td>\n",
       "      <td>22</td>\n",
       "      <td>45</td>\n",
       "    </tr>\n",
       "    <tr>\n",
       "      <th>2</th>\n",
       "      <td>3</td>\n",
       "      <td>227</td>\n",
       "      <td>236</td>\n",
       "      <td>57</td>\n",
       "      <td>204</td>\n",
       "      <td>21</td>\n",
       "      <td>1</td>\n",
       "      <td>1</td>\n",
       "      <td>0</td>\n",
       "      <td>0</td>\n",
       "      <td>21</td>\n",
       "      <td>4</td>\n",
       "      <td>6</td>\n",
       "      <td>17</td>\n",
       "    </tr>\n",
       "    <tr>\n",
       "      <th>3</th>\n",
       "      <td>1</td>\n",
       "      <td>111</td>\n",
       "      <td>0</td>\n",
       "      <td>0</td>\n",
       "      <td>111</td>\n",
       "      <td>0</td>\n",
       "      <td>0</td>\n",
       "      <td>0</td>\n",
       "      <td>0</td>\n",
       "      <td>0</td>\n",
       "      <td>21</td>\n",
       "      <td>4</td>\n",
       "      <td>2</td>\n",
       "      <td>29</td>\n",
       "    </tr>\n",
       "    <tr>\n",
       "      <th>4</th>\n",
       "      <td>1</td>\n",
       "      <td>213</td>\n",
       "      <td>0</td>\n",
       "      <td>0</td>\n",
       "      <td>204</td>\n",
       "      <td>9</td>\n",
       "      <td>0</td>\n",
       "      <td>0</td>\n",
       "      <td>0</td>\n",
       "      <td>0</td>\n",
       "      <td>18</td>\n",
       "      <td>4</td>\n",
       "      <td>3</td>\n",
       "      <td>22</td>\n",
       "    </tr>\n",
       "  </tbody>\n",
       "</table>\n",
       "</div>"
      ],
      "text/plain": [
       "   status_type  num_reactions  num_comments  num_shares  num_likes  num_loves  \\\n",
       "0            3            529           512         262        432         92   \n",
       "1            1            150             0           0        150          0   \n",
       "2            3            227           236          57        204         21   \n",
       "3            1            111             0           0        111          0   \n",
       "4            1            213             0           0        204          9   \n",
       "\n",
       "   num_wows  num_hahas  num_sads  num_angrys  day  month  hour  minute  \n",
       "0         3          1         1           0   22      4     6       0  \n",
       "1         0          0         0           0   21      4    22      45  \n",
       "2         1          1         0           0   21      4     6      17  \n",
       "3         0          0         0           0   21      4     2      29  \n",
       "4         0          0         0           0   18      4     3      22  "
      ]
     },
     "execution_count": 7,
     "metadata": {},
     "output_type": "execute_result"
    }
   ],
   "source": [
    "dataset.head()"
   ]
  },
  {
   "cell_type": "markdown",
   "metadata": {},
   "source": [
    "reduzindo a dimensionalidade"
   ]
  },
  {
   "cell_type": "code",
   "execution_count": 8,
   "metadata": {},
   "outputs": [],
   "source": [
    "from sklearn.decomposition import PCA\n",
    "pca = PCA(n_components = 2)\n",
    "X = pca.fit_transform(dataset)\n",
    "explained_variance = pca.explained_variance_ratio_"
   ]
  },
  {
   "cell_type": "code",
   "execution_count": 9,
   "metadata": {},
   "outputs": [
    {
     "data": {
      "text/plain": [
       "0.9900316764241575"
      ]
     },
     "execution_count": 9,
     "metadata": {},
     "output_type": "execute_result"
    }
   ],
   "source": [
    "explained_variance.sum()"
   ]
  },
  {
   "cell_type": "code",
   "execution_count": 10,
   "metadata": {},
   "outputs": [
    {
     "data": {
      "text/plain": [
       "array([[ 372.69830115,  308.23995398],\n",
       "       [-242.60414041,  -59.76208396],\n",
       "       [  11.51216706,  -11.73244031],\n",
       "       ...,\n",
       "       [-281.03712429, -266.13524899],\n",
       "       [-176.79506927,  216.13990972],\n",
       "       [-277.08346764, -244.58325588]])"
      ]
     },
     "execution_count": 10,
     "metadata": {},
     "output_type": "execute_result"
    }
   ],
   "source": [
    "X"
   ]
  },
  {
   "cell_type": "markdown",
   "metadata": {},
   "source": [
    "vemos que o PCA nesse caso foi de grande utilidade, visto que transformou um dataframe com dimensão 10 em um de 2 dimensões preservando a variância quase que por completo"
   ]
  },
  {
   "cell_type": "markdown",
   "metadata": {},
   "source": [
    "# Inicializando com K-means++ "
   ]
  },
  {
   "cell_type": "code",
   "execution_count": 11,
   "metadata": {},
   "outputs": [],
   "source": [
    "from sklearn.cluster import KMeans\n",
    "from sklearn.metrics import silhouette_score"
   ]
  },
  {
   "cell_type": "markdown",
   "metadata": {},
   "source": [
    "vamos variar o número de clusters do KMeans e ver como varia o wcss (within-cluster sums of squares)"
   ]
  },
  {
   "cell_type": "code",
   "execution_count": 12,
   "metadata": {
    "scrolled": false
   },
   "outputs": [
    {
     "data": {
      "image/png": "[encoded data removed]",
      "text/plain": [
       "<Figure size 432x288 with 1 Axes>"
      ]
     },
     "metadata": {
      "needs_background": "light"
     },
     "output_type": "display_data"
    }
   ],
   "source": [
    "wcss = []\n",
    "for i in range(1, 11):\n",
    "    kmeansPP = KMeans(n_clusters = i, init = 'k-means++', random_state = 0)\n",
    "    kmeansPP.fit(X)\n",
    "    wcss.append(kmeansPP.inertia_)\n",
    "plt.plot(range(1, 11), wcss)\n",
    "plt.title('The Elbow Method')\n",
    "plt.xlabel('Number of clusters')\n",
    "plt.ylabel('WCSS')\n",
    "plt.show()"
   ]
  },
  {
   "cell_type": "markdown",
   "metadata": {},
   "source": [
    "É visível que o decaimento do WCSS começa a ser mais discreto quando o número de clusters passa de 4, mas fica difícil distinguir se o número certo seria 3 ou 4 clusters. Para isso vamos utilizar da silhouette score para desempatar entre esses dois"
   ]
  },
  {
   "cell_type": "code",
   "execution_count": 13,
   "metadata": {
    "scrolled": true
   },
   "outputs": [
    {
     "data": {
      "image/png": "[encoded data removed]",
      "text/plain": [
       "<Figure size 432x288 with 1 Axes>"
      ]
     },
     "metadata": {
      "needs_background": "light"
     },
     "output_type": "display_data"
    },
    {
     "name": "stdout",
     "output_type": "stream",
     "text": [
      "[0.8730734506785333, 0.8142405857867846, 0.8199480066503121, 0.7840782113944493, 0.7650059521977578, 0.7662845017976804, 0.7655413281587189, 0.6632710096674763]\n"
     ]
    }
   ],
   "source": [
    "sil = []\n",
    "for i in range(2, 10):\n",
    "    kmeansPP = KMeans(n_clusters = i, init = 'k-means++', random_state = 0).fit(X)\n",
    "    labels = kmeansPP.labels_\n",
    "    sil.append(silhouette_score(X, labels, metric = 'euclidean'))\n",
    "    #print(sil)\n",
    "plt.plot(range(2, 10), sil)\n",
    "plt.xlabel('Number of clusters')\n",
    "plt.ylabel('Silhouette Score')\n",
    "plt.show()\n",
    "print(sil)"
   ]
  },
  {
   "cell_type": "markdown",
   "metadata": {},
   "source": [
    "a sihlouette score do 4 ficou maior, logo, ficaremos com o valor de 4 clusters"
   ]
  },
  {
   "cell_type": "code",
   "execution_count": 21,
   "metadata": {},
   "outputs": [],
   "source": [
    "kmeansPP = KMeans(n_clusters = 4, init = 'k-means++', random_state = 29)\n",
    "y_kmeansPP = kmeansPP.fit_predict(X)"
   ]
  },
  {
   "cell_type": "code",
   "execution_count": 22,
   "metadata": {
    "scrolled": false
   },
   "outputs": [
    {
     "data": {
      "text/plain": [
       "0    6327\n",
       "1     460\n",
       "2     223\n",
       "3      40\n",
       "Name: 0, dtype: int64"
      ]
     },
     "execution_count": 22,
     "metadata": {},
     "output_type": "execute_result"
    }
   ],
   "source": [
    "pd.DataFrame(y_kmeansPP)[0].value_counts()"
   ]
  },
  {
   "cell_type": "code",
   "execution_count": 23,
   "metadata": {},
   "outputs": [
    {
     "data": {
      "text/plain": [
       "array([0, 0, 0, ..., 0, 0, 0], dtype=int32)"
      ]
     },
     "execution_count": 23,
     "metadata": {},
     "output_type": "execute_result"
    }
   ],
   "source": [
    "y_kmeansPP"
   ]
  },
  {
   "cell_type": "code",
   "execution_count": 24,
   "metadata": {},
   "outputs": [
    {
     "data": {
      "image/png": "[encoded data removed]",
      "text/plain": [
       "<Figure size 432x288 with 1 Axes>"
      ]
     },
     "metadata": {
      "needs_background": "light"
     },
     "output_type": "display_data"
    }
   ],
   "source": [
    "plt.figure(2)\n",
    "plt.scatter(X[y_kmeansPP == 0, 0], X[y_kmeansPP == 0, 1], s = 50, c = 'red', label = 'Cluster 1')\n",
    "plt.scatter(X[y_kmeansPP == 1, 0], X[y_kmeansPP == 1, 1], s = 50, c = 'blue', label = 'Cluster 2')\n",
    "plt.scatter(X[y_kmeansPP == 2, 0], X[y_kmeansPP == 2, 1], s = 50, c = 'green', label = 'Cluster 3')\n",
    "plt.scatter(X[y_kmeansPP == 3, 0], X[y_kmeansPP == 3, 1], s = 50, c = 'cyan', label = 'Cluster 4')\n",
    "#plt.scatter(X[y_kmeansPP == 4, 0], X[y_kmeansPP == 4, 1], s = 50, c = 'magenta', label = 'Cluster 5')\n",
    "plt.scatter(kmeansPP.cluster_centers_[:, 0], kmeansPP.cluster_centers_[:, 1], s = 80, c = 'yellow', label = 'Centroids')\n",
    "plt.title('Clusters')\n",
    "plt.xlabel('PC2')\n",
    "plt.ylabel('PC1')\n",
    "plt.legend()\n",
    "plt.show()"
   ]
  },
  {
   "cell_type": "markdown",
   "metadata": {},
   "source": [
    "# Inicializando aleatoriamente "
   ]
  },
  {
   "cell_type": "markdown",
   "metadata": {},
   "source": [
    "vamos variar o número de clusters do KMeans e ver como varia o wcss (within-cluster sums of squares)"
   ]
  },
  {
   "cell_type": "code",
   "execution_count": 86,
   "metadata": {
    "scrolled": false
   },
   "outputs": [
    {
     "data": {
      "image/png": "[encoded data removed]",
      "text/plain": [
       "<Figure size 432x288 with 1 Axes>"
      ]
     },
     "metadata": {
      "needs_background": "light"
     },
     "output_type": "display_data"
    }
   ],
   "source": [
    "wcss = []\n",
    "for i in range(1, 11):\n",
    "    kmeansR= KMeans(n_clusters = i, init = 'random', random_state = 42)\n",
    "    kmeansR.fit(X)\n",
    "    wcss.append(kmeansR.inertia_)\n",
    "plt.plot(range(1, 11), wcss)\n",
    "plt.title('The Elbow Method')\n",
    "plt.xlabel('Number of clusters')\n",
    "plt.ylabel('WCSS')\n",
    "plt.show()"
   ]
  },
  {
   "cell_type": "code",
   "execution_count": 87,
   "metadata": {},
   "outputs": [
    {
     "data": {
      "image/png": "[encoded data removed]",
      "text/plain": [
       "<Figure size 432x288 with 1 Axes>"
      ]
     },
     "metadata": {
      "needs_background": "light"
     },
     "output_type": "display_data"
    },
    {
     "name": "stdout",
     "output_type": "stream",
     "text": [
      "[0.8203410223957377, 0.8142405857867845, 0.8156717991900972, 0.7827751571376436, 0.7735590977776858, 0.7715383824562414, 0.6598408656503573, 0.6640528526082106]\n"
     ]
    }
   ],
   "source": [
    "sil = []\n",
    "for i in range(2, 10):\n",
    "    kmeansR = KMeans(n_clusters = i, init = 'random', random_state = 42).fit(X)\n",
    "    labels = kmeansR.labels_\n",
    "    sil.append(silhouette_score(X, labels, metric = 'euclidean'))\n",
    "    #print(sil)\n",
    "plt.plot(range(2, 10), sil)\n",
    "plt.xlabel('Number of clusters')\n",
    "plt.ylabel('Silhouette Score')\n",
    "plt.show()\n",
    "print(sil)"
   ]
  },
  {
   "cell_type": "markdown",
   "metadata": {},
   "source": [
    "É visível que o decaimento do WCSS começa a ser mais discreto quando o número de clusters passa de 4"
   ]
  },
  {
   "cell_type": "code",
   "execution_count": 88,
   "metadata": {},
   "outputs": [],
   "source": [
    "kmeansR = KMeans(n_clusters = 4, init = 'random', random_state = 42)\n",
    "y_kmeansR = kmeansR.fit_predict(X)"
   ]
  },
  {
   "cell_type": "code",
   "execution_count": 89,
   "metadata": {
    "scrolled": false
   },
   "outputs": [
    {
     "data": {
      "text/plain": [
       "1    6255\n",
       "2     426\n",
       "3     311\n",
       "0      58\n",
       "Name: 0, dtype: int64"
      ]
     },
     "execution_count": 89,
     "metadata": {},
     "output_type": "execute_result"
    }
   ],
   "source": [
    "pd.DataFrame(y_kmeansR)[0].value_counts()"
   ]
  },
  {
   "cell_type": "code",
   "execution_count": 90,
   "metadata": {},
   "outputs": [
    {
     "data": {
      "text/plain": [
       "array([1, 1, 1, ..., 1, 1, 1], dtype=int32)"
      ]
     },
     "execution_count": 90,
     "metadata": {},
     "output_type": "execute_result"
    }
   ],
   "source": [
    "y_kmeansR"
   ]
  },
  {
   "cell_type": "code",
   "execution_count": 91,
   "metadata": {
    "scrolled": true
   },
   "outputs": [
    {
     "data": {
      "image/png": "[encoded data removed]",
      "text/plain": [
       "<Figure size 432x288 with 1 Axes>"
      ]
     },
     "metadata": {
      "needs_background": "light"
     },
     "output_type": "display_data"
    }
   ],
   "source": [
    "plt.figure(2)\n",
    "plt.scatter(X[y_kmeansR == 0, 0], X[y_kmeansR == 0, 1], s = 50, c = 'red', label = 'Cluster 1')\n",
    "plt.scatter(X[y_kmeansR == 1, 0], X[y_kmeansR == 1, 1], s = 50, c = 'blue', label = 'Cluster 2')\n",
    "plt.scatter(X[y_kmeansR == 2, 0], X[y_kmeansR == 2, 1], s = 50, c = 'green', label = 'Cluster 3')\n",
    "plt.scatter(X[y_kmeansR == 3, 0], X[y_kmeansR == 3, 1], s = 50, c = 'cyan', label = 'Cluster 4')\n",
    "#plt.scatter(X[y_kmeansR == 4, 0], X[y_kmeansR == 4, 1], s = 50, c = 'magenta', label = 'Cluster 5')\n",
    "plt.scatter(kmeansR.cluster_centers_[:, 0], kmeansR.cluster_centers_[:, 1], s = 80, c = 'yellow', label = 'Centroids')\n",
    "plt.title('Clusters')\n",
    "plt.xlabel('PC2')\n",
    "plt.ylabel('PC1')\n",
    "plt.legend()\n",
    "plt.show()"
   ]
  },
  {
   "cell_type": "markdown",
   "metadata": {},
   "source": [
    "Assim ficou a distribuição do nosso cluster com KMeans inicializado aleatoriamente."
   ]
  },
  {
   "cell_type": "markdown",
   "metadata": {},
   "source": [
    "# Comparando os Kmeans "
   ]
  },
  {
   "cell_type": "code",
   "execution_count": 92,
   "metadata": {
    "scrolled": true
   },
   "outputs": [
    {
     "data": {
      "text/plain": [
       "0    6327\n",
       "3     460\n",
       "2     223\n",
       "1      40\n",
       "dtype: int64"
      ]
     },
     "execution_count": 92,
     "metadata": {},
     "output_type": "execute_result"
    }
   ],
   "source": [
    "pd.Series(y_kmeansPP).value_counts()"
   ]
  },
  {
   "cell_type": "code",
   "execution_count": 93,
   "metadata": {
    "scrolled": true
   },
   "outputs": [
    {
     "data": {
      "text/plain": [
       "1    6255\n",
       "2     426\n",
       "3     311\n",
       "0      58\n",
       "dtype: int64"
      ]
     },
     "execution_count": 93,
     "metadata": {},
     "output_type": "execute_result"
    }
   ],
   "source": [
    "pd.Series(y_kmeansR).value_counts()"
   ]
  },
  {
   "cell_type": "markdown",
   "metadata": {},
   "source": [
    "Podemos ver que tirando o fato que o algoritmo tenha dado nomes diferentes aos clusters, podemos ver no gráfico que eles se localizam na mesma região e possuem a mesma forma, com pequenas diferenças no número de pontos dentro deles"
   ]
  },
  {
   "cell_type": "code",
   "execution_count": 94,
   "metadata": {},
   "outputs": [],
   "source": [
    "np.set_printoptions(suppress=True)"
   ]
  },
  {
   "cell_type": "markdown",
   "metadata": {},
   "source": [
    "kmeansR.cluster_centers_.sort()"
   ]
  },
  {
   "cell_type": "code",
   "execution_count": 95,
   "metadata": {
    "scrolled": true
   },
   "outputs": [
    {
     "data": {
      "text/plain": [
       "array([[7228.53843796, -886.5113629 ],\n",
       "       [-188.89865284, -133.97912318],\n",
       "       [ 324.06500219, 2128.44973919],\n",
       "       [1993.21519439,  -56.00789961]])"
      ]
     },
     "execution_count": 95,
     "metadata": {},
     "output_type": "execute_result"
    }
   ],
   "source": [
    "kmeansR.cluster_centers_"
   ]
  },
  {
   "cell_type": "markdown",
   "metadata": {},
   "source": [
    "kmeansPP.cluster_centers_.sort()"
   ]
  },
  {
   "cell_type": "code",
   "execution_count": 96,
   "metadata": {
    "scrolled": false
   },
   "outputs": [
    {
     "data": {
      "text/plain": [
       "array([[-173.77943333, -134.99741838],\n",
       "       [8237.89495414, -996.11186789],\n",
       "       [2640.49366501, -226.22325987],\n",
       "       [ 393.81867216, 2053.08897341]])"
      ]
     },
     "execution_count": 96,
     "metadata": {},
     "output_type": "execute_result"
    }
   ],
   "source": [
    "kmeansPP.cluster_centers_"
   ]
  },
  {
   "cell_type": "markdown",
   "metadata": {},
   "source": [
    "os centros permanecem próximos nos dois exemplos"
   ]
  },
  {
   "cell_type": "markdown",
   "metadata": {},
   "source": [
    "# Normalizando os dados e tentando novamente "
   ]
  },
  {
   "cell_type": "code",
   "execution_count": 97,
   "metadata": {},
   "outputs": [
    {
     "data": {
      "text/plain": [
       "array([[ 372.69830115,  308.23995398],\n",
       "       [-242.60414041,  -59.76208396],\n",
       "       [  11.51216706,  -11.73244031],\n",
       "       ...,\n",
       "       [-281.03712429, -266.13524899],\n",
       "       [-176.79506927,  216.13990972],\n",
       "       [-277.08346764, -244.58325588]])"
      ]
     },
     "execution_count": 97,
     "metadata": {},
     "output_type": "execute_result"
    }
   ],
   "source": [
    "X"
   ]
  },
  {
   "cell_type": "code",
   "execution_count": 98,
   "metadata": {},
   "outputs": [],
   "source": [
    "from sklearn.preprocessing import StandardScaler, MinMaxScaler"
   ]
  },
  {
   "cell_type": "code",
   "execution_count": 99,
   "metadata": {},
   "outputs": [],
   "source": [
    "scaler = MinMaxScaler(feature_range=(-1,1))"
   ]
  },
  {
   "cell_type": "code",
   "execution_count": 100,
   "metadata": {},
   "outputs": [],
   "source": [
    "X_scaled = scaler.fit_transform(X)"
   ]
  },
  {
   "cell_type": "code",
   "execution_count": 101,
   "metadata": {},
   "outputs": [
    {
     "data": {
      "text/plain": [
       "array([[-0.93671722, -0.2275272 ],\n",
       "       [-0.99623523, -0.3033381 ],\n",
       "       [-0.97165464, -0.29344367],\n",
       "       ...,\n",
       "       [-0.99995284, -0.34585237],\n",
       "       [-0.98986954, -0.24650043],\n",
       "       [-0.9995704 , -0.34141251]])"
      ]
     },
     "execution_count": 101,
     "metadata": {},
     "output_type": "execute_result"
    }
   ],
   "source": [
    "X_scaled"
   ]
  },
  {
   "cell_type": "markdown",
   "metadata": {},
   "source": [
    "# Kmeans ++ scaled"
   ]
  },
  {
   "cell_type": "code",
   "execution_count": 135,
   "metadata": {},
   "outputs": [
    {
     "data": {
      "image/png": "[encoded data removed]",
      "text/plain": [
       "<Figure size 432x288 with 1 Axes>"
      ]
     },
     "metadata": {
      "needs_background": "light"
     },
     "output_type": "display_data"
    }
   ],
   "source": [
    "wcss = []\n",
    "for i in range(1, 11):\n",
    "    kmeansPPScaled = KMeans(n_clusters = i, init = 'k-means++', random_state = 42)\n",
    "    kmeansPPScaled.fit(X_scaled)\n",
    "    wcss.append(kmeansPPScaled.inertia_)\n",
    "plt.plot(range(1, 11), wcss)\n",
    "plt.title('The Elbow Method')\n",
    "plt.xlabel('Number of clusters')\n",
    "plt.ylabel('WCSS')\n",
    "plt.show()"
   ]
  },
  {
   "cell_type": "markdown",
   "metadata": {},
   "source": [
    "É visível que o decaimento do WCSS começa a ser mais discreto quando o número de clusters passa de 4"
   ]
  },
  {
   "cell_type": "code",
   "execution_count": 136,
   "metadata": {},
   "outputs": [
    {
     "data": {
      "image/png": "[encoded data removed]",
      "text/plain": [
       "<Figure size 432x288 with 1 Axes>"
      ]
     },
     "metadata": {
      "needs_background": "light"
     },
     "output_type": "display_data"
    },
    {
     "name": "stdout",
     "output_type": "stream",
     "text": [
      "[0.8264457410479821, 0.8447858590704375, 0.7991111074105037, 0.8016084796125983, 0.6408442795198294, 0.6870467676446916, 0.6824744270214161, 0.6882682879930548]\n"
     ]
    }
   ],
   "source": [
    "sil = []\n",
    "for i in range(2, 10):\n",
    "    kmeansPPScaled = KMeans(n_clusters = i, init = 'k-means++', random_state = 42).fit(X_scaled)\n",
    "    labels = kmeansPPScaled.labels_\n",
    "    sil.append(silhouette_score(X_scaled, labels, metric = 'euclidean'))\n",
    "    #print(sil)\n",
    "plt.plot(range(2, 10), sil)\n",
    "plt.xlabel('Number of clusters')\n",
    "plt.ylabel('Silhouette Score')\n",
    "plt.show()\n",
    "print(sil)"
   ]
  },
  {
   "cell_type": "code",
   "execution_count": 137,
   "metadata": {},
   "outputs": [],
   "source": [
    "kmeansPPScaled = KMeans(n_clusters = 3, init = 'k-means++', random_state = 42)\n",
    "y_kmeansPPScaled = kmeansPPScaled.fit_predict(X_scaled)"
   ]
  },
  {
   "cell_type": "code",
   "execution_count": 138,
   "metadata": {
    "scrolled": true
   },
   "outputs": [
    {
     "data": {
      "text/plain": [
       "0    6430\n",
       "1     483\n",
       "2     137\n",
       "Name: 0, dtype: int64"
      ]
     },
     "execution_count": 138,
     "metadata": {},
     "output_type": "execute_result"
    }
   ],
   "source": [
    "pd.DataFrame(y_kmeansPPScaled)[0].value_counts()"
   ]
  },
  {
   "cell_type": "code",
   "execution_count": 139,
   "metadata": {
    "scrolled": true
   },
   "outputs": [
    {
     "data": {
      "text/plain": [
       "array([0, 0, 0, ..., 0, 0, 0], dtype=int32)"
      ]
     },
     "execution_count": 139,
     "metadata": {},
     "output_type": "execute_result"
    }
   ],
   "source": [
    "y_kmeansPPScaled"
   ]
  },
  {
   "cell_type": "code",
   "execution_count": 140,
   "metadata": {},
   "outputs": [
    {
     "data": {
      "image/png": "[encoded data removed]",
      "text/plain": [
       "<Figure size 432x288 with 1 Axes>"
      ]
     },
     "metadata": {
      "needs_background": "light"
     },
     "output_type": "display_data"
    }
   ],
   "source": [
    "plt.figure(3)\n",
    "plt.scatter(X_scaled[y_kmeansPPScaled == 0, 0], X_scaled[y_kmeansPPScaled == 0, 1], s = 50, c = 'red', label = 'Cluster 1')\n",
    "plt.scatter(X_scaled[y_kmeansPPScaled == 1, 0], X_scaled[y_kmeansPPScaled == 1, 1], s = 50, c = 'blue', label = 'Cluster 2')\n",
    "plt.scatter(X_scaled[y_kmeansPPScaled == 2, 0], X_scaled[y_kmeansPPScaled == 2, 1], s = 50, c = 'green', label = 'Cluster 3')\n",
    "plt.scatter(X_scaled[y_kmeansPPScaled == 3, 0], X_scaled[y_kmeansPPScaled == 3, 1], s = 50, c = 'cyan', label = 'Cluster 4')\n",
    "#plt.scatter(X_scaled[y_kmeansPPScaled == 4, 0], X_scaled[y_kmeansPPScaled == 4, 1], s = 50, c = 'magenta', label = 'Cluster 5')\n",
    "plt.scatter(kmeansPPScaled.cluster_centers_[:, 0], kmeansPPScaled.cluster_centers_[:, 1], s = 80, c = 'yellow', label = 'Centroids')\n",
    "plt.title('Clusters')\n",
    "plt.xlabel('PC2')\n",
    "plt.ylabel('PC1')\n",
    "plt.legend()\n",
    "plt.show()"
   ]
  },
  {
   "cell_type": "markdown",
   "metadata": {},
   "source": [
    "# Random scaled "
   ]
  },
  {
   "cell_type": "code",
   "execution_count": 141,
   "metadata": {
    "scrolled": false
   },
   "outputs": [
    {
     "data": {
      "image/png": "[encoded data removed]",
      "text/plain": [
       "<Figure size 432x288 with 1 Axes>"
      ]
     },
     "metadata": {
      "needs_background": "light"
     },
     "output_type": "display_data"
    }
   ],
   "source": [
    "wcss = []\n",
    "for i in range(1, 11):\n",
    "    kmeansRscaled= KMeans(n_clusters = i, init = 'random', random_state = 42)\n",
    "    kmeansRscaled.fit(X_scaled)\n",
    "    wcss.append(kmeansRscaled.inertia_)\n",
    "plt.plot(range(1, 11), wcss)\n",
    "plt.title('The Elbow Method')\n",
    "plt.xlabel('Number of clusters')\n",
    "plt.ylabel('WCSS')\n",
    "plt.show()"
   ]
  },
  {
   "cell_type": "code",
   "execution_count": 142,
   "metadata": {},
   "outputs": [
    {
     "data": {
      "image/png": "[encoded data removed]",
      "text/plain": [
       "<Figure size 432x288 with 1 Axes>"
      ]
     },
     "metadata": {
      "needs_background": "light"
     },
     "output_type": "display_data"
    },
    {
     "name": "stdout",
     "output_type": "stream",
     "text": [
      "[0.8264457410479821, 0.8447858590704375, 0.7991111074105037, 0.7996718086052876, 0.6447061235571588, 0.6869526656399368, 0.6322110444131382, 0.6304166343219358]\n"
     ]
    }
   ],
   "source": [
    "sil = []\n",
    "for i in range(2, 10):\n",
    "    kmeansRscaled = KMeans(n_clusters = i, init = 'random', random_state = 42).fit(X_scaled)\n",
    "    labels = kmeansRscaled.labels_\n",
    "    sil.append(silhouette_score(X_scaled, labels, metric = 'euclidean'))\n",
    "    #print(sil)\n",
    "plt.plot(range(2, 10), sil)\n",
    "plt.xlabel('Number of clusters')\n",
    "plt.ylabel('Silhouette Score')\n",
    "plt.show()\n",
    "print(sil)"
   ]
  },
  {
   "cell_type": "markdown",
   "metadata": {},
   "source": [
    "É visível que o decaimento do WCSS começa a ser mais discreto quando o número de clusters passa de 5"
   ]
  },
  {
   "cell_type": "code",
   "execution_count": 143,
   "metadata": {},
   "outputs": [],
   "source": [
    "kmeansRscaled = KMeans(n_clusters = 3, init = 'random', random_state = 42)\n",
    "y_kmeansRscaled = kmeansRscaled.fit_predict(X_scaled)"
   ]
  },
  {
   "cell_type": "code",
   "execution_count": 144,
   "metadata": {
    "scrolled": false
   },
   "outputs": [
    {
     "data": {
      "text/plain": [
       "1    6430\n",
       "2     483\n",
       "0     137\n",
       "Name: 0, dtype: int64"
      ]
     },
     "execution_count": 144,
     "metadata": {},
     "output_type": "execute_result"
    }
   ],
   "source": [
    "pd.DataFrame(y_kmeansRscaled)[0].value_counts()"
   ]
  },
  {
   "cell_type": "code",
   "execution_count": 145,
   "metadata": {},
   "outputs": [
    {
     "data": {
      "text/plain": [
       "array([1, 1, 1, ..., 1, 1, 1], dtype=int32)"
      ]
     },
     "execution_count": 145,
     "metadata": {},
     "output_type": "execute_result"
    }
   ],
   "source": [
    "y_kmeansRscaled"
   ]
  },
  {
   "cell_type": "code",
   "execution_count": 146,
   "metadata": {
    "scrolled": false
   },
   "outputs": [
    {
     "data": {
      "image/png": "[encoded data removed]",
      "text/plain": [
       "<Figure size 432x288 with 1 Axes>"
      ]
     },
     "metadata": {
      "needs_background": "light"
     },
     "output_type": "display_data"
    }
   ],
   "source": [
    "plt.figure(2)\n",
    "plt.scatter(X_scaled[y_kmeansRscaled == 0, 0], X_scaled[y_kmeansRscaled == 0, 1], s = 50, c = 'red', label = 'Cluster 1')\n",
    "plt.scatter(X_scaled[y_kmeansRscaled == 1, 0], X_scaled[y_kmeansRscaled == 1, 1], s = 50, c = 'blue', label = 'Cluster 2')\n",
    "plt.scatter(X_scaled[y_kmeansRscaled == 2, 0], X_scaled[y_kmeansRscaled == 2, 1], s = 50, c = 'green', label = 'Cluster 3')\n",
    "#plt.scatter(X_scaled[y_kmeansRscaled == 3, 0], X_scaled[y_kmeansRscaled == 3, 1], s = 50, c = 'cyan', label = 'Cluster 4')\n",
    "#plt.scatter(X[y_kmeansR == 4, 0], X[y_kmeansR == 4, 1], s = 50, c = 'magenta', label = 'Cluster 5')\n",
    "plt.scatter(kmeansRscaled.cluster_centers_[:, 0], kmeansRscaled.cluster_centers_[:, 1], s = 80, c = 'yellow', label = 'Centroids')\n",
    "plt.title('Clusters')\n",
    "plt.xlabel('PC2')\n",
    "plt.ylabel('PC1')\n",
    "plt.legend()\n",
    "plt.show()"
   ]
  },
  {
   "cell_type": "markdown",
   "metadata": {},
   "source": [
    "Nas duas observações feitas com os dados normalizados, encontramos o número de clusters sendo 3"
   ]
  },
  {
   "cell_type": "markdown",
   "metadata": {},
   "source": [
    "# Comparando todos os resultados finais"
   ]
  },
  {
   "cell_type": "code",
   "execution_count": 147,
   "metadata": {
    "scrolled": true
   },
   "outputs": [
    {
     "name": "stdout",
     "output_type": "stream",
     "text": [
      "[[-173.77943333 -134.99741838]\n",
      " [8237.89495414 -996.11186789]\n",
      " [2640.49366501 -226.22325987]\n",
      " [ 393.81867216 2053.08897341]]\n"
     ]
    },
    {
     "data": {
      "text/plain": [
       "0    6327\n",
       "3     460\n",
       "2     223\n",
       "1      40\n",
       "dtype: int64"
      ]
     },
     "execution_count": 147,
     "metadata": {},
     "output_type": "execute_result"
    }
   ],
   "source": [
    "print(kmeansPP.cluster_centers_)\n",
    "pd.Series(y_kmeansPP).value_counts()"
   ]
  },
  {
   "cell_type": "code",
   "execution_count": 148,
   "metadata": {
    "scrolled": false
   },
   "outputs": [
    {
     "name": "stdout",
     "output_type": "stream",
     "text": [
      "[[7228.53843796 -886.5113629 ]\n",
      " [-188.89865284 -133.97912318]\n",
      " [ 324.06500219 2128.44973919]\n",
      " [1993.21519439  -56.00789961]]\n"
     ]
    },
    {
     "data": {
      "text/plain": [
       "1    6255\n",
       "2     426\n",
       "3     311\n",
       "0      58\n",
       "dtype: int64"
      ]
     },
     "execution_count": 148,
     "metadata": {},
     "output_type": "execute_result"
    }
   ],
   "source": [
    "print(kmeansR.cluster_centers_)\n",
    "pd.Series(y_kmeansR).value_counts()"
   ]
  },
  {
   "cell_type": "code",
   "execution_count": 149,
   "metadata": {
    "scrolled": true
   },
   "outputs": [
    {
     "name": "stdout",
     "output_type": "stream",
     "text": [
      "[[-0.98661691 -0.31935408]\n",
      " [-0.92739326  0.12481535]\n",
      " [-0.48276022 -0.42757209]]\n"
     ]
    },
    {
     "data": {
      "text/plain": [
       "0    6430\n",
       "1     483\n",
       "2     137\n",
       "dtype: int64"
      ]
     },
     "execution_count": 149,
     "metadata": {},
     "output_type": "execute_result"
    }
   ],
   "source": [
    "print(kmeansPPScaled.cluster_centers_)\n",
    "pd.Series(y_kmeansPPScaled).value_counts()"
   ]
  },
  {
   "cell_type": "code",
   "execution_count": 150,
   "metadata": {
    "scrolled": true
   },
   "outputs": [
    {
     "name": "stdout",
     "output_type": "stream",
     "text": [
      "[[-0.48276022 -0.42757209]\n",
      " [-0.98661691 -0.31935408]\n",
      " [-0.92739326  0.12481535]]\n"
     ]
    },
    {
     "data": {
      "text/plain": [
       "1    6430\n",
       "2     483\n",
       "0     137\n",
       "dtype: int64"
      ]
     },
     "execution_count": 150,
     "metadata": {},
     "output_type": "execute_result"
    }
   ],
   "source": [
    "print(kmeansRscaled.cluster_centers_)\n",
    "pd.Series(y_kmeansRscaled).value_counts()"
   ]
  },
  {
   "cell_type": "markdown",
   "metadata": {},
   "source": [
    "os resultados deram iguais para os dois depois do scale"
   ]
  }
 ],
 "metadata": {
  "kernelspec": {
   "display_name": "Python 3",
   "language": "python",
   "name": "python3"
  },
  "language_info": {
   "codemirror_mode": {
    "name": "ipython",
    "version": 3
   },
   "file_extension": ".py",
   "mimetype": "text/x-python",
   "name": "python",
   "nbconvert_exporter": "python",
   "pygments_lexer": "ipython3",
   "version": "3.7.5"
  }
 },
 "nbformat": 4,
 "nbformat_minor": 2
}
