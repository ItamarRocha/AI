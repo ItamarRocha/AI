{
 "cells": [
  {
   "cell_type": "code",
   "execution_count": 4,
   "metadata": {},
   "outputs": [],
   "source": [
    "import pandas as pd\n",
    "import numpy as np"
   ]
  },
  {
   "cell_type": "code",
   "execution_count": 5,
   "metadata": {},
   "outputs": [],
   "source": [
    "df = pd.read_csv(\"students.csv\")"
   ]
  },
  {
   "cell_type": "code",
   "execution_count": 6,
   "metadata": {},
   "outputs": [
    {
     "data": {
      "text/html": [
       "<div>\n",
       "<style scoped>\n",
       "    .dataframe tbody tr th:only-of-type {\n",
       "        vertical-align: middle;\n",
       "    }\n",
       "\n",
       "    .dataframe tbody tr th {\n",
       "        vertical-align: top;\n",
       "    }\n",
       "\n",
       "    .dataframe thead th {\n",
       "        text-align: right;\n",
       "    }\n",
       "</style>\n",
       "<table border=\"1\" class=\"dataframe\">\n",
       "  <thead>\n",
       "    <tr style=\"text-align: right;\">\n",
       "      <th></th>\n",
       "      <th>Timestamp</th>\n",
       "      <th>Nome Completo</th>\n",
       "      <th>Assessor</th>\n",
       "      <th>Idade</th>\n",
       "      <th>Gênero</th>\n",
       "      <th>Quão compatível com seu assessor você se considera?</th>\n",
       "      <th>Onde fez/faz ensino médio?</th>\n",
       "      <th>Alguma religião?</th>\n",
       "      <th>Gosta de esportes?</th>\n",
       "      <th>Como foi/está sendo a qualidade de seu ensino médio?</th>\n",
       "      <th>...</th>\n",
       "      <th>Quão sensível você é?</th>\n",
       "      <th>Você gosta de ser cobrado?</th>\n",
       "      <th>Você é competitivo?</th>\n",
       "      <th>Você é aberto a mudanças? ou é mais resistente?</th>\n",
       "      <th>Você gosta de fazer simulado?</th>\n",
       "      <th>Você recebe apoio da sua família?</th>\n",
       "      <th>Você gostaria de falar sobre a vida pessoal com o assessor ou só estudos?</th>\n",
       "      <th>Quão motivado você está?</th>\n",
       "      <th>Qual é seu maior problema?</th>\n",
       "      <th>Você prefere um assessor do mesmo sexo?</th>\n",
       "    </tr>\n",
       "  </thead>\n",
       "  <tbody>\n",
       "    <tr>\n",
       "      <th>0</th>\n",
       "      <td>6/16/2020 23:06:19</td>\n",
       "      <td>Gonzalo Alonso Medeiros Bueno</td>\n",
       "      <td>Itamar</td>\n",
       "      <td>18</td>\n",
       "      <td>Masculino</td>\n",
       "      <td>10</td>\n",
       "      <td>Evolução</td>\n",
       "      <td>Outro</td>\n",
       "      <td>Sim</td>\n",
       "      <td>4</td>\n",
       "      <td>...</td>\n",
       "      <td>5</td>\n",
       "      <td>Sim</td>\n",
       "      <td>Sim</td>\n",
       "      <td>Aberto</td>\n",
       "      <td>Sim</td>\n",
       "      <td>Sim</td>\n",
       "      <td>Os dois</td>\n",
       "      <td>4</td>\n",
       "      <td>Procrastinação</td>\n",
       "      <td>NaN</td>\n",
       "    </tr>\n",
       "    <tr>\n",
       "      <th>1</th>\n",
       "      <td>6/16/2020 23:31:55</td>\n",
       "      <td>Lara Pereira</td>\n",
       "      <td>Rayssa</td>\n",
       "      <td>17</td>\n",
       "      <td>Feminino</td>\n",
       "      <td>8</td>\n",
       "      <td>Outra fora de João Pessoa</td>\n",
       "      <td>Cristianismo</td>\n",
       "      <td>Sim</td>\n",
       "      <td>3</td>\n",
       "      <td>...</td>\n",
       "      <td>8</td>\n",
       "      <td>Talvez</td>\n",
       "      <td>Não</td>\n",
       "      <td>Aberto</td>\n",
       "      <td>Não</td>\n",
       "      <td>Sim</td>\n",
       "      <td>Os dois</td>\n",
       "      <td>7</td>\n",
       "      <td>Procrastinação</td>\n",
       "      <td>NaN</td>\n",
       "    </tr>\n",
       "    <tr>\n",
       "      <th>2</th>\n",
       "      <td>6/16/2020 23:33:30</td>\n",
       "      <td>Lucca Nuto França De Albuquerque</td>\n",
       "      <td>Rayssa</td>\n",
       "      <td>16</td>\n",
       "      <td>Masculino</td>\n",
       "      <td>10</td>\n",
       "      <td>Evolução</td>\n",
       "      <td>Agnóstico</td>\n",
       "      <td>Sim</td>\n",
       "      <td>4</td>\n",
       "      <td>...</td>\n",
       "      <td>2</td>\n",
       "      <td>Talvez</td>\n",
       "      <td>Sim</td>\n",
       "      <td>Aberto</td>\n",
       "      <td>Sim</td>\n",
       "      <td>Sim</td>\n",
       "      <td>Os dois</td>\n",
       "      <td>10</td>\n",
       "      <td>Falta de interesse em algumas áreas</td>\n",
       "      <td>NaN</td>\n",
       "    </tr>\n",
       "    <tr>\n",
       "      <th>3</th>\n",
       "      <td>6/16/2020 23:40:36</td>\n",
       "      <td>Sophia Adelino Xavier Pontes de Freitas</td>\n",
       "      <td>Rodrigo</td>\n",
       "      <td>18</td>\n",
       "      <td>Feminino</td>\n",
       "      <td>7</td>\n",
       "      <td>Motiva</td>\n",
       "      <td>Agnóstico</td>\n",
       "      <td>Não</td>\n",
       "      <td>3</td>\n",
       "      <td>...</td>\n",
       "      <td>7</td>\n",
       "      <td>Sim</td>\n",
       "      <td>Sim</td>\n",
       "      <td>Resistente</td>\n",
       "      <td>Sim</td>\n",
       "      <td>mais ou menos</td>\n",
       "      <td>Os dois</td>\n",
       "      <td>7</td>\n",
       "      <td>Concentração</td>\n",
       "      <td>NaN</td>\n",
       "    </tr>\n",
       "    <tr>\n",
       "      <th>4</th>\n",
       "      <td>6/16/2020 23:41:24</td>\n",
       "      <td>Carlos Henrique Rocha</td>\n",
       "      <td>Rodrigo</td>\n",
       "      <td>19</td>\n",
       "      <td>Masculino</td>\n",
       "      <td>9</td>\n",
       "      <td>Outra fora de João Pessoa</td>\n",
       "      <td>Cristianismo</td>\n",
       "      <td>Sim</td>\n",
       "      <td>2</td>\n",
       "      <td>...</td>\n",
       "      <td>3</td>\n",
       "      <td>Talvez</td>\n",
       "      <td>Sim</td>\n",
       "      <td>Aberto</td>\n",
       "      <td>Sim</td>\n",
       "      <td>Sim</td>\n",
       "      <td>Estudos</td>\n",
       "      <td>8</td>\n",
       "      <td>Procrastinação</td>\n",
       "      <td>NaN</td>\n",
       "    </tr>\n",
       "  </tbody>\n",
       "</table>\n",
       "<p>5 rows × 36 columns</p>\n",
       "</div>"
      ],
      "text/plain": [
       "            Timestamp                            Nome Completo Assessor Idade  \\\n",
       "0  6/16/2020 23:06:19            Gonzalo Alonso Medeiros Bueno   Itamar    18   \n",
       "1  6/16/2020 23:31:55                            Lara Pereira    Rayssa    17   \n",
       "2  6/16/2020 23:33:30        Lucca Nuto França De Albuquerque    Rayssa    16   \n",
       "3  6/16/2020 23:40:36  Sophia Adelino Xavier Pontes de Freitas  Rodrigo    18   \n",
       "4  6/16/2020 23:41:24                   Carlos Henrique Rocha   Rodrigo    19   \n",
       "\n",
       "      Gênero  Quão compatível com seu assessor você se considera?  \\\n",
       "0  Masculino                                                 10     \n",
       "1   Feminino                                                  8     \n",
       "2  Masculino                                                 10     \n",
       "3   Feminino                                                  7     \n",
       "4  Masculino                                                  9     \n",
       "\n",
       "  Onde fez/faz ensino médio? Alguma religião? Gosta de esportes?  \\\n",
       "0                   Evolução            Outro                Sim   \n",
       "1  Outra fora de João Pessoa     Cristianismo                Sim   \n",
       "2                   Evolução        Agnóstico                Sim   \n",
       "3                     Motiva        Agnóstico                Não   \n",
       "4  Outra fora de João Pessoa     Cristianismo                Sim   \n",
       "\n",
       "   Como foi/está sendo a qualidade de seu ensino médio?  ...  \\\n",
       "0                                                  4     ...   \n",
       "1                                                  3     ...   \n",
       "2                                                  4     ...   \n",
       "3                                                  3     ...   \n",
       "4                                                  2     ...   \n",
       "\n",
       "  Quão sensível você é? Você gosta de ser cobrado? Você é competitivo?  \\\n",
       "0                     5                        Sim                 Sim   \n",
       "1                     8                     Talvez                 Não   \n",
       "2                     2                     Talvez                 Sim   \n",
       "3                     7                        Sim                 Sim   \n",
       "4                     3                     Talvez                 Sim   \n",
       "\n",
       "  Você é aberto a mudanças? ou é mais resistente?  \\\n",
       "0                                          Aberto   \n",
       "1                                          Aberto   \n",
       "2                                          Aberto   \n",
       "3                                      Resistente   \n",
       "4                                          Aberto   \n",
       "\n",
       "  Você gosta de fazer simulado? Você recebe apoio da sua família?  \\\n",
       "0                           Sim                               Sim   \n",
       "1                           Não                               Sim   \n",
       "2                           Sim                               Sim   \n",
       "3                           Sim                     mais ou menos   \n",
       "4                           Sim                               Sim   \n",
       "\n",
       "  Você gostaria de falar sobre a vida pessoal com o assessor ou só estudos?  \\\n",
       "0                                            Os dois                          \n",
       "1                                            Os dois                          \n",
       "2                                            Os dois                          \n",
       "3                                            Os dois                          \n",
       "4                                            Estudos                          \n",
       "\n",
       "  Quão motivado você está?            Qual é seu maior problema?  \\\n",
       "0                        4                        Procrastinação   \n",
       "1                        7                        Procrastinação   \n",
       "2                       10  Falta de interesse em algumas áreas    \n",
       "3                        7                          Concentração   \n",
       "4                        8                        Procrastinação   \n",
       "\n",
       "  Você prefere um assessor do mesmo sexo?  \n",
       "0                                     NaN  \n",
       "1                                     NaN  \n",
       "2                                     NaN  \n",
       "3                                     NaN  \n",
       "4                                     NaN  \n",
       "\n",
       "[5 rows x 36 columns]"
      ]
     },
     "execution_count": 6,
     "metadata": {},
     "output_type": "execute_result"
    }
   ],
   "source": [
    "df.head()"
   ]
  },
  {
   "cell_type": "code",
   "execution_count": 24,
   "metadata": {
    "scrolled": false
   },
   "outputs": [
    {
     "data": {
      "text/plain": [
       "0       Gonzalo Alonso Medeiros Bueno\n",
       "5                     Gabriele Guerra\n",
       "6     Fernanda de Queiroz Albuquerque\n",
       "19        Rodrigo Carneiro Meira Lima\n",
       "20    Ana Beatriz de Freitas Coutinho\n",
       "24                   Gabriel Bandeira\n",
       "69    Luiz Henrique Cartaxo Fernandes\n",
       "72                   Clarissa Frazão \n",
       "Name: Nome Completo, dtype: object"
      ]
     },
     "execution_count": 24,
     "metadata": {},
     "output_type": "execute_result"
    }
   ],
   "source": [
    "df[df['Assessor'] == 'Itamar']['Nome Completo']"
   ]
  },
  {
   "cell_type": "code",
   "execution_count": 16,
   "metadata": {},
   "outputs": [
    {
     "data": {
      "text/plain": [
       "34                          Gabriela Arnaud Bandeira\n",
       "36                    Thainá Maria Vieira de Andrade\n",
       "40                                Maria Paula Braga \n",
       "44                         Karolina Azevedo Bringel \n",
       "45                        Nicole Cavalcanti Pereira \n",
       "47                                     Letícia Meira\n",
       "51    Maria Luísa Dantas Teixeira de Carvalho Rocha \n",
       "52                     Maria Eduarda Franco Londres \n",
       "56                           Raissa Nóbrega Cordeiro\n",
       "58                       Carolina W.Q.F Evangelista \n",
       "61                      Letícia de Oliveira Barreto \n",
       "68              Maria Eduarda de Azevedo Galdino b s\n",
       "Name: Nome Completo, dtype: object"
      ]
     },
     "execution_count": 16,
     "metadata": {},
     "output_type": "execute_result"
    }
   ],
   "source": [
    "df[df['Assessor'] == 'Glaucielle']['Nome Completo']"
   ]
  },
  {
   "cell_type": "code",
   "execution_count": 17,
   "metadata": {},
   "outputs": [
    {
     "data": {
      "text/plain": [
       "104                   Joao Paulo Rodrigues\n",
       "105    José Vicente Abrantes Gadelha Neto \n",
       "107            Tayane Ysla Medeiros Gomes \n",
       "108            Caio robson gomes luna cruz\n",
       "109              Ana Luísa Campos Porpino \n",
       "110          Elio Ribeiro de Morais Filho \n",
       "111        thalita tayana dantas de sousa \n",
       "112             Milena Nóbrega Albuquerque\n",
       "113                       Washington Filho\n",
       "114               Arthur Moreira Meirelles\n",
       "115           joão max nogueira de andrade\n",
       "Name: Nome Completo, dtype: object"
      ]
     },
     "execution_count": 17,
     "metadata": {},
     "output_type": "execute_result"
    }
   ],
   "source": [
    "df[df['Assessor'] == 'Davi']['Nome Completo']"
   ]
  },
  {
   "cell_type": "code",
   "execution_count": 18,
   "metadata": {},
   "outputs": [
    {
     "data": {
      "text/plain": [
       "14    Maria Clara Gomes de Lacerda Quintans e Magalh...\n",
       "15                                 Otto Nóbrega Hofmann\n",
       "16                                      Isadora Ferraz \n",
       "17                 Ana Luíza Gomes de Lacerda Quintans \n",
       "21               Adrya Catharinne Santos Sousa da Silva\n",
       "23                     Maria Clara Oliveira Nascimento \n",
       "25                                      Larissa Vinesof\n",
       "28                        Camille Gabrielly Araújo Jucá\n",
       "30                             Giuliana Felipe da Silva\n",
       "31                        Eduardo Paulo Queiroz Torres \n",
       "32                    Francisco Gomes de Freitas Junior\n",
       "Name: Nome Completo, dtype: object"
      ]
     },
     "execution_count": 18,
     "metadata": {},
     "output_type": "execute_result"
    }
   ],
   "source": [
    "df[df['Assessor'] == 'Gelielison']['Nome Completo']"
   ]
  },
  {
   "cell_type": "code",
   "execution_count": 19,
   "metadata": {},
   "outputs": [
    {
     "data": {
      "text/plain": [
       "35                        Maria Eduarda Souza Minéo\n",
       "37                      Maria Luísa Mendes Abrantes\n",
       "39                   Ana Carolina Correia Magalhaes\n",
       "42     Ana Flávia Cartaxo Moura Rodrigues de Aquino\n",
       "54                    Maria Beatriz de Melo Queiroz\n",
       "55               Livia Beatriz Estrela De Oliveira \n",
       "106                      Maria Alice de Sena Morais\n",
       "Name: Nome Completo, dtype: object"
      ]
     },
     "execution_count": 19,
     "metadata": {},
     "output_type": "execute_result"
    }
   ],
   "source": [
    "df[df['Assessor'] == 'Lorena']['Nome Completo']"
   ]
  },
  {
   "cell_type": "code",
   "execution_count": 26,
   "metadata": {},
   "outputs": [
    {
     "data": {
      "text/plain": [
       "3              Sophia Adelino Xavier Pontes de Freitas\n",
       "4                               Carlos Henrique Rocha \n",
       "9                    Maria Fernanda Aguiar R Coutinho \n",
       "26    Luana Maria Teixeira de Carvalho Pessoa de Souza\n",
       "33                        Bruno Chianca Heim Teotonio \n",
       "38                                Gabriela Rocha Jorge\n",
       "48                    Nathan Marlon Ferreira Carreiro \n",
       "53             Ana caroline Gomes de Miranda Linhares \n",
       "Name: Nome Completo, dtype: object"
      ]
     },
     "execution_count": 26,
     "metadata": {},
     "output_type": "execute_result"
    }
   ],
   "source": [
    "df[df['Assessor'] == 'Rodrigo']['Nome Completo']"
   ]
  },
  {
   "cell_type": "code",
   "execution_count": 14,
   "metadata": {},
   "outputs": [
    {
     "data": {
      "text/plain": [
       "Glaucielle        12\n",
       "Débora            12\n",
       "Davi              11\n",
       "Gelielison        11\n",
       "Mateus Tavares     9\n",
       "Eduardo            9\n",
       "Carolzinha         9\n",
       "Rodrigo            8\n",
       "Itamar             8\n",
       "Lorena             7\n",
       "Rayssa             7\n",
       "Patriota           5\n",
       "Catharina          4\n",
       "Ariel              4\n",
       "Fabiana            3\n",
       "Lucas              1\n",
       "Name: Assessor, dtype: int64"
      ]
     },
     "execution_count": 14,
     "metadata": {},
     "output_type": "execute_result"
    }
   ],
   "source": [
    "df.Assessor.value_counts()"
   ]
  },
  {
   "cell_type": "code",
   "execution_count": null,
   "metadata": {},
   "outputs": [],
   "source": []
  }
 ],
 "metadata": {
  "kernelspec": {
   "display_name": "Python 3",
   "language": "python",
   "name": "python3"
  },
  "language_info": {
   "codemirror_mode": {
    "name": "ipython",
    "version": 3
   },
   "file_extension": ".py",
   "mimetype": "text/x-python",
   "name": "python",
   "nbconvert_exporter": "python",
   "pygments_lexer": "ipython3",
   "version": "3.7.5"
  }
 },
 "nbformat": 4,
 "nbformat_minor": 2
}
